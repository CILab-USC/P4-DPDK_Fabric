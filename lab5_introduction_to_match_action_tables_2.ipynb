{
 "cells": [
  {
   "cell_type": "markdown",
   "id": "2a519f73-cdd2-4b28-a231-a2064f5e2191",
   "metadata": {
    "jp-MarkdownHeadingCollapsed": true,
    "tags": []
   },
   "source": [
    "# Lab 5 - Introduction to Match-action Tables (Part 2)\n",
    "<div style=\"text-align: justify;\">\n",
    "This lab will walk you through creating an experiment that contains a P4-DPDK programmable pipeline. This lab describes match-action tables and how to define them in a P4 program. It then explains the different types of matching that can be performed on keys. The lab further shows how to track the misses/hits of a table key while receiving a packet.\n",
    "<figure style=\"text-align: center;\">\n",
    "<img src=\"./labs_files/lab5/figs/0_00_fabric_topology.png\" width=\"700px\"><br>"
   ]
  },
  {
   "cell_type": "markdown",
   "id": "281e30c2-6ea9-45f7-b196-fb09b2a59d45",
   "metadata": {
    "tags": []
   },
   "source": [
    "# Introduction"
   ]
  },
  {
   "attachments": {},
   "cell_type": "markdown",
   "id": "fcfd4a68-bcba-4238-96cd-c6c6b0638852",
   "metadata": {
    "tags": []
   },
   "source": [
    "## Longest prefix match (LPM)\n",
    "\n",
    "<div style=\"text-align: justify;\">\n",
    "Table 1 is an example of a match-action table that uses LPM [<a href=\"#References\">1,2</a>]. Assume that the key is formed with the destination IP address. If an incoming packet has the destination IP address 172.168.3.5, two entries match. The first entry matches because the first 29 bits in the entry are the same as the first 29 bits of the destination IP. The second entry also matches because the first 16 bits in the entry are the same as the first 16 bits of the destination IP. The LPM algorithm will select 172.168.3.0/29 because of the longest prefix preference. </div>   <br>\n",
    "\n",
    "<table style=\"width: 50%; font-size: 14px;\">\n",
    "  <caption>Table 1. Exact match table.</caption>\n",
    "  <thead>\n",
    "    <tr style=\"background-color: #f0f0f0;\">\n",
    "      <th>Key</th>\n",
    "      <th>Action</th>\n",
    "      <th>Action data</th>\n",
    "    </tr>\n",
    "  </thead>\n",
    "  <tbody>\n",
    "    <tr>\n",
    "      <td style=\"padding: 10px; text-align: center;\">172.168.3.0/29</td>\n",
    "      <td style=\"padding: 10px; text-align: center;\">forward</td>\n",
    "      <td style=\"padding: 10px; text-align: center;\">port 1, macAddr=00:00:00:00:00:01</td>\n",
    "    </tr>\n",
    "    <tr>\n",
    "      <td style=\"padding: 10px; text-align: center;\">172.168.0.0/16</td>\n",
    "      <td style=\"padding: 10px; text-align: center;\">forward</td>\n",
    "      <td style=\"padding: 10px; text-align: center;\">port 2, macAddr=00:00:00:00:00:02</td>\n",
    "    </tr>\n",
    "    <tr>\n",
    "      <td style=\"padding: 10px; text-align: center;\">default</td>\n",
    "      <td style=\"padding: 10px; text-align: center;\">drop</td>\n",
    "      <td style=\"padding: 10px; text-align: center;\"> </td>\n",
    "    </tr>\n",
    "  </tbody>\n",
    "</table>\n",
    "\n",
    "Figure 1 shows the main control block portion of a P4 program [<a href=\"#References\">3,4</a>]. Two actions are defined, ```drop``` and ```forward```. The ```drop``` action (lines 6 - 8) invokes the ```drop_packet``` function, causing the packet to be dropped. The ```forward``` action (lines 9 - 12) accepts as input (action data) the destination MAC address and port. These parameters are inserted by the control plane and updated in the packet during the ingress processing. In line 10, the P4 program assigns the egress port defined by the control plane as an input to the ```send_to_port``` extern function. It is used to direct a packet to a specified network port. Line 11 assigns the destination MAC address passed as a parameter to the packet's new destination address. Lines 13-23 implement a table named ```forwarding_lpm```. The table matches the destination IP address using the LPM type. The actions associated with the table are ```forward``` and ```drop```. The default action invoked when there is a miss is the drop action. The maximum number of entries is defined by the programmer (i.e., 1024 entries, see line 21). The control block starts executing from the apply statement (see lines 24-28) which contains the control logic. In this program, the ```forwarding_lpm``` table is activated in case the incoming packet has a valid IPv4 header.\n",
    "\n",
    "<figure style=\"text-align: center;\">\n",
    "  <img src=\"./labs_files/lab5/figs/0_intro_1_p4_control.png\" width=\"600\" style=\"display: block; margin: 0 auto;\">\n",
    "  <figcaption>Figure 1. Main control block portion of a P4 program. The code implements a match-action table with LPM lookup.</figcaption>\n",
    "</figure>"
   ]
  },
  {
   "cell_type": "markdown",
   "id": "e02b5308-1775-4cfe-9f4f-eb336a851337",
   "metadata": {
    "tags": []
   },
   "source": [
    "# Step 1:  Configuring the environment\n",
    "\n",
    "Before running this notebook, you will need to configure your environment using the [Configure Environment](../../../configure_and_validate.ipynb) notebook. Please stop here, open and run that notebook, then return to this notebook.\n",
    "\n",
    "If you are using the FABRIC JupyterHub many of the environment variables will be automatically configured for you.  You will still need to set your bastion username, upload your bastion private key, and set the path to where you put your bastion private key. Your bastion username and private key should already be in your possession.  \n",
    "\n",
    "If you are using the FABRIC API outside of the JupyterHub you will need to configure all of the environment variables. Defaults below will be correct in many situations but you will need to confirm your configuration.  If you have questions about this configuration, please contact the FABRIC admins using the [FABRIC User Forum](https://learn.fabric-testbed.net/forums/) \n",
    "\n",
    "More information about accessing your experiments through the FABRIC bastion hosts can be found [here](https://learn.fabric-testbed.net/knowledge-base/logging-into-fabric-vms/)."
   ]
  },
  {
   "cell_type": "markdown",
   "id": "2b571c06-bfd5-464a-acf4-d28845c8e840",
   "metadata": {
    "tags": []
   },
   "source": [
    "# Step 2: Importing the FABlib library"
   ]
  },
  {
   "cell_type": "code",
   "execution_count": 1,
   "id": "2e9c3ea6-f0b5-4e34-9a4c-82785ff386c4",
   "metadata": {},
   "outputs": [],
   "source": [
    "from fabrictestbed_extensions.fablib.fablib import FablibManager as fablib_manager\n",
    "fablib = fablib_manager()"
   ]
  },
  {
   "cell_type": "markdown",
   "id": "c2913e89-4188-4ebf-a24c-01cedd16540b",
   "metadata": {
    "tags": []
   },
   "source": [
    "# Step 3: Creating the experiment slice\n",
    "\n",
    "The following creates a node with basic compute and networking capabilities. You build a slice by creating a new slice and adding resources to the slice. After you build the slice, you must submit a request for the slice to be instantiated.   "
   ]
  },
  {
   "cell_type": "markdown",
   "id": "161198e4-00b0-4994-9de8-28e8bfb16cc8",
   "metadata": {
    "tags": []
   },
   "source": [
    "### Step 3.1: Creating a slice\n",
    "The code below creates a new slice with the name \"P4DPDK_lab5_vnic\""
   ]
  },
  {
   "cell_type": "code",
   "execution_count": 2,
   "id": "9c97d810-ac6a-4c04-892d-f0ddbe69954b",
   "metadata": {
    "tags": []
   },
   "outputs": [],
   "source": [
    "slice = fablib.new_slice(name=\"P4DPDK_lab5_vnic\")"
   ]
  },
  {
   "cell_type": "markdown",
   "id": "a0f228eb-d12b-4644-bbc4-df2e34bbdce8",
   "metadata": {
    "tags": []
   },
   "source": [
    "### Step 3.2: Defining the sites\n",
    "The code below requests a random site from FABRIC based on the condition that the following resources are available:\n",
    "\n",
    "<ul>\n",
    "    <li> 4 CPU cores</li>\n",
    "    <li> 8GB RAM </li>\n",
    "    <li> 20GB disc size\n",
    "</ul>"
   ]
  },
  {
   "cell_type": "code",
   "execution_count": 3,
   "id": "f28e0cf1-241d-4257-afbf-6aa44989d995",
   "metadata": {
    "tags": []
   },
   "outputs": [
    {
     "name": "stdout",
     "output_type": "stream",
     "text": [
      "The selected site is KANS\n"
     ]
    }
   ],
   "source": [
    "site1= fablib.get_random_sites(count=1, filter_function=lambda x: x['cores_available'] > 4 and x['ram_available'] > 8 and x['disk_available'] > 20)[0]\n",
    "\n",
    "print (f'The selected site is {site1}')"
   ]
  },
  {
   "cell_type": "markdown",
   "id": "0f71fead-a091-4af0-95ec-bb264c016c43",
   "metadata": {
    "tags": []
   },
   "source": [
    "### Step 3.3: Creating the nodes\n",
    "The code below creates one node (server1) which uses the following:\n",
    "<ul>\n",
    "    <li> 4 CPU cores</li>\n",
    "    <li> 8GB RAM </li>\n",
    "    <li> 20GB disc size </li>\n",
    "    <li> Image: Ubuntu 20.04\n",
    "</ul>\n",
    "\n",
    "server1 will be created in site1"
   ]
  },
  {
   "cell_type": "code",
   "execution_count": 4,
   "id": "7713728b-2740-4e72-b5dd-7d3963012536",
   "metadata": {
    "tags": []
   },
   "outputs": [],
   "source": [
    "server1 = slice.add_node(name=\"server1\", \n",
    "                      site=site1, \n",
    "                      cores=4, \n",
    "                      ram=8, \n",
    "                      disk=20, \n",
    "                      image='default_ubuntu_20')"
   ]
  },
  {
   "cell_type": "markdown",
   "id": "53ab345c-d68e-440d-9fda-03d67472f1ca",
   "metadata": {},
   "source": [
    "### Step 3.4: Submitting the slice\n",
    "The code below submits the slice. \n",
    "By default, the submit function will block until the node is ready and will display the progress of your slice being built."
   ]
  },
  {
   "cell_type": "code",
   "execution_count": 5,
   "id": "e706c53c-7a38-4615-a86e-e8944197921f",
   "metadata": {},
   "outputs": [
    {
     "name": "stdout",
     "output_type": "stream",
     "text": [
      "\n",
      "Retry: 9, Time: 208 sec\n"
     ]
    },
    {
     "data": {
      "text/html": [
       "<style type=\"text/css\">\n",
       "#T_9131a tr:nth-child(even) {\n",
       "  background: #dbf3ff;\n",
       "  color: #231f20;\n",
       "}\n",
       "#T_9131a tr:nth-child(odd) {\n",
       "  background: #ffffff;\n",
       "  color: #231f20;\n",
       "}\n",
       "#T_9131a caption {\n",
       "  text-align: center;\n",
       "  font-size: 150%;\n",
       "}\n",
       "#T_9131a_row0_col0, #T_9131a_row0_col1, #T_9131a_row1_col0, #T_9131a_row1_col1, #T_9131a_row2_col0, #T_9131a_row2_col1, #T_9131a_row3_col0, #T_9131a_row3_col1, #T_9131a_row4_col0, #T_9131a_row4_col1, #T_9131a_row5_col0 {\n",
       "  text-align: left;\n",
       "  border: 1px #231f20 solid !important;\n",
       "  overwrite: False;\n",
       "  background-color: ;\n",
       "}\n",
       "#T_9131a_row5_col1 {\n",
       "  text-align: left;\n",
       "  border: 1px #231f20 solid !important;\n",
       "  overwrite: False;\n",
       "  background-color: #c3ffc4;\n",
       "}\n",
       "</style>\n",
       "<table id=\"T_9131a\">\n",
       "  <caption>Slice</caption>\n",
       "  <thead>\n",
       "  </thead>\n",
       "  <tbody>\n",
       "    <tr>\n",
       "      <td id=\"T_9131a_row0_col0\" class=\"data row0 col0\" >ID</td>\n",
       "      <td id=\"T_9131a_row0_col1\" class=\"data row0 col1\" >d5b66d5a-6e03-4a9a-8e0c-97f2847851a9</td>\n",
       "    </tr>\n",
       "    <tr>\n",
       "      <td id=\"T_9131a_row1_col0\" class=\"data row1 col0\" >Name</td>\n",
       "      <td id=\"T_9131a_row1_col1\" class=\"data row1 col1\" >P4DPDK_lab5_vnic</td>\n",
       "    </tr>\n",
       "    <tr>\n",
       "      <td id=\"T_9131a_row2_col0\" class=\"data row2 col0\" >Lease Expiration (UTC)</td>\n",
       "      <td id=\"T_9131a_row2_col1\" class=\"data row2 col1\" >2024-09-05 14:05:33 +0000</td>\n",
       "    </tr>\n",
       "    <tr>\n",
       "      <td id=\"T_9131a_row3_col0\" class=\"data row3 col0\" >Lease Start (UTC)</td>\n",
       "      <td id=\"T_9131a_row3_col1\" class=\"data row3 col1\" >2024-09-04 14:05:33 +0000</td>\n",
       "    </tr>\n",
       "    <tr>\n",
       "      <td id=\"T_9131a_row4_col0\" class=\"data row4 col0\" >Project ID</td>\n",
       "      <td id=\"T_9131a_row4_col1\" class=\"data row4 col1\" >8eaa3ec2-65e7-49a3-8c09-e1761141a6ad</td>\n",
       "    </tr>\n",
       "    <tr>\n",
       "      <td id=\"T_9131a_row5_col0\" class=\"data row5 col0\" >State</td>\n",
       "      <td id=\"T_9131a_row5_col1\" class=\"data row5 col1\" >StableOK</td>\n",
       "    </tr>\n",
       "  </tbody>\n",
       "</table>\n"
      ],
      "text/plain": [
       "<pandas.io.formats.style.Styler at 0x7c7d605baed0>"
      ]
     },
     "metadata": {},
     "output_type": "display_data"
    },
    {
     "data": {
      "text/html": [
       "<style type=\"text/css\">\n",
       "#T_9f514 caption {\n",
       "  text-align: center;\n",
       "  font-size: 150%;\n",
       "  caption-side: top;\n",
       "}\n",
       "#T_9f514 th {\n",
       "  text-align: left;\n",
       "}\n",
       "#T_9f514 tr:nth-child(even) {\n",
       "  background: #ffffff;\n",
       "  color: #231f20;\n",
       "}\n",
       "#T_9f514 tr:nth-child(odd) {\n",
       "  background: #dbf3ff;\n",
       "  color: #231f20;\n",
       "}\n",
       "#T_9f514 .level0 {\n",
       "  border: 1px black solid !important;\n",
       "  background: #ffffff;\n",
       "  color: #231f20;\n",
       "}\n",
       "#T_9f514_row0_col0, #T_9f514_row0_col1, #T_9f514_row0_col2, #T_9f514_row0_col3, #T_9f514_row0_col4, #T_9f514_row0_col5, #T_9f514_row0_col6, #T_9f514_row0_col7, #T_9f514_row0_col8, #T_9f514_row0_col9, #T_9f514_row0_col10, #T_9f514_row0_col13, #T_9f514_row0_col14, #T_9f514_row0_col15 {\n",
       "  text-align: left;\n",
       "  border: 1px #231f20 solid !important;\n",
       "  overwrite: False;\n",
       "}\n",
       "#T_9f514_row0_col11 {\n",
       "  text-align: left;\n",
       "  border: 1px #231f20 solid !important;\n",
       "  overwrite: False;\n",
       "  background-color: #c3ffc4;\n",
       "}\n",
       "#T_9f514_row0_col12 {\n",
       "  text-align: left;\n",
       "  border: 1px #231f20 solid !important;\n",
       "  overwrite: False;\n",
       "  background-color: ;\n",
       "}\n",
       "</style>\n",
       "<table id=\"T_9f514\">\n",
       "  <caption>Nodes</caption>\n",
       "  <thead>\n",
       "    <tr>\n",
       "      <th id=\"T_9f514_level0_col0\" class=\"col_heading level0 col0\" >ID</th>\n",
       "      <th id=\"T_9f514_level0_col1\" class=\"col_heading level0 col1\" >Name</th>\n",
       "      <th id=\"T_9f514_level0_col2\" class=\"col_heading level0 col2\" >Cores</th>\n",
       "      <th id=\"T_9f514_level0_col3\" class=\"col_heading level0 col3\" >RAM</th>\n",
       "      <th id=\"T_9f514_level0_col4\" class=\"col_heading level0 col4\" >Disk</th>\n",
       "      <th id=\"T_9f514_level0_col5\" class=\"col_heading level0 col5\" >Image</th>\n",
       "      <th id=\"T_9f514_level0_col6\" class=\"col_heading level0 col6\" >Image Type</th>\n",
       "      <th id=\"T_9f514_level0_col7\" class=\"col_heading level0 col7\" >Host</th>\n",
       "      <th id=\"T_9f514_level0_col8\" class=\"col_heading level0 col8\" >Site</th>\n",
       "      <th id=\"T_9f514_level0_col9\" class=\"col_heading level0 col9\" >Username</th>\n",
       "      <th id=\"T_9f514_level0_col10\" class=\"col_heading level0 col10\" >Management IP</th>\n",
       "      <th id=\"T_9f514_level0_col11\" class=\"col_heading level0 col11\" >State</th>\n",
       "      <th id=\"T_9f514_level0_col12\" class=\"col_heading level0 col12\" >Error</th>\n",
       "      <th id=\"T_9f514_level0_col13\" class=\"col_heading level0 col13\" >SSH Command</th>\n",
       "      <th id=\"T_9f514_level0_col14\" class=\"col_heading level0 col14\" >Public SSH Key File</th>\n",
       "      <th id=\"T_9f514_level0_col15\" class=\"col_heading level0 col15\" >Private SSH Key File</th>\n",
       "    </tr>\n",
       "  </thead>\n",
       "  <tbody>\n",
       "    <tr>\n",
       "      <td id=\"T_9f514_row0_col0\" class=\"data row0 col0\" >30466cc0-3783-4114-bde2-6d310b9e9ca3</td>\n",
       "      <td id=\"T_9f514_row0_col1\" class=\"data row0 col1\" >server1</td>\n",
       "      <td id=\"T_9f514_row0_col2\" class=\"data row0 col2\" >4</td>\n",
       "      <td id=\"T_9f514_row0_col3\" class=\"data row0 col3\" >8</td>\n",
       "      <td id=\"T_9f514_row0_col4\" class=\"data row0 col4\" >100</td>\n",
       "      <td id=\"T_9f514_row0_col5\" class=\"data row0 col5\" >default_ubuntu_20</td>\n",
       "      <td id=\"T_9f514_row0_col6\" class=\"data row0 col6\" >qcow2</td>\n",
       "      <td id=\"T_9f514_row0_col7\" class=\"data row0 col7\" >kans-w1.fabric-testbed.net</td>\n",
       "      <td id=\"T_9f514_row0_col8\" class=\"data row0 col8\" >KANS</td>\n",
       "      <td id=\"T_9f514_row0_col9\" class=\"data row0 col9\" >ubuntu</td>\n",
       "      <td id=\"T_9f514_row0_col10\" class=\"data row0 col10\" >2001:400:a100:3060:f816:3eff:fea7:dcf5</td>\n",
       "      <td id=\"T_9f514_row0_col11\" class=\"data row0 col11\" >Active</td>\n",
       "      <td id=\"T_9f514_row0_col12\" class=\"data row0 col12\" ></td>\n",
       "      <td id=\"T_9f514_row0_col13\" class=\"data row0 col13\" >ssh -i /home/fabric/work/fabric_config/slice_key -F /home/fabric/work/fabric_config/ssh_config ubuntu@2001:400:a100:3060:f816:3eff:fea7:dcf5</td>\n",
       "      <td id=\"T_9f514_row0_col14\" class=\"data row0 col14\" >/home/fabric/work/fabric_config/slice_key.pub</td>\n",
       "      <td id=\"T_9f514_row0_col15\" class=\"data row0 col15\" >/home/fabric/work/fabric_config/slice_key</td>\n",
       "    </tr>\n",
       "  </tbody>\n",
       "</table>\n"
      ],
      "text/plain": [
       "<pandas.io.formats.style.Styler at 0x7c7d430e4cd0>"
      ]
     },
     "metadata": {},
     "output_type": "display_data"
    }
   ],
   "source": [
    "slice.submit();"
   ]
  },
  {
   "cell_type": "markdown",
   "id": "05bfa5ff-9374-4823-9ea0-09f045a91684",
   "metadata": {},
   "source": [
    "# Step 4: Installing the required packages\n",
    "In this step, we will install the required packages to run the lab. Specifically, we will install the DPDK library, the P4 compiler (p4c), and all needed dependencies."
   ]
  },
  {
   "cell_type": "markdown",
   "id": "72c40316-489b-428d-82de-eb92e87c87dc",
   "metadata": {},
   "source": [
    "### Step 4.1 Getting the server node\n",
    "The command below gets the fablib node that server1 is associated with."
   ]
  },
  {
   "cell_type": "code",
   "execution_count": 6,
   "id": "61333554-ef05-480e-bee6-c2a035213b0c",
   "metadata": {},
   "outputs": [],
   "source": [
    "server1 = slice.get_node(name=\"server1\")"
   ]
  },
  {
   "cell_type": "markdown",
   "id": "1ab6f042-3232-4245-9a5b-9e163b1bb8f4",
   "metadata": {},
   "source": [
    "### Step 4.2 NAT64 setup\n",
    "The code below checks if an IPv6 address is available to set up NAT64. We will upload the script [scripts/nat64.sh](./scripts/nat64.sh) to the all servers and execute it"
   ]
  },
  {
   "cell_type": "code",
   "execution_count": 7,
   "id": "00430e7b-472e-4d5b-a81d-03dfaaec14ae",
   "metadata": {},
   "outputs": [],
   "source": [
    "from ipaddress import ip_address, IPv6Address\n",
    "\n",
    "if type(ip_address(server1.get_management_ip())) is IPv6Address:\n",
    "    server1.upload_file('scripts/nat64.sh', 'nat64.sh')\n",
    "    stdout, stderr = server1.execute(f'chmod +x nat64.sh && ./nat64.sh', quiet=True)"
   ]
  },
  {
   "cell_type": "markdown",
   "id": "6c187536-f87c-47ae-9ced-9cf234f70c45",
   "metadata": {},
   "source": [
    "### Step 4.3 Installing dependencies\n",
    "The code below installs packages that are prerequisites to the upcoming installations and needed to run the lab experiments"
   ]
  },
  {
   "cell_type": "code",
   "execution_count": 8,
   "id": "c8d516e3-323e-44c7-bec8-45a2d48a0936",
   "metadata": {},
   "outputs": [],
   "source": [
    "stdout, stderr = server1.execute(f'sudo apt-get update', quiet = True)\n",
    "stdout, stderr = server1.execute(f'sudo apt-get install -y build-essential python3-pip python3-pyelftools libnuma-dev pkg-config net-tools', quiet = True)\n",
    "stdout, stderr = server1.execute(f'sudo pip3 install meson ninja scapy', quiet = True)"
   ]
  },
  {
   "cell_type": "markdown",
   "id": "ea007d60-a00c-4c48-aab9-a9dc3ef16931",
   "metadata": {
    "tags": []
   },
   "source": [
    "### Step 4.4 Installing DPDK\n",
    "The code below downloads, builds, and installs DPDK on all servers. In this lab, we are building a modified version of DPDK in which we enabled logs in the terminal to have a better understanding of the behavior of the built pipeline. Note that printing out logs on the terminal degrades performance. Therefore, with applications where high performance is needed, logging should be disabled.  "
   ]
  },
  {
   "cell_type": "code",
   "execution_count": 9,
   "id": "66a161e7-65b6-403f-8e3e-8a8d1fe19a7f",
   "metadata": {},
   "outputs": [],
   "source": [
    "stdout, stderr = server1.execute(f'git clone http://dpdk.org/git/dpdk', quiet = True)\n",
    "stdout, stderr = server1.execute(f'cd dpdk/lib/pipeline/ &&  sudo rm rte_swx_pipeline.c && sudo rm rte_swx_pipeline_internal.h', quiet = True)\n",
    "server1.upload_file('scripts/rte_swx_pipeline.c','/home/ubuntu/dpdk/lib/pipeline/rte_swx_pipeline.c')\n",
    "server1.upload_file('scripts/rte_swx_pipeline_internal.h','/home/ubuntu/dpdk/lib/pipeline/rte_swx_pipeline_internal.h')\n",
    "stdout, stderr = server1.execute(f'cd dpdk &&  sudo meson build && cd build && sudo ninja && sudo ninja install && sudo ldconfig', quiet = True)\n",
    "stdout, stderr = server1.execute(f'cd dpdk/examples/pipeline && sudo make', quiet=True)"
   ]
  },
  {
   "cell_type": "markdown",
   "id": "e3663be2-ae7e-4352-9659-4ac52b2b32b5",
   "metadata": {
    "tags": []
   },
   "source": [
    "### Step 4.5 Install p4c\n",
    "The code below downloads and installs the p4c compiler needed to compile the p4 code into a DPDK pipeline"
   ]
  },
  {
   "cell_type": "code",
   "execution_count": 10,
   "id": "cf0857a2-7ec6-4ed3-92c4-6eed2e697d0b",
   "metadata": {},
   "outputs": [],
   "source": [
    "stdout, stderr = server1.execute('source /etc/lsb-release && echo \"deb http://download.opensuse.org/repositories/home:/p4lang/xUbuntu_${DISTRIB_RELEASE}/ /\" | sudo tee /etc/apt/sources.list.d/home:p4lang.list && curl -fsSL https://download.opensuse.org/repositories/home:p4lang/xUbuntu_${DISTRIB_RELEASE}/Release.key | gpg --dearmor | sudo tee /etc/apt/trusted.gpg.d/home_p4lang.gpg > /dev/null && sudo apt-get update && sudo apt install -y p4lang-p4c', quiet = True)\n",
    "stdout, stderr = server1.execute(\"cd /usr/share/p4c/p4include/dpdk/ && sudo sed -i '769s/\\\\(.\\\\{6\\\\}\\\\)/\\\\1out/' pna.p4\", quiet=True)"
   ]
  },
  {
   "attachments": {},
   "cell_type": "markdown",
   "id": "605f69d0-28f7-4c03-be6f-c51d0515f872",
   "metadata": {},
   "source": [
    "# Step 5: Writing and compiling the P4 code\n",
    "This section demonstrates how to implement a simple table in P4 that uses exact matching on the destination IP address of the packet. When there is a match, the packet is forwarded from a certain port. If no match is found, LPM is applied to the packet’s destination IP address. If a match is found, the packet is forwarded from a certain port. Otherwise, the packet is dropped."
   ]
  },
  {
   "cell_type": "markdown",
   "id": "47325930-ee8e-4ab4-8ab5-9bf176275210",
   "metadata": {},
   "source": [
    "## Step 5.1: Programming the control block"
   ]
  },
  {
   "cell_type": "markdown",
   "id": "cce0f73d-b6b8-4149-8250-9cbb08079f21",
   "metadata": {},
   "source": [
    "Click on [control.p4](./labs_files/lab5/control.p4) to open the code in the editor.\n",
    "\n",
    "<img src=\"./labs_files/lab5/figs/5_01_01.png\" width=\"700px\"><br>\n",
    "\n",
    "We can see that the control.p4 declares a control block named MainControl. Note that the body of the control block is empty. Our objective is to define P4 tables and their actions, and then invoke them inside the block.\n",
    "\n",
    "<hr>\n",
    "\n",
    "Now we will define the behavior of the ```forward_exact``` action. Insert the code below inside the ```MainControl``` control block. \n",
    "\n",
    "    action forward_exact (EthernetAddress dstAddr, PortId_t port_id) {\n",
    "        send_to_port(port_id);\n",
    "        hdr.ethernet.srcAddr = hdr.ethernet.dstAddr;\n",
    "        hdr.ethernet.dstAddr = dstAddr;\n",
    "        hdr.ipv4.ttl = hdr.ipv4.ttl - 1;\n",
    "    }\n",
    "\n",
    "<img src=\"./labs_files/lab5/figs/5_01_02.png\" width=\"700\"><br>\n",
    "\n",
    "The action ```forward_exact``` accepts as parameters the next hop’s MAC address (i.e., ```EthernetAddress dstAddr```) and the port number (```PortId_t port_id```) to be used by the pipeline to forward the packet. Note that ```EthernetAddress``` is a typedef that corresponds to ```bit<48>``` defined in the ```headers.p4``` file. \n",
    "\n",
    "The ```send_to_port``` is a function that takes the port number as an input. Therefore, when the forward action is executed, the packet will be sent out of the port number specified as a parameter.\n",
    "\n",
    "To modify header fields inside the packet, we refer to the field name based on where it exists inside the headers. Recall that the names of the headers and the fields are defined by the programmer. The file headers.p4 defines the program’s headers. Line 10 shows how we are assigning the destination MAC address of the packet (i.e., ```hdr.ethernet.dstAddr```) to be the new source MAC of the packet (i.e., ```hdr.ethernet.srcAddr```). Line 11 shows how we are assigning the destination MAC address which is provided as a parameter (assigned later in the control plane) to be the new destination MAC of the packet. \n",
    "\n",
    "It is possible in P4 to perform basic arithmetic operations on header fields and other variables. In line 12, we are decrementing the TTL value of the header field.\n",
    "\n",
    "<hr>\n",
    "\n",
    "Similarly, we will define the behavior of the forward_lpm action. Insert the code below inside the MainControl control block. \n",
    "\n",
    "    action forward_lpm (EthernetAddress dstAddr, PortId_t port) {\n",
    "        send_to_port(port_id);\n",
    "        hdr.ethernet.srcAddr = hdr.ethernet.dstAddr;\n",
    "        hdr.ethernet.dstAddr = dstAddr;\n",
    "        hdr.ipv4.ttl = hdr.ipv4.ttl - 1;\n",
    "    }\n",
    "\n",
    "<img src=\"./labs_files/lab5/figs/5_01_03.png\" width=\"700\"><br>\n",
    "\n",
    "Note that the P4-DPDK compiler matches each action to one table. In this application, we will need two tables, one for exact matching and the other for LPM. Therefore, a forwarding action is needed for each (forward_exact and forward_lpm).\n",
    "\n",
    "<hr>\n",
    "\n",
    "Now we will define the drop action. Insert the code below inside the MainControl control block. \n",
    "\n",
    "    action drop() {\n",
    "        drop_packet();\n",
    "    }\n",
    "\n",
    "<img src=\"./labs_files/lab5/figs/5_01_04.png\" width=\"700\"><br>\n",
    "\n",
    "The drop() action invokes a primitive action drop_packet() that causes the packet to be dropped.\n",
    "\n",
    "<hr>\n",
    "\n",
    "Now we will define the table named forwarding_exact. Write the following piece of code inside the body of the MainControl control block.\n",
    "    \n",
    "    table forwarding_exact {\n",
    "        key = {\n",
    "            hdr.ipv4.dstAddr: exact;\n",
    "        }\n",
    "        actions = {\n",
    "            forward_exact;\n",
    "        }\n",
    "        size = 1024;\n",
    "    }\n",
    "\n",
    "\n",
    "<img src=\"./labs_files/lab5/figs/5_01_05.png\" width=\"700\"><br>\n",
    "\n",
    "The inserted code specifies that the destination IPv4 address of a packet (```hdr.ipv4.dstAddr```) will be used as a key in the ```forwarding_exact``` table. Note that the match type is ```exact```, denoting that the value of the destination IP address will be matched as is against a value specified later in the control plane. The defined possible action is the ```forward_exact``` action. Finally, the ```size``` keyword specifies the maximum number of entries that can be inserted into this table from the control plane.\n",
    "\n",
    "<hr>\n",
    "\n",
    "Now we will define a table that performs an LPM on the destination IP address of the packet. The table will be invoking the forward and the drop actions, and hence, those actions will be listed inside the table definition.\n",
    "\n",
    "    table forwarding_lpm {\n",
    "        key = {\n",
    "            hdr.ipv4.dstAddr: lpm;\n",
    "        }\n",
    "        actions = {\n",
    "            forward_lpm;\n",
    "            drop;\n",
    "        }\n",
    "        size = 1024;\n",
    "        default_action = drop();\n",
    "    }\n",
    "\n",
    "<img src=\"./labs_files/lab5/figs/5_01_06.png\" width=\"700\"><br>\n",
    "\n",
    "The inserted code specifies that the destination IPv4 address of a packet (```hdr.ipv4.dstAddr```) will be used as a key in the ```forwarding_lpm``` table. Note that the match type is ```lpm```, denoting that the value of the destination IP address will be matched based on the LPM algorithm. The defined possible actions are the ```forward_lpm``` and the ```drop``` actions. The ```size``` keyword specifies the maximum number of entries that can be inserted into this table from the control plane. Finally, the default action that is invoked when there is a miss is ```drop``` action.\n",
    "\n",
    "<hr>\n",
    "\n",
    "Add the following code at the end of the main control block. The apply block defines the sequential flow of packet processing. It is required in every control block, otherwise the program will not compile. It describes the sequence of tables to be invoked, in addition to other packet processing instructions.\n",
    "\n",
    "    apply {\n",
    "        if(hdr.ipv4.isValid()) {\n",
    "            if(forwarding_exact.apply().miss) {\n",
    "                forwarding_lpm.apply();\n",
    "            }\n",
    "        }\n",
    "    }\n",
    "\n",
    "<img src=\"./labs_files/lab5/figs/5_01_07.png\" width=\"700\"><br>\n",
    "\n",
    "The logic of the code above is as follows: if the packet has an IPv4 header, apply the ```forwarding_exact``` table which performs an exact match lookup on the destination IP address. If there is no hit (i.e., the table does not contain a rule that corresponds to this IPv4 address, denoted by the miss keyword), apply the ```forwarding_lpm``` table, which matches the destination IP address of the packet against a network address. At this stage, if no match is found by the LPM algorithm, the packet is dropped when the default action in the LPM table is invoked.\n",
    "\n",
    "<hr>\n",
    "\n",
    "Save the changes by pressing ```Ctrl+s```."
   ]
  },
  {
   "cell_type": "markdown",
   "id": "1be69c05-19ee-4e09-b68d-b450bfad0fc1",
   "metadata": {},
   "source": [
    "## Step 5.2: Compiling the P4 code\n",
    "To upload all needed P4 codes and compile main.p4, issue the following command."
   ]
  },
  {
   "cell_type": "code",
   "execution_count": 12,
   "id": "c4a28c3a-9a46-4e3c-88da-015cbecdf9d9",
   "metadata": {},
   "outputs": [
    {
     "name": "stdout",
     "output_type": "stream",
     "text": [
      "\u001b[31m sudo: unable to resolve host server1: Name or service not known\n",
      " \u001b[0mcontrol.p4\n",
      "deparser.p4\n",
      "dpdk\n",
      "headers.p4\n",
      "host_tune.sh\n",
      "lab5.spec\n",
      "main.p4\n",
      "nat64.sh\n",
      "p4c\n",
      "parser.p4\n",
      "precontrol.p4\n"
     ]
    }
   ],
   "source": [
    "server1.upload_file('labs_files/lab5/headers.p4','headers.p4')\n",
    "server1.upload_file('labs_files/lab5/parser.p4','parser.p4')\n",
    "server1.upload_file('labs_files/lab5/precontrol.p4','precontrol.p4')\n",
    "server1.upload_file('labs_files/lab5/control.p4','control.p4')\n",
    "server1.upload_file('labs_files/lab5/deparser.p4','deparser.p4')\n",
    "server1.upload_file('labs_files/lab5/main.p4','main.p4')\n",
    "stdout, stderr = server1.execute(f'sudo p4c-dpdk --arch=pna main.p4 -o lab5.spec')\n",
    "stdout, stderr = server1.execute(f'ls')"
   ]
  },
  {
   "cell_type": "markdown",
   "id": "99d9703e-31df-4bc7-84e7-55282f5b23af",
   "metadata": {},
   "source": [
    "The command above invokes the ```p4c-dpdk``` compiler to compile the ```main.p4``` program and generates the ```lab5.spec``` file which is a specification file needed to run the pipeline."
   ]
  },
  {
   "cell_type": "markdown",
   "id": "1ab728d9-c42b-40d3-8384-42d85a6dad09",
   "metadata": {},
   "source": [
    "# Step 6: Running the P4-DPDK pipeline and the lab topology\n",
    "This section shows the steps required to run the P4-DPDK along with building the lab topology. In this lab, the procedure is automated."
   ]
  },
  {
   "cell_type": "markdown",
   "id": "51dff360-7ab3-4b31-a3c7-ddb4ad6c1d75",
   "metadata": {},
   "source": [
    "## Step 6.1: Uploading required scripts\n",
    "The code below uploads to server1 the CLI and I/O scripts, along with other scripts needed to automate the process of running the pipeline and building the topology.\n",
    "\n",
    "We will also upload the rules.txt file to load and add rules to the forwarding table. The rules.txt file contains rules for exact matching."
   ]
  },
  {
   "cell_type": "code",
   "execution_count": 13,
   "id": "669fc8a7-d84d-4bf1-b22a-fc6ba823f7d7",
   "metadata": {},
   "outputs": [],
   "source": [
    "server1.upload_file('labs_files/lab5/lab5.cli','lab5.cli')\n",
    "server1.upload_file('labs_files/lab5/ethdev.io','ethdev.io')\n",
    "server1.upload_file('labs_files/lab5/run_pipeline.sh','run_pipeline.sh')\n",
    "server1.upload_file('labs_files/lab5/set_topology.sh','set_topology.sh')\n",
    "server1.upload_file('labs_files/lab5/sender.py','sender.py')\n",
    "server1.upload_file('labs_files/lab5/rules_exact.txt','rules_exact.txt')\n",
    "server1.upload_file('labs_files/lab5/rules_lpm.txt','rules_lpm.txt')\n",
    "stdout, stderr = server1.execute(f'chmod +x run_pipeline.sh')\n",
    "stdout, stderr = server1.execute(f'chmod +x set_topology.sh')\n",
    "stdout, stderr = server1.execute(f'chmod +x sender.py')"
   ]
  },
  {
   "cell_type": "markdown",
   "id": "4886aad9-21e8-420e-9657-306ab541b8e5",
   "metadata": {},
   "source": [
    "## Step 6.2: Opening a terminal\n",
    "Launch a new terminal by opening a new tab and then select \"terminal\".\n",
    "\n",
    "<img src=\"./labs_files/lab5/figs/6_02_terminal.gif\" width=\"1000px\"><br>\n",
    "\n",
    "Copy the output of the command below and paste it into the terminal to enter server1."
   ]
  },
  {
   "cell_type": "code",
   "execution_count": 14,
   "id": "6b96a8c8-e602-405c-bef5-6cd04c4a87d3",
   "metadata": {},
   "outputs": [
    {
     "data": {
      "text/plain": [
       "'ssh -i /home/fabric/work/fabric_config/slice_key -F /home/fabric/work/fabric_config/ssh_config ubuntu@2001:400:a100:3060:f816:3eff:fea7:dcf5'"
      ]
     },
     "execution_count": 14,
     "metadata": {},
     "output_type": "execute_result"
    }
   ],
   "source": [
    "server1.get_ssh_command()"
   ]
  },
  {
   "cell_type": "markdown",
   "id": "40f25aaf-85b0-485e-84da-291944f01802",
   "metadata": {},
   "source": [
    "## Step 6.3: Running the P4-DPDK pipeline\n",
    "Build and run the pipeline by typing the following command:\n",
    "\n",
    "    sudo ./run_pipeline.sh\n",
    "    \n",
    "<img src=\"./labs_files/lab5/figs/6_03.png\" width=\"750px\"><br>\n",
    "\n",
    "The ```run_pipeline.sh``` script is a shell script that automates the process of running the P4-DPDK pipeline. In this lab, part of the pipeline output is hidden to display only the relevant logs."
   ]
  },
  {
   "cell_type": "markdown",
   "id": "4dfe858d-6e62-4e6e-b805-071956d36eb8",
   "metadata": {},
   "source": [
    "## Step 6.4: Building the lab topology\n",
    "The code below uploads to server1 the CLI and I/O scripts, along with other scripts needed to automate the process of running the pipeline and building the topology."
   ]
  },
  {
   "cell_type": "code",
   "execution_count": 15,
   "id": "060593e8-d2c3-4c59-95c2-8a61fc1c8f13",
   "metadata": {},
   "outputs": [
    {
     "name": "stdout",
     "output_type": "stream",
     "text": [
      "\u001b[31m sudo: unable to resolve host server1: Name or service not known\n",
      " \u001b[0m"
     ]
    }
   ],
   "source": [
    "stdout, stderr = server1.execute(f'sudo ./set_topology.sh')"
   ]
  },
  {
   "cell_type": "markdown",
   "id": "2dbcb5dc-bb89-42c6-87d7-da57daed2dd6",
   "metadata": {
    "tags": []
   },
   "source": [
    "The set_topology.sh script is a shell script that automates the process of building the lab topology. Two namespaces are built and configured in this step with a virtual device linked to each as shown in the figure below.\n",
    "\n",
    "<img src=\"./labs_files/lab5/figs/6_04_ip.png\" width=\"650px\"><br>"
   ]
  },
  {
   "cell_type": "markdown",
   "id": "3ed9a650-27a8-4856-b9d4-ca237e7159c7",
   "metadata": {
    "tags": []
   },
   "source": [
    "## Step 6.5: Inspect the rules_exact.txt file\n",
    "Click on [rules_exact.txt](./labs_files/lab5/rules_exact.txt) to open the code in the editor.\n",
    "\n",
    "<img src=\"./labs_files/lab5/figs/6_05.png\" width=\"550px\"><br>\n",
    "\n",
    "The figure above shows the entry loaded to the forwarding_exact match action table. The entry consists of three components.\n",
    "\n",
    "•\t```match <key>```: The key based on which a match is found or not. The key is 192.168.30.1 (0xC0A81e01 in hexadecimal) which is the IP address of host 3. <br>\n",
    "•\t```action <action name>```: The action to be executed if there is a match. If a match is found the action to be executed is the forward_exact action declared in the control.p4 code which was written earlier in this lab. <br>\n",
    "•\tThe last item is the action data. In this case, the action data are the destination MAC address and egress port ID. Therefore, if a match is found with this entry, the packet is forwarded to host 3 through port 2 (0x2 in hexadecimal), and the destination MAC address is 00:00:00:00:00:03 (0x3 in hexadecimal).\n"
   ]
  },
  {
   "cell_type": "markdown",
   "id": "7ab4540b-d287-460b-b2ff-5319cc5ff0ac",
   "metadata": {
    "tags": []
   },
   "source": [
    "## Step 6.6: Inspect the rules_lpm.txt file\n",
    "Click on [rules_lpm.txt](./labs_files/lab5/rules_lpm.txt) to open the code in the editor.\n",
    "\n",
    "<img src=\"./labs_files/lab5/figs/6_06.png\" width=\"550px\"><br>\n",
    "\n",
    "The figure above shows the entries loaded to the forwarding_lpm match action table. Each entry consists of four components.\n",
    "\n",
    "•\t```match <key>```: The key based on which a match is found or not. In the first entry, the key is 192.168.10.0/24 (0xC0A80A00/ffffff00 in hexadecimal) which is the IP address and netmask of host 1. The match key of the second entry is 192.168.20.0/24 (0xC0A81400/ffffff00 in hexadecimal) which is the IP address and netmask of host 2. <br>\n",
    "•\t```action <action name>```: The action to be executed if there is a match. If a match is found the action to be executed for both entries is the forward_lpm action declared in the control.p4 code which was written earlier in this lab. <br>\n",
    "•\tThe last item is the action data. In this case, the action data are the destination MAC address and egress port ID. Therefore, if a match is found with the first entry, the packet is forwarded to host 1 through port 0 (0x0 in hexadecimal) and the destination MAC address is 00:00:00:00:00:01 (0x1 in hexadecimal). Whereas, if a match is found with the second entry, the packet is forwarded to host 2 through port 1 (0x1 in hexadecimal) and the destination MAC address is 00:00:00:00:00:02 (0x2 in hexadecimal)."
   ]
  },
  {
   "cell_type": "markdown",
   "id": "0321f656-057b-4cce-85a9-12a538279c0c",
   "metadata": {},
   "source": [
    "# Step 7: Testing exact matching"
   ]
  },
  {
   "cell_type": "markdown",
   "id": "3f293962-481c-4d21-a656-2d7990ac1022",
   "metadata": {
    "tags": []
   },
   "source": [
    "### Step 7.1: Testing exact matching\n",
    "To test exact matching, we will send a packet with an ethernet, IPv4, and TCP header from h1 to h3 over the destination IP address 192.168.30.1 by running the provided Python script sender.py."
   ]
  },
  {
   "cell_type": "code",
   "execution_count": 16,
   "id": "a4682dca-966b-4a5a-a204-68e34989b9c0",
   "metadata": {},
   "outputs": [
    {
     "name": "stdout",
     "output_type": "stream",
     "text": [
      ".\u001b[31m sudo: unable to resolve host server1: Name or service not known\n",
      "WARNING: Interface lo: no address assigned\n",
      " \u001b[0mSender: h1\n",
      "Destination IP: 192.168.30.1\n",
      "\n",
      "Sent 1 packets.\n"
     ]
    }
   ],
   "source": [
    "stdout, stderr = server1.execute(f'sudo ip netns exec h1 python3 sender.py -s h1 -d 192.168.30.1')"
   ]
  },
  {
   "cell_type": "markdown",
   "id": "396a5665-e0dc-4a37-9011-73977c4bd172",
   "metadata": {},
   "source": [
    "Running the Python script requires two parameters:\n",
    "\n",
    "•\t```-s```: Sender (h1 or h2 or h3) <br>\n",
    "•\t```-d```: Destination IP Address\n",
    "\n"
   ]
  },
  {
   "cell_type": "markdown",
   "id": "4e0bdfc2-3798-41b8-b71b-709ca1ae1c75",
   "metadata": {
    "tags": []
   },
   "source": [
    "### Step 7.2: Inspect the pipeline terminal\n",
    "\n",
    "Observe the DPDK logs at the bottom of the terminal. These logs correspond to the packet processing function executed in the .spec file generated when the P4 code is compiled. \n",
    "\n",
    "<img src=\"./labs_files/lab5/figs/7_02.png\" width=\"700px\"><br>\n",
    "\n",
    "The log highlighted in the first grey box corresponds to the match found in the match-action table with table ID 0 which indicates that an exact match is found. Since there is a match the forward_exact action with action ID 1 is executed. \n",
    "\n",
    "The second grey box shows that two move functions and one arithmetic operation are done to flip the source and destination MAC addresses and decrease the TTL as specified in the forward_exact action in the control.p4 script.\n",
    "\n",
    "The “tx 1 pkt to port 2” log in the third grey box indicates that the forwarding action is properly executed by sending one packet to port 2 which corresponds to host 3.\n",
    "\n",
    "For a more readable output press enter in the terminal a few times (five times) to provide space for the next logs."
   ]
  },
  {
   "cell_type": "markdown",
   "id": "69abcfe6-1855-4ac2-9e3f-2951f7f12efa",
   "metadata": {
    "tags": []
   },
   "source": [
    "### Step 7.3: Testing default action when no match is found\n",
    "Now, we will send a packet with an ethernet, IPv4, and TCP header from h1 to h3 over the destination IP address 192.168.30.3 by running the provided Python script sender.py."
   ]
  },
  {
   "cell_type": "code",
   "execution_count": 17,
   "id": "27f0e82c-1e37-4679-b4a4-d6eb4e5d2bac",
   "metadata": {},
   "outputs": [
    {
     "name": "stdout",
     "output_type": "stream",
     "text": [
      ".\u001b[31m sudo: unable to resolve host server1: Name or service not known\n",
      "WARNING: Interface lo: no address assigned\n",
      " \u001b[0mSender: h1\n",
      "Destination IP: 192.168.30.3\n",
      "\n",
      "Sent 1 packets.\n"
     ]
    }
   ],
   "source": [
    "stdout, stderr = server1.execute(f'sudo ip netns exec h1 python3 sender.py -s h1 -d 192.168.30.3')"
   ]
  },
  {
   "cell_type": "markdown",
   "id": "80ddd0ac-adec-410a-bdde-3004e8c59324",
   "metadata": {
    "tags": []
   },
   "source": [
    "### Step 7.4: Inspect the pipeline terminal\n",
    "\n",
    "<img src=\"./labs_files/lab5/figs/7_04.png\" width=\"700px\"><br>\n",
    "\n",
    "The log highlighted in the first grey box corresponds to the table lookup. An exact match was not found in table 0 which corresponds to the forwarding_exact table. In this case, a table lookup will be performed in the second table named forwarding_lmp with a table ID of 1. A match was not found in the second table. Therefore, the default action (action 3) is executed, and the packet is dropped. The log in the second grey box indicates that one packet has been dropped.\n",
    "\n",
    "For a more readable output press enter in the terminal a few times (five times) to provide space for the next logs."
   ]
  },
  {
   "cell_type": "markdown",
   "id": "c80e2c30-8dec-4fff-b9d2-20967432c0b8",
   "metadata": {
    "tags": []
   },
   "source": [
    "### Step 7.5: Testing LPM\n",
    "To test the LPM table lookup, we will send a packet with an ethernet, IPv4, and TCP header from h1 to h2 over the destination IP address 192.168.20.3 by running the provided Python script sender.py."
   ]
  },
  {
   "cell_type": "code",
   "execution_count": 18,
   "id": "95a57bac-ecc3-4df6-a436-0243172bd8a6",
   "metadata": {},
   "outputs": [
    {
     "name": "stdout",
     "output_type": "stream",
     "text": [
      ".\u001b[31m sudo: unable to resolve host server1: Name or service not known\n",
      "WARNING: Interface lo: no address assigned\n",
      " \u001b[0mSender: h1\n",
      "Destination IP: 192.168.20.3\n",
      "\n",
      "Sent 1 packets.\n"
     ]
    }
   ],
   "source": [
    "stdout, stderr = server1.execute(f'sudo ip netns exec h1 python3 sender.py -s h1 -d 192.168.20.3')"
   ]
  },
  {
   "cell_type": "markdown",
   "id": "a93e820b-d0c9-4169-a822-ccbda7bafbbe",
   "metadata": {
    "tags": []
   },
   "source": [
    "### Step 7.6: Inspect the pipeline terminal\n",
    "\n",
    "<img src=\"./labs_files/lab5/figs/7_06.png\" width=\"700px\"><br>\n",
    "\n",
    "The log highlighted in the first grey box corresponds to the table lookup. An exact match was not found in table 0 which corresponds to the forwarding_exact table. In this case, a table lookup will be performed in the second table named forwarding_lmp with a table ID of 1. A match was found in the second table. Therefore, the forward_lpm (action 2) is executed.\n",
    "\n",
    "The second grey box shows that two move functions and one arithmetic operation are done to flip the source and destination MAC addresses and decrease the TTL as specified in the forward_lpm action in the control.p4 script.\n",
    "\n",
    "The “tx 1 pkt to port 1” log in the third grey box indicates that the forwarding action is properly executed by sending one packet to port 1 which corresponds to host 2."
   ]
  },
  {
   "cell_type": "markdown",
   "id": "2f2f7b1b-0ca8-4bd7-a0ce-5ddb960d257d",
   "metadata": {
    "tags": []
   },
   "source": [
    "### Step 7.7: Stopping the DPDK pipeline\n",
    "Stop the DPDK pipeline by pressing ```ctrl+c``` in the terminal running the pipeline.\n",
    "\n",
    "<img src=\"./labs_files/lab5/figs/7_07.png\" width=\"700px\"><br>"
   ]
  },
  {
   "cell_type": "markdown",
   "id": "49e6dd26-c20c-4c25-96c2-1b2f1aaaeca9",
   "metadata": {
    "tags": []
   },
   "source": [
    "# Step 8: Delete the slice\n",
    "\n",
    "This concludes Lab 5. Please delete your slice when you are done with your experiment."
   ]
  },
  {
   "cell_type": "code",
   "execution_count": null,
   "id": "1f27f3fc-004f-46c2-984c-8c2a90883eb6",
   "metadata": {
    "tags": []
   },
   "outputs": [],
   "source": [
    "from fabrictestbed_extensions.fablib.fablib import FablibManager as fablib_manager\n",
    "fablib = fablib_manager()\n",
    "slice = fablib.get_slice(name=\"P4DPDK_lab5_vnic\")\n",
    "slice.delete()"
   ]
  },
  {
   "cell_type": "markdown",
   "id": "e92e3d97-a261-4c00-984c-2750cbd45064",
   "metadata": {
    "tags": []
   },
   "source": [
    "# References\n",
    "\n",
    "1.\tThe P4 Language Consortium, “P4 Portable NIC Architecture (PNA)”, Version 0.5, 2021. [Online]. Available: https://p4.org/p4-spec/docs/PNA.html\n",
    "2.\tThe P4 Language Consortium, “P4 Portable Switch Architecture (PSA)”, 2021. [Online]. Available: https://p4.org/p4-spec/docs/PSA.html#sec-match-kinds\n",
    "3.\tP4lang, “pna”, [Online]. Available: https://github.com/p4lang/pna/tree/main?tab=readme-ov-file\n",
    "4.\t“p4c core.p4”. [Online]. Available: https://github.com/p4lang/p4c/blob/main/p4include/core.p4."
   ]
  }
 ],
 "metadata": {
  "kernelspec": {
   "display_name": "Python 3 (ipykernel)",
   "language": "python",
   "name": "python3"
  },
  "language_info": {
   "codemirror_mode": {
    "name": "ipython",
    "version": 3
   },
   "file_extension": ".py",
   "mimetype": "text/x-python",
   "name": "python",
   "nbconvert_exporter": "python",
   "pygments_lexer": "ipython3",
   "version": "3.11.8"
  }
 },
 "nbformat": 4,
 "nbformat_minor": 5
}
