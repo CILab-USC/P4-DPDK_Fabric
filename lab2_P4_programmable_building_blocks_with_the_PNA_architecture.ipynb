{
 "cells": [
  {
   "cell_type": "markdown",
   "id": "2a519f73-cdd2-4b28-a231-a2064f5e2191",
   "metadata": {
    "jp-MarkdownHeadingCollapsed": true,
    "tags": []
   },
   "source": [
    "# Lab 2 - P4 Program Building Blocks with the PNA Architecture\n",
    "<div style=\"text-align: justify;\">\n",
    "This lab will walk you through creating an experiment that contains a P4-DPDK programmable pipeline. Specifically, the experiment deploys a slice in a single site with one node: server1. The topology is shown in the figure below. This lab provides guidance to the process of building the P4 coding blocks compatible with the PNA architecture that will be compiled into a DPDK pipeline. In this lab, we will be implementing a simple application in which a packet is sent from a server and forwarded to the client. \n",
    "<figure style=\"text-align: center;\">\n",
    "    <img src=\"./labs_files/lab2/figs/0_00_fabric_topology.png\" width=\"550px\"><br>"
   ]
  },
  {
   "cell_type": "markdown",
   "id": "281e30c2-6ea9-45f7-b196-fb09b2a59d45",
   "metadata": {
    "tags": []
   },
   "source": [
    "# Introduction to P4 architecture"
   ]
  },
  {
   "cell_type": "markdown",
   "id": "96f79baa-a4d4-4b64-8183-176b6964ee44",
   "metadata": {},
   "source": [
    "<div style=\"text-align: justify;\">\n",
    "A P4 architecture represents a programming model that outlines the capabilities of a target to process a P4 pipeline. Manufacturers provide for each specific hardware or P4 target, the architecture and a P4 compiler. P4 programs are specifically written for a particular P4 architecture and can be applied to any targets compatible with the same architecture. The compilation of these P4 programs yields two key elements: a data plane configuration implementing the forwarding logic based on the input program and an API facilitating the control plane's management of the data plane object states [<a href=\"#References\">1</a>]. </div>  <br>"
   ]
  },
  {
   "cell_type": "markdown",
   "id": "d569df5c-9413-49b3-9ba3-adbd318c937a",
   "metadata": {
    "tags": []
   },
   "source": [
    "## The PNA architecture\n",
    "\n",
    "<div style=\"text-align: justify;\">\n",
    "The Portable NIC Architecture (PNA) is a P4 architecture that defines the structure and common capabilities for programmable NICs. PNA's primary objective is to provide P4 capabilities for deploying packet processing functions on NICs. It enables P4 programmers to create portable P4 programs that can be compiled and executable across various NIC devices. PNA has four P4 programmable blocks (main parser, pre-control, main control, and main deparser), and several fixed-function blocks, as shown in Figure 1. The host-to-net and net-to-host externs allow executing functions on the domain-specific accelerators such as encrypting or decrypting IPsec payload. The message processing is responsible for converting between large messages in host memory and network size packets on the network and for dealing with one or more host operating systems, drivers, and/or message descriptor formats in host memory[<a href=\"#References\">2,3</a>]. </div>   <br> \n",
    "\n",
    "<figure style=\"text-align: center;\">\n",
    "  <img src=\"./labs_files/lab2/figs/0_intro_1_pna.png\" width=\"550\" style=\"display: block; margin: 0 auto;\">\n",
    "  <figcaption>Figure 1. Portable NIC architecture (PNA) [<a href=\"#References\">2</a>].</figcaption>\n",
    "</figure>"
   ]
  },
  {
   "cell_type": "markdown",
   "id": "ba85593f-eec0-491e-8c1f-6a4042efb636",
   "metadata": {
    "tags": []
   },
   "source": [
    "## Programmable parser\n",
    "\n",
    "<div style=\"text-align: justify;\">\n",
    "Packets arriving from a network port first go through a Main Parser and a Pre-Control which will be discussed in the next subsection. The programmable parser permits the programmer to define the headers (according to custom or standard protocols) and to describe how the headers should be processed. The parser de-encapsulates the headers, converting the original packet into a parsed representation of the packet. The programmer declares the headers that must be recognized and their order in the packet. The parser can be represented as a state machine without cycles (direct acyclic graph), with one initial state (start) and two final states (accept or reject) [<a href=\"#References\">2,3</a>]. </div>   <br> "
   ]
  },
  {
   "cell_type": "markdown",
   "id": "d235c1c1-3916-447b-b749-cdc3ca2fc1a5",
   "metadata": {
    "tags": []
   },
   "source": [
    "## Programmable deparser\n",
    "\n",
    "<div style=\"text-align: justify;\">\n",
    "The deparser assembles back the packet and serializes it for transmission. The programmer specifies the headers to be emitted by the deparser. When assembling the packet, the deparser emits the specified headers followed by the original payload of the packet [<a href=\"#References\">2,3</a>]. </div>   <br> "
   ]
  },
  {
   "cell_type": "markdown",
   "id": "16ea78be-6881-478c-b90b-dca327194b92",
   "metadata": {
    "tags": []
   },
   "source": [
    "## P4 program mapping to the PNA\n",
    "\n",
    "<div style=\"text-align: justify;\">\n",
    "The P4 program used in this lab is separated into different files. Figure 2 shows the PNA architecture and its associated P4 files. These files are as follows: </div>   <br> \n",
    "\n",
    "•\theaders.p4: this file contains the packet headers’ and the metadata’s definitions.<br>\n",
    "•\tparser.p4: this file contains the implementation of the programmable parser.<br>\n",
    "•\tprecontrol.p4: this file contains the pre-control block that optionally includes table look-ups.<br>\n",
    "•\tcontrol.p4: this file contains the main control block.<br>\n",
    "•\tdeparser.p4: this file contains the deparser logic that describes how headers are emitted.<br>\n",
    "•\tmain.p4: this file contains the starting point of the program and invokes the other files. This file must be compiled.<br>\n",
    "\n",
    "<figure style=\"text-align: center;\">\n",
    "  <img src=\"./labs_files/lab2/figs/0_intro_2_p4.png\" width=\"550\" style=\"display: block; margin: 0 auto;\">\n",
    "  <figcaption>Figure 2. Mapping of P4 files to the PNA’s components.</figcaption>\n",
    "</figure>"
   ]
  },
  {
   "cell_type": "markdown",
   "id": "e02b5308-1775-4cfe-9f4f-eb336a851337",
   "metadata": {
    "jp-MarkdownHeadingCollapsed": true,
    "tags": []
   },
   "source": [
    "# Step 1:  Configuring the environment\n",
    "\n",
    "Before running this notebook, you will need to configure your environment using the [Configure Environment](../../../configure_and_validate.ipynb) notebook. Please stop here, open and run that notebook, then return to this notebook.\n",
    "\n",
    "If you are using the FABRIC JupyterHub many of the environment variables will be automatically configured for you.  You will still need to set your bastion username, upload your bastion private key, and set the path to where you put your bastion private key. Your bastion username and private key should already be in your possession.  \n",
    "\n",
    "If you are using the FABRIC API outside of the JupyterHub you will need to configure all of the environment variables. Defaults below will be correct in many situations but you will need to confirm your configuration.  If you have questions about this configuration, please contact the FABRIC admins using the [FABRIC User Forum](https://learn.fabric-testbed.net/forums/) \n",
    "\n",
    "More information about accessing your experiments through the FABRIC bastion hosts can be found [here](https://learn.fabric-testbed.net/knowledge-base/logging-into-fabric-vms/)."
   ]
  },
  {
   "cell_type": "markdown",
   "id": "2b571c06-bfd5-464a-acf4-d28845c8e840",
   "metadata": {
    "tags": []
   },
   "source": [
    "# Step 2: Importing the FABlib library"
   ]
  },
  {
   "cell_type": "code",
   "execution_count": 1,
   "id": "2e9c3ea6-f0b5-4e34-9a4c-82785ff386c4",
   "metadata": {},
   "outputs": [],
   "source": [
    "from fabrictestbed_extensions.fablib.fablib import FablibManager as fablib_manager\n",
    "fablib = fablib_manager()"
   ]
  },
  {
   "cell_type": "markdown",
   "id": "c2913e89-4188-4ebf-a24c-01cedd16540b",
   "metadata": {
    "tags": []
   },
   "source": [
    "# Step 3: Creating the experiment slice\n",
    "\n",
    "The following creates a node with basic compute and networking capabilities. You build a slice by creating a new slice and adding resources to the slice. After you build the slice, you must submit a request for the slice to be instantiated.   "
   ]
  },
  {
   "cell_type": "markdown",
   "id": "161198e4-00b0-4994-9de8-28e8bfb16cc8",
   "metadata": {
    "tags": []
   },
   "source": [
    "### Step 3.1: Creating a slice\n",
    "The code below creates a new slice with the name \"P4DPDK_lab2_vnic\""
   ]
  },
  {
   "cell_type": "code",
   "execution_count": 2,
   "id": "9c97d810-ac6a-4c04-892d-f0ddbe69954b",
   "metadata": {
    "tags": []
   },
   "outputs": [],
   "source": [
    "slice = fablib.new_slice(name=\"P4DPDK_lab2_vnic\")"
   ]
  },
  {
   "cell_type": "markdown",
   "id": "a0f228eb-d12b-4644-bbc4-df2e34bbdce8",
   "metadata": {
    "tags": []
   },
   "source": [
    "### Step 3.2: Defining the sites\n",
    "The code below requests a random site from FABRIC based on the condition that the following resources are available:\n",
    "\n",
    "<ul>\n",
    "    <li> 4 CPU cores</li>\n",
    "    <li> 8GB RAM </li>\n",
    "    <li> 20GB disc size\n",
    "</ul>"
   ]
  },
  {
   "cell_type": "code",
   "execution_count": 3,
   "id": "f28e0cf1-241d-4257-afbf-6aa44989d995",
   "metadata": {
    "tags": []
   },
   "outputs": [
    {
     "name": "stdout",
     "output_type": "stream",
     "text": [
      "The selected site is NEWY\n"
     ]
    }
   ],
   "source": [
    "site1= fablib.get_random_sites(count=1, filter_function=lambda x: x['cores_available'] > 4 and x['ram_available'] > 8 and x['disk_available'] > 20)[0]\n",
    "\n",
    "print (f'The selected site is {site1}')"
   ]
  },
  {
   "cell_type": "markdown",
   "id": "0f71fead-a091-4af0-95ec-bb264c016c43",
   "metadata": {
    "tags": []
   },
   "source": [
    "### Step 3.3: Creating the nodes\n",
    "The code below creates one node (server1) which uses the following:\n",
    "<ul>\n",
    "    <li> 4 CPU cores</li>\n",
    "    <li> 8GB RAM </li>\n",
    "    <li> 20GB disc size </li>\n",
    "    <li> Image: Ubuntu 20.04\n",
    "</ul>\n",
    "\n",
    "server1 will be created in site1"
   ]
  },
  {
   "cell_type": "code",
   "execution_count": 4,
   "id": "7713728b-2740-4e72-b5dd-7d3963012536",
   "metadata": {
    "tags": []
   },
   "outputs": [],
   "source": [
    "server1 = slice.add_node(name=\"server1\", \n",
    "                      site=site1, \n",
    "                      cores=4, \n",
    "                      ram=8, \n",
    "                      disk=20, \n",
    "                      image='default_ubuntu_20')"
   ]
  },
  {
   "cell_type": "markdown",
   "id": "53ab345c-d68e-440d-9fda-03d67472f1ca",
   "metadata": {},
   "source": [
    "### Step 3.4: Submitting the slice\n",
    "The code below submits the slice. \n",
    "By default, the submit function will block until the node is ready and will display the progress of your slice being built."
   ]
  },
  {
   "cell_type": "code",
   "execution_count": 5,
   "id": "e706c53c-7a38-4615-a86e-e8944197921f",
   "metadata": {},
   "outputs": [
    {
     "name": "stdout",
     "output_type": "stream",
     "text": [
      "\n",
      "Retry: 8, Time: 185 sec\n"
     ]
    },
    {
     "data": {
      "text/html": [
       "<style type=\"text/css\">\n",
       "#T_64871 tr:nth-child(even) {\n",
       "  background: #dbf3ff;\n",
       "  color: #231f20;\n",
       "}\n",
       "#T_64871 tr:nth-child(odd) {\n",
       "  background: #ffffff;\n",
       "  color: #231f20;\n",
       "}\n",
       "#T_64871 caption {\n",
       "  text-align: center;\n",
       "  font-size: 150%;\n",
       "}\n",
       "#T_64871_row0_col0, #T_64871_row0_col1, #T_64871_row1_col0, #T_64871_row1_col1, #T_64871_row2_col0, #T_64871_row2_col1, #T_64871_row3_col0, #T_64871_row3_col1, #T_64871_row4_col0, #T_64871_row4_col1, #T_64871_row5_col0 {\n",
       "  text-align: left;\n",
       "  border: 1px #231f20 solid !important;\n",
       "  overwrite: False;\n",
       "  background-color: ;\n",
       "}\n",
       "#T_64871_row5_col1 {\n",
       "  text-align: left;\n",
       "  border: 1px #231f20 solid !important;\n",
       "  overwrite: False;\n",
       "  background-color: #c3ffc4;\n",
       "}\n",
       "</style>\n",
       "<table id=\"T_64871\">\n",
       "  <caption>Slice</caption>\n",
       "  <thead>\n",
       "  </thead>\n",
       "  <tbody>\n",
       "    <tr>\n",
       "      <td id=\"T_64871_row0_col0\" class=\"data row0 col0\" >ID</td>\n",
       "      <td id=\"T_64871_row0_col1\" class=\"data row0 col1\" >5ec2837c-8df8-4856-abe3-987b7c72aebb</td>\n",
       "    </tr>\n",
       "    <tr>\n",
       "      <td id=\"T_64871_row1_col0\" class=\"data row1 col0\" >Name</td>\n",
       "      <td id=\"T_64871_row1_col1\" class=\"data row1 col1\" >P4DPDK_lab2_vnic</td>\n",
       "    </tr>\n",
       "    <tr>\n",
       "      <td id=\"T_64871_row2_col0\" class=\"data row2 col0\" >Lease Expiration (UTC)</td>\n",
       "      <td id=\"T_64871_row2_col1\" class=\"data row2 col1\" >2024-09-03 18:29:40 +0000</td>\n",
       "    </tr>\n",
       "    <tr>\n",
       "      <td id=\"T_64871_row3_col0\" class=\"data row3 col0\" >Lease Start (UTC)</td>\n",
       "      <td id=\"T_64871_row3_col1\" class=\"data row3 col1\" >2024-09-02 18:29:40 +0000</td>\n",
       "    </tr>\n",
       "    <tr>\n",
       "      <td id=\"T_64871_row4_col0\" class=\"data row4 col0\" >Project ID</td>\n",
       "      <td id=\"T_64871_row4_col1\" class=\"data row4 col1\" >8eaa3ec2-65e7-49a3-8c09-e1761141a6ad</td>\n",
       "    </tr>\n",
       "    <tr>\n",
       "      <td id=\"T_64871_row5_col0\" class=\"data row5 col0\" >State</td>\n",
       "      <td id=\"T_64871_row5_col1\" class=\"data row5 col1\" >StableOK</td>\n",
       "    </tr>\n",
       "  </tbody>\n",
       "</table>\n"
      ],
      "text/plain": [
       "<pandas.io.formats.style.Styler at 0x7bfb0e2b3e90>"
      ]
     },
     "metadata": {},
     "output_type": "display_data"
    },
    {
     "data": {
      "text/html": [
       "<style type=\"text/css\">\n",
       "#T_53925 caption {\n",
       "  text-align: center;\n",
       "  font-size: 150%;\n",
       "  caption-side: top;\n",
       "}\n",
       "#T_53925 th {\n",
       "  text-align: left;\n",
       "}\n",
       "#T_53925 tr:nth-child(even) {\n",
       "  background: #ffffff;\n",
       "  color: #231f20;\n",
       "}\n",
       "#T_53925 tr:nth-child(odd) {\n",
       "  background: #dbf3ff;\n",
       "  color: #231f20;\n",
       "}\n",
       "#T_53925 .level0 {\n",
       "  border: 1px black solid !important;\n",
       "  background: #ffffff;\n",
       "  color: #231f20;\n",
       "}\n",
       "#T_53925_row0_col0, #T_53925_row0_col1, #T_53925_row0_col2, #T_53925_row0_col3, #T_53925_row0_col4, #T_53925_row0_col5, #T_53925_row0_col6, #T_53925_row0_col7, #T_53925_row0_col8, #T_53925_row0_col9, #T_53925_row0_col10, #T_53925_row0_col13, #T_53925_row0_col14, #T_53925_row0_col15 {\n",
       "  text-align: left;\n",
       "  border: 1px #231f20 solid !important;\n",
       "  overwrite: False;\n",
       "}\n",
       "#T_53925_row0_col11 {\n",
       "  text-align: left;\n",
       "  border: 1px #231f20 solid !important;\n",
       "  overwrite: False;\n",
       "  background-color: #c3ffc4;\n",
       "}\n",
       "#T_53925_row0_col12 {\n",
       "  text-align: left;\n",
       "  border: 1px #231f20 solid !important;\n",
       "  overwrite: False;\n",
       "  background-color: ;\n",
       "}\n",
       "</style>\n",
       "<table id=\"T_53925\">\n",
       "  <caption>Nodes</caption>\n",
       "  <thead>\n",
       "    <tr>\n",
       "      <th id=\"T_53925_level0_col0\" class=\"col_heading level0 col0\" >ID</th>\n",
       "      <th id=\"T_53925_level0_col1\" class=\"col_heading level0 col1\" >Name</th>\n",
       "      <th id=\"T_53925_level0_col2\" class=\"col_heading level0 col2\" >Cores</th>\n",
       "      <th id=\"T_53925_level0_col3\" class=\"col_heading level0 col3\" >RAM</th>\n",
       "      <th id=\"T_53925_level0_col4\" class=\"col_heading level0 col4\" >Disk</th>\n",
       "      <th id=\"T_53925_level0_col5\" class=\"col_heading level0 col5\" >Image</th>\n",
       "      <th id=\"T_53925_level0_col6\" class=\"col_heading level0 col6\" >Image Type</th>\n",
       "      <th id=\"T_53925_level0_col7\" class=\"col_heading level0 col7\" >Host</th>\n",
       "      <th id=\"T_53925_level0_col8\" class=\"col_heading level0 col8\" >Site</th>\n",
       "      <th id=\"T_53925_level0_col9\" class=\"col_heading level0 col9\" >Username</th>\n",
       "      <th id=\"T_53925_level0_col10\" class=\"col_heading level0 col10\" >Management IP</th>\n",
       "      <th id=\"T_53925_level0_col11\" class=\"col_heading level0 col11\" >State</th>\n",
       "      <th id=\"T_53925_level0_col12\" class=\"col_heading level0 col12\" >Error</th>\n",
       "      <th id=\"T_53925_level0_col13\" class=\"col_heading level0 col13\" >SSH Command</th>\n",
       "      <th id=\"T_53925_level0_col14\" class=\"col_heading level0 col14\" >Public SSH Key File</th>\n",
       "      <th id=\"T_53925_level0_col15\" class=\"col_heading level0 col15\" >Private SSH Key File</th>\n",
       "    </tr>\n",
       "  </thead>\n",
       "  <tbody>\n",
       "    <tr>\n",
       "      <td id=\"T_53925_row0_col0\" class=\"data row0 col0\" >fbe578b7-90d2-4f95-9c7a-65c7d1d3dc75</td>\n",
       "      <td id=\"T_53925_row0_col1\" class=\"data row0 col1\" >server1</td>\n",
       "      <td id=\"T_53925_row0_col2\" class=\"data row0 col2\" >4</td>\n",
       "      <td id=\"T_53925_row0_col3\" class=\"data row0 col3\" >8</td>\n",
       "      <td id=\"T_53925_row0_col4\" class=\"data row0 col4\" >100</td>\n",
       "      <td id=\"T_53925_row0_col5\" class=\"data row0 col5\" >default_ubuntu_20</td>\n",
       "      <td id=\"T_53925_row0_col6\" class=\"data row0 col6\" >qcow2</td>\n",
       "      <td id=\"T_53925_row0_col7\" class=\"data row0 col7\" >newy-w2.fabric-testbed.net</td>\n",
       "      <td id=\"T_53925_row0_col8\" class=\"data row0 col8\" >NEWY</td>\n",
       "      <td id=\"T_53925_row0_col9\" class=\"data row0 col9\" >ubuntu</td>\n",
       "      <td id=\"T_53925_row0_col10\" class=\"data row0 col10\" >2001:400:a100:3040:f816:3eff:fe9e:4178</td>\n",
       "      <td id=\"T_53925_row0_col11\" class=\"data row0 col11\" >Active</td>\n",
       "      <td id=\"T_53925_row0_col12\" class=\"data row0 col12\" ></td>\n",
       "      <td id=\"T_53925_row0_col13\" class=\"data row0 col13\" >ssh -i /home/fabric/work/fabric_config/slice_key -F /home/fabric/work/fabric_config/ssh_config ubuntu@2001:400:a100:3040:f816:3eff:fe9e:4178</td>\n",
       "      <td id=\"T_53925_row0_col14\" class=\"data row0 col14\" >/home/fabric/work/fabric_config/slice_key.pub</td>\n",
       "      <td id=\"T_53925_row0_col15\" class=\"data row0 col15\" >/home/fabric/work/fabric_config/slice_key</td>\n",
       "    </tr>\n",
       "  </tbody>\n",
       "</table>\n"
      ],
      "text/plain": [
       "<pandas.io.formats.style.Styler at 0x7bfae0e83490>"
      ]
     },
     "metadata": {},
     "output_type": "display_data"
    }
   ],
   "source": [
    "slice.submit();"
   ]
  },
  {
   "cell_type": "markdown",
   "id": "05bfa5ff-9374-4823-9ea0-09f045a91684",
   "metadata": {},
   "source": [
    "# Step 4: Installing the required packages\n",
    "In this step, we will install the required packages to run the lab. Specifically, we will install the DPDK library, the P4 compiler (p4c), and all needed dependencies."
   ]
  },
  {
   "cell_type": "markdown",
   "id": "72c40316-489b-428d-82de-eb92e87c87dc",
   "metadata": {},
   "source": [
    "### Step 4.1 Getting the server node\n",
    "The command below gets the fablib node that server1 is associated with."
   ]
  },
  {
   "cell_type": "code",
   "execution_count": 6,
   "id": "61333554-ef05-480e-bee6-c2a035213b0c",
   "metadata": {},
   "outputs": [],
   "source": [
    "server1 = slice.get_node(name=\"server1\")"
   ]
  },
  {
   "cell_type": "markdown",
   "id": "1ab6f042-3232-4245-9a5b-9e163b1bb8f4",
   "metadata": {},
   "source": [
    "### Step 4.2 NAT64 setup\n",
    "The code below checks if an IPv6 address is available to set up NAT64. We will upload the script [scripts/nat64.sh](./scripts/nat64.sh) to the all servers and execute it"
   ]
  },
  {
   "cell_type": "code",
   "execution_count": 7,
   "id": "00430e7b-472e-4d5b-a81d-03dfaaec14ae",
   "metadata": {},
   "outputs": [],
   "source": [
    "from ipaddress import ip_address, IPv6Address\n",
    "\n",
    "if type(ip_address(server1.get_management_ip())) is IPv6Address:\n",
    "    server1.upload_file('scripts/nat64.sh', 'nat64.sh')\n",
    "    stdout, stderr = server1.execute(f'chmod +x nat64.sh && ./nat64.sh', quiet=True)"
   ]
  },
  {
   "cell_type": "markdown",
   "id": "6c187536-f87c-47ae-9ced-9cf234f70c45",
   "metadata": {},
   "source": [
    "### Step 4.3 Installing dependencies\n",
    "The code below installs packages that are prerequisites to the upcoming installations and needed to run the lab experiments"
   ]
  },
  {
   "cell_type": "code",
   "execution_count": 8,
   "id": "c8d516e3-323e-44c7-bec8-45a2d48a0936",
   "metadata": {},
   "outputs": [],
   "source": [
    "stdout, stderr = server1.execute(f'sudo apt-get update', quiet = True)\n",
    "stdout, stderr = server1.execute(f'sudo apt-get install -y build-essential python3-pip python3-pyelftools libnuma-dev pkg-config net-tools', quiet = True)\n",
    "stdout, stderr = server1.execute(f'sudo pip3 install meson ninja', quiet = True)"
   ]
  },
  {
   "cell_type": "markdown",
   "id": "ea007d60-a00c-4c48-aab9-a9dc3ef16931",
   "metadata": {
    "tags": []
   },
   "source": [
    "### Step 4.4 Installing DPDK\n",
    "The code below downloads, builds, and installs DPDK on all servers. In this lab, we are building a modified version of DPDK in which we enabled logs in the terminal to have a better understanding of the behavior of the built pipeline. Note that printing out logs on the terminal degrades performance. Therefore, with applications where high performance is needed, logging should be disabled.  "
   ]
  },
  {
   "cell_type": "code",
   "execution_count": 9,
   "id": "66a161e7-65b6-403f-8e3e-8a8d1fe19a7f",
   "metadata": {},
   "outputs": [],
   "source": [
    "stdout, stderr = server1.execute(f'git clone http://dpdk.org/git/dpdk', quiet = True)\n",
    "stdout, stderr = server1.execute(f'cd dpdk/lib/pipeline/ &&  sudo rm rte_swx_pipeline.c && sudo rm rte_swx_pipeline_internal.h', quiet = True)\n",
    "server1.upload_file('scripts/rte_swx_pipeline.c','/home/ubuntu/dpdk/lib/pipeline/rte_swx_pipeline.c')\n",
    "server1.upload_file('scripts/rte_swx_pipeline_internal.h','/home/ubuntu/dpdk/lib/pipeline/rte_swx_pipeline_internal.h')\n",
    "stdout, stderr = server1.execute(f'cd dpdk &&  sudo meson build && cd build && sudo ninja && sudo ninja install && sudo ldconfig', quiet = True)\n",
    "stdout, stderr = server1.execute(f'cd dpdk/examples/pipeline && sudo make', quiet=True)"
   ]
  },
  {
   "cell_type": "markdown",
   "id": "e3663be2-ae7e-4352-9659-4ac52b2b32b5",
   "metadata": {
    "tags": []
   },
   "source": [
    "### Step 4.5 Install p4c\n",
    "The code below downloads and installs the p4c compiler needed to compile the p4 code into a DPDK pipeline"
   ]
  },
  {
   "cell_type": "code",
   "execution_count": 10,
   "id": "cf0857a2-7ec6-4ed3-92c4-6eed2e697d0b",
   "metadata": {},
   "outputs": [],
   "source": [
    "stdout, stderr = server1.execute('git clone https://github.com/CILab-USC/p4c.git', quiet = True)\n",
    "stdout, stderr = server1.execute('sudo apt-get install -y cmake g++ git automake libtool libgc-dev bison flex libfl-dev libboost-dev libboost-iostreams-dev libboost-graph-dev llvm pkg-config python3 python3-pip tcpdump', quiet = True)\n",
    "stdout, stderr = server1.execute('cd p4c && pip3 install --user -r requirements.txt && mkdir build && cd build && cmake .. && make -j4  && sudo make install', quiet = True)"
   ]
  },
  {
   "cell_type": "markdown",
   "id": "605f69d0-28f7-4c03-be6f-c51d0515f872",
   "metadata": {},
   "source": [
    "# Step 5: Writing and compiling the P4 code\n",
    "This section shows the steps required to write the P4 code. It discusses the individual coding blocks that form the PNA architecture."
   ]
  },
  {
   "cell_type": "markdown",
   "id": "47325930-ee8e-4ab4-8ab5-9bf176275210",
   "metadata": {},
   "source": [
    "## Step 5.1: Describing the components of the P4 program"
   ]
  },
  {
   "cell_type": "markdown",
   "id": "5945e1b0-80a2-4784-97d7-c2661805c21f",
   "metadata": {
    "jp-MarkdownHeadingCollapsed": true
   },
   "source": [
    "### Step 5.1.1: Inspecting P4 code\n",
    "Click on [main.p4](./labs_files/lab2/main.p4) to open the file in the editor.\n",
    "\n",
    "<img src=\"./labs_files/lab2/figs/5_01_01.png\" width=\"700px\"><br>\n",
    "\n",
    "The main.p4 file includes the starting point of the P4 program and other files that are specific to the language ```core.p4``` and to the architecture ```pna.p4```. To make the P4 program easier to read and understand, we separated the whole program into different files that correspond to the components of the PNA model. To use those files, the main file ```main.p4``` must include them first. For example, to use the parser, we need to include the parser.p4 file ```#include “parser.p4”```.\n",
    "\n",
    "We will navigate through the files in sequence as they appear in the architecture.\n"
   ]
  },
  {
   "cell_type": "markdown",
   "id": "d7a4a195-b5d0-4977-b888-d699f25dd2a7",
   "metadata": {
    "jp-MarkdownHeadingCollapsed": true
   },
   "source": [
    "### Step 5.1.2: Inspecting headers.p4\n",
    "Click on [headers.p4](./labs_files/lab2/headers.p4) to open the file in the editor.\n",
    "\n",
    "<img src=\"./labs_files/lab2/figs/5_01_02.png\" width=\"700\"><br>\n",
    "\n",
    "The headers.p4 above shows the headers that will be used in our pipeline. We can see that the ethernet header is defined. We can also see how it is inserted in a structure ```struct headers```. The ```headers``` name will be used throughout the program when referring to the headers. Furthermore, the file shows how we can use ```typedef``` to provide an alternative name to a type.\n"
   ]
  },
  {
   "cell_type": "markdown",
   "id": "726aea73-1976-40ff-876c-7d6d99454fba",
   "metadata": {
    "jp-MarkdownHeadingCollapsed": true
   },
   "source": [
    "### Step 5.1.3: Inspecting parser.p4\n",
    "Click on [parser.p4](./labs_files/lab2/parser.p4) to open the file in the editor.\n",
    "\n",
    "<img src=\"./labs_files/lab2/figs/5_01_03.png\" width=\"700px\"><br>\n",
    "\n",
    "The figure above shows the content of the parser.p4 file. We can see that the parser is already written with the name ```MyParser```. This name will be used when defining the pipeline sequence.\n"
   ]
  },
  {
   "cell_type": "markdown",
   "id": "fe2ca73e-0ad7-4166-afe4-7c1415b144d3",
   "metadata": {
    "jp-MarkdownHeadingCollapsed": true
   },
   "source": [
    "### Step 5.1.4: Inspecting precontrol.p4\n",
    "Click on [precontrol.p4](./labs_files/lab2/precontrol.p4) to open the file in the editor.\n",
    "\n",
    "<img src=\"./labs_files/lab2/figs/5_01_04.png\" width=\"700px\"><br>\n",
    "\n",
    "The figure above shows the content of the precontrol.p4 file. We can see that the parser is already written with the name ```PreControl```. This name will be used when defining the pipeline sequence. \n"
   ]
  },
  {
   "cell_type": "markdown",
   "id": "16f0b172-29b8-4101-8dfd-e9d8e398ffda",
   "metadata": {
    "jp-MarkdownHeadingCollapsed": true
   },
   "source": [
    "### Step 5.1.5: Inspecting control.p4\n",
    "Click on [control.p4](./labs_files/lab2/control.p4) to open the file in the editor.\n",
    "\n",
    "<img src=\"./labs_files/lab2/figs/5_01_05.png\" width=\"700px\"><br>\n",
    "\n",
    "The figure above shows the content of the control.p4 file. We can see that the code is already written with the name ```MainControl```. This name will be used when defining the pipeline sequence. "
   ]
  },
  {
   "cell_type": "markdown",
   "id": "1d5cd02a-4d52-47bf-9da9-6c9afecbca7d",
   "metadata": {
    "jp-MarkdownHeadingCollapsed": true
   },
   "source": [
    "### Step 5.1.6: Inspecting deparser.p4\n",
    "Click on [deparser.p4](./labs_files/lab2/deparser.p4) to open the file in the editor.\n",
    "\n",
    "<img src=\"./labs_files/lab2/figs/5_01_06.png\" width=\"700px\"><br>\n",
    "\n",
    "The figure above shows the content of the deparser.p4 file. We can see that the code is already written with the name ```MyDeparser```. We can see that the deparser is already written with one instruction that reassembles the packet."
   ]
  },
  {
   "cell_type": "markdown",
   "id": "2c9b2dd5-ab09-43fb-a65b-223f07b9d4d9",
   "metadata": {},
   "source": [
    "## Step 5.2: Programming the pipeline sequence\n",
    "Now it is time to write the pipeline sequence in the main.p4 program. "
   ]
  },
  {
   "cell_type": "markdown",
   "id": "079dc021-873c-4cb0-b307-a2c4a05dcbcb",
   "metadata": {
    "jp-MarkdownHeadingCollapsed": true
   },
   "source": [
    "Click on [main.p4](./labs_files/lab2/main.p4) to open the CLI file in the editor.\n",
    "\n",
    "Write the following block of code at the end of the file:\n",
    "\n",
    "    PNA_NIC(\n",
    "    MyParser(),\n",
    "    PreControl(),\n",
    "    MainControl(),\n",
    "    MyDeparser()\n",
    "    ) main;\n",
    "\n",
    "<img src=\"./labs_files/lab2/figs/5_02.png\" width=\"700px\"><br>\n",
    "\n",
    "We can see here that we are defining the pipeline sequence according to the PNA architecture. First, we start with the parser and the pre-control. Afterwards, the main control block is included. Finally, we specify the deparser.\n",
    "\n",
    "<hr>\n",
    "\n",
    "Save the changes by pressing ```Ctrl+s```."
   ]
  },
  {
   "cell_type": "markdown",
   "id": "1be69c05-19ee-4e09-b68d-b450bfad0fc1",
   "metadata": {},
   "source": [
    "## Step 5.3: Compiling the P4 code\n",
    "To upload all needed P4 codes and compile main.p4, issue the following command."
   ]
  },
  {
   "cell_type": "code",
   "execution_count": 30,
   "id": "c4a28c3a-9a46-4e3c-88da-015cbecdf9d9",
   "metadata": {},
   "outputs": [
    {
     "name": "stdout",
     "output_type": "stream",
     "text": [
      "\u001b[31m sudo: unable to resolve host server1: Name or service not known\n",
      " \u001b[0mcontrol.p4\n",
      "deparser.p4\n",
      "dpdk\n",
      "ethdev.io\n",
      "headers.p4\n",
      "host_tune.sh\n",
      "lab2.cli\n",
      "lab2.spec\n",
      "main.p4\n",
      "nat64.sh\n",
      "p4c\n",
      "parser.p4\n",
      "precontrol.p4\n",
      "run_pipeline.sh\n",
      "set_topology.sh\n",
      "setup.sh\n"
     ]
    }
   ],
   "source": [
    "server1.upload_file('labs_files/lab2/headers.p4','headers.p4')\n",
    "server1.upload_file('labs_files/lab2/parser.p4','parser.p4')\n",
    "server1.upload_file('labs_files/lab2/precontrol.p4','precontrol.p4')\n",
    "server1.upload_file('labs_files/lab2/control.p4','control.p4')\n",
    "server1.upload_file('labs_files/lab2/deparser.p4','deparser.p4')\n",
    "server1.upload_file('labs_files/lab2/main.p4','main.p4')\n",
    "stdout, stderr = server1.execute(f'sudo p4c-dpdk --arch=pna main.p4 -o lab2.spec')\n",
    "stdout, stderr = server1.execute(f'ls')"
   ]
  },
  {
   "cell_type": "markdown",
   "id": "99d9703e-31df-4bc7-84e7-55282f5b23af",
   "metadata": {},
   "source": [
    "The command above invokes the ```p4c-dpdk``` compiler to compile the ```main.p4``` program and generates the ```lab2.spec``` file which is a specification file needed to run the pipeline."
   ]
  },
  {
   "cell_type": "markdown",
   "id": "1ab728d9-c42b-40d3-8384-42d85a6dad09",
   "metadata": {},
   "source": [
    "# Step 6: Running the P4-DPDK pipeline and the lab topology\n",
    "This section shows the steps required to run the P4-DPDK along with building the lab topology. In this lab, the procedure is automated."
   ]
  },
  {
   "cell_type": "markdown",
   "id": "51dff360-7ab3-4b31-a3c7-ddb4ad6c1d75",
   "metadata": {},
   "source": [
    "## Step 6.1: Uploading required scripts\n",
    "The code below uploads to server1 the CLI and I/O scripts, along with other scripts needed to automate the process of running the pipeline and building the topology."
   ]
  },
  {
   "cell_type": "code",
   "execution_count": 31,
   "id": "669fc8a7-d84d-4bf1-b22a-fc6ba823f7d7",
   "metadata": {},
   "outputs": [],
   "source": [
    "server1.upload_file('labs_files/lab2/lab2.cli','lab2.cli')\n",
    "server1.upload_file('labs_files/lab2/ethdev.io','ethdev.io')\n",
    "server1.upload_file('labs_files/lab2/run_pipeline.sh','run_pipeline.sh')\n",
    "server1.upload_file('labs_files/lab2/set_topology.sh','set_topology.sh')\n",
    "stdout, stderr = server1.execute(f'chmod +x run_pipeline.sh')\n",
    "stdout, stderr = server1.execute(f'chmod +x set_topology.sh')"
   ]
  },
  {
   "cell_type": "markdown",
   "id": "4886aad9-21e8-420e-9657-306ab541b8e5",
   "metadata": {},
   "source": [
    "## Step 6.2: Opening a terminal\n",
    "Launch a new terminal by opening a new tab and then select \"terminal\".\n",
    "\n",
    "<img src=\"./labs_files/lab2/figs/6_02_terminal.gif\" width=\"1000px\"><br>\n",
    "\n",
    "Copy the output of the command below and paste it into the terminal to enter server1."
   ]
  },
  {
   "cell_type": "code",
   "execution_count": 16,
   "id": "6b96a8c8-e602-405c-bef5-6cd04c4a87d3",
   "metadata": {},
   "outputs": [
    {
     "data": {
      "text/plain": [
       "'ssh -i /home/fabric/work/fabric_config/slice_key -F /home/fabric/work/fabric_config/ssh_config ubuntu@2001:400:a100:3040:f816:3eff:fe9e:4178'"
      ]
     },
     "execution_count": 16,
     "metadata": {},
     "output_type": "execute_result"
    }
   ],
   "source": [
    "server1.get_ssh_command()"
   ]
  },
  {
   "cell_type": "markdown",
   "id": "40f25aaf-85b0-485e-84da-291944f01802",
   "metadata": {},
   "source": [
    "## Step 6.3: Running the P4-DPDK pipeline\n",
    "Build and run the pipeline by typing the following command:\n",
    "\n",
    "    sudo ./run_pipeline.sh\n",
    "    \n",
    "<img src=\"./labs_files/lab2/figs/6_03.png\" width=\"650px\"><br>\n",
    "\n",
    "The ```run_pipeline.sh``` script is a shell script that automates the process of running the P4-DPDK pipeline. "
   ]
  },
  {
   "cell_type": "markdown",
   "id": "4dfe858d-6e62-4e6e-b805-071956d36eb8",
   "metadata": {},
   "source": [
    "## Step 6.4: Building the lab topology\n",
    "The code below uploads to server1 the CLI and I/O scripts, along with other scripts needed to automate the process of running the pipeline and building the topology."
   ]
  },
  {
   "cell_type": "code",
   "execution_count": 27,
   "id": "060593e8-d2c3-4c59-95c2-8a61fc1c8f13",
   "metadata": {},
   "outputs": [
    {
     "name": "stdout",
     "output_type": "stream",
     "text": [
      "\u001b[31m sudo: unable to resolve host server1: Name or service not known\n",
      "Cannot create namespace file \"/run/netns/h1\": File exists\n",
      "Cannot create namespace file \"/run/netns/h2\": File exists\n",
      " \u001b[0m"
     ]
    }
   ],
   "source": [
    "stdout, stderr = server1.execute(f'sudo ./set_topology.sh')"
   ]
  },
  {
   "cell_type": "markdown",
   "id": "2dbcb5dc-bb89-42c6-87d7-da57daed2dd6",
   "metadata": {
    "tags": []
   },
   "source": [
    "The set_topology.sh script is a shell script that automates the process of building the lab topology. Two namespaces are built and configured in this step with a virtual device linked to each as shown in the figure below.\n",
    "\n",
    "<img src=\"./labs_files/lab1/figs/6_04_ip.png\" width=\"550px\"><br>"
   ]
  },
  {
   "cell_type": "markdown",
   "id": "0321f656-057b-4cce-85a9-12a538279c0c",
   "metadata": {},
   "source": [
    "# Step 7: Testing connectivity"
   ]
  },
  {
   "cell_type": "markdown",
   "id": "09889acd-e1ba-4f99-bebb-cdcd0ff2f719",
   "metadata": {
    "tags": []
   },
   "source": [
    "### Step 7.1: Sending packets from h1 to h2\n",
    "Test the connectivity between namespaces h1 and h2 using the ping command."
   ]
  },
  {
   "cell_type": "code",
   "execution_count": 23,
   "id": "a4682dca-966b-4a5a-a204-68e34989b9c0",
   "metadata": {},
   "outputs": [
    {
     "name": "stdout",
     "output_type": "stream",
     "text": [
      "PING 192.168.10.2 (192.168.10.2) 56(84) bytes of data.\n",
      "64 bytes from 192.168.10.2: icmp_seq=1 ttl=64 time=1.30 ms\n",
      "\u001b[31m sudo: unable to resolve host server1: Name or service not known\n",
      " \u001b[0m64 bytes from 192.168.10.2: icmp_seq=2 ttl=64 time=0.146 ms\n",
      "64 bytes from 192.168.10.2: icmp_seq=3 ttl=64 time=0.152 ms\n",
      "64 bytes from 192.168.10.2: icmp_seq=4 ttl=64 time=0.147 ms\n",
      "\n",
      "--- 192.168.10.2 ping statistics ---\n",
      "4 packets transmitted, 4 received, 0% packet loss, time 3056ms\n",
      "rtt min/avg/max/mdev = 0.146/0.435/1.298/0.497 ms\n"
     ]
    }
   ],
   "source": [
    "stdout, stderr = server1.execute(f'sudo ip netns exec h1 ping 192.168.10.2 -c 4')"
   ]
  },
  {
   "cell_type": "markdown",
   "id": "2f2f7b1b-0ca8-4bd7-a0ce-5ddb960d257d",
   "metadata": {
    "tags": []
   },
   "source": [
    "### Step 7.2: Stopping the DPDK pipeline\n",
    "Stop the DPDK pipeline by pressing ```ctrl+c``` in the terminal running the pipeline.\n",
    "\n",
    "<img src=\"./labs_files/lab2/figs/7_02.png\" width=\"700px\"><br>\n",
    "\n",
    "Note that the logs in the terminal correspond to the code executed for packet processing. "
   ]
  },
  {
   "cell_type": "markdown",
   "id": "49e6dd26-c20c-4c25-96c2-1b2f1aaaeca9",
   "metadata": {
    "tags": []
   },
   "source": [
    "# Step 8: Delete the slice\n",
    "\n",
    "This concludes Lab 2. Please delete your slice when you are done with your experiment."
   ]
  },
  {
   "cell_type": "code",
   "execution_count": null,
   "id": "1f27f3fc-004f-46c2-984c-8c2a90883eb6",
   "metadata": {
    "tags": []
   },
   "outputs": [],
   "source": [
    "from fabrictestbed_extensions.fablib.fablib import FablibManager as fablib_manager\n",
    "fablib = fablib_manager()\n",
    "slice = fablib.get_slice(name=\"P4DPDK_lab2_vnic\")\n",
    "slice.delete()"
   ]
  },
  {
   "cell_type": "markdown",
   "id": "e92e3d97-a261-4c00-984c-2750cbd45064",
   "metadata": {
    "tags": []
   },
   "source": [
    "# References\n",
    "\n",
    "1.\tS. Ibanez, “The p4-> netfpga workflow for line-rate packet processing”, Proceedings of the 2019 ACM/SIGDA International Symposium on Field-Programmable Gate Arrays, 2019.\n",
    "2.\tThe P4 Language Consortium, “P4 Portable NIC Architecture (PNA)”, Version 0.5, 2021. [Online]. Available: https://p4.org/p4-spec/docs/PNA.html\n",
    "3.\tP4lang, “pna”, [Online]. Available: https://github.com/p4lang/pna/tree/main?tab=readme-ov-file"
   ]
  }
 ],
 "metadata": {
  "kernelspec": {
   "display_name": "Python 3 (ipykernel)",
   "language": "python",
   "name": "python3"
  },
  "language_info": {
   "codemirror_mode": {
    "name": "ipython",
    "version": 3
   },
   "file_extension": ".py",
   "mimetype": "text/x-python",
   "name": "python",
   "nbconvert_exporter": "python",
   "pygments_lexer": "ipython3",
   "version": "3.11.8"
  }
 },
 "nbformat": 4,
 "nbformat_minor": 5
}
