{
 "cells": [
  {
   "cell_type": "markdown",
   "id": "2a519f73-cdd2-4b28-a231-a2064f5e2191",
   "metadata": {
    "jp-MarkdownHeadingCollapsed": true,
    "tags": []
   },
   "source": [
    "# Lab 6 - Populating and Managing Match-action Tables at Runtime\n",
    "\n",
    "<div style=\"text-align: justify;\">\n",
    "This lab will walk you through creating an experiment that contains a P4-DPDK programmable pipeline. It also describes how to populate and manage match-action tables at runtime. It then explains a tool (DPDK pipeline CLI) that is used to execute DPDK commands at runtime.\n",
    "<figure style=\"text-align: center;\">\n",
    "<img src=\"./labs_files/lab6/figs/0_00_fabric_topology.png\" width=\"700px\"><br>"
   ]
  },
  {
   "cell_type": "markdown",
   "id": "281e30c2-6ea9-45f7-b196-fb09b2a59d45",
   "metadata": {
    "tags": []
   },
   "source": [
    "# Introduction"
   ]
  },
  {
   "attachments": {},
   "cell_type": "markdown",
   "id": "fcfd4a68-bcba-4238-96cd-c6c6b0638852",
   "metadata": {
    "tags": []
   },
   "source": [
    "## Runtime\n",
    "<div style=\"text-align: justify;\">\n",
    "Once a P4 program is compiled into a target-specific configuration, the output is loaded into the data plane of the device. Then, the behavior of the P4 target can be managed at runtime by the control plane via data plane Application Programming Interface (APIs). Runtime operations include inserting, updating, and deleting entries in P4 tables as well as controlling other entities of the program also called externs such as registers, counters, meters, etc. </div> <br>\n",
    "<div style=\"text-align: justify;\">\n",
    "Runtime APIs can be divided into program-dependent and program-independent APIs. Program-dependent APIs comprise functions whose names are derived from the P4 program itself. Thus, any changes to the P4 program would modify the names and the definitions of the APIs’ functions. Program-independent APIs comprise a set of fixed functions that are independent of the P4 program. Therefore, changes in the P4 programs do not affect those APIs. </div> <br>\n",
    "<div style=\"text-align: justify;\">\n",
    "The control plane that manages the data plane tables and externs can be remote or local on the device. Remote control planes invoke API calls through Remote Procedure Calls (RPCs) while relying on asynchronous message frameworks such as Thrift [<a href=\"#References\">1</a>] and gRPC [<a href=\"#References\">2</a>]. Such frameworks use protocol buffers (protobuf) [<a href=\"#References\">3</a>] to define service API and message, and HTTP/2.0 and TLS for transport. On the other hand, a local control plane runs on the Central Processing Unit (CPU) of the device and invokes API calls locally. It is implemented by the driver of the device. </div> <br>\n",
    "\n",
    "Pipelines are created and managed through Command Line Interface (CLI) [<a href=\"#References\">4</a>]. Figure 1 shows the runtime environment used in this lab series to control the P4 target (P4-DPDK pipeline). The control plane uses the ```DPDK pipeline CLI``` tool to interact with the data plane. The ```DPDK pipeline CLI``` includes a program-independent CLI and a TCP Client (telnet) which connects to the program-independent control server residing on the DPDK pipeline. All the application objects are created and managed through CLI commands. The CLI can also be used to update the pipeline tables or poll the pipeline statistics [<a href=\"#References\">5</a>].\n",
    "\n",
    "<figure style=\"text-align: center;\">\n",
    "  <img src=\"./labs_files/lab6/figs/intro_01.png\" width=\"300\" style=\"display: block; margin: 0 auto;\">\n",
    "  <figcaption>Figure 1. Runtime management of a P4 target (DPDK).</figcaption>\n",
    "</figure>"
   ]
  },
  {
   "cell_type": "markdown",
   "id": "e02b5308-1775-4cfe-9f4f-eb336a851337",
   "metadata": {
    "tags": []
   },
   "source": [
    "# Step 1:  Configuring the environment\n",
    "\n",
    "Before running this notebook, you will need to configure your environment using the [Configure Environment](../../../configure_and_validate.ipynb) notebook. Please stop here, open and run that notebook, then return to this notebook.\n",
    "\n",
    "If you are using the FABRIC JupyterHub many of the environment variables will be automatically configured for you.  You will still need to set your bastion username, upload your bastion private key, and set the path to where you put your bastion private key. Your bastion username and private key should already be in your possession.  \n",
    "\n",
    "If you are using the FABRIC API outside of the JupyterHub you will need to configure all of the environment variables. Defaults below will be correct in many situations but you will need to confirm your configuration.  If you have questions about this configuration, please contact the FABRIC admins using the [FABRIC User Forum](https://learn.fabric-testbed.net/forums/) \n",
    "\n",
    "More information about accessing your experiments through the FABRIC bastion hosts can be found [here](https://learn.fabric-testbed.net/knowledge-base/logging-into-fabric-vms/)."
   ]
  },
  {
   "cell_type": "markdown",
   "id": "2b571c06-bfd5-464a-acf4-d28845c8e840",
   "metadata": {
    "tags": []
   },
   "source": [
    "# Step 2: Importing the FABlib library"
   ]
  },
  {
   "cell_type": "code",
   "execution_count": 1,
   "id": "2e9c3ea6-f0b5-4e34-9a4c-82785ff386c4",
   "metadata": {},
   "outputs": [],
   "source": [
    "from fabrictestbed_extensions.fablib.fablib import FablibManager as fablib_manager\n",
    "fablib = fablib_manager()"
   ]
  },
  {
   "cell_type": "markdown",
   "id": "c2913e89-4188-4ebf-a24c-01cedd16540b",
   "metadata": {
    "tags": []
   },
   "source": [
    "# Step 3: Creating the experiment slice\n",
    "\n",
    "The following creates a node with basic compute and networking capabilities. You build a slice by creating a new slice and adding resources to the slice. After you build the slice, you must submit a request for the slice to be instantiated.   "
   ]
  },
  {
   "cell_type": "markdown",
   "id": "161198e4-00b0-4994-9de8-28e8bfb16cc8",
   "metadata": {
    "tags": []
   },
   "source": [
    "### Step 3.1: Creating a slice\n",
    "The code below creates a new slice with the name \"P4DPDK_lab6_vnic\""
   ]
  },
  {
   "cell_type": "code",
   "execution_count": 2,
   "id": "9c97d810-ac6a-4c04-892d-f0ddbe69954b",
   "metadata": {
    "tags": []
   },
   "outputs": [],
   "source": [
    "slice = fablib.new_slice(name=\"P4DPDK_lab6_vnic\")"
   ]
  },
  {
   "cell_type": "markdown",
   "id": "a0f228eb-d12b-4644-bbc4-df2e34bbdce8",
   "metadata": {
    "tags": []
   },
   "source": [
    "### Step 3.2: Defining the sites\n",
    "The code below requests a random site from FABRIC based on the condition that the following resources are available:\n",
    "\n",
    "<ul>\n",
    "    <li> 4 CPU cores</li>\n",
    "    <li> 8GB RAM </li>\n",
    "    <li> 20GB disc size\n",
    "</ul>"
   ]
  },
  {
   "cell_type": "code",
   "execution_count": 3,
   "id": "f28e0cf1-241d-4257-afbf-6aa44989d995",
   "metadata": {
    "tags": []
   },
   "outputs": [
    {
     "name": "stdout",
     "output_type": "stream",
     "text": [
      "The selected site is TOKY\n"
     ]
    }
   ],
   "source": [
    "site1= fablib.get_random_sites(count=1, filter_function=lambda x: x['cores_available'] > 4 and x['ram_available'] > 8 and x['disk_available'] > 20)[0]\n",
    "\n",
    "print (f'The selected site is {site1}')"
   ]
  },
  {
   "cell_type": "markdown",
   "id": "0f71fead-a091-4af0-95ec-bb264c016c43",
   "metadata": {
    "tags": []
   },
   "source": [
    "### Step 3.3: Creating the nodes\n",
    "The code below creates one node (server1) which uses the following:\n",
    "<ul>\n",
    "    <li> 4 CPU cores</li>\n",
    "    <li> 8GB RAM </li>\n",
    "    <li> 20GB disc size </li>\n",
    "    <li> Image: Ubuntu 20.04\n",
    "</ul>\n",
    "\n",
    "server1 will be created in site1"
   ]
  },
  {
   "cell_type": "code",
   "execution_count": 4,
   "id": "7713728b-2740-4e72-b5dd-7d3963012536",
   "metadata": {
    "tags": []
   },
   "outputs": [],
   "source": [
    "server1 = slice.add_node(name=\"server1\", \n",
    "                      site=site1, \n",
    "                      cores=4, \n",
    "                      ram=8, \n",
    "                      disk=20, \n",
    "                      image='default_ubuntu_20')"
   ]
  },
  {
   "cell_type": "markdown",
   "id": "53ab345c-d68e-440d-9fda-03d67472f1ca",
   "metadata": {},
   "source": [
    "### Step 3.4: Submitting the slice\n",
    "The code below submits the slice. \n",
    "By default, the submit function will block until the node is ready and will display the progress of your slice being built."
   ]
  },
  {
   "cell_type": "code",
   "execution_count": 5,
   "id": "e706c53c-7a38-4615-a86e-e8944197921f",
   "metadata": {},
   "outputs": [
    {
     "name": "stdout",
     "output_type": "stream",
     "text": [
      "\n",
      "Retry: 16, Time: 406 sec\n"
     ]
    },
    {
     "data": {
      "text/html": [
       "<style type=\"text/css\">\n",
       "#T_2f8ce tr:nth-child(even) {\n",
       "  background: #dbf3ff;\n",
       "  color: #231f20;\n",
       "}\n",
       "#T_2f8ce tr:nth-child(odd) {\n",
       "  background: #ffffff;\n",
       "  color: #231f20;\n",
       "}\n",
       "#T_2f8ce caption {\n",
       "  text-align: center;\n",
       "  font-size: 150%;\n",
       "}\n",
       "#T_2f8ce_row0_col0, #T_2f8ce_row0_col1, #T_2f8ce_row1_col0, #T_2f8ce_row1_col1, #T_2f8ce_row2_col0, #T_2f8ce_row2_col1, #T_2f8ce_row3_col0, #T_2f8ce_row3_col1, #T_2f8ce_row4_col0, #T_2f8ce_row4_col1, #T_2f8ce_row5_col0 {\n",
       "  text-align: left;\n",
       "  border: 1px #231f20 solid !important;\n",
       "  overwrite: False;\n",
       "  background-color: ;\n",
       "}\n",
       "#T_2f8ce_row5_col1 {\n",
       "  text-align: left;\n",
       "  border: 1px #231f20 solid !important;\n",
       "  overwrite: False;\n",
       "  background-color: #c3ffc4;\n",
       "}\n",
       "</style>\n",
       "<table id=\"T_2f8ce\">\n",
       "  <caption>Slice</caption>\n",
       "  <thead>\n",
       "  </thead>\n",
       "  <tbody>\n",
       "    <tr>\n",
       "      <td id=\"T_2f8ce_row0_col0\" class=\"data row0 col0\" >ID</td>\n",
       "      <td id=\"T_2f8ce_row0_col1\" class=\"data row0 col1\" >74535569-1007-4ddf-aade-7ee08b408afd</td>\n",
       "    </tr>\n",
       "    <tr>\n",
       "      <td id=\"T_2f8ce_row1_col0\" class=\"data row1 col0\" >Name</td>\n",
       "      <td id=\"T_2f8ce_row1_col1\" class=\"data row1 col1\" >P4DPDK_lab6_vnic</td>\n",
       "    </tr>\n",
       "    <tr>\n",
       "      <td id=\"T_2f8ce_row2_col0\" class=\"data row2 col0\" >Lease Expiration (UTC)</td>\n",
       "      <td id=\"T_2f8ce_row2_col1\" class=\"data row2 col1\" >2024-09-06 02:03:40 +0000</td>\n",
       "    </tr>\n",
       "    <tr>\n",
       "      <td id=\"T_2f8ce_row3_col0\" class=\"data row3 col0\" >Lease Start (UTC)</td>\n",
       "      <td id=\"T_2f8ce_row3_col1\" class=\"data row3 col1\" >2024-09-05 02:03:40 +0000</td>\n",
       "    </tr>\n",
       "    <tr>\n",
       "      <td id=\"T_2f8ce_row4_col0\" class=\"data row4 col0\" >Project ID</td>\n",
       "      <td id=\"T_2f8ce_row4_col1\" class=\"data row4 col1\" >8eaa3ec2-65e7-49a3-8c09-e1761141a6ad</td>\n",
       "    </tr>\n",
       "    <tr>\n",
       "      <td id=\"T_2f8ce_row5_col0\" class=\"data row5 col0\" >State</td>\n",
       "      <td id=\"T_2f8ce_row5_col1\" class=\"data row5 col1\" >StableOK</td>\n",
       "    </tr>\n",
       "  </tbody>\n",
       "</table>\n"
      ],
      "text/plain": [
       "<pandas.io.formats.style.Styler at 0x7caaf386b990>"
      ]
     },
     "metadata": {},
     "output_type": "display_data"
    },
    {
     "data": {
      "text/html": [
       "<style type=\"text/css\">\n",
       "#T_78484 caption {\n",
       "  text-align: center;\n",
       "  font-size: 150%;\n",
       "  caption-side: top;\n",
       "}\n",
       "#T_78484 th {\n",
       "  text-align: left;\n",
       "}\n",
       "#T_78484 tr:nth-child(even) {\n",
       "  background: #ffffff;\n",
       "  color: #231f20;\n",
       "}\n",
       "#T_78484 tr:nth-child(odd) {\n",
       "  background: #dbf3ff;\n",
       "  color: #231f20;\n",
       "}\n",
       "#T_78484 .level0 {\n",
       "  border: 1px black solid !important;\n",
       "  background: #ffffff;\n",
       "  color: #231f20;\n",
       "}\n",
       "#T_78484_row0_col0, #T_78484_row0_col1, #T_78484_row0_col2, #T_78484_row0_col3, #T_78484_row0_col4, #T_78484_row0_col5, #T_78484_row0_col6, #T_78484_row0_col7, #T_78484_row0_col8, #T_78484_row0_col9, #T_78484_row0_col10, #T_78484_row0_col13, #T_78484_row0_col14, #T_78484_row0_col15 {\n",
       "  text-align: left;\n",
       "  border: 1px #231f20 solid !important;\n",
       "  overwrite: False;\n",
       "}\n",
       "#T_78484_row0_col11 {\n",
       "  text-align: left;\n",
       "  border: 1px #231f20 solid !important;\n",
       "  overwrite: False;\n",
       "  background-color: #c3ffc4;\n",
       "}\n",
       "#T_78484_row0_col12 {\n",
       "  text-align: left;\n",
       "  border: 1px #231f20 solid !important;\n",
       "  overwrite: False;\n",
       "  background-color: ;\n",
       "}\n",
       "</style>\n",
       "<table id=\"T_78484\">\n",
       "  <caption>Nodes</caption>\n",
       "  <thead>\n",
       "    <tr>\n",
       "      <th id=\"T_78484_level0_col0\" class=\"col_heading level0 col0\" >ID</th>\n",
       "      <th id=\"T_78484_level0_col1\" class=\"col_heading level0 col1\" >Name</th>\n",
       "      <th id=\"T_78484_level0_col2\" class=\"col_heading level0 col2\" >Cores</th>\n",
       "      <th id=\"T_78484_level0_col3\" class=\"col_heading level0 col3\" >RAM</th>\n",
       "      <th id=\"T_78484_level0_col4\" class=\"col_heading level0 col4\" >Disk</th>\n",
       "      <th id=\"T_78484_level0_col5\" class=\"col_heading level0 col5\" >Image</th>\n",
       "      <th id=\"T_78484_level0_col6\" class=\"col_heading level0 col6\" >Image Type</th>\n",
       "      <th id=\"T_78484_level0_col7\" class=\"col_heading level0 col7\" >Host</th>\n",
       "      <th id=\"T_78484_level0_col8\" class=\"col_heading level0 col8\" >Site</th>\n",
       "      <th id=\"T_78484_level0_col9\" class=\"col_heading level0 col9\" >Username</th>\n",
       "      <th id=\"T_78484_level0_col10\" class=\"col_heading level0 col10\" >Management IP</th>\n",
       "      <th id=\"T_78484_level0_col11\" class=\"col_heading level0 col11\" >State</th>\n",
       "      <th id=\"T_78484_level0_col12\" class=\"col_heading level0 col12\" >Error</th>\n",
       "      <th id=\"T_78484_level0_col13\" class=\"col_heading level0 col13\" >SSH Command</th>\n",
       "      <th id=\"T_78484_level0_col14\" class=\"col_heading level0 col14\" >Public SSH Key File</th>\n",
       "      <th id=\"T_78484_level0_col15\" class=\"col_heading level0 col15\" >Private SSH Key File</th>\n",
       "    </tr>\n",
       "  </thead>\n",
       "  <tbody>\n",
       "    <tr>\n",
       "      <td id=\"T_78484_row0_col0\" class=\"data row0 col0\" >288b38d7-2c60-414c-8cc6-9a0a119be261</td>\n",
       "      <td id=\"T_78484_row0_col1\" class=\"data row0 col1\" >server1</td>\n",
       "      <td id=\"T_78484_row0_col2\" class=\"data row0 col2\" >4</td>\n",
       "      <td id=\"T_78484_row0_col3\" class=\"data row0 col3\" >8</td>\n",
       "      <td id=\"T_78484_row0_col4\" class=\"data row0 col4\" >100</td>\n",
       "      <td id=\"T_78484_row0_col5\" class=\"data row0 col5\" >default_ubuntu_20</td>\n",
       "      <td id=\"T_78484_row0_col6\" class=\"data row0 col6\" >qcow2</td>\n",
       "      <td id=\"T_78484_row0_col7\" class=\"data row0 col7\" >toky-w3.fabric-testbed.net</td>\n",
       "      <td id=\"T_78484_row0_col8\" class=\"data row0 col8\" >TOKY</td>\n",
       "      <td id=\"T_78484_row0_col9\" class=\"data row0 col9\" >ubuntu</td>\n",
       "      <td id=\"T_78484_row0_col10\" class=\"data row0 col10\" >133.69.160.106</td>\n",
       "      <td id=\"T_78484_row0_col11\" class=\"data row0 col11\" >Active</td>\n",
       "      <td id=\"T_78484_row0_col12\" class=\"data row0 col12\" ></td>\n",
       "      <td id=\"T_78484_row0_col13\" class=\"data row0 col13\" >ssh -i /home/fabric/work/fabric_config/slice_key -F /home/fabric/work/fabric_config/ssh_config ubuntu@133.69.160.106</td>\n",
       "      <td id=\"T_78484_row0_col14\" class=\"data row0 col14\" >/home/fabric/work/fabric_config/slice_key.pub</td>\n",
       "      <td id=\"T_78484_row0_col15\" class=\"data row0 col15\" >/home/fabric/work/fabric_config/slice_key</td>\n",
       "    </tr>\n",
       "  </tbody>\n",
       "</table>\n"
      ],
      "text/plain": [
       "<pandas.io.formats.style.Styler at 0x7caad87cd090>"
      ]
     },
     "metadata": {},
     "output_type": "display_data"
    }
   ],
   "source": [
    "slice.submit();"
   ]
  },
  {
   "cell_type": "markdown",
   "id": "05bfa5ff-9374-4823-9ea0-09f045a91684",
   "metadata": {},
   "source": [
    "# Step 4: Installing the required packages\n",
    "In this step, we will install the required packages to run the lab. Specifically, we will install the DPDK library, the P4 compiler (p4c), and all needed dependencies."
   ]
  },
  {
   "cell_type": "markdown",
   "id": "72c40316-489b-428d-82de-eb92e87c87dc",
   "metadata": {},
   "source": [
    "### Step 4.1 Getting the server node\n",
    "The command below gets the fablib node that server1 is associated with."
   ]
  },
  {
   "cell_type": "code",
   "execution_count": 6,
   "id": "61333554-ef05-480e-bee6-c2a035213b0c",
   "metadata": {},
   "outputs": [],
   "source": [
    "server1 = slice.get_node(name=\"server1\")"
   ]
  },
  {
   "cell_type": "markdown",
   "id": "1ab6f042-3232-4245-9a5b-9e163b1bb8f4",
   "metadata": {},
   "source": [
    "### Step 4.2 NAT64 setup\n",
    "The code below checks if an IPv6 address is available to set up NAT64. We will upload the script [scripts/nat64.sh](./scripts/nat64.sh) to the all servers and execute it"
   ]
  },
  {
   "cell_type": "code",
   "execution_count": 7,
   "id": "00430e7b-472e-4d5b-a81d-03dfaaec14ae",
   "metadata": {},
   "outputs": [],
   "source": [
    "from ipaddress import ip_address, IPv6Address\n",
    "\n",
    "if type(ip_address(server1.get_management_ip())) is IPv6Address:\n",
    "    server1.upload_file('scripts/nat64.sh', 'nat64.sh')\n",
    "    stdout, stderr = server1.execute(f'chmod +x nat64.sh && ./nat64.sh', quiet=True)"
   ]
  },
  {
   "cell_type": "markdown",
   "id": "6c187536-f87c-47ae-9ced-9cf234f70c45",
   "metadata": {},
   "source": [
    "### Step 4.3 Installing dependencies\n",
    "The code below installs packages that are prerequisites to the upcoming installations and needed to run the lab experiments"
   ]
  },
  {
   "cell_type": "code",
   "execution_count": 8,
   "id": "c8d516e3-323e-44c7-bec8-45a2d48a0936",
   "metadata": {},
   "outputs": [],
   "source": [
    "stdout, stderr = server1.execute(f'sudo apt-get update', quiet = True)\n",
    "stdout, stderr = server1.execute(f'sudo apt-get install -y build-essential python3-pip python3-pyelftools libnuma-dev pkg-config net-tools syslinux-utils', quiet = True)\n",
    "stdout, stderr = server1.execute(f'sudo pip3 install meson ninja scapy', quiet = True)"
   ]
  },
  {
   "cell_type": "markdown",
   "id": "ea007d60-a00c-4c48-aab9-a9dc3ef16931",
   "metadata": {
    "tags": []
   },
   "source": [
    "### Step 4.4 Installing DPDK\n",
    "The code below downloads, builds, and installs DPDK on all servers. In this lab, we are building a modified version of DPDK in which we enabled logs in the terminal to have a better understanding of the behavior of the built pipeline. Note that printing out logs on the terminal degrades performance. Therefore, with applications where high performance is needed, logging should be disabled.  "
   ]
  },
  {
   "cell_type": "code",
   "execution_count": 9,
   "id": "66a161e7-65b6-403f-8e3e-8a8d1fe19a7f",
   "metadata": {},
   "outputs": [],
   "source": [
    "stdout, stderr = server1.execute(f'git clone http://dpdk.org/git/dpdk', quiet = True)\n",
    "stdout, stderr = server1.execute(f'cd dpdk/lib/pipeline/ &&  sudo rm rte_swx_pipeline.c && sudo rm rte_swx_pipeline_internal.h', quiet = True)\n",
    "server1.upload_file('scripts/rte_swx_pipeline.c','/home/ubuntu/dpdk/lib/pipeline/rte_swx_pipeline.c')\n",
    "server1.upload_file('scripts/rte_swx_pipeline_internal.h','/home/ubuntu/dpdk/lib/pipeline/rte_swx_pipeline_internal.h')\n",
    "stdout, stderr = server1.execute(f'cd dpdk &&  sudo meson build && cd build && sudo ninja && sudo ninja install && sudo ldconfig', quiet = True)\n",
    "stdout, stderr = server1.execute(f'cd dpdk/examples/pipeline && sudo make', quiet=True)"
   ]
  },
  {
   "cell_type": "markdown",
   "id": "e3663be2-ae7e-4352-9659-4ac52b2b32b5",
   "metadata": {
    "tags": []
   },
   "source": [
    "### Step 4.5 Install p4c\n",
    "The code below downloads and installs the p4c compiler needed to compile the p4 code into a DPDK pipeline"
   ]
  },
  {
   "cell_type": "code",
   "execution_count": 10,
   "id": "cf0857a2-7ec6-4ed3-92c4-6eed2e697d0b",
   "metadata": {},
   "outputs": [],
   "source": [
    "stdout, stderr = server1.execute('git clone https://github.com/CILab-USC/p4c.git', quiet = True)\n",
    "stdout, stderr = server1.execute('sudo apt-get install -y cmake g++ git automake libtool libgc-dev bison flex libfl-dev libboost-dev libboost-iostreams-dev libboost-graph-dev llvm pkg-config python3 python3-pip tcpdump', quiet = True)\n",
    "stdout, stderr = server1.execute('cd p4c && pip3 install --user -r requirements.txt && mkdir build && cd build && cmake .. && make -j4  && sudo make install', quiet = True)"
   ]
  },
  {
   "attachments": {},
   "cell_type": "markdown",
   "id": "605f69d0-28f7-4c03-be6f-c51d0515f872",
   "metadata": {},
   "source": [
    "# Step 5: Defining match-action table rules\n",
    "This section demonstrates how to define the match-action table rules in text files. The rules will be added to the tables at runtime."
   ]
  },
  {
   "cell_type": "markdown",
   "id": "47325930-ee8e-4ab4-8ab5-9bf176275210",
   "metadata": {},
   "source": [
    "## Step 5.1: Inspecting the control.p4 file"
   ]
  },
  {
   "cell_type": "markdown",
   "id": "cce0f73d-b6b8-4149-8250-9cbb08079f21",
   "metadata": {},
   "source": [
    "Click on [control.p4](./labs_files/lab6/control.p4) to open the code in the editor.\n",
    "\n",
    "<img src=\"./labs_files/lab6/figs/5_01.png\" width=\"750px\"><br>\n",
    "\n",
    "As we inspect the control.p4 file, we can see the defined table names and actions which will be needed to specify the rules and upload them to the tables. The first table is the forwarding_exact table and it takes the forward_exact action only. The second table defined is the forwarding_lpm table and it takes two actions, the forward_lpm and drop."
   ]
  },
  {
   "cell_type": "markdown",
   "id": "34f63b83-28bf-416d-ae2e-2db9af71ec88",
   "metadata": {},
   "source": [
    "## Step 5.2: Converting IP to hexadecimal\n",
    "\n",
    "Now, we will add rules to the text file. The first rule is to forward the packet to host 3 if the destination IPv4 address matches the key. The rule matches on the destination IP address of the packets. The IP address of host 3 is 192.168.30.1. To add it to the rule it must be represented in hexadecimal format.\n",
    "\n",
    "All parameters to be included in the rules have  to be represented in hexadecimal notation. Type the following command in the terminal to convert an IPv4 address to hexadecimal. "
   ]
  },
  {
   "cell_type": "code",
   "execution_count": 23,
   "id": "fa2812ee-b027-49ab-bda0-241a4e54758b",
   "metadata": {},
   "outputs": [
    {
     "name": "stdout",
     "output_type": "stream",
     "text": [
      "C0A81E01\n"
     ]
    }
   ],
   "source": [
    "stdout, stderr = server1.execute('gethostip -x 192.168.30.1')"
   ]
  },
  {
   "cell_type": "markdown",
   "id": "239598a5-01b7-4818-b464-8c8a49d522f1",
   "metadata": {},
   "source": [
    "The ```gethostip``` command takes an IP address and converts it to a different format. The ```-x``` flag is to specify that we want the IP address to be converted to hexadecimal. 192.168.30.1 is the IP address of host 3. As a result, the IP of host 3 is C0A81E01 in hexadecimal."
   ]
  },
  {
   "cell_type": "markdown",
   "id": "4bc0898d-17c6-48ee-861a-09d1f28f3058",
   "metadata": {},
   "source": [
    "## Step 5.3: Add exact matching rules"
   ]
  },
  {
   "cell_type": "markdown",
   "id": "0ef4c4de-4338-4784-a805-024dabde8e75",
   "metadata": {},
   "source": [
    "Click on [rules_exact.txt](./labs_files/lab6/rules_exact.txt) to open the code in the editor.\n",
    "\n",
    "Now, we will fill the rules_exact.txt file with the rule that will be added to the table for exact matching. Type the following code in the rules_exact.txt file.\n",
    "\n",
    "    match 0xC0A81E01 action forward_exact dstAddr 0x3 port_id 0x2\n",
    "\n",
    "<img src=\"./labs_files/lab6/figs/5_03.png\" width=\"800px\"><br>\n",
    "\n",
    "Defining a rule requires 3 parameters:\n",
    "\n",
    "•\t```match <key>```: The key based on which a match is found or not. The key is 192.168.30.1 (0xC0A81e01 in hexadecimal) which is the IP address of host 3. <br>\n",
    "•\t```action <action name>```: The action to be executed if there is a match. If a match is found the action to be executed for both entries is the forward_exact action declared in the control.p4 code. <br>\n",
    "•\tThe last item is the action data In this case, the action data are the destination MAC address and egress port ID. Therefore, if a match is found with this entry, the packet is forwarded to host h3 through port 2 (0x2 in hexadecimal), and the destination MAC address is 00:00:00:00:00:03 (0x3 in hexadecimal).\n",
    "\n",
    "\n",
    "<hr>\n",
    "\n",
    "Save the changes by pressing ```Ctrl+s```."
   ]
  },
  {
   "cell_type": "markdown",
   "id": "c24817fe-520a-4031-b3c8-003820afc293",
   "metadata": {},
   "source": [
    "## Step 5.4: Converting IP to hexadecimal\n",
    "\n",
    "Now, we will add two rules to the text file that correspond to the table applying the Longest Prefix Matching (LPM) algorithm. In LPM rules, the network IP address and the subnet must be defined.\n",
    "\n",
    "Type the following commands in the terminal to convert an IPv4 address to hexadecimal. "
   ]
  },
  {
   "cell_type": "code",
   "execution_count": 24,
   "id": "a080eeb7-e5cc-417f-8f82-9f6a55257f30",
   "metadata": {},
   "outputs": [
    {
     "name": "stdout",
     "output_type": "stream",
     "text": [
      "C0A80A00\n"
     ]
    }
   ],
   "source": [
    "stdout, stderr = server1.execute('gethostip -x 192.168.10.0')"
   ]
  },
  {
   "cell_type": "markdown",
   "id": "01281bf8-cbc3-492b-83dd-763dc13f1d92",
   "metadata": {},
   "source": [
    "The IP address 192.168.10.0 is represented as C0A80A00 in hexadecimal format."
   ]
  },
  {
   "cell_type": "code",
   "execution_count": 25,
   "id": "b96bfd49-2497-457a-bbdc-fd93428150ba",
   "metadata": {},
   "outputs": [
    {
     "name": "stdout",
     "output_type": "stream",
     "text": [
      "C0A81400\n"
     ]
    }
   ],
   "source": [
    "stdout, stderr = server1.execute('gethostip -x 192.168.20.0')"
   ]
  },
  {
   "cell_type": "markdown",
   "id": "1af8c785-7ab9-4608-ac6a-87f18134b504",
   "metadata": {},
   "source": [
    "The IP address 192.168.20.0 is represented as C0A81400 in hexadecimal format."
   ]
  },
  {
   "cell_type": "code",
   "execution_count": 26,
   "id": "c525bf55-0a53-4f24-a2e9-2d45b643dce6",
   "metadata": {},
   "outputs": [
    {
     "name": "stdout",
     "output_type": "stream",
     "text": [
      "FFFFFF00\n"
     ]
    }
   ],
   "source": [
    "stdout, stderr = server1.execute('gethostip -x 255.255.255.0')"
   ]
  },
  {
   "cell_type": "markdown",
   "id": "a21a5c36-b9af-483e-8d67-4f7ee031def9",
   "metadata": {},
   "source": [
    "The /24 subnet indicates that the first 24 bits of the IP address are used for the network portion. The remaining 8 bits (32 - 24 = 8) are available for host addresses within that network. Therefore, the subnet mask 255.255.255.0 means that the first 24 bits are set to 1 (representing the network), and the last 8 bits are set to 0 (available for hosts). The subnet 255.255.255.0 is represented as FFFFFF00 in hexadecimal format."
   ]
  },
  {
   "cell_type": "markdown",
   "id": "11b7ef50-e4ec-4fe4-83a4-b6bc788f3cd6",
   "metadata": {},
   "source": [
    "## Step 5.5: Add LMP rules"
   ]
  },
  {
   "cell_type": "markdown",
   "id": "c5ebe745-4b69-425d-b8e0-569303d56ba5",
   "metadata": {},
   "source": [
    "Click on [rules_lpm.txt](./labs_files/lab6/rules_lpm.txt) to open the code in the editor.\n",
    "\n",
    "Now, we will fill the rules_exact.txt file with the rules that will be added to the table for exact matching. Type the following code in the rules_lpm.txt file.\n",
    "\n",
    "    match 0xC0A80A00/0xffffff00 action forward_lpm dstAddr 0x1 port_id 0x0\n",
    "    match 0xC0A81400/0xffffff00 action forward_lpm dstAddr 0x2 port_id 0x1\n",
    "\n",
    "<img src=\"./labs_files/lab6/figs/5_05.png\" width=\"800px\"><br>\n",
    "\n",
    "Defining a rule requires 3 parameters:\n",
    "\n",
    "•\t```match <key>```: The key based on which a match is found or not. In the first entry, the key is 192.168.10.0/24 (0xC0A80A00/ffffff00 in hexadecimal) which is the IP address and netmask of host 1. The match key of the second entry is 192.168.20.0/24 (0xC0A81400/ffffff00 in hexadecimal) which is the IP address and netmask of host 2. <br>\n",
    "•\t```action <action name>```: The action to be executed if there is a match. If a match is found the action to be executed for both entries is the forward_lpm action declared in the control.p4 code which was written earlier in this lab. <br>\n",
    "•\tThe last item is the action data. In this case, the action data are the destination MAC address and egress port ID. Therefore, if a match is found with the first entry, the packet is forwarded to host 1 through port 0 (0x0 in hexadecimal) and the destination MAC address is 00:00:00:00:00:01 (0x1 in hexadecimal). Whereas, if a match is found with the second entry, the packet is forwarded to host 2 through port 1 (0x1 in hexadecimal) and the destination MAC address is 00:00:00:00:00:02 (0x2 in hexadecimal).\n",
    "\n",
    "<hr>\n",
    "\n",
    "Save the changes by pressing ```Ctrl+s```."
   ]
  },
  {
   "cell_type": "markdown",
   "id": "1be69c05-19ee-4e09-b68d-b450bfad0fc1",
   "metadata": {},
   "source": [
    "## Step 5.6: Compiling the P4 code\n",
    "To upload all needed P4 codes and compile main.p4, issue the following command."
   ]
  },
  {
   "cell_type": "code",
   "execution_count": 27,
   "id": "c4a28c3a-9a46-4e3c-88da-015cbecdf9d9",
   "metadata": {},
   "outputs": [
    {
     "name": "stdout",
     "output_type": "stream",
     "text": [
      "control.p4\n",
      "deparser.p4\n",
      "dpdk\n",
      "headers.p4\n",
      "host_tune.sh\n",
      "lab6.spec\n",
      "main.p4\n",
      "p4c\n",
      "parser.p4\n",
      "precontrol.p4\n"
     ]
    }
   ],
   "source": [
    "server1.upload_file('labs_files/lab6/headers.p4','headers.p4')\n",
    "server1.upload_file('labs_files/lab6/parser.p4','parser.p4')\n",
    "server1.upload_file('labs_files/lab6/precontrol.p4','precontrol.p4')\n",
    "server1.upload_file('labs_files/lab6/control.p4','control.p4')\n",
    "server1.upload_file('labs_files/lab6/deparser.p4','deparser.p4')\n",
    "server1.upload_file('labs_files/lab6/main.p4','main.p4')\n",
    "stdout, stderr = server1.execute(f'sudo p4c-dpdk --arch=pna main.p4 -o lab6.spec')\n",
    "stdout, stderr = server1.execute(f'ls')"
   ]
  },
  {
   "cell_type": "markdown",
   "id": "99d9703e-31df-4bc7-84e7-55282f5b23af",
   "metadata": {},
   "source": [
    "The command above invokes the ```p4c-dpdk``` compiler to compile the ```main.p4``` program and generates the ```lab6.spec``` file which is a specification file needed to run the pipeline."
   ]
  },
  {
   "cell_type": "markdown",
   "id": "1ab728d9-c42b-40d3-8384-42d85a6dad09",
   "metadata": {},
   "source": [
    "# Step 6: Running the P4-DPDK pipeline and the lab topology\n",
    "This section shows the steps required to run the P4-DPDK along with building the lab topology. In this lab, the procedure is automated."
   ]
  },
  {
   "cell_type": "markdown",
   "id": "51dff360-7ab3-4b31-a3c7-ddb4ad6c1d75",
   "metadata": {},
   "source": [
    "## Step 6.1: Uploading required scripts\n",
    "The code below uploads to server1 the CLI and I/O scripts, along with other scripts needed to automate the process of running the pipeline and building the topology.\n",
    "\n",
    "We will also upload the rules.txt file to load and add rules to the forwarding table. The rules.txt file contains rules for exact matching."
   ]
  },
  {
   "cell_type": "code",
   "execution_count": 28,
   "id": "669fc8a7-d84d-4bf1-b22a-fc6ba823f7d7",
   "metadata": {},
   "outputs": [],
   "source": [
    "server1.upload_file('labs_files/lab6/lab6.cli','lab6.cli')\n",
    "server1.upload_file('labs_files/lab6/ethdev.io','ethdev.io')\n",
    "server1.upload_file('labs_files/lab6/run_pipeline.sh','run_pipeline.sh')\n",
    "server1.upload_file('labs_files/lab6/set_topology.sh','set_topology.sh')\n",
    "server1.upload_file('labs_files/lab6/sender.py','sender.py')\n",
    "server1.upload_file('labs_files/lab6/rules_exact.txt','rules_exact.txt')\n",
    "server1.upload_file('labs_files/lab6/rules_lpm.txt','rules_lpm.txt')\n",
    "stdout, stderr = server1.execute(f'chmod +x run_pipeline.sh')\n",
    "stdout, stderr = server1.execute(f'chmod +x set_topology.sh')\n",
    "stdout, stderr = server1.execute(f'chmod +x sender.py')"
   ]
  },
  {
   "cell_type": "markdown",
   "id": "4886aad9-21e8-420e-9657-306ab541b8e5",
   "metadata": {},
   "source": [
    "## Step 6.2: Opening a terminal\n",
    "Launch a new terminal by opening a new tab and then select \"terminal\".\n",
    "\n",
    "<img src=\"./labs_files/lab6/figs/6_02_terminal.gif\" width=\"1000px\"><br>\n",
    "\n",
    "Copy the output of the command below and paste it into the terminal to enter server1."
   ]
  },
  {
   "cell_type": "code",
   "execution_count": 22,
   "id": "6b96a8c8-e602-405c-bef5-6cd04c4a87d3",
   "metadata": {},
   "outputs": [
    {
     "data": {
      "text/plain": [
       "'ssh -i /home/fabric/work/fabric_config/slice_key -F /home/fabric/work/fabric_config/ssh_config ubuntu@133.69.160.106'"
      ]
     },
     "execution_count": 22,
     "metadata": {},
     "output_type": "execute_result"
    }
   ],
   "source": [
    "server1.get_ssh_command()"
   ]
  },
  {
   "cell_type": "markdown",
   "id": "40f25aaf-85b0-485e-84da-291944f01802",
   "metadata": {},
   "source": [
    "## Step 6.3: Running the P4-DPDK pipeline\n",
    "Build and run the pipeline by typing the following command:\n",
    "\n",
    "    sudo ./run_pipeline.sh\n",
    "    \n",
    "<img src=\"./labs_files/lab6/figs/6_03.png\" width=\"750px\"><br>\n",
    "\n",
    "The ```run_pipeline.sh``` script is a shell script that automates the process of running the P4-DPDK pipeline. In this lab, part of the pipeline output is hidden to display only the relevant logs."
   ]
  },
  {
   "cell_type": "markdown",
   "id": "4dfe858d-6e62-4e6e-b805-071956d36eb8",
   "metadata": {},
   "source": [
    "## Step 6.4: Building the lab topology\n",
    "The code below uploads to server1 the CLI and I/O scripts, along with other scripts needed to automate the process of running the pipeline and building the topology."
   ]
  },
  {
   "cell_type": "code",
   "execution_count": 35,
   "id": "060593e8-d2c3-4c59-95c2-8a61fc1c8f13",
   "metadata": {},
   "outputs": [],
   "source": [
    "stdout, stderr = server1.execute(f'sudo ./set_topology.sh')"
   ]
  },
  {
   "cell_type": "markdown",
   "id": "2dbcb5dc-bb89-42c6-87d7-da57daed2dd6",
   "metadata": {
    "tags": []
   },
   "source": [
    "The set_topology.sh script is a shell script that automates the process of building the lab topology. Two namespaces are built and configured in this step with a virtual device linked to each as shown in the figure below.\n",
    "\n",
    "<img src=\"./labs_files/lab6/figs/6_04_ip.png\" width=\"650px\"><br>"
   ]
  },
  {
   "cell_type": "markdown",
   "id": "0321f656-057b-4cce-85a9-12a538279c0c",
   "metadata": {},
   "source": [
    "# Step 7: Running commands at runtime in the DPDK pipeline CLI"
   ]
  },
  {
   "cell_type": "markdown",
   "id": "3f293962-481c-4d21-a656-2d7990ac1022",
   "metadata": {
    "tags": []
   },
   "source": [
    "### Step 7.1: Opening a new terminal\n",
    "Launch a new terminal by opening a new tab and then select \"terminal\".\n",
    "\n",
    "<img src=\"./labs_files/lab6/figs/7_01_terminal.gif\" width=\"1000px\"><br>\n",
    "\n",
    "Copy the output of the command below and paste it into the terminal to enter server1."
   ]
  },
  {
   "cell_type": "markdown",
   "id": "329494c2-df40-4006-b4c3-a30d77e0a136",
   "metadata": {
    "tags": []
   },
   "source": [
    "### Step 7.2: Access DPDK pipeline CLI (Command Line Interface)\n",
    "To start the DPDK pipeline CLI by typing the following command.\n",
    "\n",
    "    telnet 0.0.0.0 8086\n",
    "\n",
    "<img src=\"./labs_files/lab6/figs/7_02.png\" width=\"700px\"><br>\n",
    "\n",
    "Defining a rule requires 3 parameters:\n",
    "\n",
    "The ```telnet``` command is followed by the IP address of the server (0.0.0.0) and the port number (8086).\n"
   ]
  },
  {
   "cell_type": "markdown",
   "id": "2c5dec71-927a-43a3-b353-c73905a827d5",
   "metadata": {
    "tags": []
   },
   "source": [
    "### Step 7.3: Inspect pipeline interfaces\n",
    "In the pipeline CLI, inspect the interface configuration by typing the following command.\n",
    "\n",
    "    ethdev show\n",
    "\n",
    "<img src=\"./labs_files/lab6/figs/7_03.png\" width=\"700px\"><br>\n",
    "\n",
    "Defining a rule requires 3 parameters:\n",
    "\n",
    "We can see that three interfaces are displayed (highlighted in the grey boxes); net_tap0, net_tap1, and net_tap2.\n",
    "\n",
    "As we inspect the output for each ethernet device in the figure above, we can see in the first line, that ```ether``` is the MAC addresses assigned to the interfaces while running the pipeline along with ```rxqueues``` and ```txqueues```, the number of receiving and transmitting queues as assigned in the CLI script while listing the ethernet devices. The second line shows the port number ```port#``` as specified in the I/O file. The remaining lines of the output show the received packet count ```RX packets``` and the transmitted packet count ```TX packets``` with the corresponding total byte-count ```bytes``` and the number of dropped packets ```misses``` for each.\n"
   ]
  },
  {
   "cell_type": "markdown",
   "id": "361aacb7-c214-47d0-a98f-4ce23958d3a3",
   "metadata": {
    "tags": []
   },
   "source": [
    "### Step 7.4: Inspect pipeline stats\n",
    "In the pipeline CLI, inspect the pipeline statistics by typing the following command.\n",
    "\n",
    "    pipeline PIPELINE0 stats\n",
    "\n",
    "<img src=\"./labs_files/lab6/figs/7_04.png\" width=\"700px\"><br>\n",
    "\n",
    "The pipeline stats function shows statistical data of the specified pipeline (PIPELINE0). This pipeline has three ```Input ports``` highlighted in the first grey box and three ```Output ports``` highlighted in the second grey box. Also, each port is associated with counters that provide information about the number of packets and the total byte count. \n",
    "\n",
    "The ```Tables``` section indicates that there are two tables defined, the ```forwarding_exact``` which applies exact matching, and the ```forwarding_lpm``` which applies the LPM algorithm. Each table is followed by the count of packets hit or miss along with the number of packets that underwent each action. Note that at the bottom, there are no learner tables defined because the ```add_on_miss``` feature is not enabled in this example.\n",
    "\n"
   ]
  },
  {
   "cell_type": "markdown",
   "id": "e3416444-3890-41de-a083-42a656246176",
   "metadata": {
    "tags": []
   },
   "source": [
    "### Step 7.5: Adding rules to exact matching table\n",
    "Add the following code inside the pipeline CLI to add rules to the forwarding_exact table.\n",
    "\n",
    "    pipeline PIPELINE0 table forwarding_exact add rules_exact.txt\n",
    "\n",
    "<img src=\"./labs_files/lab6/figs/7_05.png\" width=\"700px\"><br>\n",
    "\n",
    "To add rules to a table the pipeline table add function is used. This command takes three parameters:\n",
    "\n",
    "•\t```pipeline```: The table is processed in the specified DPDK pipeline (PIPELINE0). <br>\n",
    "•\t```table```: These rules are added to the specified table (forwarding_exact). Note that the name of the table should match the name used in the table declaration in the control.p4 code. <br>\n",
    "•\t```add```: This parameter takes the path to the file containing the rules to be added to the table (rules_exact.txt).\n",
    "\n"
   ]
  },
  {
   "cell_type": "markdown",
   "id": "a19ce850-e449-4e65-a656-e767df0f6f2f",
   "metadata": {
    "tags": []
   },
   "source": [
    "### Step 7.6: Adding rules to LPM table\n",
    "Add the following code inside the pipeline CLI to add rules to the forwarding_lpm table.\n",
    "\n",
    "    pipeline PIPELINE0 table forwarding_lpm add rules_lpm.txt\n",
    "\n",
    "<img src=\"./labs_files/lab6/figs/7_06.png\" width=\"700px\"><br>"
   ]
  },
  {
   "cell_type": "markdown",
   "id": "b2b7a1d2-286c-45cf-95eb-10675f9a3fa3",
   "metadata": {
    "tags": []
   },
   "source": [
    "### Step 7.7: Commit changes in the pipeline\n",
    "To confirm changes made to the pipeline, type the following code inside the pipeline CLI.\n",
    "\n",
    "    pipeline PIPELINE0 commit\n",
    "\n",
    "<img src=\"./labs_files/lab6/figs/7_07.png\" width=\"700px\"><br>\n",
    "\n",
    "The ```pipeline commit``` function applies the changes made to the designated pipeline (PIPELINE0)."
   ]
  },
  {
   "cell_type": "markdown",
   "id": "01ebfeea-952f-40fd-bfaa-4d86a8a50aa2",
   "metadata": {},
   "source": [
    "# Step 8: Testing the application"
   ]
  },
  {
   "cell_type": "markdown",
   "id": "69abcfe6-1855-4ac2-9e3f-2951f7f12efa",
   "metadata": {
    "tags": []
   },
   "source": [
    "### Step 8.1: Sending packets from h1 to h2\n",
    "Now, we will send a packet from h1 to h2 over the destination IP address 192.168.20.2 by running the provided Python script sender.py."
   ]
  },
  {
   "cell_type": "code",
   "execution_count": 36,
   "id": "27f0e82c-1e37-4679-b4a4-d6eb4e5d2bac",
   "metadata": {},
   "outputs": [
    {
     "name": "stdout",
     "output_type": "stream",
     "text": [
      ".\u001b[31m WARNING: Interface lo: no address assigned\n",
      " \u001b[0mSender: h1\n",
      "Destination IP: 192.168.20.2\n",
      "\n",
      "Sent 1 packets.\n"
     ]
    }
   ],
   "source": [
    "stdout, stderr = server1.execute(f'sudo ip netns exec h1 python3 sender.py -s h1 -d 192.168.20.2')"
   ]
  },
  {
   "cell_type": "markdown",
   "id": "17fa5694-742a-4f56-8ef0-2b7f52249ce1",
   "metadata": {},
   "source": [
    "Running the Python script requires two parameters:\n",
    "\n",
    "•\t```-s```: Sender (h1 or h2 or h3) <br>\n",
    "•\t```-d```: Destination IP Address \n",
    "\n",
    "None of the rules uploaded include matching on the IP address 192.168.20.2. Therefore, the LPM rules are applied to match the IP address to the longest prefix which is in this case 192.168.20.0."
   ]
  },
  {
   "cell_type": "markdown",
   "id": "80ddd0ac-adec-410a-bdde-3004e8c59324",
   "metadata": {
    "tags": []
   },
   "source": [
    "### Step 8.2: Inspect the pipeline terminal\n",
    "Observe the DPDK logs at the bottom of the terminal. These logs correspond to the packet processing function executed in the .spec file generated when the P4 code is compiled. \n",
    "\n",
    "<img src=\"./labs_files/lab6/figs/8_02.png\" width=\"700px\"><br>\n",
    "\n",
    "The log highlighted in the first grey box corresponds to the table lookup. An exact match was not found in table 0 which corresponds to the forwarding_exact table. In this case, a table lookup will be performed in the second table named forwarding_lmp with a table ID of 1. A match was found in the second table. Therefore, the forward_lpm (action 2) is executed.\n",
    "\n",
    "The “tx 1 pkt to port 1” log in the second grey box indicates that the forwarding action is properly executed by sending one packet to port 1 which corresponds to host 2.\n",
    "\n",
    "For a more readable output press enter in the terminal a few times (five times) to provide space for the next logs."
   ]
  },
  {
   "cell_type": "markdown",
   "id": "646db5cb-c69e-4a60-94a1-adf0649de9ed",
   "metadata": {
    "tags": []
   },
   "source": [
    "### Step 8.3: Inspect the pipeline stats\n",
    "In the pipeline CLI, inspect the pipeline statistics by typing the following command.\n",
    "\n",
    "    pipeline PIPELINE0 stats\n",
    "    \n",
    "<img src=\"./labs_files/lab6/figs/8_03.png\" width=\"700px\"><br>\n",
    "\n",
    "In the ```Tables``` section, under the stats of the table ```forwarding_exact```, we can see in the grey box that 1 packet was processed and no match was found. Therefore, no action was executed and now the packet will have to be looked up within the rules in the second table. Under the stats of the table ```forwarding_lpm```, a match was found and the action ```forward_lpm``` was executed. \n"
   ]
  },
  {
   "cell_type": "markdown",
   "id": "15735ea6-cfef-46b3-9c67-b9446c482967",
   "metadata": {},
   "source": [
    "# Step 9: Deleting rules at runtime"
   ]
  },
  {
   "cell_type": "markdown",
   "id": "07d13b1a-0586-4402-8a17-d52ebd011614",
   "metadata": {
    "tags": []
   },
   "source": [
    "### Step 9.1: Removing exact match-action table rules\n",
    "Enter the following command in the pipeline CLI to delete rules from a table.\n",
    "\n",
    "    pipeline PIPELINE0 table forwarding_exact delete rules_exact.txt\n",
    "    \n",
    "<img src=\"./labs_files/lab6/figs/9_01.png\" width=\"700px\"><br>\n",
    "\n",
    "To delete rules from a table, the pipeline table delete function is used. This command takes three parameters:\n",
    "\n",
    "•\t```pipeline```: The table is processed in the specified DPDK pipeline (PIPELINE0). <br>\n",
    "•\t```table```: These rules are deleted from the specified table (forwarding_exact). Note that the name of the table should match the name used in the table declaration in the control.p4 code. <br>\n",
    "•\t```delete```: This parameter takes the path to the file containing the rules to be deleted from the table (rules_exact.txt).\n",
    "\n"
   ]
  },
  {
   "cell_type": "markdown",
   "id": "8d760898-9d40-4637-a001-43eaa18e5ba2",
   "metadata": {
    "tags": []
   },
   "source": [
    "### Step 9.2: Commint changes in the pipeline\n",
    "To confirm changes made to the pipeline, type the following code inside the pipeline CLI.\n",
    "\n",
    "    pipeline PIPELINE0 commit\n",
    "\n",
    "<img src=\"./labs_files/lab6/figs/9_02.png\" width=\"700px\"><br>\n",
    "\n",
    "The ```pipeline commit``` function applies the changes made to the designated pipeline (PIPELINE0).\n"
   ]
  },
  {
   "cell_type": "markdown",
   "id": "727abaf5-1f49-47e9-898b-07e2bfddd120",
   "metadata": {
    "tags": []
   },
   "source": [
    "### Step 9.3: Sending packets from h1 to h3\n",
    "Now, we will send a packet from h1 to h3 over the destination IP address 192.168.30.1 by running the provided Python script sender.py."
   ]
  },
  {
   "cell_type": "code",
   "execution_count": 37,
   "id": "b6b1f629-7045-4428-8902-f31858a7582b",
   "metadata": {},
   "outputs": [
    {
     "name": "stdout",
     "output_type": "stream",
     "text": [
      ".\u001b[31m WARNING: Interface lo: no address assigned\n",
      " \u001b[0mSender: h1\n",
      "Destination IP: 192.168.30.1\n",
      "\n",
      "Sent 1 packets.\n"
     ]
    }
   ],
   "source": [
    "stdout, stderr = server1.execute(f'sudo ip netns exec h1 python3 sender.py -s h1 -d 192.168.30.1')"
   ]
  },
  {
   "cell_type": "markdown",
   "id": "70e734d7-6dab-4985-848d-3e450173be4f",
   "metadata": {
    "tags": []
   },
   "source": [
    "### Step 9.4: Inspect the pipeline terminal\n",
    "Observe the DPDK logs at the bottom of the terminal. These logs correspond to the packet processing function executed in the .spec file generated when the P4 code is compiled. \n",
    "\n",
    "<img src=\"./labs_files/lab6/figs/9_04.png\" width=\"700px\"><br>\n",
    "\n",
    "The log highlighted in the first grey box corresponds to the table lookup. An exact match was not found in table 0 which corresponds to the forwarding_exact table. In this case, a table lookup will be performed in the second table named forwarding_lmp with a table ID of 1. A match was not found in the second table. Therefore, the default action (action 3) is executed and the packet is dropped. The log in the second grey box indicates that one packet has been dropped."
   ]
  },
  {
   "cell_type": "markdown",
   "id": "34d8ab4c-a99a-48ab-aeeb-7f724a8d5176",
   "metadata": {
    "tags": []
   },
   "source": [
    "### Step 9.5: Inspect the pipeline stats\n",
    "In the pipeline CLI, inspect the pipeline statistics by typing the following command.\n",
    "\n",
    "    pipeline PIPELINE0 stats\n",
    "    \n",
    "<img src=\"./labs_files/lab6/figs/9_05.png\" width=\"700px\"><br>\n",
    "\n",
    "In the ```Output ports``` section, we can see in the grey box that the pipeline dropped the 1 packet. \n",
    "\n",
    "In the ```Tables``` section, under the stats of the table ```forwarding_exact```, we can see in the grey box that the packet was processed, and no match was found. Therefore, no action was executed and now the packet will have to be looked up within the rules in the second table. Under the stats of the table ```forwarding_lpm```, a match was not found, and the action drop was executed. This is because the rule that applies exact matching of the destination address of host 3 is deleted."
   ]
  },
  {
   "cell_type": "markdown",
   "id": "5a39ecc8-611f-42a7-9b70-556cd9ccfe3b",
   "metadata": {
    "tags": []
   },
   "source": [
    "### Step 9.6: End the telnet session\n",
    "Close the pipeline CLI and the telnet session by pressing ```ctrl+]``` and then type the ```quit``` command.\n",
    "    \n",
    "<img src=\"./labs_files/lab6/figs/9_06.png\" width=\"700px\"><br>"
   ]
  },
  {
   "cell_type": "markdown",
   "id": "2f2f7b1b-0ca8-4bd7-a0ce-5ddb960d257d",
   "metadata": {
    "tags": []
   },
   "source": [
    "### Step 9.7: Stopping the DPDK pipeline\n",
    "Stop the DPDK pipeline by pressing ```ctrl+c``` in the terminal running the pipeline.\n",
    "\n",
    "<img src=\"./labs_files/lab6/figs/9_07.png\" width=\"700px\"><br>"
   ]
  },
  {
   "cell_type": "markdown",
   "id": "49e6dd26-c20c-4c25-96c2-1b2f1aaaeca9",
   "metadata": {
    "tags": []
   },
   "source": [
    "# Step 10: Delete the slice\n",
    "\n",
    "This concludes Lab 6. Please delete your slice when you are done with your experiment."
   ]
  },
  {
   "cell_type": "code",
   "execution_count": null,
   "id": "1f27f3fc-004f-46c2-984c-8c2a90883eb6",
   "metadata": {
    "tags": []
   },
   "outputs": [],
   "source": [
    "from fabrictestbed_extensions.fablib.fablib import FablibManager as fablib_manager\n",
    "fablib = fablib_manager()\n",
    "slice = fablib.get_slice(name=\"P4DPDK_lab6_vnic\")\n",
    "slice.delete()"
   ]
  },
  {
   "cell_type": "markdown",
   "id": "e92e3d97-a261-4c00-984c-2750cbd45064",
   "metadata": {
    "tags": []
   },
   "source": [
    "# References\n",
    "\n",
    "1.\tApache. “Apache Thrift.” [Online]. Available: https://thrift.apache.org/.\n",
    "2.\tGoogle. “gRPC.” [Online]. Available: https://grpc.io/.\n",
    "3.\tGoogle. “Protocol Buffers.” [Online]. Available:\n",
    "https://developers.google.com/protocol-buffers.\n",
    "4.\tDPDK, “Pipeline Application”, [Online]. Available: https://doc.dpdk.org/guides/sample_app_ug/pipeline.html.\n",
    "5.\tDPDK, “Internet Protocol (IP) Pipeline Application”. [Online]. Available: https://doc.dpdk.org/guides-18.08/sample_app_ug/ip_pipeline.html."
   ]
  }
 ],
 "metadata": {
  "kernelspec": {
   "display_name": "Python 3 (ipykernel)",
   "language": "python",
   "name": "python3"
  },
  "language_info": {
   "codemirror_mode": {
    "name": "ipython",
    "version": 3
   },
   "file_extension": ".py",
   "mimetype": "text/x-python",
   "name": "python",
   "nbconvert_exporter": "python",
   "pygments_lexer": "ipython3",
   "version": "3.11.8"
  }
 },
 "nbformat": 4,
 "nbformat_minor": 5
}
