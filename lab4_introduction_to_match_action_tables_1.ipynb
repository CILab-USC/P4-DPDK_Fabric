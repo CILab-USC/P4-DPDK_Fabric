{
 "cells": [
  {
   "cell_type": "markdown",
   "id": "2a519f73-cdd2-4b28-a231-a2064f5e2191",
   "metadata": {
    "jp-MarkdownHeadingCollapsed": true,
    "tags": []
   },
   "source": [
    "# Lab 4 - Introduction to Match-action Tables (Part 1)\n",
    "<div style=\"text-align: justify;\">\n",
    "This lab will walk you through creating an experiment that contains a P4-DPDK programmable pipeline. This lab describes match-action tables and how to define them in a P4 program. It then explains the different types of matching that can be performed on keys. The lab further shows how to track the misses/hits of a table key while receiving a packet.\n",
    "<figure style=\"text-align: center;\">\n",
    "<img src=\"./labs_files/lab4/figs/0_00_fabric_topology.png\" width=\"550px\"><br>"
   ]
  },
  {
   "cell_type": "markdown",
   "id": "281e30c2-6ea9-45f7-b196-fb09b2a59d45",
   "metadata": {
    "tags": []
   },
   "source": [
    "# Introduction to control blocks"
   ]
  },
  {
   "attachments": {},
   "cell_type": "markdown",
   "id": "d569df5c-9413-49b3-9ba3-adbd318c937a",
   "metadata": {
    "tags": []
   },
   "source": [
    "<div style=\"text-align: justify;\">\n",
    "P4-DPDK supports the PNA architecture which consists of the parser, the pre-control, the main control, and the deparser. The Main Control block is essential for processing a packet. It is where the code would be written for the packet processing logic. It aims to transform headers, update stateful elements like counters, meters, and registers, and optionally associate additional user-defined metadata with the packet [<a href=\"#References\">1,2</a>]. For example, a control block for layer-3 forwarding may require a forwarding table that is indexed by the destination IP address. The control block may include actions to forward a packet when a hit occurs, and to drop the packet otherwise. Figure 1 shows the basic structure of a control block. </div>   <br> \n",
    "\n",
    "<figure style=\"text-align: center;\">\n",
    "  <img src=\"./labs_files/lab4/figs/0_intro_1_control.png\" width=\"450\" style=\"display: block; margin: 0 auto;\">\n",
    "  <figcaption>Figure 1. Control blocks.</figcaption>\n",
    "</figure>"
   ]
  },
  {
   "cell_type": "markdown",
   "id": "ba85593f-eec0-491e-8c1f-6a4042efb636",
   "metadata": {
    "tags": []
   },
   "source": [
    "## Tables\n",
    "\n",
    "Tables are essential components that define the processing behavior of a packet inside the switch. A table is specified in the P4 program and has one or more entries (rows) that are populated by the control plane. An entry contains a key, an action, and action data.  \n",
    "\n",
    "•\tKey: it is used for lookup operations. A key is built for the incoming packet using one or more header fields (e.g., destination IP address) or metadata (e.g., ingress port ID, egress port ID) and then looks up that value in the table.  \n",
    "•\tAction: once a match occurs, the action specified in the entry is performed by the arithmetic logic unit. Actions are simple operations such as modifying a header field, forwarding the packet to an egress port, and dropping the packet. The P4 program contains the possible actions.  \n",
    "•\tAction data: it can be considered as parameter/s used along with the action. For example, the action data may represent the port number the switch must use to forward the packet. The action data is populated by the control plane.  "
   ]
  },
  {
   "attachments": {},
   "cell_type": "markdown",
   "id": "20c23b12-ea92-468b-a819-14c72405ccab",
   "metadata": {
    "tags": []
   },
   "source": [
    "## Match types\n",
    "\n",
    "<div style=\"text-align: justify;\">\n",
    "There are three types of matching: exact match, Longest Prefix match (LPM), and ternary match. They are defined in the standard library (core.p4 [<a href=\"#References\">3</a>]). Note that architectures may define and implement additional match types. For example, the PNA [<a href=\"#References\">1,4</a>] also has matching based on ranges and selectors. In this lab, we will discuss exact matching. </div>   <br> "
   ]
  },
  {
   "attachments": {},
   "cell_type": "markdown",
   "id": "fcfd4a68-bcba-4238-96cd-c6c6b0638852",
   "metadata": {
    "tags": []
   },
   "source": [
    "## Exact match\n",
    "\n",
    "<div style=\"text-align: justify;\">\n",
    "Assume that the exact match lookup is used to search for a specific value of an entry in a table. Assume that Table 1 matches on the destination IP address. If an incoming packet has 10.0.0.2 as the destination IP address, then it will match against the second entry and the P4 program will forward the packet using port 1 as the egress port of the pipeline. </div>   <br>\n",
    "\n",
    "<table style=\"width: 50%; font-size: 14px;\">\n",
    "  <caption>Table 1. Exact match table.</caption>\n",
    "  <thead>\n",
    "    <tr style=\"background-color: #f0f0f0;\">\n",
    "      <th>Key</th>\n",
    "      <th>Action</th>\n",
    "      <th>Action data</th>\n",
    "    </tr>\n",
    "  </thead>\n",
    "  <tbody>\n",
    "    <tr>\n",
    "      <td style=\"padding: 10px; text-align: center;\">10.0.0.1</td>\n",
    "      <td style=\"padding: 10px; text-align: center;\">forward</td>\n",
    "      <td style=\"padding: 10px; text-align: center;\">port 0</td>\n",
    "    </tr>\n",
    "    <tr>\n",
    "      <td style=\"padding: 10px; text-align: center;\">10.0.0.2</td>\n",
    "      <td style=\"padding: 10px; text-align: center;\">forward</td>\n",
    "      <td style=\"padding: 10px; text-align: center;\">port 1</td>\n",
    "    </tr>\n",
    "    <tr>\n",
    "      <td style=\"padding: 10px; text-align: center;\">default</td>\n",
    "      <td style=\"padding: 10px; text-align: center;\">drop</td>\n",
    "      <td style=\"padding: 10px; text-align: center;\"> </td>\n",
    "    </tr>\n",
    "  </tbody>\n",
    "</table>\n",
    "\n",
    "Figure 2 shows the main control block portion of a P4 program. Two actions are defined, ```drop``` and ```forward```. The ```drop``` action (lines 6 - 8) invokes the ```drop_packet``` function, causing the packet to be dropped. The ```forward``` action (lines 9 - 11) accepts as input (i.e., action data) the destination port. This parameter is inserted by the control plane and updated in the packet during the ingress processing. In line 10, the P4 program assigns the egress port defined by the control plane as an input to the ```send_to_port``` extern function. It is used to direct a packet to a specified network port. Lines 12-22 implement a table named ```forwarding```. The match is against the destination IP address using the exact lookup method. The actions associated with the table are forward and drop. The default action which is invoked when there is a miss is the drop action. The maximum number of entries a table can support is configured manually by the programmer (i.e., 1024 entries, see line 20). Note, however, that the number of entries is limited by the amount of memory in the switch. The control block starts executing from the apply statement (see lines 23-28) which contains the control logic. In this program, the ```forwarding``` table is enabled when the incoming packet has a valid IPv4 header. Otherwise, the packet is dropped.\n",
    "\n",
    "<figure style=\"text-align: center;\">\n",
    "  <img src=\"./labs_files/lab4/figs/0_intro_2_p4_control.png\" width=\"600\" style=\"display: block; margin: 0 auto;\">\n",
    "  <figcaption>Figure 2. Main control block portion of a P4 program. The code implements a match-action table with exact match lookup.</figcaption>\n",
    "</figure>"
   ]
  },
  {
   "attachments": {},
   "cell_type": "markdown",
   "id": "b7afd1b7-1871-4841-939d-bb399fc70d54",
   "metadata": {
    "tags": []
   },
   "source": [
    "## Add_on_miss capability\n",
    "\n",
    "<div style=\"text-align: justify;\">\n",
    "The add_on_miss [<a href=\"#References\">1</a>]  table property is uniquely compatible with the P4 PNA. This feature helps by adding rules to a table whenever a match is not found without the control plane’s contribution. Note that this feature is only applicable with exact matching. The add_on_miss parameter takes a boolean value. If set to true, the default action executed adds an entry to the table when a match is not found. Therefore, the new table entry will be a successful match when the next packet is processed.   </div>   <br> "
   ]
  },
  {
   "cell_type": "markdown",
   "id": "e02b5308-1775-4cfe-9f4f-eb336a851337",
   "metadata": {
    "tags": []
   },
   "source": [
    "# Step 1:  Configuring the environment\n",
    "\n",
    "Before running this notebook, you will need to configure your environment using the [Configure Environment](../../../configure_and_validate.ipynb) notebook. Please stop here, open and run that notebook, then return to this notebook.\n",
    "\n",
    "If you are using the FABRIC JupyterHub many of the environment variables will be automatically configured for you.  You will still need to set your bastion username, upload your bastion private key, and set the path to where you put your bastion private key. Your bastion username and private key should already be in your possession.  \n",
    "\n",
    "If you are using the FABRIC API outside of the JupyterHub you will need to configure all of the environment variables. Defaults below will be correct in many situations but you will need to confirm your configuration.  If you have questions about this configuration, please contact the FABRIC admins using the [FABRIC User Forum](https://learn.fabric-testbed.net/forums/) \n",
    "\n",
    "More information about accessing your experiments through the FABRIC bastion hosts can be found [here](https://learn.fabric-testbed.net/knowledge-base/logging-into-fabric-vms/)."
   ]
  },
  {
   "cell_type": "markdown",
   "id": "2b571c06-bfd5-464a-acf4-d28845c8e840",
   "metadata": {
    "tags": []
   },
   "source": [
    "# Step 2: Importing the FABlib library"
   ]
  },
  {
   "cell_type": "code",
   "execution_count": 2,
   "id": "2e9c3ea6-f0b5-4e34-9a4c-82785ff386c4",
   "metadata": {},
   "outputs": [],
   "source": [
    "from fabrictestbed_extensions.fablib.fablib import FablibManager as fablib_manager\n",
    "fablib = fablib_manager()"
   ]
  },
  {
   "cell_type": "markdown",
   "id": "c2913e89-4188-4ebf-a24c-01cedd16540b",
   "metadata": {
    "tags": []
   },
   "source": [
    "# Step 3: Creating the experiment slice\n",
    "\n",
    "The following creates a node with basic compute and networking capabilities. You build a slice by creating a new slice and adding resources to the slice. After you build the slice, you must submit a request for the slice to be instantiated.   "
   ]
  },
  {
   "cell_type": "markdown",
   "id": "161198e4-00b0-4994-9de8-28e8bfb16cc8",
   "metadata": {
    "tags": []
   },
   "source": [
    "### Step 3.1: Creating a slice\n",
    "The code below creates a new slice with the name \"P4DPDK_lab4_vnic\""
   ]
  },
  {
   "cell_type": "code",
   "execution_count": 3,
   "id": "9c97d810-ac6a-4c04-892d-f0ddbe69954b",
   "metadata": {
    "tags": []
   },
   "outputs": [],
   "source": [
    "slice = fablib.new_slice(name=\"P4DPDK_lab4_vnic\")"
   ]
  },
  {
   "cell_type": "markdown",
   "id": "a0f228eb-d12b-4644-bbc4-df2e34bbdce8",
   "metadata": {
    "tags": []
   },
   "source": [
    "### Step 3.2: Defining the sites\n",
    "The code below requests a random site from FABRIC based on the condition that the following resources are available:\n",
    "\n",
    "<ul>\n",
    "    <li> 4 CPU cores</li>\n",
    "    <li> 8GB RAM </li>\n",
    "    <li> 20GB disc size\n",
    "</ul>"
   ]
  },
  {
   "cell_type": "code",
   "execution_count": 4,
   "id": "f28e0cf1-241d-4257-afbf-6aa44989d995",
   "metadata": {
    "tags": []
   },
   "outputs": [
    {
     "name": "stdout",
     "output_type": "stream",
     "text": [
      "The selected site is NEWY\n"
     ]
    }
   ],
   "source": [
    "site1= fablib.get_random_sites(count=1, filter_function=lambda x: x['cores_available'] > 4 and x['ram_available'] > 8 and x['disk_available'] > 20)[0]\n",
    "\n",
    "print (f'The selected site is {site1}')"
   ]
  },
  {
   "cell_type": "markdown",
   "id": "0f71fead-a091-4af0-95ec-bb264c016c43",
   "metadata": {
    "tags": []
   },
   "source": [
    "### Step 3.3: Creating the nodes\n",
    "The code below creates one node (server1) which uses the following:\n",
    "<ul>\n",
    "    <li> 4 CPU cores</li>\n",
    "    <li> 8GB RAM </li>\n",
    "    <li> 20GB disc size </li>\n",
    "    <li> Image: Ubuntu 20.04\n",
    "</ul>\n",
    "\n",
    "server1 will be created in site1"
   ]
  },
  {
   "cell_type": "code",
   "execution_count": 5,
   "id": "7713728b-2740-4e72-b5dd-7d3963012536",
   "metadata": {
    "tags": []
   },
   "outputs": [],
   "source": [
    "server1 = slice.add_node(name=\"server1\", \n",
    "                      site=site1, \n",
    "                      cores=4, \n",
    "                      ram=8, \n",
    "                      disk=20, \n",
    "                      image='default_ubuntu_20')"
   ]
  },
  {
   "cell_type": "markdown",
   "id": "53ab345c-d68e-440d-9fda-03d67472f1ca",
   "metadata": {},
   "source": [
    "### Step 3.4: Submitting the slice\n",
    "The code below submits the slice. \n",
    "By default, the submit function will block until the node is ready and will display the progress of your slice being built."
   ]
  },
  {
   "cell_type": "code",
   "execution_count": 6,
   "id": "e706c53c-7a38-4615-a86e-e8944197921f",
   "metadata": {},
   "outputs": [
    {
     "name": "stdout",
     "output_type": "stream",
     "text": [
      "\n",
      "Retry: 9, Time: 205 sec\n"
     ]
    },
    {
     "data": {
      "text/html": [
       "<style type=\"text/css\">\n",
       "#T_7846d tr:nth-child(even) {\n",
       "  background: #dbf3ff;\n",
       "  color: #231f20;\n",
       "}\n",
       "#T_7846d tr:nth-child(odd) {\n",
       "  background: #ffffff;\n",
       "  color: #231f20;\n",
       "}\n",
       "#T_7846d caption {\n",
       "  text-align: center;\n",
       "  font-size: 150%;\n",
       "}\n",
       "#T_7846d_row0_col0, #T_7846d_row0_col1, #T_7846d_row1_col0, #T_7846d_row1_col1, #T_7846d_row2_col0, #T_7846d_row2_col1, #T_7846d_row3_col0, #T_7846d_row3_col1, #T_7846d_row4_col0, #T_7846d_row4_col1, #T_7846d_row5_col0 {\n",
       "  text-align: left;\n",
       "  border: 1px #231f20 solid !important;\n",
       "  overwrite: False;\n",
       "  background-color: ;\n",
       "}\n",
       "#T_7846d_row5_col1 {\n",
       "  text-align: left;\n",
       "  border: 1px #231f20 solid !important;\n",
       "  overwrite: False;\n",
       "  background-color: #c3ffc4;\n",
       "}\n",
       "</style>\n",
       "<table id=\"T_7846d\">\n",
       "  <caption>Slice</caption>\n",
       "  <thead>\n",
       "  </thead>\n",
       "  <tbody>\n",
       "    <tr>\n",
       "      <td id=\"T_7846d_row0_col0\" class=\"data row0 col0\" >ID</td>\n",
       "      <td id=\"T_7846d_row0_col1\" class=\"data row0 col1\" >bf36a948-0886-4275-9d16-62976b3690e9</td>\n",
       "    </tr>\n",
       "    <tr>\n",
       "      <td id=\"T_7846d_row1_col0\" class=\"data row1 col0\" >Name</td>\n",
       "      <td id=\"T_7846d_row1_col1\" class=\"data row1 col1\" >P4DPDK_lab4_vnic</td>\n",
       "    </tr>\n",
       "    <tr>\n",
       "      <td id=\"T_7846d_row2_col0\" class=\"data row2 col0\" >Lease Expiration (UTC)</td>\n",
       "      <td id=\"T_7846d_row2_col1\" class=\"data row2 col1\" >2024-09-04 14:46:34 +0000</td>\n",
       "    </tr>\n",
       "    <tr>\n",
       "      <td id=\"T_7846d_row3_col0\" class=\"data row3 col0\" >Lease Start (UTC)</td>\n",
       "      <td id=\"T_7846d_row3_col1\" class=\"data row3 col1\" >2024-09-03 14:46:34 +0000</td>\n",
       "    </tr>\n",
       "    <tr>\n",
       "      <td id=\"T_7846d_row4_col0\" class=\"data row4 col0\" >Project ID</td>\n",
       "      <td id=\"T_7846d_row4_col1\" class=\"data row4 col1\" >8eaa3ec2-65e7-49a3-8c09-e1761141a6ad</td>\n",
       "    </tr>\n",
       "    <tr>\n",
       "      <td id=\"T_7846d_row5_col0\" class=\"data row5 col0\" >State</td>\n",
       "      <td id=\"T_7846d_row5_col1\" class=\"data row5 col1\" >StableOK</td>\n",
       "    </tr>\n",
       "  </tbody>\n",
       "</table>\n"
      ],
      "text/plain": [
       "<pandas.io.formats.style.Styler at 0x7e58ae440210>"
      ]
     },
     "metadata": {},
     "output_type": "display_data"
    },
    {
     "data": {
      "text/html": [
       "<style type=\"text/css\">\n",
       "#T_f7b09 caption {\n",
       "  text-align: center;\n",
       "  font-size: 150%;\n",
       "  caption-side: top;\n",
       "}\n",
       "#T_f7b09 th {\n",
       "  text-align: left;\n",
       "}\n",
       "#T_f7b09 tr:nth-child(even) {\n",
       "  background: #ffffff;\n",
       "  color: #231f20;\n",
       "}\n",
       "#T_f7b09 tr:nth-child(odd) {\n",
       "  background: #dbf3ff;\n",
       "  color: #231f20;\n",
       "}\n",
       "#T_f7b09 .level0 {\n",
       "  border: 1px black solid !important;\n",
       "  background: #ffffff;\n",
       "  color: #231f20;\n",
       "}\n",
       "#T_f7b09_row0_col0, #T_f7b09_row0_col1, #T_f7b09_row0_col2, #T_f7b09_row0_col3, #T_f7b09_row0_col4, #T_f7b09_row0_col5, #T_f7b09_row0_col6, #T_f7b09_row0_col7, #T_f7b09_row0_col8, #T_f7b09_row0_col9, #T_f7b09_row0_col10, #T_f7b09_row0_col13, #T_f7b09_row0_col14, #T_f7b09_row0_col15 {\n",
       "  text-align: left;\n",
       "  border: 1px #231f20 solid !important;\n",
       "  overwrite: False;\n",
       "}\n",
       "#T_f7b09_row0_col11 {\n",
       "  text-align: left;\n",
       "  border: 1px #231f20 solid !important;\n",
       "  overwrite: False;\n",
       "  background-color: #c3ffc4;\n",
       "}\n",
       "#T_f7b09_row0_col12 {\n",
       "  text-align: left;\n",
       "  border: 1px #231f20 solid !important;\n",
       "  overwrite: False;\n",
       "  background-color: ;\n",
       "}\n",
       "</style>\n",
       "<table id=\"T_f7b09\">\n",
       "  <caption>Nodes</caption>\n",
       "  <thead>\n",
       "    <tr>\n",
       "      <th id=\"T_f7b09_level0_col0\" class=\"col_heading level0 col0\" >ID</th>\n",
       "      <th id=\"T_f7b09_level0_col1\" class=\"col_heading level0 col1\" >Name</th>\n",
       "      <th id=\"T_f7b09_level0_col2\" class=\"col_heading level0 col2\" >Cores</th>\n",
       "      <th id=\"T_f7b09_level0_col3\" class=\"col_heading level0 col3\" >RAM</th>\n",
       "      <th id=\"T_f7b09_level0_col4\" class=\"col_heading level0 col4\" >Disk</th>\n",
       "      <th id=\"T_f7b09_level0_col5\" class=\"col_heading level0 col5\" >Image</th>\n",
       "      <th id=\"T_f7b09_level0_col6\" class=\"col_heading level0 col6\" >Image Type</th>\n",
       "      <th id=\"T_f7b09_level0_col7\" class=\"col_heading level0 col7\" >Host</th>\n",
       "      <th id=\"T_f7b09_level0_col8\" class=\"col_heading level0 col8\" >Site</th>\n",
       "      <th id=\"T_f7b09_level0_col9\" class=\"col_heading level0 col9\" >Username</th>\n",
       "      <th id=\"T_f7b09_level0_col10\" class=\"col_heading level0 col10\" >Management IP</th>\n",
       "      <th id=\"T_f7b09_level0_col11\" class=\"col_heading level0 col11\" >State</th>\n",
       "      <th id=\"T_f7b09_level0_col12\" class=\"col_heading level0 col12\" >Error</th>\n",
       "      <th id=\"T_f7b09_level0_col13\" class=\"col_heading level0 col13\" >SSH Command</th>\n",
       "      <th id=\"T_f7b09_level0_col14\" class=\"col_heading level0 col14\" >Public SSH Key File</th>\n",
       "      <th id=\"T_f7b09_level0_col15\" class=\"col_heading level0 col15\" >Private SSH Key File</th>\n",
       "    </tr>\n",
       "  </thead>\n",
       "  <tbody>\n",
       "    <tr>\n",
       "      <td id=\"T_f7b09_row0_col0\" class=\"data row0 col0\" >78fe1a9a-7d08-4cab-bed1-54f95c076678</td>\n",
       "      <td id=\"T_f7b09_row0_col1\" class=\"data row0 col1\" >server1</td>\n",
       "      <td id=\"T_f7b09_row0_col2\" class=\"data row0 col2\" >4</td>\n",
       "      <td id=\"T_f7b09_row0_col3\" class=\"data row0 col3\" >8</td>\n",
       "      <td id=\"T_f7b09_row0_col4\" class=\"data row0 col4\" >100</td>\n",
       "      <td id=\"T_f7b09_row0_col5\" class=\"data row0 col5\" >default_ubuntu_20</td>\n",
       "      <td id=\"T_f7b09_row0_col6\" class=\"data row0 col6\" >qcow2</td>\n",
       "      <td id=\"T_f7b09_row0_col7\" class=\"data row0 col7\" >newy-w2.fabric-testbed.net</td>\n",
       "      <td id=\"T_f7b09_row0_col8\" class=\"data row0 col8\" >NEWY</td>\n",
       "      <td id=\"T_f7b09_row0_col9\" class=\"data row0 col9\" >ubuntu</td>\n",
       "      <td id=\"T_f7b09_row0_col10\" class=\"data row0 col10\" >2001:400:a100:3040:f816:3eff:fec7:715</td>\n",
       "      <td id=\"T_f7b09_row0_col11\" class=\"data row0 col11\" >Active</td>\n",
       "      <td id=\"T_f7b09_row0_col12\" class=\"data row0 col12\" ></td>\n",
       "      <td id=\"T_f7b09_row0_col13\" class=\"data row0 col13\" >ssh -i /home/fabric/work/fabric_config/slice_key -F /home/fabric/work/fabric_config/ssh_config ubuntu@2001:400:a100:3040:f816:3eff:fec7:715</td>\n",
       "      <td id=\"T_f7b09_row0_col14\" class=\"data row0 col14\" >/home/fabric/work/fabric_config/slice_key.pub</td>\n",
       "      <td id=\"T_f7b09_row0_col15\" class=\"data row0 col15\" >/home/fabric/work/fabric_config/slice_key</td>\n",
       "    </tr>\n",
       "  </tbody>\n",
       "</table>\n"
      ],
      "text/plain": [
       "<pandas.io.formats.style.Styler at 0x7e58aef77d10>"
      ]
     },
     "metadata": {},
     "output_type": "display_data"
    }
   ],
   "source": [
    "slice.submit();"
   ]
  },
  {
   "cell_type": "markdown",
   "id": "05bfa5ff-9374-4823-9ea0-09f045a91684",
   "metadata": {},
   "source": [
    "# Step 4: Installing the required packages\n",
    "In this step, we will install the required packages to run the lab. Specifically, we will install the DPDK library, the P4 compiler (p4c), and all needed dependencies."
   ]
  },
  {
   "cell_type": "markdown",
   "id": "72c40316-489b-428d-82de-eb92e87c87dc",
   "metadata": {},
   "source": [
    "### Step 4.1 Getting the server node\n",
    "The command below gets the fablib node that server1 is associated with."
   ]
  },
  {
   "cell_type": "code",
   "execution_count": 7,
   "id": "61333554-ef05-480e-bee6-c2a035213b0c",
   "metadata": {},
   "outputs": [],
   "source": [
    "server1 = slice.get_node(name=\"server1\")"
   ]
  },
  {
   "cell_type": "markdown",
   "id": "1ab6f042-3232-4245-9a5b-9e163b1bb8f4",
   "metadata": {},
   "source": [
    "### Step 4.2 NAT64 setup\n",
    "The code below checks if an IPv6 address is available to set up NAT64. We will upload the script [scripts/nat64.sh](./scripts/nat64.sh) to the all servers and execute it"
   ]
  },
  {
   "cell_type": "code",
   "execution_count": 8,
   "id": "00430e7b-472e-4d5b-a81d-03dfaaec14ae",
   "metadata": {},
   "outputs": [],
   "source": [
    "from ipaddress import ip_address, IPv6Address\n",
    "\n",
    "if type(ip_address(server1.get_management_ip())) is IPv6Address:\n",
    "    server1.upload_file('scripts/nat64.sh', 'nat64.sh')\n",
    "    stdout, stderr = server1.execute(f'chmod +x nat64.sh && ./nat64.sh', quiet=True)"
   ]
  },
  {
   "cell_type": "markdown",
   "id": "6c187536-f87c-47ae-9ced-9cf234f70c45",
   "metadata": {},
   "source": [
    "### Step 4.3 Installing dependencies\n",
    "The code below installs packages that are prerequisites to the upcoming installations and needed to run the lab experiments"
   ]
  },
  {
   "cell_type": "code",
   "execution_count": 9,
   "id": "c8d516e3-323e-44c7-bec8-45a2d48a0936",
   "metadata": {},
   "outputs": [],
   "source": [
    "stdout, stderr = server1.execute(f'sudo apt-get update', quiet = True)\n",
    "stdout, stderr = server1.execute(f'sudo apt-get install -y build-essential python3-pip python3-pyelftools libnuma-dev pkg-config net-tools', quiet = True)\n",
    "stdout, stderr = server1.execute(f'sudo pip3 install meson ninja scapy', quiet = True)"
   ]
  },
  {
   "cell_type": "markdown",
   "id": "ea007d60-a00c-4c48-aab9-a9dc3ef16931",
   "metadata": {
    "tags": []
   },
   "source": [
    "### Step 4.4 Installing DPDK\n",
    "The code below downloads, builds, and installs DPDK on all servers. In this lab, we are building a modified version of DPDK in which we enabled logs in the terminal to have a better understanding of the behavior of the built pipeline. Note that printing out logs on the terminal degrades performance. Therefore, with applications where high performance is needed, logging should be disabled.  "
   ]
  },
  {
   "cell_type": "code",
   "execution_count": 10,
   "id": "66a161e7-65b6-403f-8e3e-8a8d1fe19a7f",
   "metadata": {},
   "outputs": [],
   "source": [
    "stdout, stderr = server1.execute(f'git clone http://dpdk.org/git/dpdk', quiet = True)\n",
    "stdout, stderr = server1.execute(f'cd dpdk/lib/pipeline/ &&  sudo rm rte_swx_pipeline.c && sudo rm rte_swx_pipeline_internal.h', quiet = True)\n",
    "server1.upload_file('scripts/rte_swx_pipeline.c','/home/ubuntu/dpdk/lib/pipeline/rte_swx_pipeline.c')\n",
    "server1.upload_file('scripts/rte_swx_pipeline_internal.h','/home/ubuntu/dpdk/lib/pipeline/rte_swx_pipeline_internal.h')\n",
    "stdout, stderr = server1.execute(f'cd dpdk &&  sudo meson build && cd build && sudo ninja && sudo ninja install && sudo ldconfig', quiet = True)\n",
    "stdout, stderr = server1.execute(f'cd dpdk/examples/pipeline && sudo make', quiet=True)"
   ]
  },
  {
   "cell_type": "markdown",
   "id": "e3663be2-ae7e-4352-9659-4ac52b2b32b5",
   "metadata": {
    "tags": []
   },
   "source": [
    "### Step 4.5 Install p4c\n",
    "The code below downloads and installs the p4c compiler needed to compile the p4 code into a DPDK pipeline"
   ]
  },
  {
   "cell_type": "code",
   "execution_count": 11,
   "id": "cf0857a2-7ec6-4ed3-92c4-6eed2e697d0b",
   "metadata": {},
   "outputs": [],
   "source": [
    "stdout, stderr = server1.execute('git clone https://github.com/CILab-USC/p4c.git', quiet = True)\n",
    "stdout, stderr = server1.execute('sudo apt-get install -y cmake g++ git automake libtool libgc-dev bison flex libfl-dev libboost-dev libboost-iostreams-dev libboost-graph-dev llvm pkg-config python3 python3-pip tcpdump', quiet = True)\n",
    "stdout, stderr = server1.execute('cd p4c && pip3 install --user -r requirements.txt && mkdir build && cd build && cmake .. && make -j4  && sudo make install', quiet = True)"
   ]
  },
  {
   "attachments": {},
   "cell_type": "markdown",
   "id": "605f69d0-28f7-4c03-be6f-c51d0515f872",
   "metadata": {},
   "source": [
    "# Step 5: Writing and compiling the P4 code\n",
    "This section demonstrates how to define custom headers in a P4 program. It also shows how to use constants and typedefs to make the program more readable."
   ]
  },
  {
   "cell_type": "markdown",
   "id": "47325930-ee8e-4ab4-8ab5-9bf176275210",
   "metadata": {},
   "source": [
    "## Step 5.1: Programming the exact table in the control block"
   ]
  },
  {
   "cell_type": "markdown",
   "id": "cce0f73d-b6b8-4149-8250-9cbb08079f21",
   "metadata": {},
   "source": [
    "Click on [control.p4](./labs_files/lab4/control.p4) to open the code in the editor.\n",
    "\n",
    "<img src=\"./labs_files/lab4/figs/5_01_01.png\" width=\"700px\"><br>\n",
    "We can see that the control.p4 declares a control block named MainControl. Note that the body of the control block is empty. Our objective is to define a P4 table and its actions, and then invoke them inside the block.\n",
    "\n",
    "<hr>\n",
    "\n",
    "We will start by defining the possible actions that a table will call. In this simple forwarding program, we have two actions: \n",
    "\n",
    "•\t```forward```: This action will be used to forward the packet out of a port. \n",
    "•\t```drop```: This action will be used to drop the packet.\n",
    "\n",
    "Now we will define the behavior of the ```forward``` action. Insert the code below inside the ```MainControl``` control block. \n",
    "\n",
    "    action forward (PortId_t port_id) {\n",
    "        send_to_port(port_id);\n",
    "    }\n",
    "\n",
    "<img src=\"./labs_files/lab4/figs/5_01_02.png\" width=\"700\"><br>\n",
    "\n",
    "The action ```forward``` accepts as a parameter the port number (```PortId_t port_id```) to be used by the pipeline to forward the packet. The ```send_to_port``` is a function that takes the port number as an input. Therefore, when the forward action is executed, the packet will be sent out of the port number specified as a parameter.\n",
    "\n",
    "<hr>\n",
    "\n",
    "Now we will define the drop action. Insert the code below inside the MainControl control block. \n",
    "    \n",
    "    action drop() {\n",
    "        drop_packet();\n",
    "    }\n",
    "\n",
    "<img src=\"./labs_files/lab4/figs/5_01_03.png\" width=\"700\"><br>\n",
    "\n",
    "The drop() action invokes a primitive action drop_packet() that causes the packet to be dropped.\n",
    "\n",
    "<hr>\n",
    "Now we will define the table named forwarding. Write the following piece of code inside the body of the MainControl control block. \n",
    "\n",
    "    table forwarding {\n",
    "    \n",
    "    }\n",
    "\n",
    "<img src=\"./labs_files/lab4/figs/5_01_04.png\" width=\"700\"><br>\n",
    "\n",
    "Tables require keys and actions. In the next step, we will define a key.\n",
    "\n",
    "<hr>\n",
    "\n",
    "Add the following code inside the forwarding table. \n",
    "\n",
    "    key = {\n",
    "        hdr.ipv4.dstAddr:exact;\n",
    "    }\n",
    "\n",
    "<img src=\"./labs_files/lab4/figs/5_01_05.png\" width=\"700\"><br>\n",
    "\n",
    "The inserted code specifies that the destination IPv4 address of a packet (```hdr.ipv4.dstAddr```) will be used as a key in the table. Also, the match type is ```exact```, denoting that the value of the destination IP address will be matched as is against a value specified later in the control plane.\n",
    "\n",
    "<hr>\n",
    "\n",
    "Add the following code inside the forwarding table to list the possible actions that will be used in this table.\n",
    "\n",
    "    actions = {\n",
    "        forward;\n",
    "        drop;\n",
    "    }\n",
    "\n",
    "<img src=\"./labs_files/lab4/figs/5_01_06.png\" width=\"700\"><br>\n",
    "\n",
    "<hr>\n",
    "\n",
    "Add the following code inside the forwarding table. The size keyword specifies the maximum number of entries that can be inserted into this table from the control plane.\n",
    "\n",
    "    size = 1024;\n",
    "\n",
    "<img src=\"./labs_files/lab4/figs/5_01_07.png\" width=\"700\"><br>\n",
    "\n",
    "The code above denotes that a maximum of 1024 rules can be inserted into the table.\n",
    "\n",
    "<hr>\n",
    "Add the following code inside the MainControl block. The apply block defines the sequential flow of packet processing. It is required in every control block, otherwise the program will not compile. It describes in order, the sequence of tables to be invoked, among other packet processing instructions. \n",
    "\n",
    "    apply {\n",
    "        if(hdr.ipv4.isValid()) {\n",
    "    \t forwarding.apply();\n",
    "        }else{\n",
    "        \t drop(); \n",
    "        }\n",
    "    }\n",
    "\n",
    "<img src=\"./labs_files/lab4/figs/5_01_08.png\" width=\"700\"><br>\n",
    "\n",
    "In the code above, we are calling the table forwarding (```forwarding.apply()```) only if the IPv4 header is valid (```if (hdr.ipv4.isValid()```), otherwise the packet is dropped. The validity of the header is set if the parser successfully parsed said header (see parser.p4 for a recap on the parser details).\n",
    "\n",
    "<hr>\n",
    "\n",
    "Save the changes by pressing ```Ctrl+s```."
   ]
  },
  {
   "cell_type": "markdown",
   "id": "1be69c05-19ee-4e09-b68d-b450bfad0fc1",
   "metadata": {},
   "source": [
    "## Step 5.2: Compiling the P4 code\n",
    "To upload all needed P4 codes and compile main.p4, issue the following command."
   ]
  },
  {
   "cell_type": "code",
   "execution_count": 13,
   "id": "c4a28c3a-9a46-4e3c-88da-015cbecdf9d9",
   "metadata": {},
   "outputs": [
    {
     "name": "stdout",
     "output_type": "stream",
     "text": [
      "\u001b[31m sudo: unable to resolve host server1: Name or service not known\n",
      " \u001b[0mcontrol.p4\n",
      "deparser.p4\n",
      "dpdk\n",
      "headers.p4\n",
      "host_tune.sh\n",
      "lab4.spec\n",
      "main.p4\n",
      "nat64.sh\n",
      "p4c\n",
      "parser.p4\n",
      "precontrol.p4\n"
     ]
    }
   ],
   "source": [
    "server1.upload_file('labs_files/lab4/headers.p4','headers.p4')\n",
    "server1.upload_file('labs_files/lab4/parser.p4','parser.p4')\n",
    "server1.upload_file('labs_files/lab4/precontrol.p4','precontrol.p4')\n",
    "server1.upload_file('labs_files/lab4/control.p4','control.p4')\n",
    "server1.upload_file('labs_files/lab4/deparser.p4','deparser.p4')\n",
    "server1.upload_file('labs_files/lab4/main.p4','main.p4')\n",
    "stdout, stderr = server1.execute(f'sudo p4c-dpdk --arch=pna main.p4 -o lab4.spec')\n",
    "stdout, stderr = server1.execute(f'ls')"
   ]
  },
  {
   "cell_type": "markdown",
   "id": "99d9703e-31df-4bc7-84e7-55282f5b23af",
   "metadata": {},
   "source": [
    "The command above invokes the ```p4c-dpdk``` compiler to compile the ```main.p4``` program and generates the ```lab4.spec``` file which is a specification file needed to run the pipeline."
   ]
  },
  {
   "cell_type": "markdown",
   "id": "1ab728d9-c42b-40d3-8384-42d85a6dad09",
   "metadata": {},
   "source": [
    "# Step 6: Running the P4-DPDK pipeline and the lab topology\n",
    "This section shows the steps required to run the P4-DPDK along with building the lab topology. In this lab, the procedure is automated."
   ]
  },
  {
   "cell_type": "markdown",
   "id": "51dff360-7ab3-4b31-a3c7-ddb4ad6c1d75",
   "metadata": {},
   "source": [
    "## Step 6.1: Uploading required scripts\n",
    "The code below uploads to server1 the CLI and I/O scripts, along with other scripts needed to automate the process of running the pipeline and building the topology.\n",
    "\n",
    "We will also upload the rules.txt file to load and add rules to the forwarding table. The rules.txt file contains rules for exact matching."
   ]
  },
  {
   "cell_type": "code",
   "execution_count": 18,
   "id": "669fc8a7-d84d-4bf1-b22a-fc6ba823f7d7",
   "metadata": {},
   "outputs": [],
   "source": [
    "server1.upload_file('labs_files/lab4/lab4.cli','lab4.cli')\n",
    "server1.upload_file('labs_files/lab4/ethdev.io','ethdev.io')\n",
    "server1.upload_file('labs_files/lab4/run_pipeline.sh','run_pipeline.sh')\n",
    "server1.upload_file('labs_files/lab4/set_topology.sh','set_topology.sh')\n",
    "server1.upload_file('labs_files/lab4/sender.py','sender.py')\n",
    "server1.upload_file('labs_files/lab4/rules.txt','rules.txt')\n",
    "stdout, stderr = server1.execute(f'chmod +x run_pipeline.sh')\n",
    "stdout, stderr = server1.execute(f'chmod +x set_topology.sh')\n",
    "stdout, stderr = server1.execute(f'chmod +x sender.py')"
   ]
  },
  {
   "cell_type": "markdown",
   "id": "4886aad9-21e8-420e-9657-306ab541b8e5",
   "metadata": {},
   "source": [
    "## Step 6.2: Opening a terminal\n",
    "Launch a new terminal by opening a new tab and then select \"terminal\".\n",
    "\n",
    "<img src=\"./labs_files/lab4/figs/6_02_terminal.gif\" width=\"1000px\"><br>\n",
    "\n",
    "Copy the output of the command below and paste it into the terminal to enter server1."
   ]
  },
  {
   "cell_type": "code",
   "execution_count": 15,
   "id": "6b96a8c8-e602-405c-bef5-6cd04c4a87d3",
   "metadata": {},
   "outputs": [
    {
     "data": {
      "text/plain": [
       "'ssh -i /home/fabric/work/fabric_config/slice_key -F /home/fabric/work/fabric_config/ssh_config ubuntu@2001:400:a100:3040:f816:3eff:fec7:715'"
      ]
     },
     "execution_count": 15,
     "metadata": {},
     "output_type": "execute_result"
    }
   ],
   "source": [
    "server1.get_ssh_command()"
   ]
  },
  {
   "cell_type": "markdown",
   "id": "40f25aaf-85b0-485e-84da-291944f01802",
   "metadata": {},
   "source": [
    "## Step 6.3: Running the P4-DPDK pipeline\n",
    "Build and run the pipeline by typing the following command:\n",
    "\n",
    "    sudo ./run_pipeline.sh\n",
    "    \n",
    "<img src=\"./labs_files/lab4/figs/6_03.png\" width=\"750px\"><br>\n",
    "\n",
    "The ```run_pipeline.sh``` script is a shell script that automates the process of running the P4-DPDK pipeline. In this lab, part of the pipeline output is hidden to display only the relevant logs."
   ]
  },
  {
   "cell_type": "markdown",
   "id": "4dfe858d-6e62-4e6e-b805-071956d36eb8",
   "metadata": {},
   "source": [
    "## Step 6.4: Building the lab topology\n",
    "The code below uploads to server1 the CLI and I/O scripts, along with other scripts needed to automate the process of running the pipeline and building the topology."
   ]
  },
  {
   "cell_type": "code",
   "execution_count": 19,
   "id": "060593e8-d2c3-4c59-95c2-8a61fc1c8f13",
   "metadata": {},
   "outputs": [
    {
     "name": "stdout",
     "output_type": "stream",
     "text": [
      "\u001b[31m sudo: unable to resolve host server1: Name or service not known\n",
      " \u001b[0m"
     ]
    }
   ],
   "source": [
    "stdout, stderr = server1.execute(f'sudo ./set_topology.sh')"
   ]
  },
  {
   "cell_type": "markdown",
   "id": "2dbcb5dc-bb89-42c6-87d7-da57daed2dd6",
   "metadata": {
    "tags": []
   },
   "source": [
    "The set_topology.sh script is a shell script that automates the process of building the lab topology. Two namespaces are built and configured in this step with a virtual device linked to each as shown in the figure below.\n",
    "\n",
    "<img src=\"./labs_files/lab1/figs/6_04_ip.png\" width=\"550px\"><br>"
   ]
  },
  {
   "cell_type": "markdown",
   "id": "3ed9a650-27a8-4856-b9d4-ca237e7159c7",
   "metadata": {
    "tags": []
   },
   "source": [
    "## Step 6.5: Inspect the rules.txt file\n",
    "Click on [rules.txt](./labs_files/lab4/rules.txt) to open the code in the editor.\n",
    "\n",
    "<img src=\"./labs_files/lab4/figs/6_05.png\" width=\"700px\"><br>\n",
    "\n",
    "The grey box shows the entries loaded to the match action table. Each entry consists of three components.\n",
    "\n",
    "•\t```match <key>```: The key based on which a match is found or not. In the first entry, the key is 192.168.10.1 (0xC0A80A01 in hexadecimal) which is the IP address of host 1. The match key of the second entry is 192.168.10.2 (0xC0A80A01 in hexadecimal) which is the IP address of host 2. <br>\n",
    "•\t```action <action name>```: The action to be executed if there is a match. If a match is found the action to be executed for both entries is the forward action declared in the control.p4 code which was written earlier in this lab. <br>\n",
    "•\tThe last item is the action data. In this case, the action data is the port ID. Therefore, if a match is found, the packet is forwarded through port 0 or port 1.\n"
   ]
  },
  {
   "cell_type": "markdown",
   "id": "0321f656-057b-4cce-85a9-12a538279c0c",
   "metadata": {},
   "source": [
    "# Step 7: Testing exact matching"
   ]
  },
  {
   "cell_type": "markdown",
   "id": "3f293962-481c-4d21-a656-2d7990ac1022",
   "metadata": {
    "tags": []
   },
   "source": [
    "### Step 7.1: Sending an ethernet packet from h1 to h2\n",
    "To test exact matching, we will send a packet with an ethernet, IPv4, and TCP header from h1 to h2 over the destination IP address 192.168.10.2 by running the provided Python script sender.py."
   ]
  },
  {
   "cell_type": "code",
   "execution_count": 20,
   "id": "a4682dca-966b-4a5a-a204-68e34989b9c0",
   "metadata": {},
   "outputs": [
    {
     "name": "stdout",
     "output_type": "stream",
     "text": [
      ".\u001b[31m sudo: unable to resolve host server1: Name or service not known\n",
      "WARNING: Interface lo: no address assigned\n",
      " \u001b[0mSender: h1\n",
      "Destination IP: 192.168.10.2\n",
      "\n",
      "Sent 1 packets.\n"
     ]
    }
   ],
   "source": [
    "stdout, stderr = server1.execute(f'sudo ip netns exec h1 python3 sender.py -s h1 -d 192.168.10.2')"
   ]
  },
  {
   "cell_type": "markdown",
   "id": "396a5665-e0dc-4a37-9011-73977c4bd172",
   "metadata": {},
   "source": [
    "Running the Python script requires two parameters:\n",
    "\n",
    "•\t```-s```: Sender (h1 or h2) <br>\n",
    "•\t```-d```: Destination IP Address\n"
   ]
  },
  {
   "cell_type": "markdown",
   "id": "4e0bdfc2-3798-41b8-b71b-709ca1ae1c75",
   "metadata": {
    "tags": []
   },
   "source": [
    "### Step 7.2: Inspect the pipeline terminal\n",
    "\n",
    "Observe the DPDK logs at the bottom of the terminal. These logs correspond to the packet processing function executed in the .spec file generated when the P4 code is compiled. \n",
    "\n",
    "<img src=\"./labs_files/lab4/figs/7_02.png\" width=\"700px\"><br>\n",
    "\n",
    "The log highlighted in the first grey box corresponds to the match found in the match-action table with table ID 0 which is the forwarding table. Since there is a match, the forwarding action with action ID 1 is executed. The “tx 1 pkt to port 1” log indicated that the forwarding action is properly executed by sending one packet to port 1 which corresponds to host 2."
   ]
  },
  {
   "cell_type": "markdown",
   "id": "2f2f7b1b-0ca8-4bd7-a0ce-5ddb960d257d",
   "metadata": {
    "tags": []
   },
   "source": [
    "### Step 7.3: Stopping the DPDK pipeline\n",
    "Stop the DPDK pipeline by pressing ```ctrl+c``` in the terminal running the pipeline.\n",
    "\n",
    "<img src=\"./labs_files/lab4/figs/7_03.png\" width=\"700px\"><br>\n",
    "\n",
    "Execute the command below to avoid having a pipeline instance running in the background."
   ]
  },
  {
   "cell_type": "code",
   "execution_count": 21,
   "id": "0dc20cc7-874e-4411-b45d-28aed774c3d5",
   "metadata": {},
   "outputs": [
    {
     "name": "stdout",
     "output_type": "stream",
     "text": [
      "\u001b[31m sudo: unable to resolve host server1: Name or service not known\n",
      " \u001b[0m"
     ]
    }
   ],
   "source": [
    "stdout, stderr = server1.execute(f'sudo pkill -9 pipeline')"
   ]
  },
  {
   "attachments": {},
   "cell_type": "markdown",
   "id": "1befd2b4-4204-4a82-b4f7-8f81f2515fa6",
   "metadata": {},
   "source": [
    "# Step 8: Enabling add_on_miss\n",
    "This section demonstrates how to define custom headers in a P4 program. It also shows how to use constants and typedefs to make the program more readable."
   ]
  },
  {
   "cell_type": "markdown",
   "id": "3bb50276-259f-46cc-8a58-5333856b2fb0",
   "metadata": {},
   "source": [
    "## Step 8.1: Modifying the P4 code"
   ]
  },
  {
   "cell_type": "markdown",
   "id": "167f9556-f69f-41e6-880d-4c9800c6868e",
   "metadata": {},
   "source": [
    "Click on [headers.p4](./labs_files/lab4/headers.p4) to open the code in the editor.\n",
    "\n",
    "<img src=\"./labs_files/lab4/figs/8_01_01.png\" width=\"700px\"><br>\n",
    "\n",
    "We can see that the headers.p4 has a designated space in which we will be declaring an additional constant along with a structure. \n",
    "\n",
    "<hr>\n",
    "\n",
    "Now we will define the EXPIRE_TIME_PROFILE_ID constant. Insert the code below in the designated empty space in line 8.\n",
    "\n",
    "    const ExpireTimeProfileId_t EXPIRE_TIME_PROFILE_ID = (ExpireTimeProfileId_t) 4;\n",
    "    \n",
    "<img src=\"./labs_files/lab4/figs/8_01_02.png\" width=\"700px\"><br>\n",
    "\n",
    "Each P4 target has a set of expire time profiles where each profile represents the time in seconds it takes for an entry to be removed if it has not been a match to the packets being processed. ```EXPIRE_TIME_PROFILE_ID``` is a constant that represents the expire time profile ID of the entry added. This constant is represented in 8 bits since it is cast to the ```ExpireTimeProfileId_t``` typedef. In this lab, we selected the expiration time with profiled ID 4 which is equivalent to 300 seconds. The set of expire time profiles can be found in the .spec file created after the P4 code is compiled.\n",
    "\n",
    "<hr>\n",
    "\n",
    "Now we will define the forward_action_keys structure. Insert the code below in the designated empty space in line 9. \n",
    "\n",
    "    struct forward_action_keys {\n",
    "        PortId_t port_id;\n",
    "    }\n",
    "\n",
    "<img src=\"./labs_files/lab4/figs/8_01_03.png\" width=\"700\"><br>\n",
    "\n",
    "```forward_action_keys``` is a structure that contains the inputs (action data) of the forward action declared in the control.py script. In this lab, the forward action takes only the port_id as an action data. The port is cast to the ```PortId_t``` typedef which represents 32 bits.\n",
    "\n",
    "<hr>\n",
    "\n",
    "Save the changes by pressing ```Ctrl+s```.\n",
    "\n",
    "<hr>\n",
    "\n",
    "Click on [control.p4](./labs_files/lab4/control.p4) to open the code in the editor.\n",
    "\n",
    "<img src=\"./labs_files/lab4/figs/8_01_04.png\" width=\"700\"><br>\n",
    "\n",
    "<hr>\n",
    "\n",
    "Now we will define the ```forward_miss``` action and its behavior. Insert the code below inside the MainControl control block below the defined actions. \n",
    "\n",
    "    action forward_miss () {\n",
    "        forward_action_keys forward_params;\n",
    "        forward_params.port_id = (PortId_t) 1;\n",
    "        add_entry(action_name = \"forward\", action_params = forward_params,\n",
    "                              expire_time_profile_id = EXPIRE_TIME_PROFILE_ID);\n",
    "    }\n",
    "\n",
    "<img src=\"./labs_files/lab4/figs/8_01_05.png\" width=\"700\"><br>\n",
    "\n",
    "The action ```forward_miss``` does not accept any input parameters from the control plane. This action is executed when no match is found among the entries in the table. Therefore, an entry is added to the table.\n",
    "\n",
    "First, we are including the ```forward_action_keys``` structure and labeling it as ```forward_params```. Then, we set the port field to be equal to 1 by casting it to the 8-bit representation typedef PortId_t.\n",
    "\n",
    "The ```add_entry``` function adds the entry to the table by grabbing the key based on which we are matching in the table from the processed packet. In this lab, we are matching against the IPv4 destination address. Therefore, the key would be the IPv4 destination address of the packet received. The add entry function associated the added key with an action specified as ```action_name```. In this application, all added entries will be associated with the forward action defined earlier in this lab. The forward action takes the port ID as a parameter. Therefore, the input parameter (action data) is passed to the ```add_entry``` function by setting the ```action_params``` equal to the defined structure ```forward_params```. Finally, the ```expire_time_profile_id``` is set equal to the EXPIRE_TIME_PROFILE_ID constant defined earlier.\n",
    "\n",
    "<hr>\n",
    "\n",
    "In the forwarding table actions, we will substitute the drop action with the forward_miss action. \n",
    "\n",
    "    forward_miss;\n",
    "\n",
    "<img src=\"./labs_files/lab4/figs/8_01_06.png\" width=\"700\"><br>\n",
    "\n",
    "<hr>\n",
    "\n",
    "Add the following code inside the forwarding table. \n",
    "\n",
    "    add_on_miss = true;\n",
    "    default_action = forward_miss;\n",
    "\n",
    "<img src=\"./labs_files/lab4/figs/8_01_07.png\" width=\"700\"><br>\n",
    "\n",
    "The ```add_on_miss``` parameter is set to true to enable the feature. We also set the ```forward_miss``` as the default action.\n",
    "\n",
    "Note that the ```add_on_miss``` feature can only be enabled with a table that applies exact matching and that the default action must call the action that contains the ```add_entry``` function. \n",
    "\n",
    "<hr>\n",
    "\n",
    "Save the changes by pressing ```Ctrl+s```."
   ]
  },
  {
   "cell_type": "markdown",
   "id": "5f4ed442-7876-4bef-8cbe-2cc913b2fd86",
   "metadata": {},
   "source": [
    "## Step 8.2: Compiling the P4 code\n",
    "To upload all needed P4 codes and compile main.p4, issue the following command."
   ]
  },
  {
   "cell_type": "code",
   "execution_count": 22,
   "id": "3de5a54f-4782-41e9-8a84-41ab034224fe",
   "metadata": {},
   "outputs": [
    {
     "name": "stdout",
     "output_type": "stream",
     "text": [
      "\u001b[31m sudo: unable to resolve host server1: Name or service not known\n",
      " \u001b[0mcontrol.p4\n",
      "deparser.p4\n",
      "dpdk\n",
      "ethdev.io\n",
      "headers.p4\n",
      "host_tune.sh\n",
      "lab4.cli\n",
      "lab4.spec\n",
      "main.p4\n",
      "nat64.sh\n",
      "p4c\n",
      "parser.p4\n",
      "precontrol.p4\n",
      "rules.txt\n",
      "run_pipeline.sh\n",
      "sender.py\n",
      "set_topology.sh\n"
     ]
    }
   ],
   "source": [
    "server1.upload_file('labs_files/lab4/headers.p4','headers.p4')\n",
    "server1.upload_file('labs_files/lab4/control.p4','control.p4')\n",
    "stdout, stderr = server1.execute(f'sudo p4c-dpdk --arch=pna main.p4 -o lab4.spec')\n",
    "stdout, stderr = server1.execute(f'ls')"
   ]
  },
  {
   "cell_type": "markdown",
   "id": "2fabb8b9-8217-4146-9dc9-cc16cd3fc73b",
   "metadata": {},
   "source": [
    "The command above invokes the ```p4c-dpdk``` compiler to compile the ```main.p4``` program and generates the ```lab4.spec``` file which is a specification file needed to run the pipeline."
   ]
  },
  {
   "cell_type": "markdown",
   "id": "451a4ce1-875d-4c7a-b5bb-c3905053b1ff",
   "metadata": {},
   "source": [
    "# Step 9: Running the P4-DPDK pipeline and the lab topology\n",
    "This section shows the steps required to run the P4-DPDK along with building the lab topology. In this lab, the procedure is automated."
   ]
  },
  {
   "cell_type": "code",
   "execution_count": 14,
   "id": "39d23613-01bd-46c8-8d2c-68cc889eed25",
   "metadata": {},
   "outputs": [
    {
     "data": {
      "text/plain": [
       "'ssh -i /home/fabric/work/fabric_config/slice_key -F /home/fabric/work/fabric_config/ssh_config ubuntu@132.249.252.178'"
      ]
     },
     "execution_count": 14,
     "metadata": {},
     "output_type": "execute_result"
    }
   ],
   "source": [
    "server1.get_ssh_command()"
   ]
  },
  {
   "cell_type": "markdown",
   "id": "ea1efb85-d71a-42bd-9636-4fce91a6e0a6",
   "metadata": {},
   "source": [
    "## Step 9.1: Running the P4-DPDK pipeline\n",
    "Build and run the pipeline by typing the following command:\n",
    "\n",
    "    sudo ./run_pipeline.sh\n",
    "    \n",
    "<img src=\"./labs_files/lab3/figs/6_03.png\" width=\"650px\"><br>\n",
    "\n",
    "The ```run_pipeline.sh``` script is a shell script that automates the process of running the P4-DPDK pipeline. In this lab, part of the pipeline output is hidden to display only the relevant logs.\n",
    "\n",
    "When add_on_miss is enabled, the p4c-dpdk compiler translates the defined table in the P4 code to a learner in the .spec file. Therefore, forwarding is no longer a table. This results in an error when the rules are added to a table named forwarding. "
   ]
  },
  {
   "cell_type": "markdown",
   "id": "85682e85-2395-46f1-9b1f-a8f54ed81c7c",
   "metadata": {},
   "source": [
    "## Step 9.2: Inspecting the .spec file\n",
    "Click on [lab4.spec](./labs_files/lab4/lab4.spec) to open the code in the editor.\n",
    "\n",
    "<img src=\"./labs_files/lab4/figs/9_04.png\" width=\"750px\"><br>\n",
    "\n",
    "Note that there are 8 different expiration time profiles that we can choose from. In this lab, we selected the expiration time profile with profile ID 1 as declared in the constant ```EXPIRE_TIME_PROFILE_ID``` in the headers.p4 script earlier in this lab. Therefore, the expiration time profile with profile ID 4 corresponds to 300 seconds."
   ]
  },
  {
   "cell_type": "markdown",
   "id": "99be4f9d-bbe5-483f-bf29-93ffadb859d1",
   "metadata": {},
   "source": [
    "## Step 9.3: Building the lab topology\n",
    "The code below uploads to server1 the CLI and I/O scripts, along with other scripts needed to automate the process of running the pipeline and building the topology."
   ]
  },
  {
   "cell_type": "code",
   "execution_count": 23,
   "id": "16436800-7b4d-4663-9458-05e798c23146",
   "metadata": {},
   "outputs": [
    {
     "name": "stdout",
     "output_type": "stream",
     "text": [
      "\u001b[31m sudo: unable to resolve host server1: Name or service not known\n",
      " \u001b[0m"
     ]
    }
   ],
   "source": [
    "stdout, stderr = server1.execute(f'sudo ./set_topology.sh')"
   ]
  },
  {
   "cell_type": "markdown",
   "id": "df87c6ff-6dfb-4ded-86c6-9fa4aebf2b22",
   "metadata": {
    "tags": []
   },
   "source": [
    "The set_topology.sh script is a shell script that automates the process of building the lab topology. Two namespaces are built and configured in this step with a virtual device linked to each as shown in the figure below.\n",
    "\n",
    "<img src=\"./labs_files/lab1/figs/6_04_ip.png\" width=\"550px\"><br>"
   ]
  },
  {
   "cell_type": "markdown",
   "id": "ec1e9a2e-0521-47d3-80c3-7638eda6e779",
   "metadata": {},
   "source": [
    "# Step 10: Testing exact matching with add-on-miss enabled"
   ]
  },
  {
   "cell_type": "markdown",
   "id": "92ef99db-c18b-4816-8e90-f59b531290b3",
   "metadata": {
    "tags": []
   },
   "source": [
    "### Step 10.1: Sending an ethernet packet from h1 to h2\n",
    "To test exact matching with add-on-miss, we will send a packet with an ethernet, IPv4, and TCP header from h1 to h2 over the destination IP address 192.168.10.2 by running the provided Python script sender.py."
   ]
  },
  {
   "cell_type": "code",
   "execution_count": 25,
   "id": "e3795cba-89da-4f23-88fa-46263baa77fc",
   "metadata": {},
   "outputs": [
    {
     "name": "stdout",
     "output_type": "stream",
     "text": [
      ".\u001b[31m sudo: unable to resolve host server1: Name or service not known\n",
      "WARNING: Interface lo: no address assigned\n",
      " \u001b[0mSender: h1\n",
      "Destination IP: 192.168.10.2\n",
      "\n",
      "Sent 1 packets.\n"
     ]
    }
   ],
   "source": [
    "stdout, stderr = server1.execute(f'sudo ip netns exec h1 python3 sender.py -s h1 -d 192.168.10.2')"
   ]
  },
  {
   "cell_type": "markdown",
   "id": "09e68ba9-6f5d-4bda-b79f-aa5e138f4343",
   "metadata": {
    "tags": []
   },
   "source": [
    "### Step 10.2: Inspect the pipeline terminal\n",
    "\n",
    "Observe the DPDK logs at the bottom of the terminal. These logs correspond to the packet processing function executed in the .spec file generated when the P4 code is compiled. \n",
    "\n",
    "<img src=\"./labs_files/lab4/figs/10_02.png\" width=\"550px\"><br>\n",
    "\n",
    "The log highlighted in the first grey box indicates that no match was found in the learner table. Therefore, the forwarding_miss action with action ID 1 is executed and an entry is added now to the table.\n",
    "\n",
    "For a more readable output press enter in the terminal a few times (five times) to provide space for the next logs."
   ]
  },
  {
   "cell_type": "markdown",
   "id": "545594d3-ce43-4a11-b32b-6cc87df78d24",
   "metadata": {
    "tags": []
   },
   "source": [
    "### Step 10.3: Re-sending an IP packet from h1 to h2\n",
    "Now that an entry is added, we will re-send a packet with an ethernet, IPv4, and TCP header from h1 to h2 over the destination IP address 192.168.10.2 by running the provided Python script sender.py."
   ]
  },
  {
   "cell_type": "code",
   "execution_count": 26,
   "id": "063e5c45-5a5f-4d53-a2fc-a77775dfbf10",
   "metadata": {},
   "outputs": [
    {
     "name": "stdout",
     "output_type": "stream",
     "text": [
      ".\u001b[31m sudo: unable to resolve host server1: Name or service not known\n",
      "WARNING: Interface lo: no address assigned\n",
      " \u001b[0mSender: h1\n",
      "Destination IP: 192.168.10.2\n",
      "\n",
      "Sent 1 packets.\n"
     ]
    }
   ],
   "source": [
    "stdout, stderr = server1.execute(f'sudo ip netns exec h1 python3 sender.py -s h1 -d 192.168.10.2')"
   ]
  },
  {
   "cell_type": "markdown",
   "id": "01e3d9a9-1978-48de-b9d9-ac8e30331fb6",
   "metadata": {
    "tags": []
   },
   "source": [
    "### Step 10.4: Inspect the pipeline terminal\n",
    "\n",
    "<img src=\"./labs_files/lab4/figs/10_04.png\" width=\"650px\"><br>\n",
    "\n",
    "The log highlighted in the first grey box corresponds to the match found in the learner table with table ID 0. This is due to the added entry. Now that a match has been found, the forward action with action ID 0 is executed. The “tx 1 pkt to port 1” log indicated that the forwarding action is properly executed by sending one packet to port 1 as assigned in the forward_miss action."
   ]
  },
  {
   "cell_type": "markdown",
   "id": "46054ca8-3bde-4e1c-81df-d7bd0fa0f316",
   "metadata": {
    "tags": []
   },
   "source": [
    "### Step 10.5: Stopping the DPDK pipeline\n",
    "Stop the DPDK pipeline by pressing ```ctrl+c``` in the terminal running the pipeline.\n",
    "\n",
    "<img src=\"./labs_files/lab4/figs/10_05.png\" width=\"650px\"><br>\n",
    "\n",
    "Note that the logs in the terminal correspond to the code executed for packet processing. "
   ]
  },
  {
   "cell_type": "markdown",
   "id": "49e6dd26-c20c-4c25-96c2-1b2f1aaaeca9",
   "metadata": {
    "tags": []
   },
   "source": [
    "# Step 11: Delete the slice\n",
    "\n",
    "This concludes Lab 4. Please delete your slice when you are done with your experiment."
   ]
  },
  {
   "cell_type": "code",
   "execution_count": null,
   "id": "1f27f3fc-004f-46c2-984c-8c2a90883eb6",
   "metadata": {
    "tags": []
   },
   "outputs": [],
   "source": [
    "from fabrictestbed_extensions.fablib.fablib import FablibManager as fablib_manager\n",
    "fablib = fablib_manager()\n",
    "slice = fablib.get_slice(name=\"P4DPDK_lab4_vnic\")\n",
    "slice.delete()"
   ]
  },
  {
   "cell_type": "markdown",
   "id": "e92e3d97-a261-4c00-984c-2750cbd45064",
   "metadata": {
    "tags": []
   },
   "source": [
    "# References\n",
    "\n",
    "1.\tThe P4 Language Consortium, “P4 Portable NIC Architecture (PNA)”, Version 0.5, 2021. [Online]. Available: https://p4.org/p4-spec/docs/PNA.html\n",
    "2.\tP4lang, “pna”, [Online]. Available: https://github.com/p4lang/pna/tree/main?tab=readme-ov-file\n",
    "3.\t“p4c core.p4”. [Online]. Available: https://github.com/p4lang/p4c/blob/main/p4include/core.p4.\n",
    "4.\tThe P4 Language Consortium, “P4 Portable Switch Architecture (PSA)”, 2021. [Online]. Available: https://p4.org/p4-spec/docs/PSA.html#sec-match-kinds."
   ]
  }
 ],
 "metadata": {
  "kernelspec": {
   "display_name": "Python 3 (ipykernel)",
   "language": "python",
   "name": "python3"
  },
  "language_info": {
   "codemirror_mode": {
    "name": "ipython",
    "version": 3
   },
   "file_extension": ".py",
   "mimetype": "text/x-python",
   "name": "python",
   "nbconvert_exporter": "python",
   "pygments_lexer": "ipython3",
   "version": "3.11.8"
  }
 },
 "nbformat": 4,
 "nbformat_minor": 5
}
