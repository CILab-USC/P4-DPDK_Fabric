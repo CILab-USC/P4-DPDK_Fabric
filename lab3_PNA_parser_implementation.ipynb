{
 "cells": [
  {
   "cell_type": "markdown",
   "id": "2a519f73-cdd2-4b28-a231-a2064f5e2191",
   "metadata": {
    "jp-MarkdownHeadingCollapsed": true,
    "tags": []
   },
   "source": [
    "# Lab 3 - PNA Parser Implementation\n",
    "<div style=\"text-align: justify;\">\n",
    "This lab will walk you through creating an experiment that contains a P4-DPDK programmable pipeline. This lab starts by describing how to define custom headers in a P4 program. It then explains how to implement a simple parser that parses the defined headers. The lab further shows how to track the parsing states of a packet in the DPDK pipeline.\n",
    "<figure style=\"text-align: center;\">\n",
    "    <img src=\"./labs_files/lab3/figs/0_00_fabric_topology.png\" width=\"550px\"><br>"
   ]
  },
  {
   "cell_type": "markdown",
   "id": "281e30c2-6ea9-45f7-b196-fb09b2a59d45",
   "metadata": {
    "tags": []
   },
   "source": [
    "# Introduction"
   ]
  },
  {
   "attachments": {},
   "cell_type": "markdown",
   "id": "d569df5c-9413-49b3-9ba3-adbd318c937a",
   "metadata": {
    "tags": []
   },
   "source": [
    "## Program headers and definitions\n",
    "\n",
    "<div style=\"text-align: justify;\">\n",
    "For several decades, the networking industry operated in a bottom-up approach. At the bottom of the system are the fixed-function Application Specific Integrated Circuits (ASICs) or other domain-specific hardware, which enforce protocols, features, and processes available in the switch or the Network Interface Card (NIC). Programmers and operators are limited to these capabilities when building their systems. Consequently, systems have features defined by the vendors that are rigid and may not fit the network operators’ needs. P4 allows agility in the networking industry by enabling a top-down approach to the design of network applications. With this approach, the programmer or network operator can precisely describe features and how packets are processed in the packet processing pipeline. </div>   <br> \n",
    "\n",
    "<div style=\"text-align: justify;\">\n",
    "With the Portable NIC Architecture (PNA) [<a href=\"#References\">1</a>], the programmer defines the headers and corresponding parser as well as actions executed in the pipeline and the deparser. The programmer has the flexibility of defining custom headers (i.e., a header not standardized). Such capability is not available in non-programmable devices. The Data Plane Development Kit (DPDK) accelerates packet processing and enhances performance. With P4-DPDK, the programmability features of P4 and the acceleration capabilities of DPDK come together. </div>   <br> \n",
    "\n",
    "<figure style=\"text-align: center;\">\n",
    "  <img src=\"./labs_files/lab3/figs/0_intro_1_ethernet.png\" width=\"400\" style=\"display: block; margin: 0 auto;\">\n",
    "  <figcaption>Figure 1. Ethernet header.</figcaption>\n",
    "</figure>\n",
    "<figure style=\"text-align: center;\">\n",
    "  <img src=\"./labs_files/lab3/figs/0_intro_2_IP.png\" width=\"750\" style=\"display: block; margin: 0 auto;\">\n",
    "  <figcaption>Figure 2. Ethernet header.</figcaption>\n",
    "</figure>\n",
    "<figure style=\"text-align: center;\">\n",
    "  <img src=\"./labs_files/lab3/figs/0_intro_3_TCP.png\" width=\"750\" style=\"display: block; margin: 0 auto;\">\n",
    "  <figcaption>Figure 3. Ethernet header.</figcaption>\n",
    "</figure>\n",
    "\n",
    "<div style=\"text-align: justify;\">\n",
    "Figure 4 shows an excerpt of a P4 program where a header is defined. This is typically written at the top of the program before the parsing starts. We can see that the programmer-defined header corresponds to Ethernet (lines 11-14). The Ethernet header fields are shown in Figure 1. The programmer also defined an IPv4 header (lines 16-29) and a TCP header (lines 31-42). The IPv4 header format is shown in Figure 2 and the TCP header is shown in Figure 3.\n",
    " </div>   <br> \n",
    "\n",
    " <figure style=\"text-align: center;\">\n",
    "  <img src=\"./labs_files/lab3/figs/0_intro_4_P4_headers.png\" width=\"550\" style=\"display: block; margin: 0 auto;\">\n",
    "  <figcaption>Figure 4. Ethernet header.</figcaption>\n",
    "</figure>\n",
    "\n",
    "The code starts by including the ```core.p4``` file (line 1) which defines some common types and variables used in all P4 programs. For instance, the ```packet_in``` and ```packet_out``` extern types which represent incoming and outgoing packets, respectively, are declared in ```core.p4``` [<a href=\"#References\">2</a>]. Next, the ```pna.p4``` [<a href=\"#References\">3</a>] file is included (line 2) to define the PNA architecture and all its externs used when writing P4 programs [<a href=\"#References\">4</a>]. Line 3 defines a 16-bit constant ```TYPE_IPV4``` with the value ```0x800```. Similarly, line 4 creates an 8-bit constant ```TYPE_TCP``` with the value ```6```. This means that these variables can be used later in the P4 program to reference the associated values. The typedef declarations (lines 8-9) are used to assign alternative names to types. \n",
    "\n",
    "The program in Figure 4 defines the Ethernet header (lines 11-14). The declarations inside the header are usually written after referring to the standard specifications of the protocol. Note that in the ```ethernet_t``` header, the ```EthernetAddress``` is used rather than using a 48-bit field. The IPv4 header is also defined (lines 16-29) following the standard header specification shown in Figure 2. Note that in the ```ipv4_t``` header, the ```IP4Address``` is used rather than using a 32-bit field. Similarly, the TCP header is defined (lines 31-42) following the standard header specification shown in Figure 3. Lines 44 - 45 show how to declare user-defined metadata, which is passed from one block to another as the packet propagates through the architecture. For simplicity, this program does not require any user metadata. Finally, the headers struct (lines 47-50) that will be used in the program are defined. The headers are customized depending on how the programmer wants the packets to be parsed.\n"
   ]
  },
  {
   "cell_type": "markdown",
   "id": "ba85593f-eec0-491e-8c1f-6a4042efb636",
   "metadata": {
    "tags": []
   },
   "source": [
    "## Programmable parser\n",
    "\n",
    "<div style=\"text-align: justify;\">\n",
    "The programmable parser permits the programmer to describe how the packets will be processed. The parser de-encapsulates the headers, converting the original packet into a parsed representation of the packet. The parser can be represented as a state machine without cycles (direct acyclic graph), with one initial state (start) and two final states (accept or reject).</div>   <br> \n",
    "\n",
    " <figure style=\"text-align: center;\">\n",
    "  <img src=\"./labs_files/lab3/figs/0_intro_5_parser.png\" width=\"550\" style=\"display: block; margin: 0 auto;\">\n",
    "  <figcaption>(a)</figcaption>\n",
    "</figure>\n",
    "<figure style=\"text-align: center;\">\n",
    "  <img src=\"./labs_files/lab3/figs/0_intro_6_P4_parser.png\" width=\"550\" style=\"display: block; margin: 0 auto;\">\n",
    "  <figcaption>(b)</figcaption>\n",
    "</figure>\n",
    "\n",
    "Figure 5. Example of a parser. (a) Graphical representation of the parser. (b) In P4, the parser always starts with the initial state called ```start```. First, we transition unconditionally to ```parse_ethernet```. Then, we can create some conditions to direct the parser. Finally, when we transition to the ```accept``` state, the packet is moved to the control block of the pipeline. A packet that reaches the ```reject``` state will be dropped.\n",
    "\n",
    "Figure 5a shows the graphical representation of the parser and Figure 5b its corresponding P4 code. Note that the packet is an instance of the ```packet_in``` extern  and is passed as a parameter to the parser. The ```extract``` method associated with the packet extracts N bits, where N is the total number of bits defined in the corresponding header (for example, 112 bits for Ethernet). Afterward, the ```etherType``` field of the Ethernet header is examined using the select statement, and the program branches to the ```parse_ipv4``` state if the ```etherType``` field corresponds to IPv4. The state transitions to the ```reject``` if it is not an IPv4 header, as shown in the figure above (Line 15). In the ```parse_ipv4``` state, the ```protocol``` field of the IPv4 header is examined using the select statement, and the program branches to the ```parse_tcp``` state if the ```protocol``` field corresponds to TCP. The state transitions to the ```reject``` if it is not a TCP header, as shown in the figure above (Line 23). Finally, in the ```parse_tcp``` state, the TCP header is extracted, and the program unconditionally transitions to the ```accept``` state."
   ]
  },
  {
   "cell_type": "markdown",
   "id": "e02b5308-1775-4cfe-9f4f-eb336a851337",
   "metadata": {
    "tags": []
   },
   "source": [
    "# Step 1:  Configuring the environment\n",
    "\n",
    "Before running this notebook, you will need to configure your environment using the [Configure Environment](../../../configure_and_validate.ipynb) notebook. Please stop here, open and run that notebook, then return to this notebook.\n",
    "\n",
    "If you are using the FABRIC JupyterHub many of the environment variables will be automatically configured for you.  You will still need to set your bastion username, upload your bastion private key, and set the path to where you put your bastion private key. Your bastion username and private key should already be in your possession.  \n",
    "\n",
    "If you are using the FABRIC API outside of the JupyterHub you will need to configure all of the environment variables. Defaults below will be correct in many situations but you will need to confirm your configuration.  If you have questions about this configuration, please contact the FABRIC admins using the [FABRIC User Forum](https://learn.fabric-testbed.net/forums/) \n",
    "\n",
    "More information about accessing your experiments through the FABRIC bastion hosts can be found [here](https://learn.fabric-testbed.net/knowledge-base/logging-into-fabric-vms/)."
   ]
  },
  {
   "cell_type": "markdown",
   "id": "2b571c06-bfd5-464a-acf4-d28845c8e840",
   "metadata": {
    "tags": []
   },
   "source": [
    "# Step 2: Importing the FABlib library"
   ]
  },
  {
   "cell_type": "code",
   "execution_count": 1,
   "id": "2e9c3ea6-f0b5-4e34-9a4c-82785ff386c4",
   "metadata": {},
   "outputs": [],
   "source": [
    "from fabrictestbed_extensions.fablib.fablib import FablibManager as fablib_manager\n",
    "fablib = fablib_manager()"
   ]
  },
  {
   "cell_type": "markdown",
   "id": "c2913e89-4188-4ebf-a24c-01cedd16540b",
   "metadata": {
    "tags": []
   },
   "source": [
    "# Step 3: Creating the experiment slice\n",
    "\n",
    "The following creates a node with basic compute and networking capabilities. You build a slice by creating a new slice and adding resources to the slice. After you build the slice, you must submit a request for the slice to be instantiated.   "
   ]
  },
  {
   "cell_type": "markdown",
   "id": "161198e4-00b0-4994-9de8-28e8bfb16cc8",
   "metadata": {
    "tags": []
   },
   "source": [
    "### Step 3.1: Creating a slice\n",
    "The code below creates a new slice with the name \"P4DPDK_lab3_vnic\""
   ]
  },
  {
   "cell_type": "code",
   "execution_count": 2,
   "id": "9c97d810-ac6a-4c04-892d-f0ddbe69954b",
   "metadata": {
    "tags": []
   },
   "outputs": [],
   "source": [
    "slice = fablib.new_slice(name=\"P4DPDK_lab3_vnic\")"
   ]
  },
  {
   "cell_type": "markdown",
   "id": "a0f228eb-d12b-4644-bbc4-df2e34bbdce8",
   "metadata": {
    "tags": []
   },
   "source": [
    "### Step 3.2: Defining the sites\n",
    "The code below requests a random site from FABRIC based on the condition that the following resources are available:\n",
    "\n",
    "<ul>\n",
    "    <li> 4 CPU cores</li>\n",
    "    <li> 8GB RAM </li>\n",
    "    <li> 20GB disc size\n",
    "</ul>"
   ]
  },
  {
   "cell_type": "code",
   "execution_count": 3,
   "id": "f28e0cf1-241d-4257-afbf-6aa44989d995",
   "metadata": {
    "tags": []
   },
   "outputs": [
    {
     "name": "stdout",
     "output_type": "stream",
     "text": [
      "The selected site is UCSD\n"
     ]
    }
   ],
   "source": [
    "site1= fablib.get_random_sites(count=1, filter_function=lambda x: x['cores_available'] > 4 and x['ram_available'] > 8 and x['disk_available'] > 20)[0]\n",
    "\n",
    "print (f'The selected site is {site1}')"
   ]
  },
  {
   "cell_type": "markdown",
   "id": "0f71fead-a091-4af0-95ec-bb264c016c43",
   "metadata": {
    "tags": []
   },
   "source": [
    "### Step 3.3: Creating the nodes\n",
    "The code below creates one node (server1) which uses the following:\n",
    "<ul>\n",
    "    <li> 4 CPU cores</li>\n",
    "    <li> 8GB RAM </li>\n",
    "    <li> 20GB disc size </li>\n",
    "    <li> Image: Ubuntu 20.04\n",
    "</ul>\n",
    "\n",
    "server1 will be created in site1"
   ]
  },
  {
   "cell_type": "code",
   "execution_count": 4,
   "id": "7713728b-2740-4e72-b5dd-7d3963012536",
   "metadata": {
    "tags": []
   },
   "outputs": [],
   "source": [
    "server1 = slice.add_node(name=\"server1\", \n",
    "                      site=site1, \n",
    "                      cores=4, \n",
    "                      ram=8, \n",
    "                      disk=20, \n",
    "                      image='default_ubuntu_20')"
   ]
  },
  {
   "cell_type": "markdown",
   "id": "53ab345c-d68e-440d-9fda-03d67472f1ca",
   "metadata": {},
   "source": [
    "### Step 3.4: Submitting the slice\n",
    "The code below submits the slice. \n",
    "By default, the submit function will block until the node is ready and will display the progress of your slice being built."
   ]
  },
  {
   "cell_type": "code",
   "execution_count": 5,
   "id": "e706c53c-7a38-4615-a86e-e8944197921f",
   "metadata": {},
   "outputs": [
    {
     "name": "stdout",
     "output_type": "stream",
     "text": [
      "\n",
      "Retry: 10, Time: 226 sec\n"
     ]
    },
    {
     "data": {
      "text/html": [
       "<style type=\"text/css\">\n",
       "#T_15c2e tr:nth-child(even) {\n",
       "  background: #dbf3ff;\n",
       "  color: #231f20;\n",
       "}\n",
       "#T_15c2e tr:nth-child(odd) {\n",
       "  background: #ffffff;\n",
       "  color: #231f20;\n",
       "}\n",
       "#T_15c2e caption {\n",
       "  text-align: center;\n",
       "  font-size: 150%;\n",
       "}\n",
       "#T_15c2e_row0_col0, #T_15c2e_row0_col1, #T_15c2e_row1_col0, #T_15c2e_row1_col1, #T_15c2e_row2_col0, #T_15c2e_row2_col1, #T_15c2e_row3_col0, #T_15c2e_row3_col1, #T_15c2e_row4_col0, #T_15c2e_row4_col1, #T_15c2e_row5_col0 {\n",
       "  text-align: left;\n",
       "  border: 1px #231f20 solid !important;\n",
       "  overwrite: False;\n",
       "  background-color: ;\n",
       "}\n",
       "#T_15c2e_row5_col1 {\n",
       "  text-align: left;\n",
       "  border: 1px #231f20 solid !important;\n",
       "  overwrite: False;\n",
       "  background-color: #c3ffc4;\n",
       "}\n",
       "</style>\n",
       "<table id=\"T_15c2e\">\n",
       "  <caption>Slice</caption>\n",
       "  <thead>\n",
       "  </thead>\n",
       "  <tbody>\n",
       "    <tr>\n",
       "      <td id=\"T_15c2e_row0_col0\" class=\"data row0 col0\" >ID</td>\n",
       "      <td id=\"T_15c2e_row0_col1\" class=\"data row0 col1\" >588d5548-e8bc-42b5-b209-cb0a376ba4db</td>\n",
       "    </tr>\n",
       "    <tr>\n",
       "      <td id=\"T_15c2e_row1_col0\" class=\"data row1 col0\" >Name</td>\n",
       "      <td id=\"T_15c2e_row1_col1\" class=\"data row1 col1\" >P4DPDK_lab3_vnic</td>\n",
       "    </tr>\n",
       "    <tr>\n",
       "      <td id=\"T_15c2e_row2_col0\" class=\"data row2 col0\" >Lease Expiration (UTC)</td>\n",
       "      <td id=\"T_15c2e_row2_col1\" class=\"data row2 col1\" >2024-09-03 20:20:13 +0000</td>\n",
       "    </tr>\n",
       "    <tr>\n",
       "      <td id=\"T_15c2e_row3_col0\" class=\"data row3 col0\" >Lease Start (UTC)</td>\n",
       "      <td id=\"T_15c2e_row3_col1\" class=\"data row3 col1\" >2024-09-02 20:20:13 +0000</td>\n",
       "    </tr>\n",
       "    <tr>\n",
       "      <td id=\"T_15c2e_row4_col0\" class=\"data row4 col0\" >Project ID</td>\n",
       "      <td id=\"T_15c2e_row4_col1\" class=\"data row4 col1\" >8eaa3ec2-65e7-49a3-8c09-e1761141a6ad</td>\n",
       "    </tr>\n",
       "    <tr>\n",
       "      <td id=\"T_15c2e_row5_col0\" class=\"data row5 col0\" >State</td>\n",
       "      <td id=\"T_15c2e_row5_col1\" class=\"data row5 col1\" >StableOK</td>\n",
       "    </tr>\n",
       "  </tbody>\n",
       "</table>\n"
      ],
      "text/plain": [
       "<pandas.io.formats.style.Styler at 0x7d789c63b990>"
      ]
     },
     "metadata": {},
     "output_type": "display_data"
    },
    {
     "data": {
      "text/html": [
       "<style type=\"text/css\">\n",
       "#T_3ebf3 caption {\n",
       "  text-align: center;\n",
       "  font-size: 150%;\n",
       "  caption-side: top;\n",
       "}\n",
       "#T_3ebf3 th {\n",
       "  text-align: left;\n",
       "}\n",
       "#T_3ebf3 tr:nth-child(even) {\n",
       "  background: #ffffff;\n",
       "  color: #231f20;\n",
       "}\n",
       "#T_3ebf3 tr:nth-child(odd) {\n",
       "  background: #dbf3ff;\n",
       "  color: #231f20;\n",
       "}\n",
       "#T_3ebf3 .level0 {\n",
       "  border: 1px black solid !important;\n",
       "  background: #ffffff;\n",
       "  color: #231f20;\n",
       "}\n",
       "#T_3ebf3_row0_col0, #T_3ebf3_row0_col1, #T_3ebf3_row0_col2, #T_3ebf3_row0_col3, #T_3ebf3_row0_col4, #T_3ebf3_row0_col5, #T_3ebf3_row0_col6, #T_3ebf3_row0_col7, #T_3ebf3_row0_col8, #T_3ebf3_row0_col9, #T_3ebf3_row0_col10, #T_3ebf3_row0_col13, #T_3ebf3_row0_col14, #T_3ebf3_row0_col15 {\n",
       "  text-align: left;\n",
       "  border: 1px #231f20 solid !important;\n",
       "  overwrite: False;\n",
       "}\n",
       "#T_3ebf3_row0_col11 {\n",
       "  text-align: left;\n",
       "  border: 1px #231f20 solid !important;\n",
       "  overwrite: False;\n",
       "  background-color: #c3ffc4;\n",
       "}\n",
       "#T_3ebf3_row0_col12 {\n",
       "  text-align: left;\n",
       "  border: 1px #231f20 solid !important;\n",
       "  overwrite: False;\n",
       "  background-color: ;\n",
       "}\n",
       "</style>\n",
       "<table id=\"T_3ebf3\">\n",
       "  <caption>Nodes</caption>\n",
       "  <thead>\n",
       "    <tr>\n",
       "      <th id=\"T_3ebf3_level0_col0\" class=\"col_heading level0 col0\" >ID</th>\n",
       "      <th id=\"T_3ebf3_level0_col1\" class=\"col_heading level0 col1\" >Name</th>\n",
       "      <th id=\"T_3ebf3_level0_col2\" class=\"col_heading level0 col2\" >Cores</th>\n",
       "      <th id=\"T_3ebf3_level0_col3\" class=\"col_heading level0 col3\" >RAM</th>\n",
       "      <th id=\"T_3ebf3_level0_col4\" class=\"col_heading level0 col4\" >Disk</th>\n",
       "      <th id=\"T_3ebf3_level0_col5\" class=\"col_heading level0 col5\" >Image</th>\n",
       "      <th id=\"T_3ebf3_level0_col6\" class=\"col_heading level0 col6\" >Image Type</th>\n",
       "      <th id=\"T_3ebf3_level0_col7\" class=\"col_heading level0 col7\" >Host</th>\n",
       "      <th id=\"T_3ebf3_level0_col8\" class=\"col_heading level0 col8\" >Site</th>\n",
       "      <th id=\"T_3ebf3_level0_col9\" class=\"col_heading level0 col9\" >Username</th>\n",
       "      <th id=\"T_3ebf3_level0_col10\" class=\"col_heading level0 col10\" >Management IP</th>\n",
       "      <th id=\"T_3ebf3_level0_col11\" class=\"col_heading level0 col11\" >State</th>\n",
       "      <th id=\"T_3ebf3_level0_col12\" class=\"col_heading level0 col12\" >Error</th>\n",
       "      <th id=\"T_3ebf3_level0_col13\" class=\"col_heading level0 col13\" >SSH Command</th>\n",
       "      <th id=\"T_3ebf3_level0_col14\" class=\"col_heading level0 col14\" >Public SSH Key File</th>\n",
       "      <th id=\"T_3ebf3_level0_col15\" class=\"col_heading level0 col15\" >Private SSH Key File</th>\n",
       "    </tr>\n",
       "  </thead>\n",
       "  <tbody>\n",
       "    <tr>\n",
       "      <td id=\"T_3ebf3_row0_col0\" class=\"data row0 col0\" >dc9ef7a2-909c-4e5b-a337-9be791b105b6</td>\n",
       "      <td id=\"T_3ebf3_row0_col1\" class=\"data row0 col1\" >server1</td>\n",
       "      <td id=\"T_3ebf3_row0_col2\" class=\"data row0 col2\" >4</td>\n",
       "      <td id=\"T_3ebf3_row0_col3\" class=\"data row0 col3\" >8</td>\n",
       "      <td id=\"T_3ebf3_row0_col4\" class=\"data row0 col4\" >100</td>\n",
       "      <td id=\"T_3ebf3_row0_col5\" class=\"data row0 col5\" >default_ubuntu_20</td>\n",
       "      <td id=\"T_3ebf3_row0_col6\" class=\"data row0 col6\" >qcow2</td>\n",
       "      <td id=\"T_3ebf3_row0_col7\" class=\"data row0 col7\" >ucsd-w2.fabric-testbed.net</td>\n",
       "      <td id=\"T_3ebf3_row0_col8\" class=\"data row0 col8\" >UCSD</td>\n",
       "      <td id=\"T_3ebf3_row0_col9\" class=\"data row0 col9\" >ubuntu</td>\n",
       "      <td id=\"T_3ebf3_row0_col10\" class=\"data row0 col10\" >132.249.252.178</td>\n",
       "      <td id=\"T_3ebf3_row0_col11\" class=\"data row0 col11\" >Active</td>\n",
       "      <td id=\"T_3ebf3_row0_col12\" class=\"data row0 col12\" ></td>\n",
       "      <td id=\"T_3ebf3_row0_col13\" class=\"data row0 col13\" >ssh -i /home/fabric/work/fabric_config/slice_key -F /home/fabric/work/fabric_config/ssh_config ubuntu@132.249.252.178</td>\n",
       "      <td id=\"T_3ebf3_row0_col14\" class=\"data row0 col14\" >/home/fabric/work/fabric_config/slice_key.pub</td>\n",
       "      <td id=\"T_3ebf3_row0_col15\" class=\"data row0 col15\" >/home/fabric/work/fabric_config/slice_key</td>\n",
       "    </tr>\n",
       "  </tbody>\n",
       "</table>\n"
      ],
      "text/plain": [
       "<pandas.io.formats.style.Styler at 0x7d789c545490>"
      ]
     },
     "metadata": {},
     "output_type": "display_data"
    }
   ],
   "source": [
    "slice.submit();"
   ]
  },
  {
   "cell_type": "markdown",
   "id": "05bfa5ff-9374-4823-9ea0-09f045a91684",
   "metadata": {},
   "source": [
    "# Step 4: Installing the required packages\n",
    "In this step, we will install the required packages to run the lab. Specifically, we will install the DPDK library, the P4 compiler (p4c), and all needed dependencies."
   ]
  },
  {
   "cell_type": "markdown",
   "id": "72c40316-489b-428d-82de-eb92e87c87dc",
   "metadata": {},
   "source": [
    "### Step 4.1 Getting the server node\n",
    "The command below gets the fablib node that server1 is associated with."
   ]
  },
  {
   "cell_type": "code",
   "execution_count": 6,
   "id": "61333554-ef05-480e-bee6-c2a035213b0c",
   "metadata": {},
   "outputs": [],
   "source": [
    "server1 = slice.get_node(name=\"server1\")"
   ]
  },
  {
   "cell_type": "markdown",
   "id": "1ab6f042-3232-4245-9a5b-9e163b1bb8f4",
   "metadata": {},
   "source": [
    "### Step 4.2 NAT64 setup\n",
    "The code below checks if an IPv6 address is available to set up NAT64. We will upload the script [scripts/nat64.sh](./scripts/nat64.sh) to the all servers and execute it"
   ]
  },
  {
   "cell_type": "code",
   "execution_count": 7,
   "id": "00430e7b-472e-4d5b-a81d-03dfaaec14ae",
   "metadata": {},
   "outputs": [],
   "source": [
    "from ipaddress import ip_address, IPv6Address\n",
    "\n",
    "if type(ip_address(server1.get_management_ip())) is IPv6Address:\n",
    "    server1.upload_file('scripts/nat64.sh', 'nat64.sh')\n",
    "    stdout, stderr = server1.execute(f'chmod +x nat64.sh && ./nat64.sh', quiet=True)"
   ]
  },
  {
   "cell_type": "markdown",
   "id": "6c187536-f87c-47ae-9ced-9cf234f70c45",
   "metadata": {},
   "source": [
    "### Step 4.3 Installing dependencies\n",
    "The code below installs packages that are prerequisites to the upcoming installations and needed to run the lab experiments"
   ]
  },
  {
   "cell_type": "code",
   "execution_count": 59,
   "id": "c8d516e3-323e-44c7-bec8-45a2d48a0936",
   "metadata": {},
   "outputs": [],
   "source": [
    "stdout, stderr = server1.execute(f'sudo apt-get update', quiet = True)\n",
    "stdout, stderr = server1.execute(f'sudo apt-get install -y build-essential python3-pip python3-pyelftools libnuma-dev pkg-config net-tools', quiet = True)\n",
    "stdout, stderr = server1.execute(f'sudo pip3 install meson ninja scapy', quiet = True)"
   ]
  },
  {
   "cell_type": "markdown",
   "id": "ea007d60-a00c-4c48-aab9-a9dc3ef16931",
   "metadata": {
    "tags": []
   },
   "source": [
    "### Step 4.4 Installing DPDK\n",
    "The code below downloads, builds, and installs DPDK on all servers. In this lab, we are building a modified version of DPDK in which we enabled logs in the terminal to have a better understanding of the behavior of the built pipeline. Note that printing out logs on the terminal degrades performance. Therefore, with applications where high performance is needed, logging should be disabled.  "
   ]
  },
  {
   "cell_type": "code",
   "execution_count": 9,
   "id": "66a161e7-65b6-403f-8e3e-8a8d1fe19a7f",
   "metadata": {},
   "outputs": [],
   "source": [
    "stdout, stderr = server1.execute(f'git clone http://dpdk.org/git/dpdk', quiet = True)\n",
    "stdout, stderr = server1.execute(f'cd dpdk/lib/pipeline/ &&  sudo rm rte_swx_pipeline.c && sudo rm rte_swx_pipeline_internal.h', quiet = True)\n",
    "server1.upload_file('scripts/rte_swx_pipeline.c','/home/ubuntu/dpdk/lib/pipeline/rte_swx_pipeline.c')\n",
    "server1.upload_file('scripts/rte_swx_pipeline_internal.h','/home/ubuntu/dpdk/lib/pipeline/rte_swx_pipeline_internal.h')\n",
    "stdout, stderr = server1.execute(f'cd dpdk &&  sudo meson build && cd build && sudo ninja && sudo ninja install && sudo ldconfig', quiet = True)\n",
    "stdout, stderr = server1.execute(f'cd dpdk/examples/pipeline && sudo make', quiet=True)"
   ]
  },
  {
   "cell_type": "markdown",
   "id": "e3663be2-ae7e-4352-9659-4ac52b2b32b5",
   "metadata": {
    "tags": []
   },
   "source": [
    "### Step 4.5 Install p4c\n",
    "The code below downloads and installs the p4c compiler needed to compile the p4 code into a DPDK pipeline"
   ]
  },
  {
   "cell_type": "code",
   "execution_count": 10,
   "id": "cf0857a2-7ec6-4ed3-92c4-6eed2e697d0b",
   "metadata": {},
   "outputs": [],
   "source": [
    "stdout, stderr = server1.execute('git clone https://github.com/CILab-USC/p4c.git', quiet = True)\n",
    "stdout, stderr = server1.execute('sudo apt-get install -y cmake g++ git automake libtool libgc-dev bison flex libfl-dev libboost-dev libboost-iostreams-dev libboost-graph-dev llvm pkg-config python3 python3-pip tcpdump', quiet = True)\n",
    "stdout, stderr = server1.execute('cd p4c && pip3 install --user -r requirements.txt && mkdir build && cd build && cmake .. && make -j4  && sudo make install', quiet = True)"
   ]
  },
  {
   "attachments": {},
   "cell_type": "markdown",
   "id": "605f69d0-28f7-4c03-be6f-c51d0515f872",
   "metadata": {},
   "source": [
    "# Step 5: Writing and compiling the P4 code\n",
    "This section demonstrates how to define custom headers in a P4 program. It also shows how to use constants and typedefs to make the program more readable."
   ]
  },
  {
   "cell_type": "markdown",
   "id": "47325930-ee8e-4ab4-8ab5-9bf176275210",
   "metadata": {},
   "source": [
    "## Step 5.1: Defining headers in the headers.p4 file"
   ]
  },
  {
   "cell_type": "markdown",
   "id": "cce0f73d-b6b8-4149-8250-9cbb08079f21",
   "metadata": {},
   "source": [
    "Click on [headers.p4](./labs_files/lab3/headers.p4) to open the code in the editor.\n",
    "\n",
    "<img src=\"./labs_files/lab3/figs/5_01_01.png\" width=\"700px\"><br>\n",
    "We can see that the headers.p4 file is empty and we have to fill it.\n",
    "\n",
    "<hr>\n",
    "\n",
    "We will start by defining some typedefs. Write the following in the headers.p4 file.\n",
    "\n",
    "    typedef bit<48> EthernetAddress;\n",
    "    typedef bit<32> IP4Address;\n",
    "    const bit<16> TYPE_IPV4 = 0x0800;\n",
    "    const bit<8> TYPE_TCP = 6;\n",
    "\n",
    "<img src=\"./labs_files/lab3/figs/5_01_02.png\" width=\"700\"><br>\n",
    "\n",
    "In the figure above the typedef declaration used (lines 2 - 5) is used to assign alternative names to types. Here we are saying that ```EthernetAddress``` can be used instead of ```bit<48>``` and ```IP4Address``` instead of ```bit<32>```.  We will use this typedef when defining the headers. Lines 4 and 5 show how to define constants with the name ```TYPE_IPV4``` set to a value of ```0x800``` and the name ```TYPE_TCP``` set to a value of ```6```. We will use these values in the parser implementation.\n",
    "\n",
    "<hr>\n",
    "\n",
    "Now we will define the Ethernet header. Add the following code to the headers.p4 file.\n",
    "\n",
    "    header ethernet_t {\n",
    "        EthernetAddress dstAddr;\n",
    "        EthernetAddress srcAddr;\n",
    "        bit<16> etherType; }\n",
    "\n",
    "<img src=\"./labs_files/lab3/figs/5_01_03.png\" width=\"700\"><br>\n",
    "\n",
    "Note how we used the typedef ```EthernetAddress``` which corresponds to ```bit<48>``` when defining the destination MAC address field (```dstAddr```) and the source MAC address field (```srcAddr```). Note how we are mapping the fields to those defined in the standard Ethernet header (see Figure 1). \n",
    "\n",
    "<hr>\n",
    "\n",
    "Now we will define the IPv4 header. Add the following code to the headers.p4 file.\n",
    "\n",
    "    header ipv4_t {\n",
    "        bit<4>     version;\n",
    "        bit<4>     ihl;\n",
    "        bit<8>     diffserv;\n",
    "        bit<16>    totalLen;\n",
    "        bit<16>    identification;\n",
    "        bit<3>     flags;\n",
    "        bit<13>    fragOffset;\n",
    "        bit<8>     ttl;\n",
    "        bit<8>     protocol;\n",
    "        bit<16>    hdrChecksum;\n",
    "        IP4Address srcAddr;\n",
    "        IP4Address dstAddr; }\n",
    "\n",
    "\n",
    "<img src=\"./labs_files/lab3/figs/5_01_04.png\" width=\"700\"><br>\n",
    "\n",
    "Consider the figure above. Note how we used the typedef ```IP4Address``` which corresponds to ```bit<32>``` when defining the source IP address field (```srcAddr```) and the destination IP address field (```dstAddr```). Also, note how we are mapping the fields to those defined in the standard IPv4 header (see Figure 2).\n",
    "\n",
    "<hr>\n",
    "\n",
    "Now we will define the TCP header. Add the following code to the headers.p4 file.\n",
    "\n",
    "    header tcp_t {\n",
    "        bit<16>  srcPort;\n",
    "        bit<16>  dstPort;\n",
    "        bit<32>  seqNo;\n",
    "        bit<32>  ackNo;\n",
    "        bit<4>   dataOffset;\n",
    "        bit<3>   res;\n",
    "        bit<3>   ecn;\n",
    "        bit<6>   ctrl;\n",
    "        bit<16>  window;\n",
    "        bit<16>  checksum;\n",
    "        bit<16>  urgentPtr; }\n",
    "\n",
    "\n",
    "<img src=\"./labs_files/lab3/figs/5_01_05.png\" width=\"700\"><br>\n",
    "\n",
    "Consider the figure above. Note how we are mapping the fields to those defined in the standard TCP header (see Figure 3). The Flags field which is usually represented in 9 bits is split into two: Explicit Congestion Notification Flags (ecn) represented by 3 bits and the Control Flags (ctrl) represented by 6 bits.\n",
    "\n",
    "<hr>\n",
    "\n",
    "Now we will create a struct to represent our metadata. Metadata is passed from one block to another as the packet propagates through the architecture. For simplicity, this program does not require any user metadata, and hence we will define it as empty with no fields. Add the following to the headers.p4 file.\n",
    "\n",
    "    struct metadata {\n",
    "        /* empty */\n",
    "    }\n",
    "\n",
    "<img src=\"./labs_files/lab3/figs/5_01_06.png\" width=\"700\"><br>\n",
    "\n",
    "<hr>\n",
    "\n",
    "Now we will create a struct to represent our metadata. Metadata is passed from one block to another as the packet propagates through the architecture. For simplicity, this program does not require any user metadata, and hence we will define it as empty with no fields. Add the following to the headers.p4 file.\n",
    "\n",
    "    struct headers {\n",
    "        ethernet_t   ethernet;\n",
    "        ipv4_t       ipv4;\n",
    "        tcp_t        tcp;}\n",
    "\n",
    "<img src=\"./labs_files/lab3/figs/5_01_07.png\" width=\"700\"><br>\n",
    "\n",
    "<hr>\n",
    "\n",
    "Save the changes by pressing ```Ctrl+s```."
   ]
  },
  {
   "cell_type": "markdown",
   "id": "2c9b2dd5-ab09-43fb-a65b-223f07b9d4d9",
   "metadata": {},
   "source": [
    "## Step 5.2: Implementing the parser"
   ]
  },
  {
   "cell_type": "markdown",
   "id": "33dd2d91-a57e-4635-8829-d754923c0028",
   "metadata": {},
   "source": [
    "Click on [parser.p4](./labs_files/lab3/parser.p4) to open the code in the editor.\n",
    "\n",
    "<img src=\"./labs_files/lab3/figs/5_02_01.png\" width=\"700px\"><br>\n",
    "\n",
    "We can see that the headers.p4 file that we just filled out is included here in the parser. The file also includes a starter code that declares a parser named MyParser. Note how the headers and the metadata structs that we defined previously are passed as parameters to the parser. \n",
    "\n",
    "<hr>\n",
    "\n",
    "Add the start state inside the parser by inserting the following code.\n",
    "\n",
    "    state start {\n",
    "         transition parse_ethernet;\n",
    "    }\n",
    "\n",
    "<img src=\"./labs_files/lab3/figs/5_02_02.png\" width=\"700\"><br>\n",
    "\n",
    "The start ```state``` is the state where the parser begins parsing the packet. Here we are transitioning unconditionally to the ```parse_ethernet``` state.\n",
    "\n",
    "<hr>\n",
    "\n",
    "Add the parse_ethernet state inside the parser by inserting the following code.\n",
    "\n",
    "    state parse_ethernet {\n",
    "       packet.extract(hdr.ethernet);\n",
    "       transition select(hdr.ethernet.etherType) {\n",
    "       \tTYPE_IPV4: parse_ipv4;\n",
    "       \tdefault: accept;\n",
    "       }\n",
    "    }\n",
    "\n",
    "<img src=\"./labs_files/lab3/figs/5_02_03.png\" width=\"700\"><br>\n",
    "\n",
    "The ```parse_ethernet``` state extracts the Ethernet header and checks for the value of the header field ```etherType```. Note how we reference a header field by specifying the header to which that field belongs (i.e., ```hdr.ethernet.etherType```). If the value of ```etherType``` is ```TYPE_IPV4``` (which corresponds to 0x0800 as defined previously), the parser transitions to the ```parse_ipv4 state```. Otherwise, the execution of the parser terminates.\n",
    "\n",
    "<hr>\n",
    "\n",
    "Add the parse_ipv4 state inside the parser by inserting the following code.\n",
    "\n",
    "    state parse_ipv4 {\n",
    "       packet.extract(hdr.ipv4);\n",
    "       transition select(hdr.ipv4.protocol) {\n",
    "       \tTYPE_TCP: parse_tcp;\n",
    "       \tdefault: accept;\n",
    "       }\n",
    "    }\n",
    "\n",
    "<img src=\"./labs_files/lab3/figs/5_02_04.png\" width=\"700\"><br>\n",
    "\n",
    "The``` parse_ipv4``` state extracts the IPv4 header and checks for the value of the header field ```protocol```. Note how we reference a header field by specifying the header to which that field belongs (i.e., ```hdr.ipv4.protocol```). If the value of ```protocol``` is ```TYPE_TCP``` (which corresponds to 6 as defined previously), the parser transitions to the ```parse_tcp``` state. Otherwise, the execution of the parser terminates.\n",
    "\n",
    "<hr>\n",
    "\n",
    "Add the parse_tcp state inside the parser by inserting the following code.\n",
    "\n",
    "    state parse_tcp {\n",
    "        packet.extract(hdr.tcp);\n",
    "        transition accept;\n",
    "    }\n",
    "\n",
    "<img src=\"./labs_files/lab3/figs/5_02_05.png\" width=\"700\"><br>\n",
    "\n",
    "The ```parse_tcp``` state extracts the TCP header and terminates the execution of the parser.\n",
    "\n",
    "<hr>\n",
    "\n",
    "Save the changes by pressing ```Ctrl+s```."
   ]
  },
  {
   "cell_type": "markdown",
   "id": "1be69c05-19ee-4e09-b68d-b450bfad0fc1",
   "metadata": {},
   "source": [
    "## Step 5.3: Compiling the P4 code\n",
    "To upload all needed P4 codes and compile main.p4, issue the following command."
   ]
  },
  {
   "cell_type": "code",
   "execution_count": 63,
   "id": "c4a28c3a-9a46-4e3c-88da-015cbecdf9d9",
   "metadata": {},
   "outputs": [
    {
     "name": "stdout",
     "output_type": "stream",
     "text": [
      "control.p4\n",
      "deparser.p4\n",
      "dpdk\n",
      "ethdev.io\n",
      "headers.p4\n",
      "host_tune.sh\n",
      "lab3.cli\n",
      "lab3.spec\n",
      "main.p4\n",
      "p4c\n",
      "parser.p4\n",
      "precontrol.p4\n",
      "run_pipeline.sh\n",
      "sender.py\n",
      "set_topology.sh\n",
      "tmpfile\n"
     ]
    }
   ],
   "source": [
    "server1.upload_file('labs_files/lab3/headers.p4','headers.p4')\n",
    "server1.upload_file('labs_files/lab3/parser.p4','parser.p4')\n",
    "server1.upload_file('labs_files/lab3/precontrol.p4','precontrol.p4')\n",
    "server1.upload_file('labs_files/lab3/control.p4','control.p4')\n",
    "server1.upload_file('labs_files/lab3/deparser.p4','deparser.p4')\n",
    "server1.upload_file('labs_files/lab3/main.p4','main.p4')\n",
    "stdout, stderr = server1.execute(f'sudo p4c-dpdk --arch=pna main.p4 -o lab3.spec')\n",
    "stdout, stderr = server1.execute(f'ls')"
   ]
  },
  {
   "cell_type": "markdown",
   "id": "99d9703e-31df-4bc7-84e7-55282f5b23af",
   "metadata": {},
   "source": [
    "The command above invokes the ```p4c-dpdk``` compiler to compile the ```main.p4``` program and generates the ```lab3.spec``` file which is a specification file needed to run the pipeline."
   ]
  },
  {
   "cell_type": "markdown",
   "id": "1ab728d9-c42b-40d3-8384-42d85a6dad09",
   "metadata": {},
   "source": [
    "# Step 6: Running the P4-DPDK pipeline and the lab topology\n",
    "This section shows the steps required to run the P4-DPDK along with building the lab topology. In this lab, the procedure is automated."
   ]
  },
  {
   "cell_type": "markdown",
   "id": "51dff360-7ab3-4b31-a3c7-ddb4ad6c1d75",
   "metadata": {},
   "source": [
    "## Step 6.1: Uploading required scripts\n",
    "The code below uploads to server1 the CLI and I/O scripts, along with other scripts needed to automate the process of running the pipeline and building the topology."
   ]
  },
  {
   "cell_type": "code",
   "execution_count": 55,
   "id": "669fc8a7-d84d-4bf1-b22a-fc6ba823f7d7",
   "metadata": {},
   "outputs": [],
   "source": [
    "server1.upload_file('labs_files/lab3/lab3.cli','lab3.cli')\n",
    "server1.upload_file('labs_files/lab3/ethdev.io','ethdev.io')\n",
    "server1.upload_file('labs_files/lab3/run_pipeline.sh','run_pipeline.sh')\n",
    "server1.upload_file('labs_files/lab3/set_topology.sh','set_topology.sh')\n",
    "server1.upload_file('labs_files/lab3/sender.py','sender.py')\n",
    "stdout, stderr = server1.execute(f'chmod +x run_pipeline.sh')\n",
    "stdout, stderr = server1.execute(f'chmod +x set_topology.sh')\n",
    "stdout, stderr = server1.execute(f'chmod +x sender.py')"
   ]
  },
  {
   "cell_type": "markdown",
   "id": "4886aad9-21e8-420e-9657-306ab541b8e5",
   "metadata": {},
   "source": [
    "## Step 6.2: Opening a terminal\n",
    "Launch a new terminal by opening a new tab and then select \"terminal\".\n",
    "\n",
    "<img src=\"./labs_files/lab3/figs/6_02_terminal.gif\" width=\"1000px\"><br>\n",
    "\n",
    "Copy the output of the command below and paste it into the terminal to enter server1."
   ]
  },
  {
   "cell_type": "code",
   "execution_count": 14,
   "id": "6b96a8c8-e602-405c-bef5-6cd04c4a87d3",
   "metadata": {},
   "outputs": [
    {
     "data": {
      "text/plain": [
       "'ssh -i /home/fabric/work/fabric_config/slice_key -F /home/fabric/work/fabric_config/ssh_config ubuntu@132.249.252.178'"
      ]
     },
     "execution_count": 14,
     "metadata": {},
     "output_type": "execute_result"
    }
   ],
   "source": [
    "server1.get_ssh_command()"
   ]
  },
  {
   "cell_type": "markdown",
   "id": "40f25aaf-85b0-485e-84da-291944f01802",
   "metadata": {},
   "source": [
    "## Step 6.3: Running the P4-DPDK pipeline\n",
    "Build and run the pipeline by typing the following command:\n",
    "\n",
    "    sudo ./run_pipeline.sh\n",
    "    \n",
    "<img src=\"./labs_files/lab3/figs/6_03.png\" width=\"650px\"><br>\n",
    "\n",
    "The ```run_pipeline.sh``` script is a shell script that automates the process of running the P4-DPDK pipeline. In this lab, part of the pipeline output is hidden to display only the relevant logs."
   ]
  },
  {
   "cell_type": "markdown",
   "id": "4dfe858d-6e62-4e6e-b805-071956d36eb8",
   "metadata": {},
   "source": [
    "## Step 6.4: Building the lab topology\n",
    "The code below uploads to server1 the CLI and I/O scripts, along with other scripts needed to automate the process of running the pipeline and building the topology."
   ]
  },
  {
   "cell_type": "code",
   "execution_count": 69,
   "id": "060593e8-d2c3-4c59-95c2-8a61fc1c8f13",
   "metadata": {},
   "outputs": [],
   "source": [
    "stdout, stderr = server1.execute(f'sudo ./set_topology.sh')"
   ]
  },
  {
   "cell_type": "markdown",
   "id": "2dbcb5dc-bb89-42c6-87d7-da57daed2dd6",
   "metadata": {
    "tags": []
   },
   "source": [
    "The set_topology.sh script is a shell script that automates the process of building the lab topology. Two namespaces are built and configured in this step with a virtual device linked to each as shown in the figure below.\n",
    "\n",
    "<img src=\"./labs_files/lab1/figs/6_04_ip.png\" width=\"550px\"><br>"
   ]
  },
  {
   "cell_type": "markdown",
   "id": "0321f656-057b-4cce-85a9-12a538279c0c",
   "metadata": {},
   "source": [
    "# Step 7: Testing the application"
   ]
  },
  {
   "cell_type": "markdown",
   "id": "3f293962-481c-4d21-a656-2d7990ac1022",
   "metadata": {
    "tags": []
   },
   "source": [
    "### Step 7.1: Sending an ethernet packet from h1 to h2\n",
    "To test the application, we will send a packet with an ethernet header from h1 to h2 by running the provided Python script sender.py "
   ]
  },
  {
   "cell_type": "code",
   "execution_count": 70,
   "id": "a4682dca-966b-4a5a-a204-68e34989b9c0",
   "metadata": {},
   "outputs": [
    {
     "name": "stdout",
     "output_type": "stream",
     "text": [
      ".\u001b[31m WARNING: Interface lo: no address assigned\n",
      " \u001b[0mReceiving host: h2\n",
      "Packet headers: eth\n",
      "\n",
      "Sent 1 packets.\n"
     ]
    }
   ],
   "source": [
    "stdout, stderr = server1.execute(f'sudo ip netns exec h1 python3 sender.py -r h2 -ph eth')"
   ]
  },
  {
   "cell_type": "markdown",
   "id": "2e679989-6fcf-4c7a-8f60-e958095cd167",
   "metadata": {},
   "source": [
    "Running the Python script requires two parameters:\n",
    "\n",
    "•\t```-r```: receiving host (h1 or h2) <br>\n",
    "•\t-```ph```: included packet headers (eth or eth/ipv4 or eth/ipv4/tcp)\n"
   ]
  },
  {
   "cell_type": "markdown",
   "id": "4e0bdfc2-3798-41b8-b71b-709ca1ae1c75",
   "metadata": {
    "tags": []
   },
   "source": [
    "### Step 7.2: Inspect the pipeline terminal\n",
    "\n",
    "Observe the DPDK logs at the bottom of the terminal. These logs correspond to the packet processing function executed in the .spec file generated when the P4 code is compiled. \n",
    "\n",
    "<img src=\"./labs_files/lab3/figs/7_02.png\" width=\"800px\"><br>\n",
    "\n",
    "The “extract header” log followed by the header ID “0” in the grey box, corresponds to the parsed ethernet header with the size of 14 bytes (112 bits) as declared in the headers.p4 file. The header ID is an indicator of the parsed header order. Therefore “header 0” is the first parsed header. Note that the IPv4 header (header 1) and the TCP header (header 2) were not extracted and not emitted (invalid) since they were not included in the sent packet.\n",
    "\n",
    "The “tx 1 pkt to port 1” log indicated that one packet has been sent to port 1 which corresponds to host 2.\n",
    "\n",
    "For a more readable output press enter in the terminal a few times (five times) to provide space for the next logs."
   ]
  },
  {
   "cell_type": "markdown",
   "id": "0bcbf56d-36cc-436a-9765-3d1b0877d699",
   "metadata": {
    "tags": []
   },
   "source": [
    "### Step 7.3: Sending an IP packet from h1 to h2\n",
    "We will send a packet with an Ethernet and IPv4 header from h1 to h2 by running the provided Python script sender.py."
   ]
  },
  {
   "cell_type": "code",
   "execution_count": 71,
   "id": "49bc8daa-0d18-4599-a47f-5b5a9b5197bc",
   "metadata": {},
   "outputs": [
    {
     "name": "stdout",
     "output_type": "stream",
     "text": [
      ".\u001b[31m WARNING: Interface lo: no address assigned\n",
      " \u001b[0mReceiving host: h2\n",
      "Packet headers: eth/ipv4\n",
      "\n",
      "Sent 1 packets.\n"
     ]
    }
   ],
   "source": [
    "stdout, stderr = server1.execute(f'sudo ip netns exec h1 python3 sender.py -r h2 -ph eth/ipv4')"
   ]
  },
  {
   "cell_type": "markdown",
   "id": "47a165ee-32f9-4440-8794-28e808db0b18",
   "metadata": {
    "tags": []
   },
   "source": [
    "### Step 7.4: Inspect the pipeline terminal\n",
    "\n",
    "<img src=\"./labs_files/lab3/figs/7_04.png\" width=\"800px\"><br>\n",
    "\n",
    "The “extract header” log appears twice in the grey box, corresponding to the parsed ethernet header (header 0) with a size of 14 bytes (112 bits) and the parsed IPv4 header (header 1) with a size of 20 bytes (160 bits) as declared in the headers.p4 file. Note that the TCP header (header 2) was not extracted and not emitted (invalid) since it was not included in the sent packet.\n",
    "\n",
    "The “tx 1 pkt to port 1” log indicated that one packet has been sent to port 1 which corresponds to host 2.\n",
    "\n",
    "For a more readable output press enter in the terminal a few times (five times) to provide space for the next logs."
   ]
  },
  {
   "cell_type": "markdown",
   "id": "d4ea1d0d-0f91-46af-ad0d-baec43881e33",
   "metadata": {
    "tags": []
   },
   "source": [
    "### Step 7.5: Sending an TCP packet from h1 to h2\n",
    "We will send a packet with an ethernet, IPv4, and TCP header from h1 to h2 by running the provided Python script sender.py."
   ]
  },
  {
   "cell_type": "code",
   "execution_count": 72,
   "id": "f4b01d2d-fb35-48da-8868-b0262d9d677f",
   "metadata": {},
   "outputs": [
    {
     "name": "stdout",
     "output_type": "stream",
     "text": [
      ".\u001b[31m WARNING: Interface lo: no address assigned\n",
      " \u001b[0mReceiving host: h2\n",
      "Packet headers: eth/ipv4/tcp\n",
      "\n",
      "Sent 1 packets.\n"
     ]
    }
   ],
   "source": [
    "stdout, stderr = server1.execute(f'sudo ip netns exec h1 python3 sender.py -r h2 -ph eth/ipv4/tcp')"
   ]
  },
  {
   "cell_type": "markdown",
   "id": "da137b52-4bb0-4121-9eb5-ffdd63fc3466",
   "metadata": {
    "tags": []
   },
   "source": [
    "### Step 7.6: Inspect the pipeline terminal\n",
    "\n",
    "<img src=\"./labs_files/lab3/figs/7_06.png\" width=\"800px\"><br>\n",
    "\n",
    "The “extract header” log appears three times in the grey box, corresponds to the parsed ethernet header (header 0) with size of 14 bytes (112 bits), the parsed IPv4 header (header 1) with size 20 bytes (160 bits) and the parsed TCP header (header 2) with size 20 bytes (160 bits) as declared in the headers.p4 file. The “tx 1 pkt to port 1” log indicated that one packet has been sent to port 1 which corresponds to host 2.\n",
    "\n",
    "For a more readable output press enter in the terminal a few times (five times) to provide space for the next logs."
   ]
  },
  {
   "cell_type": "markdown",
   "id": "2f2f7b1b-0ca8-4bd7-a0ce-5ddb960d257d",
   "metadata": {
    "tags": []
   },
   "source": [
    "### Step 7.7: Stopping the DPDK pipeline\n",
    "Stop the DPDK pipeline by pressing ```ctrl+c``` in the terminal running the pipeline.\n",
    "\n",
    "<img src=\"./labs_files/lab3/figs/7_07.png\" width=\"800px\"><br>\n",
    "\n",
    "Note that the logs in the terminal correspond to the code executed for packet processing. "
   ]
  },
  {
   "cell_type": "markdown",
   "id": "49e6dd26-c20c-4c25-96c2-1b2f1aaaeca9",
   "metadata": {
    "jp-MarkdownHeadingCollapsed": true,
    "tags": []
   },
   "source": [
    "# Step 8: Delete the slice\n",
    "\n",
    "This concludes Lab 3. Please delete your slice when you are done with your experiment."
   ]
  },
  {
   "cell_type": "code",
   "execution_count": null,
   "id": "1f27f3fc-004f-46c2-984c-8c2a90883eb6",
   "metadata": {
    "tags": []
   },
   "outputs": [],
   "source": [
    "from fabrictestbed_extensions.fablib.fablib import FablibManager as fablib_manager\n",
    "fablib = fablib_manager()\n",
    "slice = fablib.get_slice(name=\"P4DPDK_lab3_vnic\")\n",
    "slice.delete()"
   ]
  },
  {
   "cell_type": "markdown",
   "id": "e92e3d97-a261-4c00-984c-2750cbd45064",
   "metadata": {
    "tags": []
   },
   "source": [
    "# References\n",
    "\n",
    "1.\tThe P4 Language Consortium, “P4 Portable NIC Architecture (PNA)”, Version 0.5, 2021. [Online]. Available: https://p4.org/p4-spec/docs/PNA.html\n",
    "2.\tP4lang, “p4c core.p4”. [Online]. Available: https://github.com/p4lang/p4c/blob/main/p4include/core.p4.\n",
    "3.\tP4lang, “pna.p4”, [Online]. Available: https://github.com/p4lang/pna/blob/main/pna.p4\n",
    "4.\tP4 Language Tutorial. [Online]. Available: https://tinyurl.com/2p9cen9e."
   ]
  }
 ],
 "metadata": {
  "kernelspec": {
   "display_name": "Python 3 (ipykernel)",
   "language": "python",
   "name": "python3"
  },
  "language_info": {
   "codemirror_mode": {
    "name": "ipython",
    "version": 3
   },
   "file_extension": ".py",
   "mimetype": "text/x-python",
   "name": "python",
   "nbconvert_exporter": "python",
   "pygments_lexer": "ipython3",
   "version": "3.11.8"
  }
 },
 "nbformat": 4,
 "nbformat_minor": 5
}
