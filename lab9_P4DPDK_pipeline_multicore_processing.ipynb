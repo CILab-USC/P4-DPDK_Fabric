{
 "cells": [
  {
   "cell_type": "markdown",
   "id": "2a519f73-cdd2-4b28-a231-a2064f5e2191",
   "metadata": {
    "tags": []
   },
   "source": [
    "# Lab 9 - P4-DPDK Pipeline Multicore Processing\n",
    "\n",
    "This lab will walk you through creating an experiment that contains a P4-DPDK programmable pipeline. Specifically, the experiment deploys a slice with two sites. Each site consists of one node: server1 in site1 and server2 in site2. The topology is shown in the figure below. The lab provides an introduction to DPDK, a software-based packet processing acceleration tool. It demonstrates how to build a topology using real hardware NICs.\n",
    "\n",
    "<figure style=\"text-align: center;\">\n",
    "    <img src=\"./labs_files/lab8/figs/01_fabric_topology.png\" width=\"400px\">\n",
    "</figure>"
   ]
  },
  {
   "cell_type": "markdown",
   "id": "281e30c2-6ea9-45f7-b196-fb09b2a59d45",
   "metadata": {
    "tags": []
   },
   "source": [
    "# Introduction"
   ]
  },
  {
   "cell_type": "markdown",
   "id": "48d476dd-7e8f-4177-914f-1d6cb55b7a1c",
   "metadata": {
    "tags": []
   },
   "source": [
    "## Core affinity\n",
    "\n",
    "<div style=\"text-align: justify;\">\n",
    "Core affinity allows binding a process or multiple processes to a specific CPU core, ensuring that they only execute on that core. When conducting performance testing on a host with many cores, it's beneficial to run multiple instances of a process, each on a different core. This approach helps maximize CPU utilization [<a href=\"#References\">1</a>]. Figure 1 illustrates the difference between single-core and multicore processing. </div>  <be>\n",
    "\n",
    "<figure style=\"text-align: center;\">\n",
    "  <img src=\"./labs_files/lab9/figs/intro_01.png\" width=\"400\" style=\"display: block; margin: 0 auto;\">\n",
    "  <figcaption>Figure 1. Sigle-core vs Multicore processing [<a href=\"#References\">2</a>].</figcaption>\n",
    "</figure>\n",
    "\n",
    "## Receive Side Scaling (RSS)\n",
    "\n",
    "<div style=\"text-align: justify;\">\n",
    "When a NIC receives a packet, it typically goes through a single CPU core for processing. This can become a bottleneck, especially when the traffic rate is high, as the CPU core can become overwhelmed with processing incoming packets. To alleviate this bottleneck, the NIC can distribute the packets across multiple CPU cores using the Receive Side Scaling (RSS) technique. RSS uses a hashing algorithm to determine which receive queue should handle each incoming packet as shown in Figure 2. The hashing algorithm uses the packet header information, such as the 5-tuple (source and destination IP addresses, source and destination port numbers, and protocol), to generate a hash value. This hash value is then used to determine the appropriate receive queue for the packet, and subsequently, the CPU core where it will be processed. Note that all the packets belonging to the same flow will be assigned to the same CPU core. The NIC then forwards the packet to the pipeline running on the CPU core [<a href=\"#References\">1</a>]. For performance-sensitive applications, DPDK uses CPU affinity within its software APIs by explicitly designating specific cores for handling packet input and output on NIC Rx/Tx queues [<a href=\"#References\">3,4</a>]. </div>  <be>\n",
    "\n",
    "<figure style=\"text-align: center;\">\n",
    "  <img src=\"./labs_files/lab9/figs/intro_02.png\" width=\"400\" style=\"display: block; margin: 0 auto;\">\n",
    "  <figcaption>Figure 2. Receive Side Scaling (RSS).</figcaption>\n",
    "</figure>"
   ]
  },
  {
   "cell_type": "markdown",
   "id": "e02b5308-1775-4cfe-9f4f-eb336a851337",
   "metadata": {
    "tags": []
   },
   "source": [
    "# Step 1:  Configuring the environment\n",
    "\n",
    "Before running this notebook, you will need to configure your environment using the [Configure Environment](../../../configure_and_validate.ipynb) notebook. Please stop here, open and run that notebook, then return to this notebook.\n",
    "\n",
    "If you are using the FABRIC JupyterHub many of the environment variables will be automatically configured for you.  You will still need to set your bastion username, upload your bastion private key, and set the path to where you put your bastion private key. Your bastion username and private key should already be in your possession.  \n",
    "\n",
    "If you are using the FABRIC API outside of the JupyterHub you will need to configure all of the environment variables. Defaults below will be correct in many situations but you will need to confirm your configuration.  If you have questions about this configuration, please contact the FABRIC admins using the [FABRIC User Forum](https://learn.fabric-testbed.net/forums/) \n",
    "\n",
    "More information about accessing your experiments through the FABRIC bastion hosts can be found [here](https://learn.fabric-testbed.net/knowledge-base/logging-into-fabric-vms/)."
   ]
  },
  {
   "cell_type": "markdown",
   "id": "2b571c06-bfd5-464a-acf4-d28845c8e840",
   "metadata": {
    "tags": []
   },
   "source": [
    "# Step 2: Import the FABlib library"
   ]
  },
  {
   "cell_type": "code",
   "execution_count": 1,
   "id": "2e9c3ea6-f0b5-4e34-9a4c-82785ff386c4",
   "metadata": {},
   "outputs": [],
   "source": [
    "from fabrictestbed_extensions.fablib.fablib import FablibManager as fablib_manager\n",
    "fablib = fablib_manager()"
   ]
  },
  {
   "cell_type": "markdown",
   "id": "c2913e89-4188-4ebf-a24c-01cedd16540b",
   "metadata": {
    "tags": []
   },
   "source": [
    "# Step 3: Create the experiment slice\n",
    "\n",
    "The following creates two nodes with basic compute and networking capabilities. You build a slice by creating a new slice and adding resources to the slice. After you build the slice, you must submit a request for the slice to be instantiated.   "
   ]
  },
  {
   "cell_type": "markdown",
   "id": "161198e4-00b0-4994-9de8-28e8bfb16cc8",
   "metadata": {
    "tags": []
   },
   "source": [
    "### Step 3.1: Create a slice\n",
    "The code below creates a new slice with the name \"P4DPDK_lab9\""
   ]
  },
  {
   "cell_type": "code",
   "execution_count": 2,
   "id": "9c97d810-ac6a-4c04-892d-f0ddbe69954b",
   "metadata": {
    "tags": []
   },
   "outputs": [],
   "source": [
    "slice = fablib.new_slice(name=\"P4DPDK_lab9\")"
   ]
  },
  {
   "cell_type": "markdown",
   "id": "a0f228eb-d12b-4644-bbc4-df2e34bbdce8",
   "metadata": {
    "tags": []
   },
   "source": [
    "### Step 3.2: Define the sites\n",
    "The code below requests two random sites from FABRIC based on the condition that the following resources are available:\n",
    "\n",
    "<ul>\n",
    "    <li> 1 SmartNIC</li>\n",
    "    <li> 8 CPU cores</li>\n",
    "    <li> 8GB RAM </li>\n",
    "    <li> 20GB disc size\n",
    "</ul>"
   ]
  },
  {
   "cell_type": "code",
   "execution_count": 3,
   "id": "f28e0cf1-241d-4257-afbf-6aa44989d995",
   "metadata": {
    "tags": []
   },
   "outputs": [
    {
     "name": "stdout",
     "output_type": "stream",
     "text": [
      "The selected sites are NCSA and SALT\n"
     ]
    }
   ],
   "source": [
    "sites= fablib.get_random_sites(count=2, filter_function=lambda x: x['nic_connectx_6_available'] > 1 and x['cores_available'] > 8 and x['ram_available'] > 8 and x['disk_available'] > 20)\n",
    "\n",
    "print (f'The selected sites are {sites[0]} and {sites[1]}')"
   ]
  },
  {
   "cell_type": "markdown",
   "id": "0f71fead-a091-4af0-95ec-bb264c016c43",
   "metadata": {
    "tags": []
   },
   "source": [
    "### Step 3.3: Creating the nodes\n",
    "The code below creates two nodes: server1 and server2. The servers (server1 and server2) use the following:\n",
    "<ul>\n",
    "    <li> 8 CPU cores</li>\n",
    "    <li> 8GB RAM </li>\n",
    "    <li> 20GB disc size </li>\n",
    "    <li> Image: Ubuntu 20.04\n",
    "</ul>\n",
    "\n",
    "server1 will be created in site1 and server2 will be created in site2\n",
    "\n",
    "<img src=\"./labs_files/lab8/figs/03_creating_nodes.png\" width=\"400px\"><br>"
   ]
  },
  {
   "cell_type": "code",
   "execution_count": 4,
   "id": "7713728b-2740-4e72-b5dd-7d3963012536",
   "metadata": {
    "tags": []
   },
   "outputs": [],
   "source": [
    "server1 = slice.add_node(name=\"server1\", \n",
    "                      site=sites[0], \n",
    "                      cores=8, \n",
    "                      ram=8, \n",
    "                      disk=20, \n",
    "                      image='default_ubuntu_20')\n",
    "\n",
    "server2 = slice.add_node(name=\"server2\", \n",
    "                      site=sites[1], \n",
    "                      cores=8, \n",
    "                      ram=8, \n",
    "                      disk=20, \n",
    "                      image='default_ubuntu_20')"
   ]
  },
  {
   "cell_type": "markdown",
   "id": "525749aa-ea9e-4a4b-ac2e-0988d8f0b769",
   "metadata": {
    "tags": []
   },
   "source": [
    "### Step 3.4: Adding the interfaces to the servers\n",
    "The code below adds a Network Interface Card (NIC) to each server.\n",
    "\n",
    "<img src=\"./labs_files/lab8/figs/04_adding_nics.png\" width=\"400px\"><br>"
   ]
  },
  {
   "cell_type": "code",
   "execution_count": 5,
   "id": "6f08e680-9922-4517-8f87-99e86ed455be",
   "metadata": {
    "tags": []
   },
   "outputs": [],
   "source": [
    "server1_iface = server1.add_component(model='NIC_ConnectX_6', name='nic1').get_interfaces()[0]\n",
    "server2_iface = server2.add_component(model='NIC_ConnectX_6', name='nic2').get_interfaces()[0]"
   ]
  },
  {
   "cell_type": "markdown",
   "id": "c15ca24e-8743-4d4a-91ea-128dd78b4273",
   "metadata": {},
   "source": [
    "### Step 3.5: Connecting server1 and server2\n",
    "Create a network between server1 and server2 connecting them together\n",
    "\n",
    "<img src=\"./labs_files/lab8/figs/05_connecting_nodes_server1_server2.png\" width=\"400px\"><br>"
   ]
  },
  {
   "cell_type": "code",
   "execution_count": 6,
   "id": "03859457-746d-402c-9372-9803df8928e9",
   "metadata": {},
   "outputs": [],
   "source": [
    "net1 = slice.add_l2network(name='net1', interfaces=[server1_iface, server2_iface])"
   ]
  },
  {
   "cell_type": "markdown",
   "id": "53ab345c-d68e-440d-9fda-03d67472f1ca",
   "metadata": {},
   "source": [
    "### Step 3.6: Submitting the slice\n",
    "The code below submits the slice. \n",
    "By default, the submit function will block until the node is ready and will display the progress of your slice being built."
   ]
  },
  {
   "cell_type": "code",
   "execution_count": 7,
   "id": "e706c53c-7a38-4615-a86e-e8944197921f",
   "metadata": {},
   "outputs": [
    {
     "name": "stdout",
     "output_type": "stream",
     "text": [
      "\n",
      "Retry: 10, Time: 245 sec\n"
     ]
    },
    {
     "data": {
      "text/html": [
       "<style type=\"text/css\">\n",
       "#T_9202e tr:nth-child(even) {\n",
       "  background: #dbf3ff;\n",
       "  color: #231f20;\n",
       "}\n",
       "#T_9202e tr:nth-child(odd) {\n",
       "  background: #ffffff;\n",
       "  color: #231f20;\n",
       "}\n",
       "#T_9202e caption {\n",
       "  text-align: center;\n",
       "  font-size: 150%;\n",
       "}\n",
       "#T_9202e_row0_col0, #T_9202e_row0_col1, #T_9202e_row1_col0, #T_9202e_row1_col1, #T_9202e_row2_col0, #T_9202e_row2_col1, #T_9202e_row3_col0, #T_9202e_row3_col1, #T_9202e_row4_col0, #T_9202e_row4_col1, #T_9202e_row5_col0 {\n",
       "  text-align: left;\n",
       "  border: 1px #231f20 solid !important;\n",
       "  overwrite: False;\n",
       "  background-color: ;\n",
       "}\n",
       "#T_9202e_row5_col1 {\n",
       "  text-align: left;\n",
       "  border: 1px #231f20 solid !important;\n",
       "  overwrite: False;\n",
       "  background-color: #c3ffc4;\n",
       "}\n",
       "</style>\n",
       "<table id=\"T_9202e\">\n",
       "  <caption>Slice</caption>\n",
       "  <thead>\n",
       "  </thead>\n",
       "  <tbody>\n",
       "    <tr>\n",
       "      <td id=\"T_9202e_row0_col0\" class=\"data row0 col0\" >ID</td>\n",
       "      <td id=\"T_9202e_row0_col1\" class=\"data row0 col1\" >1cdf2833-f782-4376-8bbe-17304ee6ecd6</td>\n",
       "    </tr>\n",
       "    <tr>\n",
       "      <td id=\"T_9202e_row1_col0\" class=\"data row1 col0\" >Name</td>\n",
       "      <td id=\"T_9202e_row1_col1\" class=\"data row1 col1\" >P4DPDK_lab9_TTTT</td>\n",
       "    </tr>\n",
       "    <tr>\n",
       "      <td id=\"T_9202e_row2_col0\" class=\"data row2 col0\" >Lease Expiration (UTC)</td>\n",
       "      <td id=\"T_9202e_row2_col1\" class=\"data row2 col1\" >2024-09-23 16:46:56 +0000</td>\n",
       "    </tr>\n",
       "    <tr>\n",
       "      <td id=\"T_9202e_row3_col0\" class=\"data row3 col0\" >Lease Start (UTC)</td>\n",
       "      <td id=\"T_9202e_row3_col1\" class=\"data row3 col1\" >2024-09-22 16:46:56 +0000</td>\n",
       "    </tr>\n",
       "    <tr>\n",
       "      <td id=\"T_9202e_row4_col0\" class=\"data row4 col0\" >Project ID</td>\n",
       "      <td id=\"T_9202e_row4_col1\" class=\"data row4 col1\" >8eaa3ec2-65e7-49a3-8c09-e1761141a6ad</td>\n",
       "    </tr>\n",
       "    <tr>\n",
       "      <td id=\"T_9202e_row5_col0\" class=\"data row5 col0\" >State</td>\n",
       "      <td id=\"T_9202e_row5_col1\" class=\"data row5 col1\" >StableOK</td>\n",
       "    </tr>\n",
       "  </tbody>\n",
       "</table>\n"
      ],
      "text/plain": [
       "<pandas.io.formats.style.Styler at 0x7acb4c06f110>"
      ]
     },
     "metadata": {},
     "output_type": "display_data"
    },
    {
     "data": {
      "text/html": [
       "<style type=\"text/css\">\n",
       "#T_6ca0d caption {\n",
       "  text-align: center;\n",
       "  font-size: 150%;\n",
       "  caption-side: top;\n",
       "}\n",
       "#T_6ca0d th {\n",
       "  text-align: left;\n",
       "}\n",
       "#T_6ca0d tr:nth-child(even) {\n",
       "  background: #ffffff;\n",
       "  color: #231f20;\n",
       "}\n",
       "#T_6ca0d tr:nth-child(odd) {\n",
       "  background: #dbf3ff;\n",
       "  color: #231f20;\n",
       "}\n",
       "#T_6ca0d .level0 {\n",
       "  border: 1px black solid !important;\n",
       "  background: #ffffff;\n",
       "  color: #231f20;\n",
       "}\n",
       "#T_6ca0d_row0_col0, #T_6ca0d_row0_col1, #T_6ca0d_row0_col2, #T_6ca0d_row0_col3, #T_6ca0d_row0_col4, #T_6ca0d_row0_col5, #T_6ca0d_row0_col6, #T_6ca0d_row0_col7, #T_6ca0d_row0_col8, #T_6ca0d_row0_col9, #T_6ca0d_row0_col10, #T_6ca0d_row0_col13, #T_6ca0d_row0_col14, #T_6ca0d_row0_col15, #T_6ca0d_row1_col0, #T_6ca0d_row1_col1, #T_6ca0d_row1_col2, #T_6ca0d_row1_col3, #T_6ca0d_row1_col4, #T_6ca0d_row1_col5, #T_6ca0d_row1_col6, #T_6ca0d_row1_col7, #T_6ca0d_row1_col8, #T_6ca0d_row1_col9, #T_6ca0d_row1_col10, #T_6ca0d_row1_col13, #T_6ca0d_row1_col14, #T_6ca0d_row1_col15 {\n",
       "  text-align: left;\n",
       "  border: 1px #231f20 solid !important;\n",
       "  overwrite: False;\n",
       "}\n",
       "#T_6ca0d_row0_col11, #T_6ca0d_row1_col11 {\n",
       "  text-align: left;\n",
       "  border: 1px #231f20 solid !important;\n",
       "  overwrite: False;\n",
       "  background-color: #c3ffc4;\n",
       "}\n",
       "#T_6ca0d_row0_col12, #T_6ca0d_row1_col12 {\n",
       "  text-align: left;\n",
       "  border: 1px #231f20 solid !important;\n",
       "  overwrite: False;\n",
       "  background-color: ;\n",
       "}\n",
       "</style>\n",
       "<table id=\"T_6ca0d\">\n",
       "  <caption>Nodes</caption>\n",
       "  <thead>\n",
       "    <tr>\n",
       "      <th id=\"T_6ca0d_level0_col0\" class=\"col_heading level0 col0\" >ID</th>\n",
       "      <th id=\"T_6ca0d_level0_col1\" class=\"col_heading level0 col1\" >Name</th>\n",
       "      <th id=\"T_6ca0d_level0_col2\" class=\"col_heading level0 col2\" >Cores</th>\n",
       "      <th id=\"T_6ca0d_level0_col3\" class=\"col_heading level0 col3\" >RAM</th>\n",
       "      <th id=\"T_6ca0d_level0_col4\" class=\"col_heading level0 col4\" >Disk</th>\n",
       "      <th id=\"T_6ca0d_level0_col5\" class=\"col_heading level0 col5\" >Image</th>\n",
       "      <th id=\"T_6ca0d_level0_col6\" class=\"col_heading level0 col6\" >Image Type</th>\n",
       "      <th id=\"T_6ca0d_level0_col7\" class=\"col_heading level0 col7\" >Host</th>\n",
       "      <th id=\"T_6ca0d_level0_col8\" class=\"col_heading level0 col8\" >Site</th>\n",
       "      <th id=\"T_6ca0d_level0_col9\" class=\"col_heading level0 col9\" >Username</th>\n",
       "      <th id=\"T_6ca0d_level0_col10\" class=\"col_heading level0 col10\" >Management IP</th>\n",
       "      <th id=\"T_6ca0d_level0_col11\" class=\"col_heading level0 col11\" >State</th>\n",
       "      <th id=\"T_6ca0d_level0_col12\" class=\"col_heading level0 col12\" >Error</th>\n",
       "      <th id=\"T_6ca0d_level0_col13\" class=\"col_heading level0 col13\" >SSH Command</th>\n",
       "      <th id=\"T_6ca0d_level0_col14\" class=\"col_heading level0 col14\" >Public SSH Key File</th>\n",
       "      <th id=\"T_6ca0d_level0_col15\" class=\"col_heading level0 col15\" >Private SSH Key File</th>\n",
       "    </tr>\n",
       "  </thead>\n",
       "  <tbody>\n",
       "    <tr>\n",
       "      <td id=\"T_6ca0d_row0_col0\" class=\"data row0 col0\" >a23e99bd-9d6f-4778-9273-fdf011dbd4e6</td>\n",
       "      <td id=\"T_6ca0d_row0_col1\" class=\"data row0 col1\" >server1</td>\n",
       "      <td id=\"T_6ca0d_row0_col2\" class=\"data row0 col2\" >8</td>\n",
       "      <td id=\"T_6ca0d_row0_col3\" class=\"data row0 col3\" >8</td>\n",
       "      <td id=\"T_6ca0d_row0_col4\" class=\"data row0 col4\" >100</td>\n",
       "      <td id=\"T_6ca0d_row0_col5\" class=\"data row0 col5\" >default_ubuntu_20</td>\n",
       "      <td id=\"T_6ca0d_row0_col6\" class=\"data row0 col6\" >qcow2</td>\n",
       "      <td id=\"T_6ca0d_row0_col7\" class=\"data row0 col7\" >ncsa-w2.fabric-testbed.net</td>\n",
       "      <td id=\"T_6ca0d_row0_col8\" class=\"data row0 col8\" >NCSA</td>\n",
       "      <td id=\"T_6ca0d_row0_col9\" class=\"data row0 col9\" >ubuntu</td>\n",
       "      <td id=\"T_6ca0d_row0_col10\" class=\"data row0 col10\" >2620:0:c80:1001:f816:3eff:fe79:7ea7</td>\n",
       "      <td id=\"T_6ca0d_row0_col11\" class=\"data row0 col11\" >Active</td>\n",
       "      <td id=\"T_6ca0d_row0_col12\" class=\"data row0 col12\" ></td>\n",
       "      <td id=\"T_6ca0d_row0_col13\" class=\"data row0 col13\" >ssh -i /home/fabric/work/fabric_config/slice_key -F /home/fabric/work/fabric_config/ssh_config ubuntu@2620:0:c80:1001:f816:3eff:fe79:7ea7</td>\n",
       "      <td id=\"T_6ca0d_row0_col14\" class=\"data row0 col14\" >/home/fabric/work/fabric_config/slice_key.pub</td>\n",
       "      <td id=\"T_6ca0d_row0_col15\" class=\"data row0 col15\" >/home/fabric/work/fabric_config/slice_key</td>\n",
       "    </tr>\n",
       "    <tr>\n",
       "      <td id=\"T_6ca0d_row1_col0\" class=\"data row1 col0\" >73884114-d955-4cfa-a40d-ec75a55ebff2</td>\n",
       "      <td id=\"T_6ca0d_row1_col1\" class=\"data row1 col1\" >server2</td>\n",
       "      <td id=\"T_6ca0d_row1_col2\" class=\"data row1 col2\" >8</td>\n",
       "      <td id=\"T_6ca0d_row1_col3\" class=\"data row1 col3\" >8</td>\n",
       "      <td id=\"T_6ca0d_row1_col4\" class=\"data row1 col4\" >100</td>\n",
       "      <td id=\"T_6ca0d_row1_col5\" class=\"data row1 col5\" >default_ubuntu_20</td>\n",
       "      <td id=\"T_6ca0d_row1_col6\" class=\"data row1 col6\" >qcow2</td>\n",
       "      <td id=\"T_6ca0d_row1_col7\" class=\"data row1 col7\" >salt-w2.fabric-testbed.net</td>\n",
       "      <td id=\"T_6ca0d_row1_col8\" class=\"data row1 col8\" >SALT</td>\n",
       "      <td id=\"T_6ca0d_row1_col9\" class=\"data row1 col9\" >ubuntu</td>\n",
       "      <td id=\"T_6ca0d_row1_col10\" class=\"data row1 col10\" >2001:400:a100:3010:f816:3eff:fe6e:65d1</td>\n",
       "      <td id=\"T_6ca0d_row1_col11\" class=\"data row1 col11\" >Active</td>\n",
       "      <td id=\"T_6ca0d_row1_col12\" class=\"data row1 col12\" ></td>\n",
       "      <td id=\"T_6ca0d_row1_col13\" class=\"data row1 col13\" >ssh -i /home/fabric/work/fabric_config/slice_key -F /home/fabric/work/fabric_config/ssh_config ubuntu@2001:400:a100:3010:f816:3eff:fe6e:65d1</td>\n",
       "      <td id=\"T_6ca0d_row1_col14\" class=\"data row1 col14\" >/home/fabric/work/fabric_config/slice_key.pub</td>\n",
       "      <td id=\"T_6ca0d_row1_col15\" class=\"data row1 col15\" >/home/fabric/work/fabric_config/slice_key</td>\n",
       "    </tr>\n",
       "  </tbody>\n",
       "</table>\n"
      ],
      "text/plain": [
       "<pandas.io.formats.style.Styler at 0x7acb4455b090>"
      ]
     },
     "metadata": {},
     "output_type": "display_data"
    },
    {
     "data": {
      "text/html": [
       "<style type=\"text/css\">\n",
       "#T_91b7b caption {\n",
       "  text-align: center;\n",
       "  font-size: 150%;\n",
       "  caption-side: top;\n",
       "}\n",
       "#T_91b7b th {\n",
       "  text-align: left;\n",
       "}\n",
       "#T_91b7b tr:nth-child(even) {\n",
       "  background: #ffffff;\n",
       "  color: #231f20;\n",
       "}\n",
       "#T_91b7b tr:nth-child(odd) {\n",
       "  background: #dbf3ff;\n",
       "  color: #231f20;\n",
       "}\n",
       "#T_91b7b .level0 {\n",
       "  border: 1px black solid !important;\n",
       "  background: #ffffff;\n",
       "  color: #231f20;\n",
       "}\n",
       "#T_91b7b_row0_col0, #T_91b7b_row0_col1, #T_91b7b_row0_col2, #T_91b7b_row0_col3, #T_91b7b_row0_col4, #T_91b7b_row0_col5, #T_91b7b_row0_col6 {\n",
       "  text-align: left;\n",
       "  border: 1px #231f20 solid !important;\n",
       "  overwrite: False;\n",
       "}\n",
       "#T_91b7b_row0_col7 {\n",
       "  text-align: left;\n",
       "  border: 1px #231f20 solid !important;\n",
       "  overwrite: False;\n",
       "  background-color: #c3ffc4;\n",
       "}\n",
       "#T_91b7b_row0_col8 {\n",
       "  text-align: left;\n",
       "  border: 1px #231f20 solid !important;\n",
       "  overwrite: False;\n",
       "  background-color: ;\n",
       "}\n",
       "</style>\n",
       "<table id=\"T_91b7b\">\n",
       "  <caption>Networks</caption>\n",
       "  <thead>\n",
       "    <tr>\n",
       "      <th id=\"T_91b7b_level0_col0\" class=\"col_heading level0 col0\" >ID</th>\n",
       "      <th id=\"T_91b7b_level0_col1\" class=\"col_heading level0 col1\" >Name</th>\n",
       "      <th id=\"T_91b7b_level0_col2\" class=\"col_heading level0 col2\" >Layer</th>\n",
       "      <th id=\"T_91b7b_level0_col3\" class=\"col_heading level0 col3\" >Type</th>\n",
       "      <th id=\"T_91b7b_level0_col4\" class=\"col_heading level0 col4\" >Site</th>\n",
       "      <th id=\"T_91b7b_level0_col5\" class=\"col_heading level0 col5\" >Subnet</th>\n",
       "      <th id=\"T_91b7b_level0_col6\" class=\"col_heading level0 col6\" >Gateway</th>\n",
       "      <th id=\"T_91b7b_level0_col7\" class=\"col_heading level0 col7\" >State</th>\n",
       "      <th id=\"T_91b7b_level0_col8\" class=\"col_heading level0 col8\" >Error</th>\n",
       "    </tr>\n",
       "  </thead>\n",
       "  <tbody>\n",
       "    <tr>\n",
       "      <td id=\"T_91b7b_row0_col0\" class=\"data row0 col0\" >433bcf49-8430-44f9-9aa0-cd1faa9253dc</td>\n",
       "      <td id=\"T_91b7b_row0_col1\" class=\"data row0 col1\" >net1</td>\n",
       "      <td id=\"T_91b7b_row0_col2\" class=\"data row0 col2\" >L2</td>\n",
       "      <td id=\"T_91b7b_row0_col3\" class=\"data row0 col3\" >L2STS</td>\n",
       "      <td id=\"T_91b7b_row0_col4\" class=\"data row0 col4\" >None</td>\n",
       "      <td id=\"T_91b7b_row0_col5\" class=\"data row0 col5\" >None</td>\n",
       "      <td id=\"T_91b7b_row0_col6\" class=\"data row0 col6\" >None</td>\n",
       "      <td id=\"T_91b7b_row0_col7\" class=\"data row0 col7\" >Active</td>\n",
       "      <td id=\"T_91b7b_row0_col8\" class=\"data row0 col8\" ></td>\n",
       "    </tr>\n",
       "  </tbody>\n",
       "</table>\n"
      ],
      "text/plain": [
       "<pandas.io.formats.style.Styler at 0x7acb216c3610>"
      ]
     },
     "metadata": {},
     "output_type": "display_data"
    },
    {
     "data": {
      "text/html": [
       "<style type=\"text/css\">\n",
       "#T_20c15 caption {\n",
       "  text-align: center;\n",
       "  font-size: 150%;\n",
       "  caption-side: top;\n",
       "}\n",
       "#T_20c15 th {\n",
       "  text-align: left;\n",
       "}\n",
       "#T_20c15 tr:nth-child(even) {\n",
       "  background: #ffffff;\n",
       "  color: #231f20;\n",
       "}\n",
       "#T_20c15 tr:nth-child(odd) {\n",
       "  background: #dbf3ff;\n",
       "  color: #231f20;\n",
       "}\n",
       "#T_20c15 .level0 {\n",
       "  border: 1px black solid !important;\n",
       "  background: #ffffff;\n",
       "  color: #231f20;\n",
       "}\n",
       "#T_20c15_row0_col0, #T_20c15_row0_col1, #T_20c15_row0_col2, #T_20c15_row0_col3, #T_20c15_row0_col4, #T_20c15_row0_col5, #T_20c15_row0_col6, #T_20c15_row0_col7, #T_20c15_row0_col8, #T_20c15_row0_col9, #T_20c15_row0_col10, #T_20c15_row0_col11, #T_20c15_row0_col12, #T_20c15_row1_col0, #T_20c15_row1_col1, #T_20c15_row1_col2, #T_20c15_row1_col3, #T_20c15_row1_col4, #T_20c15_row1_col5, #T_20c15_row1_col6, #T_20c15_row1_col7, #T_20c15_row1_col8, #T_20c15_row1_col9, #T_20c15_row1_col10, #T_20c15_row1_col11, #T_20c15_row1_col12, #T_20c15_row2_col0, #T_20c15_row2_col1, #T_20c15_row2_col2, #T_20c15_row2_col3, #T_20c15_row2_col4, #T_20c15_row2_col5, #T_20c15_row2_col6, #T_20c15_row2_col7, #T_20c15_row2_col8, #T_20c15_row2_col9, #T_20c15_row2_col10, #T_20c15_row2_col11, #T_20c15_row2_col12, #T_20c15_row3_col0, #T_20c15_row3_col1, #T_20c15_row3_col2, #T_20c15_row3_col3, #T_20c15_row3_col4, #T_20c15_row3_col5, #T_20c15_row3_col6, #T_20c15_row3_col7, #T_20c15_row3_col8, #T_20c15_row3_col9, #T_20c15_row3_col10, #T_20c15_row3_col11, #T_20c15_row3_col12 {\n",
       "  text-align: left;\n",
       "  border: 1px #231f20 solid !important;\n",
       "  overwrite: False;\n",
       "}\n",
       "</style>\n",
       "<table id=\"T_20c15\">\n",
       "  <caption>Interfaces</caption>\n",
       "  <thead>\n",
       "    <tr>\n",
       "      <th id=\"T_20c15_level0_col0\" class=\"col_heading level0 col0\" >Name</th>\n",
       "      <th id=\"T_20c15_level0_col1\" class=\"col_heading level0 col1\" >Short Name</th>\n",
       "      <th id=\"T_20c15_level0_col2\" class=\"col_heading level0 col2\" >Node</th>\n",
       "      <th id=\"T_20c15_level0_col3\" class=\"col_heading level0 col3\" >Network</th>\n",
       "      <th id=\"T_20c15_level0_col4\" class=\"col_heading level0 col4\" >Bandwidth</th>\n",
       "      <th id=\"T_20c15_level0_col5\" class=\"col_heading level0 col5\" >Mode</th>\n",
       "      <th id=\"T_20c15_level0_col6\" class=\"col_heading level0 col6\" >VLAN</th>\n",
       "      <th id=\"T_20c15_level0_col7\" class=\"col_heading level0 col7\" >MAC</th>\n",
       "      <th id=\"T_20c15_level0_col8\" class=\"col_heading level0 col8\" >Physical Device</th>\n",
       "      <th id=\"T_20c15_level0_col9\" class=\"col_heading level0 col9\" >Device</th>\n",
       "      <th id=\"T_20c15_level0_col10\" class=\"col_heading level0 col10\" >IP Address</th>\n",
       "      <th id=\"T_20c15_level0_col11\" class=\"col_heading level0 col11\" >Numa Node</th>\n",
       "      <th id=\"T_20c15_level0_col12\" class=\"col_heading level0 col12\" >Switch Port</th>\n",
       "    </tr>\n",
       "  </thead>\n",
       "  <tbody>\n",
       "    <tr>\n",
       "      <td id=\"T_20c15_row0_col0\" class=\"data row0 col0\" >server1-nic1-p1</td>\n",
       "      <td id=\"T_20c15_row0_col1\" class=\"data row0 col1\" >p1</td>\n",
       "      <td id=\"T_20c15_row0_col2\" class=\"data row0 col2\" >server1</td>\n",
       "      <td id=\"T_20c15_row0_col3\" class=\"data row0 col3\" >net1</td>\n",
       "      <td id=\"T_20c15_row0_col4\" class=\"data row0 col4\" >100</td>\n",
       "      <td id=\"T_20c15_row0_col5\" class=\"data row0 col5\" >config</td>\n",
       "      <td id=\"T_20c15_row0_col6\" class=\"data row0 col6\" ></td>\n",
       "      <td id=\"T_20c15_row0_col7\" class=\"data row0 col7\" >B8:CE:F6:37:75:1A</td>\n",
       "      <td id=\"T_20c15_row0_col8\" class=\"data row0 col8\" >enp7s0</td>\n",
       "      <td id=\"T_20c15_row0_col9\" class=\"data row0 col9\" >enp7s0</td>\n",
       "      <td id=\"T_20c15_row0_col10\" class=\"data row0 col10\" >fe80::bace:f6ff:fe37:751a</td>\n",
       "      <td id=\"T_20c15_row0_col11\" class=\"data row0 col11\" >1</td>\n",
       "      <td id=\"T_20c15_row0_col12\" class=\"data row0 col12\" >HundredGigE0/0/0/0</td>\n",
       "    </tr>\n",
       "    <tr>\n",
       "      <td id=\"T_20c15_row1_col0\" class=\"data row1 col0\" >server1-nic1-p2</td>\n",
       "      <td id=\"T_20c15_row1_col1\" class=\"data row1 col1\" >p2</td>\n",
       "      <td id=\"T_20c15_row1_col2\" class=\"data row1 col2\" >server1</td>\n",
       "      <td id=\"T_20c15_row1_col3\" class=\"data row1 col3\" >None</td>\n",
       "      <td id=\"T_20c15_row1_col4\" class=\"data row1 col4\" >100</td>\n",
       "      <td id=\"T_20c15_row1_col5\" class=\"data row1 col5\" >config</td>\n",
       "      <td id=\"T_20c15_row1_col6\" class=\"data row1 col6\" ></td>\n",
       "      <td id=\"T_20c15_row1_col7\" class=\"data row1 col7\" >B8:CE:F6:37:75:1B</td>\n",
       "      <td id=\"T_20c15_row1_col8\" class=\"data row1 col8\" >enp8s0</td>\n",
       "      <td id=\"T_20c15_row1_col9\" class=\"data row1 col9\" >enp8s0</td>\n",
       "      <td id=\"T_20c15_row1_col10\" class=\"data row1 col10\" >None</td>\n",
       "      <td id=\"T_20c15_row1_col11\" class=\"data row1 col11\" >1</td>\n",
       "      <td id=\"T_20c15_row1_col12\" class=\"data row1 col12\" >None</td>\n",
       "    </tr>\n",
       "    <tr>\n",
       "      <td id=\"T_20c15_row2_col0\" class=\"data row2 col0\" >server2-nic2-p1</td>\n",
       "      <td id=\"T_20c15_row2_col1\" class=\"data row2 col1\" >p1</td>\n",
       "      <td id=\"T_20c15_row2_col2\" class=\"data row2 col2\" >server2</td>\n",
       "      <td id=\"T_20c15_row2_col3\" class=\"data row2 col3\" >net1</td>\n",
       "      <td id=\"T_20c15_row2_col4\" class=\"data row2 col4\" >100</td>\n",
       "      <td id=\"T_20c15_row2_col5\" class=\"data row2 col5\" >config</td>\n",
       "      <td id=\"T_20c15_row2_col6\" class=\"data row2 col6\" ></td>\n",
       "      <td id=\"T_20c15_row2_col7\" class=\"data row2 col7\" >B8:CE:F6:5D:45:6E</td>\n",
       "      <td id=\"T_20c15_row2_col8\" class=\"data row2 col8\" >enp7s0</td>\n",
       "      <td id=\"T_20c15_row2_col9\" class=\"data row2 col9\" >enp7s0</td>\n",
       "      <td id=\"T_20c15_row2_col10\" class=\"data row2 col10\" >fe80::bace:f6ff:fe5d:456e</td>\n",
       "      <td id=\"T_20c15_row2_col11\" class=\"data row2 col11\" >6</td>\n",
       "      <td id=\"T_20c15_row2_col12\" class=\"data row2 col12\" >HundredGigE0/0/0/4</td>\n",
       "    </tr>\n",
       "    <tr>\n",
       "      <td id=\"T_20c15_row3_col0\" class=\"data row3 col0\" >server2-nic2-p2</td>\n",
       "      <td id=\"T_20c15_row3_col1\" class=\"data row3 col1\" >p2</td>\n",
       "      <td id=\"T_20c15_row3_col2\" class=\"data row3 col2\" >server2</td>\n",
       "      <td id=\"T_20c15_row3_col3\" class=\"data row3 col3\" >None</td>\n",
       "      <td id=\"T_20c15_row3_col4\" class=\"data row3 col4\" >100</td>\n",
       "      <td id=\"T_20c15_row3_col5\" class=\"data row3 col5\" >config</td>\n",
       "      <td id=\"T_20c15_row3_col6\" class=\"data row3 col6\" ></td>\n",
       "      <td id=\"T_20c15_row3_col7\" class=\"data row3 col7\" >B8:CE:F6:5D:45:6F</td>\n",
       "      <td id=\"T_20c15_row3_col8\" class=\"data row3 col8\" >enp8s0</td>\n",
       "      <td id=\"T_20c15_row3_col9\" class=\"data row3 col9\" >enp8s0</td>\n",
       "      <td id=\"T_20c15_row3_col10\" class=\"data row3 col10\" >None</td>\n",
       "      <td id=\"T_20c15_row3_col11\" class=\"data row3 col11\" >6</td>\n",
       "      <td id=\"T_20c15_row3_col12\" class=\"data row3 col12\" >None</td>\n",
       "    </tr>\n",
       "  </tbody>\n",
       "</table>\n"
      ],
      "text/plain": [
       "<pandas.io.formats.style.Styler at 0x7acb4c195390>"
      ]
     },
     "metadata": {},
     "output_type": "display_data"
    },
    {
     "name": "stdout",
     "output_type": "stream",
     "text": [
      "\n",
      "Time to print interfaces 257 seconds\n"
     ]
    }
   ],
   "source": [
    "slice.submit();"
   ]
  },
  {
   "cell_type": "markdown",
   "id": "05bfa5ff-9374-4823-9ea0-09f045a91684",
   "metadata": {},
   "source": [
    "# Step 4: Installing the required packages\n",
    "In this step, we will install the required packages to run the lab. Specifically, we will install the Mellanox drivers, DPDK library, the P4 compiler (p4c), and all needed dependencies."
   ]
  },
  {
   "cell_type": "markdown",
   "id": "72c40316-489b-428d-82de-eb92e87c87dc",
   "metadata": {},
   "source": [
    "## Step 4.1 Appending list of servers\n",
    "All servers are appended to a list to execute commands in parallel"
   ]
  },
  {
   "cell_type": "code",
   "execution_count": 8,
   "id": "61333554-ef05-480e-bee6-c2a035213b0c",
   "metadata": {},
   "outputs": [],
   "source": [
    "servers = []\n",
    "\n",
    "servers.append(slice.get_node(name=\"server1\"))     \n",
    "servers.append(slice.get_node(name=\"server2\"))\n",
    "\n",
    "server1 = servers[0]\n",
    "server2 = servers[1]"
   ]
  },
  {
   "cell_type": "markdown",
   "id": "1ab6f042-3232-4245-9a5b-9e163b1bb8f4",
   "metadata": {},
   "source": [
    "## Step 4.2 NAT64 setup\n",
    "The code below checks if an IPv6 address is available to set up NAT64. We will upload the script [scripts/nat64.sh](./scripts/nat64.sh) to the all servers and execute it"
   ]
  },
  {
   "cell_type": "code",
   "execution_count": 9,
   "id": "00430e7b-472e-4d5b-a81d-03dfaaec14ae",
   "metadata": {},
   "outputs": [],
   "source": [
    "from ipaddress import ip_address, IPv6Address\n",
    "\n",
    "threads = []\n",
    "\n",
    "for server in servers:\n",
    "    if type(ip_address(server.get_management_ip())) is IPv6Address:\n",
    "        server.upload_file('scripts/nat64.sh', 'nat64.sh')\n",
    "        threads.append(server.execute_thread(f'chmod +x nat64.sh && ./nat64.sh'))\n",
    "\n",
    "for thread in threads:\n",
    "    thread.result()"
   ]
  },
  {
   "cell_type": "markdown",
   "id": "6c187536-f87c-47ae-9ced-9cf234f70c45",
   "metadata": {},
   "source": [
    "## Step 4.3 Installing dependencies\n",
    "The code below installs packages that are prerequisites to the upcoming installations and needed to run the lab experiments"
   ]
  },
  {
   "cell_type": "code",
   "execution_count": 10,
   "id": "c8d516e3-323e-44c7-bec8-45a2d48a0936",
   "metadata": {},
   "outputs": [],
   "source": [
    "threads = []\n",
    "\n",
    "for server in servers:\n",
    "    threads.append(server.execute_thread('''\n",
    "        sudo apt-get update;\n",
    "        sudo apt-get install -y build-essential python3-pip python3-pyelftools libnuma-dev pkg-config net-tools;\n",
    "        sudo pip3 install meson ninja\n",
    "    '''))\n",
    "\n",
    "for thread in threads:\n",
    "    thread.result()"
   ]
  },
  {
   "cell_type": "markdown",
   "id": "13cf4d2f-0ba4-4629-b221-87b19d4c0324",
   "metadata": {
    "tags": []
   },
   "source": [
    "## Step 4.4 Installing Mellanox drivers\n",
    "Since ConnectX-6 NICs are used in this lab, it is essential to install the supporting drivers. The code below downloads and installs Mellanox drivers on all servers while enabling DPDK"
   ]
  },
  {
   "cell_type": "code",
   "execution_count": 11,
   "id": "caa0c8d8-5d49-44cb-8d0a-1feb391fa322",
   "metadata": {},
   "outputs": [],
   "source": [
    "threads = []\n",
    "\n",
    "for server in servers:\n",
    "    threads.append(server.execute_thread('''\n",
    "        wget https://content.mellanox.com/ofed/MLNX_OFED-23.07-0.5.0.0/MLNX_OFED_LINUX-23.07-0.5.0.0-ubuntu20.04-x86_64.tgz; \n",
    "        tar xvfz MLNX_OFED_LINUX-23.07-0.5.0.0-ubuntu20.04-x86_64.tgz; \n",
    "        cd MLNX_OFED_LINUX-23.07-0.5.0.0-ubuntu20.04-x86_64; \n",
    "        echo \"y\" | sudo ./mlnxofedinstall --upstream-libs --dpdk --basic --without-fw-update --enable-sriov --hypervisor\n",
    "    '''))\n",
    "    \n",
    "for thread in threads:\n",
    "    thread.result()"
   ]
  },
  {
   "cell_type": "markdown",
   "id": "ea007d60-a00c-4c48-aab9-a9dc3ef16931",
   "metadata": {
    "tags": []
   },
   "source": [
    "## Step 4.5 Installing DPDK\n",
    "The code below downloads, builds, and installs DPDK on all servers"
   ]
  },
  {
   "cell_type": "code",
   "execution_count": 12,
   "id": "a38ccab6-c61e-43ed-a819-452be4b2a9f7",
   "metadata": {},
   "outputs": [],
   "source": [
    "threads = []\n",
    "\n",
    "for server in servers:\n",
    "    threads.append(server.execute_thread('''\n",
    "        git clone http://dpdk.org/git/dpdk; \n",
    "        cd dpdk;\n",
    "        sudo meson build;\n",
    "        cd build;\n",
    "        sudo ninja;\n",
    "        sudo ninja install; \n",
    "        sudo ldconfig\n",
    "    '''))\n",
    "\n",
    "for thread in threads:\n",
    "    thread.result()"
   ]
  },
  {
   "cell_type": "markdown",
   "id": "9def48d5-9ba4-42f0-964a-054a40237266",
   "metadata": {
    "tags": []
   },
   "source": [
    "## Step 4.6 Installing Pktgen\n",
    "In this lab, we will send from server1 packets at a high rate to server2 using a DPDK-based packet generation tool called pktgen [<a href=\"#References\">5</a>]. The code below downloads and installs Pktgen-DPDK on all servers"
   ]
  },
  {
   "cell_type": "code",
   "execution_count": 13,
   "id": "af364204-2c14-480d-ac8c-ad025339c75b",
   "metadata": {},
   "outputs": [],
   "source": [
    "threads = []\n",
    "\n",
    "for server in servers:\n",
    "    threads.append(server.execute_thread('''\n",
    "        sudo git clone https://github.com/pktgen/Pktgen-DPDK; \n",
    "        sudo sed -i \\\"s/deps += \\\\[dependency('numa', required: true)\\\\]/deps += \\\\[dependency('numa', required: false)\\\\]/\\\" /home/ubuntu/Pktgen-DPDK/app/meson.build;\n",
    "        sudo apt-get install -y cmake libpcap-dev libbsd-dev;\n",
    "        cd Pktgen-DPDK &&  sudo meson build && sudo ninja -C build && cd build/ && sudo meson install\n",
    "    '''))\n",
    "\n",
    "for thread in threads:\n",
    "    thread.result()"
   ]
  },
  {
   "cell_type": "markdown",
   "id": "9f7eabfc-7f3c-4537-a81d-d39b641b2e70",
   "metadata": {
    "tags": []
   },
   "source": [
    "## Step 4.7 Reboot\n",
    "After installing the ConnectX Mellanox divers, it is essential to reboot the servers to complete the installation process or to ensure that updates are applied correctly"
   ]
  },
  {
   "cell_type": "code",
   "execution_count": 14,
   "id": "3b4307ef-2dbe-465b-969c-2a82a82fa4b7",
   "metadata": {},
   "outputs": [],
   "source": [
    "for server in servers:\n",
    "    server.os_reboot()"
   ]
  },
  {
   "cell_type": "markdown",
   "id": "62fb2d4b-3b36-4c1d-b000-f1da0d1f7055",
   "metadata": {
    "tags": []
   },
   "source": [
    "## Step 4.8 Build pipeline library\n",
    "The code below builds the DPDK pipeline library in server 2 (on which the pipeline will be running) to put all its functions into effect "
   ]
  },
  {
   "cell_type": "code",
   "execution_count": 15,
   "id": "eabfb81a-869f-4768-8d86-20472aa4297a",
   "metadata": {},
   "outputs": [],
   "source": [
    "stdout, stderr = server2.execute(f'cd dpdk/examples/pipeline && sudo make', quiet=True)"
   ]
  },
  {
   "cell_type": "markdown",
   "id": "e3663be2-ae7e-4352-9659-4ac52b2b32b5",
   "metadata": {
    "tags": []
   },
   "source": [
    "## Step 4.9 Install p4c\n",
    "The code below downloads and installs the p4c compiler needed to compile the p4 code into a DPDK pipeline. In this lab, p4c is built from a version where the architecture has been modified."
   ]
  },
  {
   "cell_type": "code",
   "execution_count": 16,
   "id": "cf0857a2-7ec6-4ed3-92c4-6eed2e697d0b",
   "metadata": {},
   "outputs": [],
   "source": [
    "stdout, stderr = server2.execute('source /etc/lsb-release && echo \"deb http://download.opensuse.org/repositories/home:/p4lang/xUbuntu_${DISTRIB_RELEASE}/ /\" | sudo tee /etc/apt/sources.list.d/home:p4lang.list && curl -fsSL https://download.opensuse.org/repositories/home:p4lang/xUbuntu_${DISTRIB_RELEASE}/Release.key | gpg --dearmor | sudo tee /etc/apt/trusted.gpg.d/home_p4lang.gpg > /dev/null && sudo apt-get update && sudo apt install -y p4lang-p4c', quiet = True)\n",
    "stdout, stderr = server2.execute(\"cd /usr/share/p4c/p4include/dpdk/ && sudo sed -i '769s/\\\\(.\\\\{6\\\\}\\\\)/\\\\1out/' pna.p4\", quiet=True)"
   ]
  },
  {
   "cell_type": "markdown",
   "id": "de2c7395-b469-4ebc-9fc3-8f0834ddf676",
   "metadata": {
    "tags": []
   },
   "source": [
    "# Step 5: Configuring Network\n",
    "In this step, we will assign IPv4 addresses to the interfaces of the servers and hardcode the MAC addresses. We will also configure forwarding and routing."
   ]
  },
  {
   "cell_type": "markdown",
   "id": "89dca51d-dd1a-48d3-b285-68727e56992c",
   "metadata": {
    "tags": []
   },
   "source": [
    "## Step 5.1: Get interfaces names\n",
    "In this step we will get the interface names so that we can assign IP addresses to them. Map the printed interface names to those seen in this figure:\n",
    "\n",
    "<img src=\"./labs_files/lab8/figs/07_getting_interfaces.png\" width=\"400px\"><br>"
   ]
  },
  {
   "cell_type": "code",
   "execution_count": 17,
   "id": "3d3b0d19-c55b-43e5-98b1-cea0fccec6b7",
   "metadata": {},
   "outputs": [
    {
     "name": "stdout",
     "output_type": "stream",
     "text": [
      "server1_iface: enp7s0np0\n",
      "server2_iface: enp7s0np0\n"
     ]
    }
   ],
   "source": [
    "node1_iface = server1.get_interface(network_name='net1') \n",
    "server1_iface_name = node1_iface.get_device_name()+'np0'\n",
    "print(f'server1_iface: {server1_iface_name}')\n",
    "\n",
    "node2_iface = server2.get_interface(network_name='net1') \n",
    "server2_iface_name = node2_iface.get_device_name()+'np0'\n",
    "print(f'server2_iface: {server2_iface_name}')"
   ]
  },
  {
   "cell_type": "markdown",
   "id": "bd39b32c-5bab-4839-bdca-95df857505ee",
   "metadata": {
    "tags": []
   },
   "source": [
    "## Step 5.2: Turning all interfaces up\n",
    "In this step, we will use the ip link command to turn the interfaces up\n",
    "\n",
    "<img src=\"./labs_files/lab8/figs/08_interfaces_up.png\" width=\"400px\"><br>"
   ]
  },
  {
   "cell_type": "code",
   "execution_count": 18,
   "id": "c1b5b81d-0748-4469-9199-1b1ac166ae37",
   "metadata": {},
   "outputs": [],
   "source": [
    "stdout, stderr = server1.execute(f'sudo ip link set dev {server1_iface_name} up', quiet=True)\n",
    "stdout, stderr = server2.execute(f'sudo ip link set dev {server2_iface_name} up', quiet=True)"
   ]
  },
  {
   "cell_type": "markdown",
   "id": "78875d75-e18d-4065-84be-df150d62a0e3",
   "metadata": {
    "tags": []
   },
   "source": [
    "## Step 5.3: Hardcode MAC addresses\n",
    "For simplicity, we will use the following MAC addresses for the interfaces:\n",
    "<ul>\n",
    "    <li> server1_iface_MAC = '00:00:00:00:00:01' (shown as 00:01 in the figure below) </li>\n",
    "    <li>server2_iface_MAC = '00:00:00:00:00:02' (shown as 00:02 in the figure below)</li>\n",
    "</ul>\n",
    "\n",
    "<img src=\"./labs_files/lab8/figs/09_mac_addresses.png\" width=\"400px\"><br>"
   ]
  },
  {
   "cell_type": "code",
   "execution_count": 19,
   "id": "96f41fe4-6da1-4551-8de8-84125232595e",
   "metadata": {},
   "outputs": [],
   "source": [
    "server1_iface_MAC = '00:00:00:00:00:01'\n",
    "server2_iface_MAC = '00:00:00:00:00:02'"
   ]
  },
  {
   "cell_type": "markdown",
   "id": "8168aa58-e6cf-463a-95d8-5cf88838d6a7",
   "metadata": {
    "tags": []
   },
   "source": [
    "## Step 5.4 Configuring the IP and MAC addresses on server1_iface and server2_iface\n",
    "\n",
    "We will use the network 192.168.10.0/24 between server1 and server2. We will assign the IP address 192.168.10.1 to server1's interface and 192.168.10.2 to its neighboring interface on server2.\n",
    "\n",
    "<img src=\"./labs_files/lab8/figs/10_IPs_10.png\" width=\"400px\"><br>"
   ]
  },
  {
   "cell_type": "code",
   "execution_count": 20,
   "id": "7340e2cc-f657-41ae-8b78-62c21afed741",
   "metadata": {},
   "outputs": [
    {
     "name": "stdout",
     "output_type": "stream",
     "text": [
      "\u001b[31m sudo: unable to resolve host server1: Name or service not known\n",
      " \u001b[0m\u001b[31m sudo: unable to resolve host server2: Name or service not known\n",
      " \u001b[0m\u001b[31m sudo: unable to resolve host server1: Name or service not known\n",
      " \u001b[0m\u001b[31m sudo: unable to resolve host server2: Name or service not known\n",
      " \u001b[0m"
     ]
    }
   ],
   "source": [
    "server1_server2_subnet = \"192.168.10.0/24\"\n",
    "server1_ip = '192.168.10.1/24'\n",
    "server2_ip = '192.168.10.2/24'\n",
    "\n",
    "stdout, stderr = server1.execute(f'sudo ifconfig {server1_iface_name} {server1_ip}')\n",
    "stdout, stderr = server2.execute(f'sudo ifconfig {server2_iface_name} {server2_ip}')\n",
    "\n",
    "stdout, stderr = server1.execute(f'sudo ifconfig {server1_iface_name} hw ether {server1_iface_MAC}')\n",
    "stdout, stderr = server2.execute(f'sudo ifconfig {server2_iface_name} hw ether {server2_iface_MAC}')"
   ]
  },
  {
   "cell_type": "markdown",
   "id": "ed7b4bd9-4343-456c-bfe2-c1e7a167e72d",
   "metadata": {},
   "source": [
    "## Step 5.5: Enable forwarding on server2\n",
    "\n",
    "The command \"sudo sysctl -w net.ipv4.ip_forward=1\" is used to enable IP forwarding on a Linux system.\n",
    "\n",
    "IP forwarding is a feature that allows a system to act as a router by forwarding network packets from one network interface to another. By default, IP forwarding is usually disabled on Linux systems for security reasons. \n",
    "\n",
    "The command will be executed on the server2."
   ]
  },
  {
   "cell_type": "code",
   "execution_count": 21,
   "id": "ac08f975-729c-4c80-aa58-9dcf8e5ef440",
   "metadata": {},
   "outputs": [],
   "source": [
    "stdout, stderr = server2.execute(f'sudo sysctl -w net.ipv4.ip_forward=1', quiet=True)"
   ]
  },
  {
   "cell_type": "markdown",
   "id": "8e64f96d-eaeb-44b1-94f3-0c428371b539",
   "metadata": {},
   "source": [
    "## Step 5.6: Configure ARP\n",
    "\n",
    "In this step, we will configure static ARP entries on server1, and server2."
   ]
  },
  {
   "cell_type": "code",
   "execution_count": 22,
   "id": "bd8a0c6f-7fc5-4711-9636-4d6cb4f1baba",
   "metadata": {},
   "outputs": [
    {
     "name": "stdout",
     "output_type": "stream",
     "text": [
      "\u001b[31m sudo: unable to resolve host server1: Name or service not known\n",
      " \u001b[0m\u001b[31m sudo: unable to resolve host server2: Name or service not known\n",
      " \u001b[0m"
     ]
    }
   ],
   "source": [
    "gw1 = server2_ip.split('/')[0]\n",
    "gw2 = server1_ip.split('/')[0]\n",
    "stdout, stderr = server1.execute(f'sudo arp -s {gw1} {server2_iface_MAC}')\n",
    "stdout, stderr = server2.execute(f'sudo arp -s {gw2} {server1_iface_MAC}')"
   ]
  },
  {
   "cell_type": "markdown",
   "id": "5796088b-d77e-44e2-978e-3856e5bc998b",
   "metadata": {},
   "source": [
    "## Step 5.7: Mellanox devices\n",
    "\n",
    "In this step, we will inspect and start all Mellanox devices."
   ]
  },
  {
   "cell_type": "code",
   "execution_count": 23,
   "id": "95959918-3aa1-4fb9-9fc1-6b2cddd12130",
   "metadata": {},
   "outputs": [
    {
     "name": "stdout",
     "output_type": "stream",
     "text": [
      "mlx5_0 port 1 ==> enp7s0np0 (Up)\n",
      "\u001b[31m sudo: unable to resolve host server1: Name or service not known\n",
      " \u001b[0mmlx5_1 port 1 ==> enp8s0np1 (Down)\n",
      "mlx5_0 port 1 ==> enp7s0np0 (Up)\n",
      "mlx5_1 port 1 ==> enp8s0np1 (Down)\n",
      "\u001b[31m sudo: unable to resolve host server2: Name or service not known\n",
      " \u001b[0m"
     ]
    }
   ],
   "source": [
    "stdout, stderr = server1.execute(f'sudo ibdev2netdev')\n",
    "stdout, stderr = server1.execute(f'sudo mst status', quiet=True)\n",
    "stdout, stderr = server1.execute(f'sudo mst start', quiet=True)\n",
    "stdout, stderr = server1.execute(f'sudo mst status', quiet=True)\n",
    "\n",
    "stdout, stderr = server2.execute(f'sudo ibdev2netdev')\n",
    "stdout, stderr = server2.execute(f'sudo mst status', quiet=True)\n",
    "stdout, stderr = server2.execute(f'sudo mst start', quiet=True)\n",
    "stdout, stderr = server2.execute(f'sudo mst status', quiet=True)"
   ]
  },
  {
   "cell_type": "markdown",
   "id": "52dfbd62-5ec4-4926-a449-638ac6de9d2b",
   "metadata": {},
   "source": [
    "In the output above, you can see that there are two interfaces that are turned down. This is because each server has a Connect-X6 NIC attached, which is a dual-port NIC, and only one port in each NIC is used in this topology. "
   ]
  },
  {
   "cell_type": "markdown",
   "id": "244c257e-e2b3-4dfb-976c-39df415818ab",
   "metadata": {},
   "source": [
    "# Step 6: Compiling the P4 program"
   ]
  },
  {
   "cell_type": "markdown",
   "id": "964a8ce9-0f61-48f3-9ddb-a738903638ff",
   "metadata": {},
   "source": [
    "In this lab, we will not modify the P4 code in which we implement a simple packet reflector. Instead, we will just compile it using the p4c-dpdk compiler. Note that in this P4 code the Portable NIC Architecture (PNA) is used.\n",
    "\n",
    "To upload and compile the P4 program, issue the following command."
   ]
  },
  {
   "cell_type": "code",
   "execution_count": 24,
   "id": "d8803fdf-3b6d-4b54-b88e-53ac463dfa65",
   "metadata": {},
   "outputs": [
    {
     "name": "stdout",
     "output_type": "stream",
     "text": [
      "\u001b[31m sudo: unable to resolve host server2: Name or service not known\n",
      " \u001b[0mMLNX_OFED_LINUX-23.07-0.5.0.0-ubuntu20.04-x86_64\n",
      "MLNX_OFED_LINUX-23.07-0.5.0.0-ubuntu20.04-x86_64.tgz\n",
      "Pktgen-DPDK\n",
      "dpdk\n",
      "lab9.p4\n",
      "lab9.spec\n",
      "nat64.sh\n"
     ]
    }
   ],
   "source": [
    "server2.upload_file('labs_files/lab9/lab9.p4','lab9.p4')\n",
    "stdout, stderr = server2.execute(f'sudo p4c-dpdk --arch=pna lab9.p4 -o lab9.spec')\n",
    "stdout, stderr = server2.execute(f'ls')"
   ]
  },
  {
   "cell_type": "markdown",
   "id": "86212509-c2fb-486d-8fe6-ac186781769b",
   "metadata": {},
   "source": [
    "The command above invokes the ```p4c-dpdk``` compiler to compile the ```main.p4``` program and generates the ```lab9.spec``` file which is a specification file needed to run the pipeline."
   ]
  },
  {
   "cell_type": "markdown",
   "id": "f7b3fdb8-da21-474a-b623-b09ac65511ff",
   "metadata": {},
   "source": [
    "# Step 7: Implementing the P4-DPDK pipeline"
   ]
  },
  {
   "cell_type": "markdown",
   "id": "3f366db9-1d84-41b2-a307-389a62dc146f",
   "metadata": {},
   "source": [
    "## Step 7.1: Preparing the P4-DPDK CLI script\n",
    "Each P4-DPDK pipeline is built through the CLI script. In this subsection, we will write the CLI script in which the pipeline is created and built."
   ]
  },
  {
   "cell_type": "markdown",
   "id": "d2f12598-b9bf-4195-b297-56f0d6ec34e5",
   "metadata": {},
   "source": [
    "Click on [lab9.cli](./labs_files/lab9/lab9.cli) to open the CLI file in the editor.\n",
    "\n",
    "<img src=\"./labs_files/lab9/figs/7_02_01.png\" width=\"650px\"><br>\n",
    "We can see that the lab9.cli file is empty and we have to fill it.\n",
    "\n",
    "<hr>\n",
    "\n",
    "We will start by generating the pipeline code and building the shared object. Write the following in the lab9.cli file.\n",
    "\n",
    "    pipeline codegen /home/ubuntu/lab9.spec /tmp/lab9.c\n",
    "    pipeline libbuild /tmp/lab9.c /tmp/lab9.so\n",
    "\n",
    "<img src=\"./labs_files/lab9/figs/7_02_02.png\" width=\"800\"><br>\n",
    "\n",
    "In the figure above the ```codegen``` function (line 2) is used to generate the C code of the compiled user application in the spec file. This function takes two arguments, the path to the specification file compiled ```/home/ubuntu/lab9.spec``` and the generated code is placed in a temporary directory ```/tmp/lab9.c```.\n",
    "\n",
    "The ```libbuild``` function (line 3) is used to generate a shared object to execute the application. This function takes two arguments, the path to the C code ```/tmp/lab9.c``` and the generated shared object is placed in a temporary ```/tmp/lab9.so```.\n",
    "\n",
    "<hr>\n",
    "\n",
    "Now we will list the DPDK devices with customized parameters that match our setup. Write the following in the lab9.cli file.\n",
    "\n",
    "    mempool MEMPOOL0 meta 0 pkt 9500 pool 128K cache 256 numa 0\n",
    "\n",
    "<img src=\"./labs_files/lab9/figs/7_02_03.png\" width=\"800\"><br>\n",
    "\n",
    "The line of code in the figure above (line 6) is used to create DPDK objects like a memory pool mempool with parameters to setup each DPDK device.  A memory pool MEMPOOL0 is defined as follows: \n",
    "\n",
    "•\t```mempool```: create a memory pool object associated with a given name. <br>\n",
    "•\t```meta```: specifies the private size of the memory buffer in bytes, which is the memory allocated for an application’s private data.<br>\n",
    "•\t```pkt```: specifies the private size of the memory buffer in bytes, which is the memory allocated for an application to store data associated with a packet.<br>\n",
    "•\t```pool```: the size of the defined memory pool specified in bytes.<br>\n",
    "•\t```cache```: the cache size in bytes which should be a power of 2. <br>\n",
    "•\t```numa```: pinned NUMA node ID.\n"
   ]
  },
  {
   "cell_type": "markdown",
   "id": "06bca54e-c872-4731-b721-2df34b872416",
   "metadata": {},
   "source": [
    "Execute the command below to inspect the name the interface on server2"
   ]
  },
  {
   "cell_type": "code",
   "execution_count": 34,
   "id": "93bed9de-4b5f-407a-a76c-9101e8e57b48",
   "metadata": {},
   "outputs": [
    {
     "name": "stdout",
     "output_type": "stream",
     "text": [
      "0000:07:00.0\n"
     ]
    }
   ],
   "source": [
    "stdout, stderr = server2.execute('lspci | grep ConnectX | awk \\'{print \"0000:\" $1}\\'| head -n 1')"
   ]
  },
  {
   "cell_type": "markdown",
   "id": "dced08af-0dd8-4800-bd65-ebb6c2409c99",
   "metadata": {},
   "source": [
    "Now we will list the DPDK ethernet devices with customized parameters that match our setup. Write the following in the lab9.cli file.\n",
    "\n",
    "<div style=\"background-color: #e0f7fa; border: 1px solid #b2ebf2; padding: 10px; border-radius: 5px;\">\n",
    "It is important that the interface name matches the output of the previous command as it should also be used in the I/O specification file. This is the notation considered by DPDK while the operating system assigns different tags to the interfaces. This is an example where the interface name is 0000:07:00.0\n",
    "</div>\n",
    "\n",
    "    ethdev 0000:07:00.0 rxq 4 1024 MEMPOOL0 txq 4 1024 promiscuous on rss 0 1 2 3\n",
    "\n",
    "<img src=\"./labs_files/lab9/figs/7_02_04.png\" width=\"800\"><br>\n",
    "\n",
    "The block of code in the figure above (line 9) is used to create an ethernet device ```ethdev``` with customized parameters.\n",
    "\n",
    "Ethernet devices which are the interfaces linked to the pipeline are defined as follows:\n",
    "\n",
    "•\t```ethdev```: ethernet device name (the attached devices net_tap0 and net_tap1 are virtual ethernet devices with their instances created when the pipeline is invoked). <br>\n",
    "•\t```rxq```: receiving queue parameters (number of receiving queues, queue size (bytes), memory pool name).<br>\n",
    "•\t```txq```: transmitting queue parameters (number of transmitting queues, queue size (bytes)). <br>\n",
    "•\t```promiscuous```: a mode that allows a network device to read each network packet that arrives (on / off).<br>\n",
    "•\t```rss```: the queue IDs to which the packets are going to be directed.<br>\n",
    "\n",
    "<hr>\n",
    "\n",
    "Now we will list the P4-DPDK pipelines. Write the following in the lab9.cli file.\n",
    "\n",
    "    pipeline PIPELINE0 build lib /tmp/lab9.so io /home/ubuntu/ethdev0.io numa 0\n",
    "    pipeline PIPELINE1 build lib /tmp/lab9.so io /home/ubuntu/ethdev1.io numa 0\n",
    "    pipeline PIPELINE2 build lib /tmp/lab9.so io /home/ubuntu/ethdev2.io numa 0\n",
    "    pipeline PIPELINE3 build lib /tmp/lab9.so io /home/ubuntu/ethdev3.io numa 0\n",
    "\n",
    "<img src=\"./labs_files/lab9/figs/7_02_05.png\" width=\"800\"><br>\n",
    "\n",
    "In the figure above the ```build``` function (lines 12 - 16) is used to create a pipeline object, for example ```PIPELINE0```. This function takes the path of the shared object library ```lib  /tmp/lab9.so```, the path of the I/O file (which will be discussed in detail in the next subsection) ```io  /home/ubuntu/ethdev.io``` and the numa node ID ```numa  0```. Each pipeline is mapped to a different I/O file but they are all pinned to the same NUMA node.\n",
    "\n",
    "<hr>\n",
    "\n",
    "Now we will map the created pipeline to a CPU thread. Write the following in the lab9.cli file.\n",
    "\n",
    "    pipeline PIPELINE0 enable thread 1\n",
    "    pipeline PIPELINE1 enable thread 2\n",
    "    pipeline PIPELINE2 enable thread 3\n",
    "    pipeline PIPELINE3 enable thread 4\n",
    "\n",
    "<img src=\"./labs_files/lab9/figs/7_02_06.png\" width=\"800\"><br>\n",
    "\n",
    "In the figure above the ```enable thread``` function (lines 18 - 21) is used to map the pipeline to a CPU thread. For example ```PIPELINE0``` is pinned to the CPU thread with ID 1.\n",
    "\n",
    "<hr>\n",
    "\n",
    "Save the changes by pressing ```Ctrl+s```."
   ]
  },
  {
   "cell_type": "markdown",
   "id": "0960d1cf-1a03-4df4-82f2-487d9f1405e8",
   "metadata": {},
   "source": [
    "## Step 7.2: Preparing the I/O scripts\n",
    "The stream of packets within a P4-DPDK must be configured. In this subsection, we will write the I/O scripts which are the configuration files for each pipeline input and output stream."
   ]
  },
  {
   "cell_type": "markdown",
   "id": "8e3da23e-7e08-40b7-bf04-a9c2f2e96fb7",
   "metadata": {},
   "source": [
    "Execute the command below to inspect the name the interface on server2"
   ]
  },
  {
   "cell_type": "code",
   "execution_count": 24,
   "id": "9c4cdbfb-8aee-435a-a761-52756126575f",
   "metadata": {},
   "outputs": [
    {
     "name": "stdout",
     "output_type": "stream",
     "text": [
      "0000:07:00.0\n"
     ]
    }
   ],
   "source": [
    "stdout, stderr = server2.execute('lspci | grep ConnectX | awk \\'{print \"0000:\" $1}\\'| head -n 1')"
   ]
  },
  {
   "cell_type": "markdown",
   "id": "b02a2234-8ba0-4c6d-957c-542000f0eb70",
   "metadata": {},
   "source": [
    "The output of the command above will be used to refer to the interface name in the I/O scripts"
   ]
  },
  {
   "cell_type": "markdown",
   "id": "1a02e8ce-fd72-41a8-9ff3-021a52dabbbf",
   "metadata": {},
   "source": [
    "Click on [ethdev0.io](./labs_files/lab9/ethdev0.io) to open the I/O file in the editor.\n",
    "\n",
    "<img src=\"./labs_files/lab9/figs/7_03_01.png\" width=\"650px\"><br>\n",
    "\n",
    "We can see that the ethdev0.io file is empty and we have to fill it.\n",
    "\n",
    "<hr>\n",
    "\n",
    "We will start by defining the pipeline input port. Write the following in the ethdev0.io file.\n",
    "\n",
    "<div style=\"background-color: #e0f7fa; border: 1px solid #b2ebf2; padding: 10px; border-radius: 5px;\">\n",
    "The step shows an example where the interface name is 0000:07:00.0. Modify the interface name to match the output of the command executed at the beginning of this section.\n",
    "</div>\n",
    "\n",
    "    port in 0 ethdev 0000:07:00.0 rxq 0 bsz 32\n",
    "\n",
    "<img src=\"./labs_files/lab9/figs/7_03_02.png\" width=\"650px\"><br>\n",
    "\n",
    "Input ports to the pipeline are defined as follows:\n",
    "\n",
    "•\t```port in```: the pipeline input port ID<br>\n",
    "•\t```ethdev```: the ethernet device associated with the defined port<br>\n",
    "•\t```rxq```: the receiving queue ID<br>\n",
    "•\t```bsz```: burst size (packets)<br>\n",
    "\n",
    "In the figure above the ```port in``` function (line 2) is used to define the input port to the pipeline. In this case, 0 is assigned as the port ID of the port. ```0000:07:00.0``` is the name of ethernet device associated with ports 0. \n",
    "\n",
    "Every packet received at an input port is then forwarded to a receiving queue in the pipeline as determined by the ```rxq``` parameter which holds a value representing the receiving queue ID. The port will forward packets to a single queue with ID 0. The ```bsz``` parameter represents the burst size. DPDK attempts to aggregate the cost of processing each packet individually by processing packets in bursts, and the burst size is set to 32.\n",
    "\n",
    "<hr>\n",
    "\n",
    "Now we will define the pipeline output port. Write the following in the ethdev0.io file.\n",
    "\n",
    "<div style=\"background-color: #e0f7fa; border: 1px solid #b2ebf2; padding: 10px; border-radius: 5px;\">\n",
    "The step shows an example where the interface name is 0000:07:00.0. Modify the interface name to match the output of the command executed at the beginning of this section.\n",
    "</div>\n",
    "\n",
    "    port out 0 ethdev 0000:07:00.0 txq 0 bsz 32\n",
    "\n",
    "<img src=\"./labs_files/lab9/figs/7_03_03.png\" width=\"650px\"><br>\n",
    "\n",
    "Output ports to the pipeline are defined as follows:\n",
    "\n",
    "•\t```port out```: the pipeline output port ID<br>\n",
    "•\t```ethdev```: the ethernet device associated with the defined port<br>\n",
    "•\t```txq```: the transmitting queue ID<br>\n",
    "•\t```bsz```: burst size (packets)<br>\n",
    "\n",
    "In the figure above the ```port out``` function (lines 4) is used to define the output port from the pipeline. Similar to the ```port in``` function, when this function is called, it is followed by the port ID and ethernet device interface ID. Every packet delivered at an output port is then forwarded to a transmitting queue in the pipeline as determined by the ```txq``` parameter which holds a value representing the transmitting queue ID. The port will forward packets to a single queue with ID 0. The burst size ```bsz``` is set to 32.\n",
    "\n",
    "<hr>\n",
    "\n",
    "Save the changes by pressing ```Ctrl+s```.\n",
    "\n",
    "<hr>\n",
    "\n",
    "Click on [ethdev1.io](./labs_files/lab9/ethdev1.io) to open the I/O file in the editor.\n",
    "\n",
    "We will define the input and output ports of the second pipeline. Write the following in the ethdev1.io file.\n",
    "\n",
    "<div style=\"background-color: #e0f7fa; border: 1px solid #b2ebf2; padding: 10px; border-radius: 5px;\">\n",
    "The step shows an example where the interface name is 0000:07:00.0. Modify the interface name to match the output of the command executed at the beginning of this section.\n",
    "</div>\n",
    "\n",
    "    port in 0 ethdev 0000:07:00.0 rxq 1 bsz 32\n",
    "    port out 0 ethdev 0000:07:00.0 rxq 1 bsz 32\n",
    "\n",
    "<img src=\"./labs_files/lab9/figs/7_03_04.png\" width=\"800px\"><be>\n",
    "\n",
    "<hr>\n",
    "\n",
    "Save the changes by pressing ```Ctrl+s```.\n",
    "\n",
    "<hr>\n",
    "\n",
    "Click on [ethdev2.io](./labs_files/lab9/ethdev2.io) to open the I/O file in the editor.\n",
    "\n",
    "We will define the input and output ports of the third pipeline. Write the following in the ethdev2.io file.\n",
    "\n",
    "<div style=\"background-color: #e0f7fa; border: 1px solid #b2ebf2; padding: 10px; border-radius: 5px;\">\n",
    "The step shows an example where the interface name is 0000:07:00.0. Modify the interface name to match the output of the command executed at the beginning of this section.\n",
    "</div>\n",
    "\n",
    "    port in 0 ethdev 0000:07:00.0 rxq 2 bsz 32\n",
    "    port out 0 ethdev 0000:07:00.0 rxq 2 bsz 32\n",
    "\n",
    "<img src=\"./labs_files/lab9/figs/7_03_05.png\" width=\"800px\"><be>\n",
    "\n",
    "<hr>\n",
    "\n",
    "Save the changes by pressing ```Ctrl+s```.\n",
    "\n",
    "<hr>\n",
    "\n",
    "Click on [ethdev3.io](./labs_files/lab9/ethdev3.io) to open the I/O file in the editor.\n",
    "\n",
    "We will define the input and output ports of the fourth pipeline. Write the following in the ethdev3.io file.\n",
    "\n",
    "<div style=\"background-color: #e0f7fa; border: 1px solid #b2ebf2; padding: 10px; border-radius: 5px;\">\n",
    "The step shows an example where the interface name is 0000:07:00.0. Modify the interface name to match the output of the command executed at the beginning of this section.\n",
    "</div>\n",
    "\n",
    "    port in 0 ethdev 0000:07:00.0 rxq 3 bsz 32\n",
    "    port out 0 ethdev 0000:07:00.0 rxq 3 bsz 32\n",
    "\n",
    "<img src=\"./labs_files/lab9/figs/7_03_06.png\" width=\"800px\"><be>\n",
    "\n",
    "<hr>\n",
    "\n",
    "Save the changes by pressing ```Ctrl+s```."
   ]
  },
  {
   "cell_type": "markdown",
   "id": "527e2e98-644f-4fc3-88ff-123b50aaf8d2",
   "metadata": {},
   "source": [
    "# Step 8: Running the P4-DPDK pipeline\n",
    "Now that all the required scripts are prepared, we can run the pipeline."
   ]
  },
  {
   "cell_type": "markdown",
   "id": "2a90261c-2809-4f90-8e56-dcbe57f90239",
   "metadata": {},
   "source": [
    "## Step 8.1: Uploading files\n",
    "The following code uploads the CLI and I/O scripts to server2."
   ]
  },
  {
   "cell_type": "code",
   "execution_count": 25,
   "id": "669fc8a7-d84d-4bf1-b22a-fc6ba823f7d7",
   "metadata": {},
   "outputs": [
    {
     "data": {
      "text/plain": [
       "<SFTPAttributes: [ size=86 uid=1000 gid=1000 mode=0o100664 atime=1727024928 mtime=1727024928 ]>"
      ]
     },
     "execution_count": 25,
     "metadata": {},
     "output_type": "execute_result"
    }
   ],
   "source": [
    "server2.upload_file('labs_files/lab9/lab9.cli','lab9.cli')\n",
    "server2.upload_file('labs_files/lab9/ethdev0.io','ethdev0.io')\n",
    "server2.upload_file('labs_files/lab9/ethdev1.io','ethdev1.io')\n",
    "server2.upload_file('labs_files/lab9/ethdev2.io','ethdev2.io')\n",
    "server2.upload_file('labs_files/lab9/ethdev3.io','ethdev3.io')"
   ]
  },
  {
   "cell_type": "markdown",
   "id": "488f903f-69d4-47cf-b90d-d2afda7112d9",
   "metadata": {},
   "source": [
    "## Step 8.2: Reserving hugepages\n",
    "Configure the number of hugepages in the system by typing the following command. "
   ]
  },
  {
   "cell_type": "code",
   "execution_count": 26,
   "id": "5ab66bf2-349a-4f26-9a61-b1fefb7a9228",
   "metadata": {},
   "outputs": [],
   "source": [
    "threads = []\n",
    "\n",
    "for server in servers:\n",
    "    threads.append(server.execute_thread(f' sudo sh -c  \"echo 1024 > /sys/kernel/mm/hugepages/hugepages-2048kB/nr_hugepages\"'))\n",
    "\n",
    "for thread in threads:\n",
    "    thread.result()"
   ]
  },
  {
   "cell_type": "markdown",
   "id": "573dff55-e3e9-41f7-b6b4-47f4e07d0948",
   "metadata": {},
   "source": [
    "Hugepage reservation is done by setting the number of hugepages required to the ```nr_hugepages``` file in the kernel corresponding to a specific page size (in Kilobytes).\n",
    "\n",
    "The ```echo``` command is used to print a value which in this case is ```1024``` representing the number of hugepages. The ```>``` symbol is a redirection operator that redirects the output of the previous command (echo 1024) to the file specified in the following path: ```/sys/kernel/mm/hugepages/hugepages-2048kB/nr_hugepages```"
   ]
  },
  {
   "cell_type": "markdown",
   "id": "c5042869-7da4-46db-9824-228bd5188d8e",
   "metadata": {},
   "source": [
    "## Step 8.3: Opening a terminal\n",
    "\n",
    "Launch a new terminal by opening a new tab and then select \"terminal\".\n",
    "\n",
    "<img src=\"./labs_files/lab9/figs/terminal1.gif\" width=\"800px\"><br>\n",
    "\n",
    "Copy the output of the command below and paste it in the terminal to enter to server2."
   ]
  },
  {
   "cell_type": "code",
   "execution_count": 27,
   "id": "3d153fc4-f4a3-426f-8e73-f63047a8af5f",
   "metadata": {},
   "outputs": [
    {
     "data": {
      "text/plain": [
       "'ssh -i /home/fabric/work/fabric_config/slice_key -F /home/fabric/work/fabric_config/ssh_config ubuntu@2001:400:a100:3010:f816:3eff:fe6e:65d1'"
      ]
     },
     "execution_count": 27,
     "metadata": {},
     "output_type": "execute_result"
    }
   ],
   "source": [
    "server2.get_ssh_command()"
   ]
  },
  {
   "cell_type": "markdown",
   "id": "65c3de87-26c3-47b2-9fe3-5c1429da4094",
   "metadata": {},
   "source": [
    "## Step 8.4: Running the pipeline\n",
    "\n",
    "Run the following commands in the terminal:\n",
    "    \n",
    "    cd dpdk\n",
    "    sudo examples/pipeline/build/pipeline -c 0x1F -- -s /home/ubuntu/lab9.cli\n",
    "    \n",
    "<img src=\"./labs_files/lab9/figs/pipeline_run.png\" width=\"700\"><br>\n",
    "\n",
    "In the figure above, the command is used to run the DPDK pipeline application considering the following arguments:\n",
    "\n",
    "•\t```examples/pipeline/build/pipeline```: the path to the executable DPDK pipeline application.<br>\n",
    "•\t```-c```: this parameter is used to specify the hexadecimal bitmask of the cores to run on. In this case, (0x1F) indicated that 4 cores are reserved for the pipelines and one extra core is needed for other processes.<br>\n",
    "•\t```-s```: this parameter is used to specify the path to the CLI script file to be run at application startup ```/home/ubuntu/lab9.cli```.<br>\n",
    "\n",
    "Note that when the DPDK pipeline runs, the CLI script is printed in the terminal. If any problems are encountered while running the pipeline, error messages will be shown within the printed CLI script.\n"
   ]
  },
  {
   "cell_type": "markdown",
   "id": "0a36242c-6543-4e15-9cbf-00e30ac4cad9",
   "metadata": {},
   "source": [
    "# Setp 9: Testing the application\n",
    "To test the application, we will send from server1 packets at a high rate to server2 using a DPDK-based packet generation tool called pktgen. "
   ]
  },
  {
   "cell_type": "markdown",
   "id": "36423bba-b0b3-4c3c-b482-be5b51c8cd19",
   "metadata": {},
   "source": [
    "## Step 9.1: Opening a new terminal\n",
    "\n",
    "Launch a new terminal by opening a new tab and then select \"terminal\".\n",
    "\n",
    "<img src=\"./labs_files/lab9/figs/terminal2.gif\" width=\"800px\"><br>\n",
    "\n",
    "Copy the output of the command below and paste it in the terminal to enter to server1."
   ]
  },
  {
   "cell_type": "code",
   "execution_count": 28,
   "id": "593ef5fb-d71e-4d43-96a9-91a681ccb72f",
   "metadata": {},
   "outputs": [
    {
     "data": {
      "text/plain": [
       "'ssh -i /home/fabric/work/fabric_config/slice_key -F /home/fabric/work/fabric_config/ssh_config ubuntu@2620:0:c80:1001:f816:3eff:fe79:7ea7'"
      ]
     },
     "execution_count": 28,
     "metadata": {},
     "output_type": "execute_result"
    }
   ],
   "source": [
    "server1.get_ssh_command()"
   ]
  },
  {
   "cell_type": "markdown",
   "id": "4eaa1d34-d0b0-435a-a133-73c565114988",
   "metadata": {},
   "source": [
    "## Step 9.2: Running pktgen"
   ]
  },
  {
   "cell_type": "markdown",
   "id": "bc1fb7cc-e18e-4144-9376-c5a7937d80d2",
   "metadata": {},
   "source": [
    "Run the command below to know which interface is being used on server 1 to communicate with server 2 "
   ]
  },
  {
   "cell_type": "code",
   "execution_count": 49,
   "id": "e2452b58-8b01-405b-861f-118ba384dea1",
   "metadata": {},
   "outputs": [
    {
     "name": "stdout",
     "output_type": "stream",
     "text": [
      "07:00.0\n"
     ]
    }
   ],
   "source": [
    "stdout, stderr = server1.execute('lspci | grep ConnectX | awk \\'{print $1}\\'| head -n 1')"
   ]
  },
  {
   "cell_type": "markdown",
   "id": "ec771b81-7729-42a1-aaa6-886e166de798",
   "metadata": {},
   "source": [
    "The output of this command will be used to refer to the interface ID in the command invoked to run pktgen"
   ]
  },
  {
   "cell_type": "markdown",
   "id": "3754e213-e91b-40f0-bd4b-8f86bbfa82ac",
   "metadata": {},
   "source": [
    "Run the following commands in the terminal to run pktgen:\n",
    "\n",
    "<div style=\"background-color: #e0f7fa; border: 1px solid #b2ebf2; padding: 10px; border-radius: 5px;\">\n",
    "It is important that the interface name matches the output of the previous command. This is an example where the interface ID is 07:00.0\n",
    "</div>\n",
    "\n",
    "    sudo pktgen -l 0,1 -n 4 -a 07:00.0 -- -P -m \"1.0\"\n",
    "    \n",
    "<img src=\"./labs_files/lab9/figs/pktgen_command.png\" width=\"650\"><br>\n",
    "\n",
    "In the figure above, the command ```pktgen``` is used to run the packet generator considering the following arguments:\n",
    "\n",
    "•\t```-l```: List of cores to run on.<br>\n",
    "•\t```-n```: Number of memory channels.<br>\n",
    "•\t```-a```: The ID of allowed interfaces (the command shows an example where interface 07:00.0 is used).<br>\n",
    "•\t```-P```: Enable promiscuous mode on all ports.<br>\n",
    "•\t```-m```: Matrix for mapping ports to logical cores.<be>\n",
    "\n",
    "In this step, we are invoking pktgen, using cores 2 cores (0 and 1) as specified in the ```-l``` parameter with 4 memory channels as specified in the ```-n``` parameter. The interface allowed ```-a``` has the ID 07:00.0 in this example. We enabled promiscuous mode ```-P``` and mapped CPU core 1 to handle the rx and tx ports of port 0 as specified in the ```-m``` parameter.\n",
    "\n",
    "As soon a pktgen starts the main screen is displayed:\n",
    "\n",
    "<img src=\"./labs_files/lab9/figs/pktgen_main.png\" width=\"650\"><br>"
   ]
  },
  {
   "cell_type": "markdown",
   "id": "5a177778-8a26-4f75-8f48-82cda4df0e61",
   "metadata": {},
   "source": [
    "## Step 9.3: Configuring pktgen\n",
    "\n",
    "In pktgen, we will set the source and destination MAC and IP addresses along with the desired packet size of the generated packets. RSS will distribute packets that belong to the same flow on each of the four different pipelines running on four different cores. Therefore, we will have to generate the packets from a range of flows. To do so, we will generate packets from a range of source and destination IP addresses. \n",
    "\n",
    "In pktgen terminal, enter the following command to navigate the page displaying the settings of packets sent from a range of flows:\n",
    "\n",
    "    page range\n",
    "\n",
    "<img src=\"./labs_files/lab9/figs/pktgen_range.png\" width=\"650\"><be>\n",
    "\n",
    "<hr>\n",
    "\n",
    "Enter the following commands to set the source MAC address:\n",
    "\n",
    "    range 0 src mac start 00:00:00:00:00:01\n",
    "    range 0 src mac min 00:00:00:00:00:01\n",
    "    range 0 src mac max 00:00:00:00:00:01\n",
    "\n",
    "<img src=\"./labs_files/lab9/figs/pktgen_srcmac.png\" width=\"650\"><be>\n",
    "\n",
    "To modify the settings in the rage page we used the ```range``` command. To set the source MAC address of the generated packets sent from port ID 0, we used the ```src mac``` command and since the source MAC addresses are not randomized, we will set the starting value ```start```, minimum value ```min``` and maximum value ```max``` to be ```00:00:00:00:00:01``` which is the MAC address of server1. \n",
    "\n",
    "<hr>\n",
    "\n",
    "Enter the following commands to set the destination MAC address:\n",
    "\n",
    "    range 0 dst mac start 00:00:00:00:00:02\n",
    "    range 0 dst mac min 00:00:00:00:00:02\n",
    "    range 0 dst mac max 00:00:00:00:00:02\n",
    "\n",
    "<img src=\"./labs_files/lab9/figs/pktgen_dstmac.png\" width=\"650\"><be>\n",
    "\n",
    "To modify the settings in the rage page we used the ```range``` command. To set the destination MAC address of the generated packets sent from port ID 0, we used the ```dst mac``` command and since the destination MAC addresses are not randomized, we will set the starting value ```start```, minimum value ```min``` and maximum value ```max``` to be ```00:00:00:00:00:02``` which is the MAC address of server2. \n",
    "\n",
    "<hr>\n",
    "\n",
    "Enter the following commands to set the source IP address:\n",
    "\n",
    "    range 0 src ip start 1.1.1.1\n",
    "    range 0 src ip min 1.1.1.1\n",
    "    range 0 src ip max 250.250.250.250\n",
    "    range 0 src ip inc 0.0.0.1\n",
    "\n",
    "<img src=\"./labs_files/lab9/figs/pktgen_srcip.png\" width=\"650\"><be>\n",
    "\n",
    "To modify the settings in the rage page we used the ```range``` command. To set the source IP address of the generated packets sent from port ID 0, we used the ```src ip``` command. The starting value ```start``` and minimum value ```min``` are both set as the IP ```1.1.1.1```. The rage will reach a maximum value ```max``` to be ```250.250.250.250``` by incrementing each octet by ```0.0.0.1``` and specified in the ```inc```. \n",
    "\n",
    "<hr>\n",
    "\n",
    "Enter the following commands to set the destination IP address:\n",
    "\n",
    "    range 0 dst ip start 1.1.1.1\n",
    "    range 0 dst ip min 1.1.1.1\n",
    "    range 0 dst ip max 250.250.250.250\n",
    "    range 0 dst ip inc 0.0.0.1\n",
    "\n",
    "<img src=\"./labs_files/lab9/figs/pktgen_dstip.png\" width=\"650\"><be>\n",
    "\n",
    "To modify the settings in the rage page we used the ```range``` command. To set the destination IP address of the generated packets sent from port ID 0, we used the ```dst ip``` command. The starting value ```start``` and minimum value ```min``` are both set as the IP ```1.1.1.1```. The rage will reach a maximum value ```max``` to be ```250.250.250.250``` by incrementing each octet by ```0.0.0.1``` and specified in the ```inc```. \n",
    "\n",
    "<hr>\n",
    "\n",
    "Enter the following commands to set the packet size:\n",
    "\n",
    "    range 0 size start 1500\n",
    "    range 0 size min 1500\n",
    "    range 0 size max 1500\n",
    "\n",
    "<img src=\"./labs_files/lab9/figs/pktgen_size.png\" width=\"650\"><be>\n",
    "\n",
    "To modify the settings in the rage page we used the ```range``` command. To set the size in bytes of the generated packets sent from port ID 0, we used the ```size``` command and since the packet size is not randomized, we will set the starting value ```start```, minimum value ```min``` and maximum value ```max``` to be ```1500``` to set the packet size to 1500 bytes. \n",
    "\n",
    "<hr>\n",
    "\n",
    "Enter the following command to enable generating packets from a range of flows and going back to the main page:\n",
    "\n",
    "    enable 0 range\n",
    "    page main\n",
    "\n",
    "<img src=\"./labs_files/lab9/figs/pktgen_enable.png\" width=\"650\"><be>"
   ]
  },
  {
   "cell_type": "markdown",
   "id": "13b1887e-a855-4a5e-a0de-23b5c9e071e3",
   "metadata": {},
   "source": [
    "## Step 9.4: Start sending packets\n",
    "\n",
    "In pktgen terminal execute the following commands to start generating and sending packets from server 1 to server 2:\n",
    "\n",
    "    start 0\n",
    "\n",
    "<img src=\"./labs_files/lab9/figs/pktgen_start.png\" width=\"600\"><br>\n",
    "\n",
    "To start sending packets, we used the ```start``` command followed by the port list. In this case, we are using one port with ID 0. We can observe the rate at which the packets are sent from server 1 and received from server 2. In the grey box, the first two lines display the number of packets sent and received per second, and the last line displays the sending and receiving throughput in Mbyte per second. The result in the screenshot above shows that pktgen is generating packets at a rate close to 100 Gbyte per second. These packets are sent to server 2 on which the DPDK pipeline is running, and they are reflected back to server 1 at a similar rate of around 100 Gbytes per second. "
   ]
  },
  {
   "cell_type": "markdown",
   "id": "69b1bc3e-4e92-49e5-8696-7e71b0312b85",
   "metadata": {},
   "source": [
    "## Step 9.5: Stop sending packets\n",
    "\n",
    "In pktgen terminal execute the following commands to stop generating and sending packets from server 1 to server 2:\n",
    "\n",
    "    stop 0\n",
    "\n",
    "<img src=\"./labs_files/lab9/figs/pktgen_stop.png\" width=\"600\"><be>\n",
    "\n",
    "To stop sending packets, we used the ```stop``` command followed by the port list. In the grey box, we can see that the throughput dropped to 0, indicating that packets are not sent or received."
   ]
  },
  {
   "cell_type": "markdown",
   "id": "a81da6cf-dc78-47ad-bd62-76462c0ce8be",
   "metadata": {},
   "source": [
    "## Step 9.6: Stop the running pipeline\n",
    "\n",
    "Stop the DPDK pipeline by pressing ```ctrl+c``` in the terminal running the pipeline.\n",
    "\n",
    "<img src=\"./labs_files/lab9/figs/pipeline_stop.png\" width=\"650\"><br>"
   ]
  },
  {
   "cell_type": "markdown",
   "id": "49e6dd26-c20c-4c25-96c2-1b2f1aaaeca9",
   "metadata": {
    "tags": []
   },
   "source": [
    "# Step 10: Delete the slice\n",
    "\n",
    "This concludes Lab 9. Please delete your slice when you are done with your experiment."
   ]
  },
  {
   "cell_type": "code",
   "execution_count": 49,
   "id": "1f27f3fc-004f-46c2-984c-8c2a90883eb6",
   "metadata": {
    "tags": []
   },
   "outputs": [],
   "source": [
    "from fabrictestbed_extensions.fablib.fablib import FablibManager as fablib_manager\n",
    "fablib = fablib_manager()\n",
    "slice = fablib.get_slice(name=\"P4DPDK_lab9\")\n",
    "slice.delete()"
   ]
  },
  {
   "cell_type": "markdown",
   "id": "e92e3d97-a261-4c00-984c-2750cbd45064",
   "metadata": {
    "tags": []
   },
   "source": [
    "# References\n",
    "\n",
    "1.\tH. Zhu, “Data Plane Development Kit (DPDK): A Software Optimization Guide to the User Space-based Network Application”, CRC Press, 2020.\n",
    "2.\tNVIDIA, “What is CPU Affinity?”, [Online]. Available: https://tinyurl.com/mwb57c5s.\n",
    "3.\tDPDK, “Data Plane Development Kit documentation”, Release 2.2.0, 2016.\n",
    "4.\tDPDK, “rte_pipeline.h File Reference”, [Online]. Available: https://tinyurl.com/sh9254cs.\n",
    "5.  pktgen, “Pktgen-DPDK”, [Online]. Available: https://github.com/pktgen/Pktgen-DPDK"
   ]
  }
 ],
 "metadata": {
  "kernelspec": {
   "display_name": "Python 3 (ipykernel)",
   "language": "python",
   "name": "python3"
  },
  "language_info": {
   "codemirror_mode": {
    "name": "ipython",
    "version": 3
   },
   "file_extension": ".py",
   "mimetype": "text/x-python",
   "name": "python",
   "nbconvert_exporter": "python",
   "pygments_lexer": "ipython3",
   "version": "3.11.8"
  }
 },
 "nbformat": 4,
 "nbformat_minor": 5
}
