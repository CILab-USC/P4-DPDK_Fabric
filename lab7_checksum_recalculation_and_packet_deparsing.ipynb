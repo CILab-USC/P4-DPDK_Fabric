{
 "cells": [
  {
   "cell_type": "markdown",
   "id": "2a519f73-cdd2-4b28-a231-a2064f5e2191",
   "metadata": {
    "jp-MarkdownHeadingCollapsed": true,
    "tags": []
   },
   "source": [
    "# Lab 7 - Checksum Recalculation and Packet Deparsing\n",
    "\n",
    "<div style=\"text-align: justify;\">\n",
    "This lab will walk you through creating an experiment that contains a P4-DPDK programmable pipeline. It describes how to recompute the checksum of a header. Recomputing the checksum is necessary if the packet header was modified by the P4 program. The lab also describes how a P4 program performs deparsing to emit headers.\n",
    "<figure style=\"text-align: center;\">\n",
    "<img src=\"./labs_files/lab6/figs/0_00_fabric_topology.png\" width=\"700px\"><br>"
   ]
  },
  {
   "cell_type": "markdown",
   "id": "281e30c2-6ea9-45f7-b196-fb09b2a59d45",
   "metadata": {
    "tags": []
   },
   "source": [
    "# Introduction"
   ]
  },
  {
   "attachments": {},
   "cell_type": "markdown",
   "id": "fcfd4a68-bcba-4238-96cd-c6c6b0638852",
   "metadata": {
    "tags": []
   },
   "source": [
    "## Deparsing\n",
    "\n",
    "The P4 program includes a deparser that specifies which headers are to be emitted. The deparser emits the headers and the payload of the original packet. Note that only the valid headers are emitted. A header is considered valid after it has been parsed in the P4 program or after the program explicitly validates the header. "
   ]
  },
  {
   "attachments": {},
   "cell_type": "markdown",
   "id": "98e45f38-30bb-4211-b8d7-de185cccb17f",
   "metadata": {
    "tags": []
   },
   "source": [
    "## Checksums\n",
    "<div style=\"text-align: justify;\">\n",
    "Several protocols use checksums to validate the integrity of the packet headers. A checksum is a small value derived from another data block, often through a checksum algorithm such as the Cyclic Redundancy Check (CRC). The checksum calculation and verification start with the sender calculating the checksum of the data before transmitting the packet. Then, the checksum value is inserted into the packet header. Upon receiving the packet, the receiver computes the checksum of the received packet using the same algorithm as the one used by the sender. If the calculated checksum value matches the one in the packet header, the packet is verified; otherwise, a transmission error has occurred. Incorrect checksums typically lead to dropping the packet by the switch. </div><br>\n",
    "<div style=\"text-align: justify;\">\n",
    "In a P4 program, the developer may change the packet headers. For example, if the program is implementing a routing function, then header fields such as the Time-to-Live (TTL) must be modified. Any change to the header fields will cause the checksum value to change. Therefore, it is necessary to recompute the checksum in the P4 program in case modifications are made to the header fields. </div><br>\n",
    "<div style=\"text-align: justify;\">\n",
    "Figure 1 shows an example of computing the checksum and implementing a deparser in a P4 program. The deparser is defined as a control block and is executed after finishing the packet processing by the other control blocks.</div><br>\n",
    "\n",
    "<figure style=\"text-align: center;\">\n",
    "  <img src=\"./labs_files/lab7/figs/intro_01.png\" width=\"800\" style=\"display: block; margin: 0 auto;\">\n",
    "  <figcaption>Figure 1. Runtime management of a P4 target (DPDK).</figcaption>\n",
    "</figure>\n",
    "\n",
    "In the PNA [<a href=\"#References\">1</a>] architecture, the checksum update is implemented in the deparser control block before the packet headers are emitted. In like 7, the ```InternetChecksum()``` instance is needed to create a checksum object with the name checksum. The checksum update is then done in the apply block of the deparser. \n",
    "\n",
    "Note that in DPDK the checksum is calculated using the 16-bit one’s complement algorithm [<a href=\"#References\">2,3</a>]. Therefore, the data whose checksum is to be computed should be introduced as words of 16 bits or 32 bits. The data usually includes the header fields of the protocol which uses the checksum. The example above shows the header fields of IPv4. In lines 11 and 12 the ```++``` operator is used to concatenate the packet headers into a 16-bit word and a 32-bit word. In line 13, the ```checksum.add()``` function takes the data which includes the header fields in this example. Finally, in line 14, the checksum field in the packet is updated using the ```checksum.get()``` function.\n",
    "\n",
    "The deparser control block has a ```packet_out``` type in its parameters. The ```packet_out``` type includes the ```emit``` method which accepts the headers to be reassembled when the deparser constructs the outgoing packet (lines 17-19). Note that the order of emitting packets' headers is important, and the headers are only emitted if they are valid."
   ]
  },
  {
   "cell_type": "markdown",
   "id": "e02b5308-1775-4cfe-9f4f-eb336a851337",
   "metadata": {
    "tags": []
   },
   "source": [
    "# Step 1:  Configuring the environment\n",
    "\n",
    "Before running this notebook, you will need to configure your environment using the [Configure Environment](../../../configure_and_validate.ipynb) notebook. Please stop here, open and run that notebook, then return to this notebook.\n",
    "\n",
    "If you are using the FABRIC JupyterHub many of the environment variables will be automatically configured for you.  You will still need to set your bastion username, upload your bastion private key, and set the path to where you put your bastion private key. Your bastion username and private key should already be in your possession.  \n",
    "\n",
    "If you are using the FABRIC API outside of the JupyterHub you will need to configure all of the environment variables. Defaults below will be correct in many situations but you will need to confirm your configuration.  If you have questions about this configuration, please contact the FABRIC admins using the [FABRIC User Forum](https://learn.fabric-testbed.net/forums/) \n",
    "\n",
    "More information about accessing your experiments through the FABRIC bastion hosts can be found [here](https://learn.fabric-testbed.net/knowledge-base/logging-into-fabric-vms/)."
   ]
  },
  {
   "cell_type": "markdown",
   "id": "2b571c06-bfd5-464a-acf4-d28845c8e840",
   "metadata": {
    "tags": []
   },
   "source": [
    "# Step 2: Importing the FABlib library"
   ]
  },
  {
   "cell_type": "code",
   "execution_count": 1,
   "id": "2e9c3ea6-f0b5-4e34-9a4c-82785ff386c4",
   "metadata": {},
   "outputs": [],
   "source": [
    "from fabrictestbed_extensions.fablib.fablib import FablibManager as fablib_manager\n",
    "fablib = fablib_manager()"
   ]
  },
  {
   "cell_type": "markdown",
   "id": "c2913e89-4188-4ebf-a24c-01cedd16540b",
   "metadata": {
    "tags": []
   },
   "source": [
    "# Step 3: Creating the experiment slice\n",
    "\n",
    "The following creates a node with basic compute and networking capabilities. You build a slice by creating a new slice and adding resources to the slice. After you build the slice, you must submit a request for the slice to be instantiated.   "
   ]
  },
  {
   "cell_type": "markdown",
   "id": "161198e4-00b0-4994-9de8-28e8bfb16cc8",
   "metadata": {
    "tags": []
   },
   "source": [
    "### Step 3.1: Creating a slice\n",
    "The code below creates a new slice with the name \"P4DPDK_lab7_vnic\""
   ]
  },
  {
   "cell_type": "code",
   "execution_count": 2,
   "id": "9c97d810-ac6a-4c04-892d-f0ddbe69954b",
   "metadata": {
    "tags": []
   },
   "outputs": [],
   "source": [
    "slice = fablib.new_slice(name=\"P4DPDK_lab7_vnic\")"
   ]
  },
  {
   "cell_type": "markdown",
   "id": "a0f228eb-d12b-4644-bbc4-df2e34bbdce8",
   "metadata": {
    "tags": []
   },
   "source": [
    "### Step 3.2: Defining the sites\n",
    "The code below requests a random site from FABRIC based on the condition that the following resources are available:\n",
    "\n",
    "<ul>\n",
    "    <li> 4 CPU cores</li>\n",
    "    <li> 8GB RAM </li>\n",
    "    <li> 20GB disc size\n",
    "</ul>"
   ]
  },
  {
   "cell_type": "code",
   "execution_count": 3,
   "id": "f28e0cf1-241d-4257-afbf-6aa44989d995",
   "metadata": {
    "tags": []
   },
   "outputs": [
    {
     "name": "stdout",
     "output_type": "stream",
     "text": [
      "The selected site is NCSA\n"
     ]
    }
   ],
   "source": [
    "site1= fablib.get_random_sites(count=1, filter_function=lambda x: x['cores_available'] > 4 and x['ram_available'] > 8 and x['disk_available'] > 20)[0]\n",
    "\n",
    "print (f'The selected site is {site1}')"
   ]
  },
  {
   "cell_type": "markdown",
   "id": "0f71fead-a091-4af0-95ec-bb264c016c43",
   "metadata": {
    "tags": []
   },
   "source": [
    "### Step 3.3: Creating the nodes\n",
    "The code below creates one node (server1) which uses the following:\n",
    "<ul>\n",
    "    <li> 4 CPU cores</li>\n",
    "    <li> 8GB RAM </li>\n",
    "    <li> 20GB disc size </li>\n",
    "    <li> Image: Ubuntu 20.04\n",
    "</ul>\n",
    "\n",
    "server1 will be created in site1"
   ]
  },
  {
   "cell_type": "code",
   "execution_count": 4,
   "id": "7713728b-2740-4e72-b5dd-7d3963012536",
   "metadata": {
    "tags": []
   },
   "outputs": [],
   "source": [
    "server1 = slice.add_node(name=\"server1\", \n",
    "                      site=site1, \n",
    "                      cores=4, \n",
    "                      ram=8, \n",
    "                      disk=20, \n",
    "                      image='default_ubuntu_20')"
   ]
  },
  {
   "cell_type": "markdown",
   "id": "53ab345c-d68e-440d-9fda-03d67472f1ca",
   "metadata": {},
   "source": [
    "### Step 3.4: Submitting the slice\n",
    "The code below submits the slice. \n",
    "By default, the submit function will block until the node is ready and will display the progress of your slice being built."
   ]
  },
  {
   "cell_type": "code",
   "execution_count": 5,
   "id": "e706c53c-7a38-4615-a86e-e8944197921f",
   "metadata": {},
   "outputs": [
    {
     "name": "stdout",
     "output_type": "stream",
     "text": [
      "\n",
      "Retry: 14, Time: 306 sec\n"
     ]
    },
    {
     "data": {
      "text/html": [
       "<style type=\"text/css\">\n",
       "#T_b7770 tr:nth-child(even) {\n",
       "  background: #dbf3ff;\n",
       "  color: #231f20;\n",
       "}\n",
       "#T_b7770 tr:nth-child(odd) {\n",
       "  background: #ffffff;\n",
       "  color: #231f20;\n",
       "}\n",
       "#T_b7770 caption {\n",
       "  text-align: center;\n",
       "  font-size: 150%;\n",
       "}\n",
       "#T_b7770_row0_col0, #T_b7770_row0_col1, #T_b7770_row1_col0, #T_b7770_row1_col1, #T_b7770_row2_col0, #T_b7770_row2_col1, #T_b7770_row3_col0, #T_b7770_row3_col1, #T_b7770_row4_col0, #T_b7770_row4_col1, #T_b7770_row5_col0 {\n",
       "  text-align: left;\n",
       "  border: 1px #231f20 solid !important;\n",
       "  overwrite: False;\n",
       "  background-color: ;\n",
       "}\n",
       "#T_b7770_row5_col1 {\n",
       "  text-align: left;\n",
       "  border: 1px #231f20 solid !important;\n",
       "  overwrite: False;\n",
       "  background-color: #c3ffc4;\n",
       "}\n",
       "</style>\n",
       "<table id=\"T_b7770\">\n",
       "  <caption>Slice</caption>\n",
       "  <thead>\n",
       "  </thead>\n",
       "  <tbody>\n",
       "    <tr>\n",
       "      <td id=\"T_b7770_row0_col0\" class=\"data row0 col0\" >ID</td>\n",
       "      <td id=\"T_b7770_row0_col1\" class=\"data row0 col1\" >7e63ec74-600c-4046-a0f8-0ae4bde17522</td>\n",
       "    </tr>\n",
       "    <tr>\n",
       "      <td id=\"T_b7770_row1_col0\" class=\"data row1 col0\" >Name</td>\n",
       "      <td id=\"T_b7770_row1_col1\" class=\"data row1 col1\" >P4DPDK_lab7_vnic_test</td>\n",
       "    </tr>\n",
       "    <tr>\n",
       "      <td id=\"T_b7770_row2_col0\" class=\"data row2 col0\" >Lease Expiration (UTC)</td>\n",
       "      <td id=\"T_b7770_row2_col1\" class=\"data row2 col1\" >2024-09-23 04:08:25 +0000</td>\n",
       "    </tr>\n",
       "    <tr>\n",
       "      <td id=\"T_b7770_row3_col0\" class=\"data row3 col0\" >Lease Start (UTC)</td>\n",
       "      <td id=\"T_b7770_row3_col1\" class=\"data row3 col1\" >2024-09-22 04:08:25 +0000</td>\n",
       "    </tr>\n",
       "    <tr>\n",
       "      <td id=\"T_b7770_row4_col0\" class=\"data row4 col0\" >Project ID</td>\n",
       "      <td id=\"T_b7770_row4_col1\" class=\"data row4 col1\" >8eaa3ec2-65e7-49a3-8c09-e1761141a6ad</td>\n",
       "    </tr>\n",
       "    <tr>\n",
       "      <td id=\"T_b7770_row5_col0\" class=\"data row5 col0\" >State</td>\n",
       "      <td id=\"T_b7770_row5_col1\" class=\"data row5 col1\" >StableOK</td>\n",
       "    </tr>\n",
       "  </tbody>\n",
       "</table>\n"
      ],
      "text/plain": [
       "<pandas.io.formats.style.Styler at 0x79b4a44b0650>"
      ]
     },
     "metadata": {},
     "output_type": "display_data"
    },
    {
     "data": {
      "text/html": [
       "<style type=\"text/css\">\n",
       "#T_44aa4 caption {\n",
       "  text-align: center;\n",
       "  font-size: 150%;\n",
       "  caption-side: top;\n",
       "}\n",
       "#T_44aa4 th {\n",
       "  text-align: left;\n",
       "}\n",
       "#T_44aa4 tr:nth-child(even) {\n",
       "  background: #ffffff;\n",
       "  color: #231f20;\n",
       "}\n",
       "#T_44aa4 tr:nth-child(odd) {\n",
       "  background: #dbf3ff;\n",
       "  color: #231f20;\n",
       "}\n",
       "#T_44aa4 .level0 {\n",
       "  border: 1px black solid !important;\n",
       "  background: #ffffff;\n",
       "  color: #231f20;\n",
       "}\n",
       "#T_44aa4_row0_col0, #T_44aa4_row0_col1, #T_44aa4_row0_col2, #T_44aa4_row0_col3, #T_44aa4_row0_col4, #T_44aa4_row0_col5, #T_44aa4_row0_col6, #T_44aa4_row0_col7, #T_44aa4_row0_col8, #T_44aa4_row0_col9, #T_44aa4_row0_col10, #T_44aa4_row0_col13, #T_44aa4_row0_col14, #T_44aa4_row0_col15 {\n",
       "  text-align: left;\n",
       "  border: 1px #231f20 solid !important;\n",
       "  overwrite: False;\n",
       "}\n",
       "#T_44aa4_row0_col11 {\n",
       "  text-align: left;\n",
       "  border: 1px #231f20 solid !important;\n",
       "  overwrite: False;\n",
       "  background-color: #c3ffc4;\n",
       "}\n",
       "#T_44aa4_row0_col12 {\n",
       "  text-align: left;\n",
       "  border: 1px #231f20 solid !important;\n",
       "  overwrite: False;\n",
       "  background-color: ;\n",
       "}\n",
       "</style>\n",
       "<table id=\"T_44aa4\">\n",
       "  <caption>Nodes</caption>\n",
       "  <thead>\n",
       "    <tr>\n",
       "      <th id=\"T_44aa4_level0_col0\" class=\"col_heading level0 col0\" >ID</th>\n",
       "      <th id=\"T_44aa4_level0_col1\" class=\"col_heading level0 col1\" >Name</th>\n",
       "      <th id=\"T_44aa4_level0_col2\" class=\"col_heading level0 col2\" >Cores</th>\n",
       "      <th id=\"T_44aa4_level0_col3\" class=\"col_heading level0 col3\" >RAM</th>\n",
       "      <th id=\"T_44aa4_level0_col4\" class=\"col_heading level0 col4\" >Disk</th>\n",
       "      <th id=\"T_44aa4_level0_col5\" class=\"col_heading level0 col5\" >Image</th>\n",
       "      <th id=\"T_44aa4_level0_col6\" class=\"col_heading level0 col6\" >Image Type</th>\n",
       "      <th id=\"T_44aa4_level0_col7\" class=\"col_heading level0 col7\" >Host</th>\n",
       "      <th id=\"T_44aa4_level0_col8\" class=\"col_heading level0 col8\" >Site</th>\n",
       "      <th id=\"T_44aa4_level0_col9\" class=\"col_heading level0 col9\" >Username</th>\n",
       "      <th id=\"T_44aa4_level0_col10\" class=\"col_heading level0 col10\" >Management IP</th>\n",
       "      <th id=\"T_44aa4_level0_col11\" class=\"col_heading level0 col11\" >State</th>\n",
       "      <th id=\"T_44aa4_level0_col12\" class=\"col_heading level0 col12\" >Error</th>\n",
       "      <th id=\"T_44aa4_level0_col13\" class=\"col_heading level0 col13\" >SSH Command</th>\n",
       "      <th id=\"T_44aa4_level0_col14\" class=\"col_heading level0 col14\" >Public SSH Key File</th>\n",
       "      <th id=\"T_44aa4_level0_col15\" class=\"col_heading level0 col15\" >Private SSH Key File</th>\n",
       "    </tr>\n",
       "  </thead>\n",
       "  <tbody>\n",
       "    <tr>\n",
       "      <td id=\"T_44aa4_row0_col0\" class=\"data row0 col0\" >8ae59271-b3e3-4ad6-9b20-b6b10ef61dce</td>\n",
       "      <td id=\"T_44aa4_row0_col1\" class=\"data row0 col1\" >server1</td>\n",
       "      <td id=\"T_44aa4_row0_col2\" class=\"data row0 col2\" >4</td>\n",
       "      <td id=\"T_44aa4_row0_col3\" class=\"data row0 col3\" >8</td>\n",
       "      <td id=\"T_44aa4_row0_col4\" class=\"data row0 col4\" >100</td>\n",
       "      <td id=\"T_44aa4_row0_col5\" class=\"data row0 col5\" >default_ubuntu_20</td>\n",
       "      <td id=\"T_44aa4_row0_col6\" class=\"data row0 col6\" >qcow2</td>\n",
       "      <td id=\"T_44aa4_row0_col7\" class=\"data row0 col7\" >ncsa-w1.fabric-testbed.net</td>\n",
       "      <td id=\"T_44aa4_row0_col8\" class=\"data row0 col8\" >NCSA</td>\n",
       "      <td id=\"T_44aa4_row0_col9\" class=\"data row0 col9\" >ubuntu</td>\n",
       "      <td id=\"T_44aa4_row0_col10\" class=\"data row0 col10\" >2620:0:c80:1001:f816:3eff:fed4:a51c</td>\n",
       "      <td id=\"T_44aa4_row0_col11\" class=\"data row0 col11\" >Active</td>\n",
       "      <td id=\"T_44aa4_row0_col12\" class=\"data row0 col12\" ></td>\n",
       "      <td id=\"T_44aa4_row0_col13\" class=\"data row0 col13\" >ssh -i /home/fabric/work/fabric_config/slice_key -F /home/fabric/work/fabric_config/ssh_config ubuntu@2620:0:c80:1001:f816:3eff:fed4:a51c</td>\n",
       "      <td id=\"T_44aa4_row0_col14\" class=\"data row0 col14\" >/home/fabric/work/fabric_config/slice_key.pub</td>\n",
       "      <td id=\"T_44aa4_row0_col15\" class=\"data row0 col15\" >/home/fabric/work/fabric_config/slice_key</td>\n",
       "    </tr>\n",
       "  </tbody>\n",
       "</table>\n"
      ],
      "text/plain": [
       "<pandas.io.formats.style.Styler at 0x79b4a44ecad0>"
      ]
     },
     "metadata": {},
     "output_type": "display_data"
    }
   ],
   "source": [
    "slice.submit();"
   ]
  },
  {
   "cell_type": "markdown",
   "id": "05bfa5ff-9374-4823-9ea0-09f045a91684",
   "metadata": {},
   "source": [
    "# Step 4: Installing the required packages\n",
    "In this step, we will install the required packages to run the lab. Specifically, we will install the DPDK library, the P4 compiler (p4c), and all needed dependencies."
   ]
  },
  {
   "cell_type": "markdown",
   "id": "72c40316-489b-428d-82de-eb92e87c87dc",
   "metadata": {},
   "source": [
    "### Step 4.1 Getting the server node\n",
    "The command below gets the fablib node that server1 is associated with."
   ]
  },
  {
   "cell_type": "code",
   "execution_count": 6,
   "id": "61333554-ef05-480e-bee6-c2a035213b0c",
   "metadata": {},
   "outputs": [],
   "source": [
    "server1 = slice.get_node(name=\"server1\")"
   ]
  },
  {
   "cell_type": "markdown",
   "id": "1ab6f042-3232-4245-9a5b-9e163b1bb8f4",
   "metadata": {},
   "source": [
    "### Step 4.2 NAT64 setup\n",
    "The code below checks if an IPv6 address is available to set up NAT64. We will upload the script [scripts/nat64.sh](./scripts/nat64.sh) to the all servers and execute it"
   ]
  },
  {
   "cell_type": "code",
   "execution_count": 7,
   "id": "00430e7b-472e-4d5b-a81d-03dfaaec14ae",
   "metadata": {},
   "outputs": [],
   "source": [
    "from ipaddress import ip_address, IPv6Address\n",
    "\n",
    "if type(ip_address(server1.get_management_ip())) is IPv6Address:\n",
    "    server1.upload_file('scripts/nat64.sh', 'nat64.sh')\n",
    "    stdout, stderr = server1.execute(f'chmod +x nat64.sh && ./nat64.sh', quiet=True)"
   ]
  },
  {
   "cell_type": "markdown",
   "id": "6c187536-f87c-47ae-9ced-9cf234f70c45",
   "metadata": {},
   "source": [
    "### Step 4.3 Installing dependencies\n",
    "The code below installs packages that are prerequisites to the upcoming installations and needed to run the lab experiments"
   ]
  },
  {
   "cell_type": "code",
   "execution_count": 8,
   "id": "c8d516e3-323e-44c7-bec8-45a2d48a0936",
   "metadata": {},
   "outputs": [],
   "source": [
    "stdout, stderr = server1.execute(f'sudo apt-get update', quiet = True)\n",
    "stdout, stderr = server1.execute(f'sudo apt-get install -y build-essential python3-pip python3-pyelftools libnuma-dev pkg-config net-tools syslinux-utils', quiet = True)\n",
    "stdout, stderr = server1.execute(f'sudo pip3 install meson ninja scapy', quiet = True)"
   ]
  },
  {
   "cell_type": "markdown",
   "id": "ea007d60-a00c-4c48-aab9-a9dc3ef16931",
   "metadata": {
    "tags": []
   },
   "source": [
    "### Step 4.4 Installing DPDK\n",
    "The code below downloads, builds, and installs DPDK on all servers. In this lab, we are building a modified version of DPDK in which we enabled logs in the terminal to have a better understanding of the behavior of the built pipeline. Note that printing out logs on the terminal degrades performance. Therefore, with applications where high performance is needed, logging should be disabled.  "
   ]
  },
  {
   "cell_type": "code",
   "execution_count": 9,
   "id": "66a161e7-65b6-403f-8e3e-8a8d1fe19a7f",
   "metadata": {},
   "outputs": [],
   "source": [
    "stdout, stderr = server1.execute(f'git clone http://dpdk.org/git/dpdk', quiet = True)\n",
    "stdout, stderr = server1.execute(f'cd dpdk/lib/pipeline/ &&  sudo rm rte_swx_pipeline.c && sudo rm rte_swx_pipeline_internal.h', quiet = True)\n",
    "server1.upload_file('scripts/rte_swx_pipeline.c','/home/ubuntu/dpdk/lib/pipeline/rte_swx_pipeline.c')\n",
    "server1.upload_file('scripts/rte_swx_pipeline_internal.h','/home/ubuntu/dpdk/lib/pipeline/rte_swx_pipeline_internal.h')\n",
    "stdout, stderr = server1.execute(f'cd dpdk &&  sudo meson build && cd build && sudo ninja && sudo ninja install && sudo ldconfig', quiet = True)\n",
    "stdout, stderr = server1.execute(f'cd dpdk/examples/pipeline && sudo make', quiet=True)"
   ]
  },
  {
   "cell_type": "markdown",
   "id": "e3663be2-ae7e-4352-9659-4ac52b2b32b5",
   "metadata": {
    "tags": []
   },
   "source": [
    "### Step 4.5 Install p4c\n",
    "The code below downloads and installs the p4c compiler needed to compile the p4 code into a DPDK pipeline"
   ]
  },
  {
   "cell_type": "code",
   "execution_count": 56,
   "id": "5ddcc3cb-1105-41ce-9205-b686a8360232",
   "metadata": {},
   "outputs": [],
   "source": [
    "stdout, stderr = server1.execute('git clone https://github.com/CILab-USC/p4c.git', quiet = True)\n",
    "stdout, stderr = server1.execute('sudo apt-get install -y cmake g++ git automake libtool libgc-dev bison flex libfl-dev libboost-dev libboost-iostreams-dev libboost-graph-dev llvm pkg-config python3 python3-pip tcpdump', quiet = True)\n",
    "stdout, stderr = server1.execute('cd p4c && pip3 install --user -r requirements.txt && mkdir build && cd build && cmake .. && make -j4  && sudo make install', quiet = True)"
   ]
  },
  {
   "attachments": {},
   "cell_type": "markdown",
   "id": "605f69d0-28f7-4c03-be6f-c51d0515f872",
   "metadata": {},
   "source": [
    "# Step 5: Writing and compiling the P4 code\n",
    "This section demonstrates how to implement the packet deparser in P4."
   ]
  },
  {
   "cell_type": "markdown",
   "id": "34f63b83-28bf-416d-ae2e-2db9af71ec88",
   "metadata": {},
   "source": [
    "## Step 5.1: Programming the deparser block"
   ]
  },
  {
   "cell_type": "markdown",
   "id": "cce0f73d-b6b8-4149-8250-9cbb08079f21",
   "metadata": {},
   "source": [
    "Click on [deparser.p4](./labs_files/lab7/deparser.p4) to open the code in the editor.\n",
    "\n",
    "<img src=\"./labs_files/lab7/figs/5_01_01.png\" width=\"750px\"><br>\n",
    "\n",
    "We can see that the deparser.p4 declares a control block named MyDeparser. Note that the body of the apply block of the deparser is empty for us to fill it. \n",
    "\n",
    "<hr>\n",
    "\n",
    "We will start by emitting the ethernet header by typing the following line of code.\n",
    "\n",
    "    packet.emit(hdr.ethernet)\n",
    "\n",
    "<img src=\"./labs_files/lab7/figs/5_01_02.png\" width=\"700\"><br>\n",
    "\n",
    "<hr>\n",
    "\n",
    "Emit the IPv4 header by typing the following line of code.\n",
    "\n",
    "    packet.emit(hdr.ipv4)\n",
    "\n",
    "<img src=\"./labs_files/lab7/figs/5_01_03.png\" width=\"700\"><br>\n",
    "\n",
    "<hr>\n",
    "\n",
    "Emit the TCP header by typing the following line of code.\n",
    "\n",
    "    packet.emit(hdr.tcp)\n",
    "\n",
    "<img src=\"./labs_files/lab7/figs/5_01_04.png\" width=\"700\"><br>\n",
    "\n",
    "<hr>\n",
    "\n",
    "Save the changes by pressing ```Ctrl+s```."
   ]
  },
  {
   "cell_type": "markdown",
   "id": "1be69c05-19ee-4e09-b68d-b450bfad0fc1",
   "metadata": {},
   "source": [
    "## Step 5.2: Compiling the P4 code\n",
    "To upload all needed P4 codes and compile main.p4, issue the following command."
   ]
  },
  {
   "cell_type": "code",
   "execution_count": 57,
   "id": "c4a28c3a-9a46-4e3c-88da-015cbecdf9d9",
   "metadata": {},
   "outputs": [
    {
     "name": "stdout",
     "output_type": "stream",
     "text": [
      "\u001b[31m sudo: unable to resolve host server1: Name or service not known\n",
      " \u001b[0mcontrol.p4\n",
      "deparser.p4\n",
      "dpdk\n",
      "ethdev.io\n",
      "headers.p4\n",
      "lab7.cli\n",
      "lab7.spec\n",
      "main.p4\n",
      "nat64.sh\n",
      "p4c\n",
      "parser.p4\n",
      "precontrol.p4\n",
      "rules_exact.txt\n",
      "rules_lpm.txt\n",
      "run_pipeline.sh\n",
      "sender.py\n",
      "set_topology.sh\n"
     ]
    }
   ],
   "source": [
    "server1.upload_file('labs_files/lab7/headers.p4','headers.p4')\n",
    "server1.upload_file('labs_files/lab7/parser.p4','parser.p4')\n",
    "server1.upload_file('labs_files/lab7/precontrol.p4','precontrol.p4')\n",
    "server1.upload_file('labs_files/lab7/control.p4','control.p4')\n",
    "server1.upload_file('labs_files/lab7/deparser.p4','deparser.p4')\n",
    "server1.upload_file('labs_files/lab7/main.p4','main.p4')\n",
    "stdout, stderr = server1.execute(f'sudo p4c-dpdk --arch=pna main.p4 -o lab7.spec')\n",
    "stdout, stderr = server1.execute(f'ls')"
   ]
  },
  {
   "cell_type": "markdown",
   "id": "99d9703e-31df-4bc7-84e7-55282f5b23af",
   "metadata": {},
   "source": [
    "The command above invokes the ```p4c-dpdk``` compiler to compile the ```main.p4``` program and generates the ```lab7.spec``` file which is a specification file needed to run the pipeline."
   ]
  },
  {
   "cell_type": "markdown",
   "id": "1ab728d9-c42b-40d3-8384-42d85a6dad09",
   "metadata": {},
   "source": [
    "# Step 6: Running the P4-DPDK pipeline and the lab topology\n",
    "This section shows the steps required to run the P4-DPDK along with building the lab topology. In this lab, the procedure is automated."
   ]
  },
  {
   "cell_type": "markdown",
   "id": "51dff360-7ab3-4b31-a3c7-ddb4ad6c1d75",
   "metadata": {},
   "source": [
    "## Step 6.1: Uploading required scripts\n",
    "The code below uploads to server1 the CLI and I/O scripts, along with other scripts needed to automate the process of running the pipeline and building the topology.\n",
    "\n",
    "We will also upload the rules.txt file to load and add rules to the forwarding table. The rules.txt file contains rules for exact matching."
   ]
  },
  {
   "cell_type": "code",
   "execution_count": null,
   "id": "36fe7b24-c6c9-497a-9c9e-10cf7c6a80d2",
   "metadata": {},
   "outputs": [],
   "source": [
    "server1.upload_file('labs_files/lab7/lab7.cli','lab7.cli')\n",
    "server1.upload_file('labs_files/lab7/ethdev.io','ethdev.io')\n",
    "server1.upload_file('labs_files/lab7/run_pipeline.sh','run_pipeline.sh')\n",
    "server1.upload_file('labs_files/lab7/set_topology.sh','set_topology.sh')\n",
    "server1.upload_file('labs_files/lab7/sender.py','sender.py')\n",
    "server1.upload_file('labs_files/lab7/rules_exact.txt','rules_exact.txt')\n",
    "server1.upload_file('labs_files/lab7/rules_lpm.txt','rules_lpm.txt')\n",
    "stdout, stderr = server1.execute(f'chmod +x run_pipeline.sh')\n",
    "stdout, stderr = server1.execute(f'chmod +x set_topology.sh')\n",
    "stdout, stderr = server1.execute(f'chmod +x sender.py')"
   ]
  },
  {
   "cell_type": "markdown",
   "id": "4886aad9-21e8-420e-9657-306ab541b8e5",
   "metadata": {},
   "source": [
    "## Step 6.2: Opening a terminal\n",
    "Launch a new terminal by opening a new tab and then select \"terminal\".\n",
    "\n",
    "<img src=\"./labs_files/lab7/figs/6_02_terminal.gif\" width=\"1000px\"><br>\n",
    "\n",
    "Copy the output of the command below and paste it into the terminal to enter server1."
   ]
  },
  {
   "cell_type": "code",
   "execution_count": 58,
   "id": "6b96a8c8-e602-405c-bef5-6cd04c4a87d3",
   "metadata": {},
   "outputs": [
    {
     "data": {
      "text/plain": [
       "'ssh -i /home/fabric/work/fabric_config/slice_key -F /home/fabric/work/fabric_config/ssh_config ubuntu@2620:0:c80:1001:f816:3eff:fed4:a51c'"
      ]
     },
     "execution_count": 58,
     "metadata": {},
     "output_type": "execute_result"
    }
   ],
   "source": [
    "server1.get_ssh_command()"
   ]
  },
  {
   "cell_type": "markdown",
   "id": "40f25aaf-85b0-485e-84da-291944f01802",
   "metadata": {},
   "source": [
    "## Step 6.3: Running the P4-DPDK pipeline\n",
    "Build and run the pipeline by typing the following command:\n",
    "\n",
    "    sudo ./run_pipeline.sh\n",
    "    \n",
    "<img src=\"./labs_files/lab7/figs/6_03.png\" width=\"750px\"><br>\n",
    "\n",
    "The ```run_pipeline.sh``` script is a shell script that automates the process of running the P4-DPDK pipeline. In this lab, part of the pipeline output is hidden to display only the relevant logs."
   ]
  },
  {
   "cell_type": "markdown",
   "id": "4dfe858d-6e62-4e6e-b805-071956d36eb8",
   "metadata": {},
   "source": [
    "## Step 6.4: Building the lab topology\n",
    "The code below uploads to server1 the CLI and I/O scripts, along with other scripts needed to automate the process of running the pipeline and building the topology."
   ]
  },
  {
   "cell_type": "code",
   "execution_count": 42,
   "id": "060593e8-d2c3-4c59-95c2-8a61fc1c8f13",
   "metadata": {},
   "outputs": [
    {
     "name": "stdout",
     "output_type": "stream",
     "text": [
      "\u001b[31m sudo: unable to resolve host server1: Name or service not known\n",
      " \u001b[0m"
     ]
    }
   ],
   "source": [
    "stdout, stderr = server1.execute(f'sudo ./set_topology.sh')"
   ]
  },
  {
   "cell_type": "markdown",
   "id": "2dbcb5dc-bb89-42c6-87d7-da57daed2dd6",
   "metadata": {
    "tags": []
   },
   "source": [
    "The set_topology.sh script is a shell script that automates the process of building the lab topology. Two namespaces are built and configured in this step with a virtual device linked to each as shown in the figure below.\n",
    "\n",
    "<img src=\"./labs_files/lab7/figs/6_04_ip.png\" width=\"650px\"><br>"
   ]
  },
  {
   "cell_type": "markdown",
   "id": "0321f656-057b-4cce-85a9-12a538279c0c",
   "metadata": {},
   "source": [
    "# Step 7: Sending and capturing a packet"
   ]
  },
  {
   "cell_type": "markdown",
   "id": "b9ea2a01-66da-4586-8852-0bee1c5ae45f",
   "metadata": {
    "tags": []
   },
   "source": [
    "### Step 7.1: Opening a new terminal\n",
    "Launch a new terminal by opening a new tab and then select \"terminal\".\n",
    "\n",
    "<img src=\"./labs_files/lab7/figs/7_01_terminal.gif\" width=\"1000px\"><br>\n",
    "\n",
    "Copy the output of the command below and paste into the terminal to enter to server1."
   ]
  },
  {
   "cell_type": "code",
   "execution_count": 47,
   "id": "dad83f62-1dc9-489f-ac99-b1ba1eb552c0",
   "metadata": {},
   "outputs": [
    {
     "data": {
      "text/plain": [
       "'ssh -i /home/fabric/work/fabric_config/slice_key -F /home/fabric/work/fabric_config/ssh_config ubuntu@2001:400:a100:3090:f816:3eff:fef0:62'"
      ]
     },
     "execution_count": 47,
     "metadata": {},
     "output_type": "execute_result"
    }
   ],
   "source": [
    "server1.get_ssh_command()"
   ]
  },
  {
   "cell_type": "markdown",
   "id": "329494c2-df40-4006-b4c3-a30d77e0a136",
   "metadata": {
    "tags": []
   },
   "source": [
    "### Step 7.2: Starting packet capturing at the interface of h3\n",
    "Issue the command tcpdum to start a sniffer in host 3.\n",
    "\n",
    "    sudo ip netns exec h3 tcpdump -i dtap2 -vvv\n",
    "\n",
    "<img src=\"./labs_files/lab7/figs/7_02.png\" width=\"700px\"><br>\n",
    "\n",
    "The ```-i``` parameter in the tcpdump command, represents the interface on which the packets are being captured. In this application, we will be sending a packet from host 1 to host 3 and capture the packet received at the interface on host 3 (dtap2). The ```-vvv``` parameter increases verbosity to display the captured packet details.\n"
   ]
  },
  {
   "cell_type": "markdown",
   "id": "c518ccbe-13f3-4dc6-9d51-bfce90f1b901",
   "metadata": {
    "tags": []
   },
   "source": [
    "### Step 7.3: Sending packets from h1 to h3\n",
    "Now, we will send a packet from h1 to h3 over the destination IP address 192.168.30.1 by running the provided Python script sender.py."
   ]
  },
  {
   "cell_type": "code",
   "execution_count": 43,
   "id": "53f3031c-4eb6-433d-8c25-a1e84449a717",
   "metadata": {},
   "outputs": [
    {
     "name": "stdout",
     "output_type": "stream",
     "text": [
      ".\u001b[31m sudo: unable to resolve host server1: Name or service not known\n",
      "WARNING: Interface lo: no address assigned\n",
      " \u001b[0mSender: h1\n",
      "Destination IP: 192.168.30.1\n",
      "\n",
      "Sent 1 packets.\n"
     ]
    }
   ],
   "source": [
    "stdout, stderr = server1.execute(f'sudo ip netns exec h1 python3 sender.py -s h1 -d 192.168.30.1')"
   ]
  },
  {
   "cell_type": "markdown",
   "id": "2067e1a6-9dee-410e-9be3-4c8f395ad06f",
   "metadata": {},
   "source": [
    "Running the Python script requires two parameters:\n",
    "\n",
    "•\t```-s```: Sender (h1 or h2 or h3) <br>\n",
    "•\t```-d```: Destination IP Address "
   ]
  },
  {
   "cell_type": "markdown",
   "id": "7eb88537-e185-4cb4-a337-cdf84c03b1ce",
   "metadata": {
    "tags": []
   },
   "source": [
    "### Step 7.4: Inspect the pipeline terminal\n",
    "Observe the DPDK logs at the bottom of the terminal. These logs correspond to the packet processing function executed in the .spec file generated when the P4 code is compiled. \n",
    "\n",
    "<img src=\"./labs_files/lab7/figs/7_04.png\" width=\"700px\"><br>\n",
    "\n",
    "The “emit header” log appears three times in the grey box, corresponds to the deparsed ethernet header (header 0) with size of 14 bytes (112 bits), the deparsed IPv4 header (header 1) with size 20 bytes (160 bits) and the deparsed TCP header (header 2) with size 20 bytes (160 bits) as declared in the deparser.p4 file. Note that the order of the deparsed headers matches the order of the parsed headers as shown in the “extract header” logs. The “tx 1 pkt to port 2” log indicated that one packet has been sent to port 2 which corresponds to host 3."
   ]
  },
  {
   "cell_type": "markdown",
   "id": "df674427-5fdc-407a-b713-421f91ab39be",
   "metadata": {
    "tags": []
   },
   "source": [
    "### Step 7.5: Inspect the captured packet\n",
    "Switch back to the terminal tab in which the tcpdump sniffer is running and press ```Ctrl+C```.\n",
    "\n",
    "<img src=\"./labs_files/lab7/figs/7_05.png\" width=\"900px\"><br>\n",
    "\n",
    "We can see that the checksum in that packet is incorrect resulting in a bad checksum warning highlighted in the grey box. This is because the P4 program changed the header field value (i.e., TTL), but did not update the checksum in the packet. "
   ]
  },
  {
   "cell_type": "markdown",
   "id": "5f2f1936-1c92-42a1-a67d-8c078207070a",
   "metadata": {
    "tags": []
   },
   "source": [
    "### Step 7.6: Stopping the DPDK pipeline\n",
    "Stop the DPDK pipeline by pressing ```ctrl+c``` in the terminal running the pipeline.\n",
    "\n",
    "<img src=\"./labs_files/lab7/figs/7_06.png\" width=\"700px\"><br>\n",
    "\n",
    "Execute the command below to avoid having a pipeline instance running in the background."
   ]
  },
  {
   "cell_type": "code",
   "execution_count": 59,
   "id": "1417d03c-a955-4966-a427-03c4f5ca04a1",
   "metadata": {},
   "outputs": [
    {
     "name": "stdout",
     "output_type": "stream",
     "text": [
      "\u001b[31m sudo: unable to resolve host server1: Name or service not known\n",
      " \u001b[0m"
     ]
    }
   ],
   "source": [
    "stdout, stderr = server1.execute(f'sudo pkill -9 pipeline')"
   ]
  },
  {
   "cell_type": "markdown",
   "id": "01ebfeea-952f-40fd-bfaa-4d86a8a50aa2",
   "metadata": {},
   "source": [
    "# Step 8: Implementing checksum update in P4"
   ]
  },
  {
   "cell_type": "markdown",
   "id": "e343d320-3404-42fd-a150-50113970374f",
   "metadata": {},
   "source": [
    "## Step 8.1: Programming the checksum update in the P4 code"
   ]
  },
  {
   "cell_type": "markdown",
   "id": "1d05c34f-ecb6-4103-9782-305ef2f3211c",
   "metadata": {},
   "source": [
    "Click on [deparser.p4](./labs_files/lab7/deparser.p4) to open the code in the editor.\n",
    "\n",
    "<hr>\n",
    "\n",
    "Start by creating the InternetChecksum object by typing the following line on code before the apply block in the deparser.p4 code.\n",
    "\n",
    "    InternetChecksum() checksum;\n",
    "\n",
    "<img src=\"./labs_files/lab7/figs/8_01_01.png\" width=\"700\"><br>\n",
    "\n",
    "In this line, the ```InternetChecksum()``` function creates a checksum object given the name checksum.\n",
    "\n",
    "<hr>\n",
    "\n",
    "Concatenate the IPv4 header field in a 16-bit word and a 32-bit word by inserting the following code at the beginning of the apply block.\n",
    "    \n",
    "    bit<16> word1 = hdr.ipv4.version ++ hdr.ipv4.ihl ++ hdr.ipv4.diffserv;\n",
    "    bit<32> word4 = hdr.ipv4.flags ++ hdr.ipv4.fragOffset ++ hdr.ipv4.ttl ++ hdr.ipv4.protocol;\n",
    "\n",
    "<img src=\"./labs_files/lab7/figs/8_01_02.png\" width=\"700\"><br>\n",
    "\n",
    "The two declared words word1 and word4 will be used in the checksum calculation process. The ```++``` operator in P4 is used to concatenate the header field and join them in one variable.\n",
    "\n",
    "<hr>\n",
    "\n",
    "Add to the checksum object the data considered for the checksum calculation by inserting the code below.\n",
    "\n",
    "    checksum.add({\n",
    "        word1,\n",
    "        hdr.ipv4.totalLen,\n",
    "        hdr.ipv4.identification,\n",
    "        word4,\n",
    "        hdr.ipv4.srcAddr,\n",
    "        hdr.ipv4.dstAddr\n",
    "    });\n",
    "\n",
    "<img src=\"./labs_files/lab7/figs/8_01_03.png\" width=\"700\"><br>\n",
    "\n",
    "<hr>\n",
    "\n",
    "Update the checksum by inserting the following code.\n",
    "\n",
    "    hdr.ipv4.hdrChecksum = checksum.get();\n",
    "\n",
    "<img src=\"./labs_files/lab7/figs/8_01_04.png\" width=\"700\"><br>\n",
    "\n",
    "The ```checksum.get()``` function returns the value of the checksum. In this line of code, the value of the updated checksum is written in the checksum field of the IPv4 header of the packet ```hdr.ipv4.hdrChechsum```.\n",
    "\n",
    "<hr>\n",
    "\n",
    "Save the changes by pressing ```Ctrl+s```."
   ]
  },
  {
   "cell_type": "markdown",
   "id": "db42f923-3846-4698-910a-8f659c357d6f",
   "metadata": {},
   "source": [
    "## Step 8.2: Compiling the P4 code\n",
    "To upload the modified P4 module and compile main.p4, issue the following command."
   ]
  },
  {
   "cell_type": "code",
   "execution_count": 30,
   "id": "ad842f00-28e7-42de-a518-3fff65ad9727",
   "metadata": {},
   "outputs": [
    {
     "name": "stdout",
     "output_type": "stream",
     "text": [
      "\u001b[31m sudo: unable to resolve host server1: Name or service not known\n",
      " \u001b[0m"
     ]
    }
   ],
   "source": [
    "server1.upload_file('labs_files/lab7/deparser.p4','deparser.p4')\n",
    "stdout, stderr = server1.execute(f'sudo p4c-dpdk --arch=pna main.p4 -o lab7.spec')"
   ]
  },
  {
   "cell_type": "markdown",
   "id": "8dd220e6-d22d-42de-abca-144f1b3be0d9",
   "metadata": {},
   "source": [
    "The command above invokes the ```p4c-dpdk``` compiler to compile the ```main.p4``` program and generates the ```lab7.spec``` file which is a specification file needed to run the pipeline."
   ]
  },
  {
   "cell_type": "markdown",
   "id": "49e6dd26-c20c-4c25-96c2-1b2f1aaaeca9",
   "metadata": {
    "tags": []
   },
   "source": [
    "# Step 9: Re-running the P4-DPDK pipeline and the lab topology"
   ]
  },
  {
   "cell_type": "markdown",
   "id": "1cf35e3c-0c92-44d7-ae82-fef7a88601db",
   "metadata": {},
   "source": [
    "## Step 9.1: Running the P4-DPDK pipeline\n",
    "Build and run the pipeline by typing the following command:\n",
    "\n",
    "    sudo ./run_pipeline.sh\n",
    "    \n",
    "<img src=\"./labs_files/lab7/figs/6_03.png\" width=\"750px\"><br>\n",
    "\n",
    "The ```run_pipeline.sh``` script is a shell script that automates the process of running the P4-DPDK pipeline. In this lab, part of the pipeline output is hidden to display only the relevant logs."
   ]
  },
  {
   "cell_type": "markdown",
   "id": "d33774af-4d9d-4002-926d-6f5cf3ae7961",
   "metadata": {},
   "source": [
    "## Step 9.2: Building the lab topology\n",
    "The code below uploads to server1 the CLI and I/O scripts, along with other scripts needed to automate the process of running the pipeline and building the topology."
   ]
  },
  {
   "cell_type": "code",
   "execution_count": 60,
   "id": "3eb10e0d-f581-43a2-b89c-3743a78849c2",
   "metadata": {},
   "outputs": [
    {
     "name": "stdout",
     "output_type": "stream",
     "text": [
      "\u001b[31m sudo: unable to resolve host server1: Name or service not known\n",
      " \u001b[0m"
     ]
    }
   ],
   "source": [
    "stdout, stderr = server1.execute(f'sudo ./set_topology.sh')"
   ]
  },
  {
   "cell_type": "markdown",
   "id": "6e6fc023-5419-49c1-888d-465cdc600998",
   "metadata": {
    "tags": []
   },
   "source": [
    "The set_topology.sh script is a shell script that automates the process of building the lab topology. Two namespaces are built and configured in this step with a virtual device linked to each as shown in the figure below.\n",
    "\n",
    "<img src=\"./labs_files/lab7/figs/6_04_ip.png\" width=\"650px\"><br>"
   ]
  },
  {
   "cell_type": "markdown",
   "id": "b157d62a-78e9-4427-9458-d17251a1e20e",
   "metadata": {
    "tags": []
   },
   "source": [
    "# Step 10: Sending and capturing packets with checksum update\n",
    "\n",
    "This concludes Lab 7. Please delete your slice when you are done with your experiment."
   ]
  },
  {
   "cell_type": "markdown",
   "id": "ed35c52d-0a19-46a4-baab-709f3546c504",
   "metadata": {
    "tags": []
   },
   "source": [
    "### Step 10.1: Starting packet capturing at the interface of h3\n",
    "Issue the command tcpdum to start a sniffer in host 3.\n",
    "\n",
    "    sudo ip netns exec h3 tcpdump -i dtap2 -vvv\n",
    "\n",
    "<img src=\"./labs_files/lab7/figs/7_02.png\" width=\"700px\"><br>\n",
    "\n",
    "The ```-i``` parameter in the tcpdump command, represents the interface on which the packets are being captured. In this application, we will be sending a packet from host 1 to host 3 and capture the packet received at the interface on host 3 (dtap2). The ```-vvv``` parameter increases verbosity to display the captured packet details.\n"
   ]
  },
  {
   "cell_type": "markdown",
   "id": "0793cf6d-4e3f-4a25-9930-99da33d3bfdf",
   "metadata": {
    "tags": []
   },
   "source": [
    "### Step 10.2: Sending packets from h1 to h3\n",
    "Now, we will send a packet from h1 to h3 over the destination IP address 192.168.30.1 by running the provided Python script sender.py."
   ]
  },
  {
   "cell_type": "code",
   "execution_count": 61,
   "id": "d99fdb8f-c60c-45e0-8ad6-cab439e130d3",
   "metadata": {},
   "outputs": [
    {
     "name": "stdout",
     "output_type": "stream",
     "text": [
      ".\u001b[31m sudo: unable to resolve host server1: Name or service not known\n",
      "WARNING: Interface lo: no address assigned\n",
      " \u001b[0mSender: h1\n",
      "Destination IP: 192.168.30.1\n",
      "\n",
      "Sent 1 packets.\n"
     ]
    }
   ],
   "source": [
    "stdout, stderr = server1.execute(f'sudo ip netns exec h1 python3 sender.py -s h1 -d 192.168.30.1')"
   ]
  },
  {
   "cell_type": "markdown",
   "id": "7f7e7ab4-c90f-4442-9490-7f973184bac5",
   "metadata": {},
   "source": [
    "Running the Python script requires two parameters:\n",
    "\n",
    "•\t```-s```: Sender (h1 or h2 or h3) <br>\n",
    "•\t```-d```: Destination IP Address "
   ]
  },
  {
   "cell_type": "markdown",
   "id": "7943de6f-e2e2-46a9-a7fb-45403a7d254e",
   "metadata": {
    "tags": []
   },
   "source": [
    "### Step 10.3: Inspect the pipeline terminal\n",
    "Observe the DPDK logs at the bottom of the terminal. These logs correspond to the packet processing function executed in the .spec file generated when the P4 code is compiled. \n",
    "\n",
    "<img src=\"./labs_files/lab7/figs/10_03.png\" width=\"900px\"><br>\n",
    "\n",
    "The process of concatenating the header fields into words generates a lot of logs. We are mainly concerned with the logs that correspond to adding the data for the checksum calculation in the first grey box and updating the value in the checksum header field in the second grey box."
   ]
  },
  {
   "cell_type": "markdown",
   "id": "3209d56a-48bd-43ed-855e-16e6edb02a81",
   "metadata": {
    "tags": []
   },
   "source": [
    "### Step 10.4: Inspect the captured packet\n",
    "Switch back to the terminal tab in which the tcpdump sniffer is running and press ```Ctrl+C```.\n",
    "\n",
    "<img src=\"./labs_files/lab7/figs/10_04.png\" width=\"900px\"><br>\n",
    "\n",
    "We can see that we do not have a bad checksum warning indicating that the calculated checksum value is correct. This is because the P4 program changed the header field value (i.e., TTL), but did not update the checksum in the packet. "
   ]
  },
  {
   "cell_type": "markdown",
   "id": "0f82cc6e-fd27-499e-a195-748f2362d8d4",
   "metadata": {
    "tags": []
   },
   "source": [
    "### Step 10.5: Stopping the DPDK pipeline\n",
    "Stop the DPDK pipeline by pressing ```ctrl+c``` in the terminal running the pipeline.\n",
    "\n",
    "<img src=\"./labs_files/lab7/figs/10_05.png\" width=\"700px\"><br>\n",
    "\n",
    "Execute the command below to avoid having a pipeline instance running in the background."
   ]
  },
  {
   "cell_type": "code",
   "execution_count": 21,
   "id": "1ab44b4a-a61a-4c9e-934a-1d3dc6eeb603",
   "metadata": {},
   "outputs": [
    {
     "name": "stdout",
     "output_type": "stream",
     "text": [
      "\u001b[31m sudo: unable to resolve host server1: Name or service not known\n",
      " \u001b[0m"
     ]
    }
   ],
   "source": [
    "stdout, stderr = server1.execute(f'sudo pkill -9 pipeline')"
   ]
  },
  {
   "cell_type": "markdown",
   "id": "bb115fde-bc58-4ae8-9c08-26b3e23eafe3",
   "metadata": {
    "tags": []
   },
   "source": [
    "# Step 11: Delete the slice\n",
    "\n",
    "This concludes Lab 7. Please delete your slice when you are done with your experiment."
   ]
  },
  {
   "cell_type": "code",
   "execution_count": 62,
   "id": "1f27f3fc-004f-46c2-984c-8c2a90883eb6",
   "metadata": {
    "tags": []
   },
   "outputs": [],
   "source": [
    "from fabrictestbed_extensions.fablib.fablib import FablibManager as fablib_manager\n",
    "fablib = fablib_manager()\n",
    "slice = fablib.get_slice(name=\"P4DPDK_lab7_vnic\")\n",
    "slice.delete()"
   ]
  },
  {
   "cell_type": "markdown",
   "id": "e92e3d97-a261-4c00-984c-2750cbd45064",
   "metadata": {
    "tags": []
   },
   "source": [
    "# References\n",
    "\n",
    "1.\tThe P4 Language Consortium, “P4 Portable NIC Architecture (PNA)”, Version 0.5, 2021. [Online]. Available: https://p4.org/p4-spec/docs/PNA.html\n",
    "2.\tP4lang, “p4c core.p4”. [Online]. Available: https://github.com/p4lang/p4c/blob/main/p4include/core.p4.\n",
    "3.\tP4lang, “pna.p4”, [Online]. Available: https://github.com/p4lang/pna/blob/main/pna.p4"
   ]
  }
 ],
 "metadata": {
  "kernelspec": {
   "display_name": "Python 3 (ipykernel)",
   "language": "python",
   "name": "python3"
  },
  "language_info": {
   "codemirror_mode": {
    "name": "ipython",
    "version": 3
   },
   "file_extension": ".py",
   "mimetype": "text/x-python",
   "name": "python",
   "nbconvert_exporter": "python",
   "pygments_lexer": "ipython3",
   "version": "3.11.8"
  }
 },
 "nbformat": 4,
 "nbformat_minor": 5
}
