{
 "cells": [
  {
   "cell_type": "markdown",
   "id": "782eab27-3b1c-42aa-b7c8-f17a84395c62",
   "metadata": {},
   "source": [
    "## Virtual Labs on P4-DPDK\n",
    "\n",
    "The labs provide a hands-on experience on P4 programmable data plane switches using DPDK. The lab series explains topics that include parsing, match-action tables, checksum verification, and along with the deployment of a user application in a P4-DPDK packet processing pipeline with virtual and real hardware implementations. \n",
    "\n",
    "The lab series is developed by the Cyberinfrastructure Lab (CILab) at the University of South Carolina (USC).\n",
    "\n",
    "<figure style=\"text-align: center;\">\n",
    "<img src=\"./labs_files/lab8/figs/08_interfaces_up.png\" width=\"400px\">\n",
    "</figure>\n",
    "\n",
    "### Labs:\n",
    "\n",
    "- [Lab 1 - Creating a Slice with a P4-DPDK Pipeline](./lab1_creating_a_slice_with_a_P4DPDK_pipeline.ipynb): This lab provides an introduction to DPDK, a software-based packet processing acceleration tool. It demonstrates how to build a topology using namespaces and provides an explanation of scripts needed to build a P4-DPDK pipeline.\n",
    "- [Lab 2 - P4 Program Building Blocks with the PNA Architecture](./lab2_P4_programmable_building_blocks_with_the_PNA_architecture.ipynb):  This lab provides guidance to the process of building the P4 coding blocks compatible with the PNA architecture that will be compiled into a DPDK pipeline.\n",
    "- [Lab 3 - PNA Parser Implementation](./lab3_PNA_parser_implementation.ipynb): This lab starts by describing how to define custom headers in a P4 program and then explains how to implement a simple parser that parses the defined headers.\n",
    "- [Lab 4 - Introduction to Match-action Tables (Part 1)](./lab4_introduction_to_match_action_tables_1.ipynb): This lab describes match-action tables explaining the exact matching that can be performed on keys and also highlights the importance of the add_on_miss feature.\n",
    "- [Lab 5 - Introduction to Match-action Tables (Part 2)](./lab5_introduction_to_match_action_tables_2.ipynb): This lab describes match-action tables with the different types of matching that can be performed on keys and how to define them in a P4 program.\n",
    "- [Lab 6 - Populating and Managing Match-action Tables at Runtime](./lab6_populating_and_managing_match_action_tables_at_runtime.ipynb): This describes how to populate and manage match-action tables at runtime.\n",
    "- [Lab 7 - Checksum Recalculation and Packet Deparsing](./lab7_checksum_recalculation_and_packet_deparsing.ipynb): This lab describes how to recompute the checksum of a header. Recomputing the checksum is necessary if the packet header was modified by the P4 program.\n",
    "- [Lab 8 - Creating a Slice with a P4-DPDK Pipeline Running on Real Hardware](lab8_creating_a_slice_with_a_P4DPDK_pipeline_with_real_hardware.ipynb): This lab provides an introduction to DPDK and demonstrates how to build a topology using real hardware NICs.\n",
    "- [Lab 9 - P4-DPDK Pipeline Multicore Processing](./lab9_P4DPDK_pipeline_multicore_processing.ipynb): This lab shows how to parallelize packet processing by running multiple P4-DPDK pipeline each on a different CPU core to enhance performance.\n"
   ]
  }
 ],
 "metadata": {
  "kernelspec": {
   "display_name": "Python 3 (ipykernel)",
   "language": "python",
   "name": "python3"
  },
  "language_info": {
   "codemirror_mode": {
    "name": "ipython",
    "version": 3
   },
   "file_extension": ".py",
   "mimetype": "text/x-python",
   "name": "python",
   "nbconvert_exporter": "python",
   "pygments_lexer": "ipython3",
   "version": "3.11.8"
  }
 },
 "nbformat": 4,
 "nbformat_minor": 5
}
